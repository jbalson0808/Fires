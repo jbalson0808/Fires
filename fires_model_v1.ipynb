{
 "metadata": {
  "language_info": {
   "codemirror_mode": {
    "name": "ipython",
    "version": 3
   },
   "file_extension": ".py",
   "mimetype": "text/x-python",
   "name": "python",
   "nbconvert_exporter": "python",
   "pygments_lexer": "ipython3",
   "version": "3.8.5"
  },
  "orig_nbformat": 2,
  "kernelspec": {
   "name": "python385jvsc74a57bd07a8cd81a1699e7e1c05d771835f6490edbb9a81a456e457283de8180856282df",
   "display_name": "Python 3.8.5 64-bit ('base': conda)"
  }
 },
 "nbformat": 4,
 "nbformat_minor": 2,
 "cells": [
  {
   "cell_type": "code",
   "execution_count": 2,
   "metadata": {},
   "outputs": [],
   "source": [
    "import numpy as np\n",
    "import pandas as pd\n",
    "import matplotlib.pyplot as plt\n",
    "import mgrs\n",
    "import sqlite3\n",
    "import math\n",
    "import mgrs\n",
    "from itertools import product\n",
    "import statistics\n",
    "from sklearn.model_selection import train_test_split\n",
    "from sklearn.preprocessing import StandardScaler\n",
    "from sklearn.model_selection import KFold\n",
    "from sklearn.ensemble import RandomForestClassifier\n",
    "from sklearn.linear_model import LogisticRegression\n",
    "from sklearn.ensemble import GradientBoostingClassifier\n",
    "from sklearn.metrics import confusion_matrix\n",
    "from sklearn.metrics import accuracy_score\n",
    "import warnings\n",
    "warnings.simplefilter(action='ignore', category=FutureWarning)"
   ]
  },
  {
   "cell_type": "code",
   "execution_count": 3,
   "metadata": {},
   "outputs": [],
   "source": [
    "# filter out winter months where fires not likely\n",
    "MONTHS_USED = ['April', 'May', 'June', 'July', 'August', 'September', 'October','November']\n",
    "\n",
    "# limit to only the MGRS locations in Southern CA\n",
    "MGRS_100KM_USED = ['11SMT','11SNT','11SNS','11SMS','11SLT']\n",
    "\n",
    "# filter out class A fires, which are less than 1/4 acre\n",
    "CLASSES_USED = ['B','C','D','E','F','G']\n",
    "\n",
    "def missingByCol(df): #count missing values by column\n",
    "    for col in df.columns:\n",
    "        if df[col].isna().sum() != 0:\n",
    "            print(col, df[col].isna().sum())\n",
    "\n",
    "'''\n",
    "Run classification on data set with chosen clfs for each combination of hypers\n",
    "Store results in a sorted list\n",
    "Print all results\n",
    "'''\n",
    "def clfRun(a_clf, data, clf_hyper={}):\n",
    "  M, L, n_folds = data # unpack data container\n",
    "  kf = KFold(n_splits=n_folds) # Establish the cross validation\n",
    "  ret = {} # classic explication of results\n",
    " \n",
    "  for ids, (train_index, test_index) in enumerate(kf.split(M, L)):\n",
    "       \n",
    "    clf = a_clf(**clf_hyper) # unpack parameters into clf if they exist\n",
    " \n",
    "    clf.fit(M[train_index], L[train_index])\n",
    " \n",
    "    pred = clf.predict(M[test_index])\n",
    " \n",
    "    ret[ids]= {'clf': clf,\n",
    "              'train_index': train_index,\n",
    "              'test_index': test_index,\n",
    "              'accuracy': accuracy_score(L[test_index], pred)}\n",
    " \n",
    "  return ret\n",
    " \n",
    "def clfHypers(clfsList):\n",
    "    ret_hyper = dict()\n",
    "    for clf in clfsList:\n",
    "        clfString = str(clf)  # Check if values in clfsList are in clf_hyperict\n",
    "        for k1, v1 in clf_hyper.items():  # go through first level of clf_hyperict\n",
    "            if k1 in clfString:            # if clfString1 matches first level\n",
    "                ret_hyper[clf] = [dict(zip(v1, s))\n",
    "                                  for s in product(*v1.values())]\n",
    "    return ret_hyper\n",
    " \n",
    "def clfGridSearch(X, y, n_folds):\n",
    "      # suppress future warnings\n",
    "      with warnings.catch_warnings():\n",
    "            # ignore all caught warnings\n",
    "            warnings.filterwarnings(\"ignore\")\n",
    " \n",
    "      # n_folds = 5\n",
    " \n",
    "      data = (X, y, n_folds)\n",
    "\n",
    "\n",
    "      hyper_param_dict = clfHypers(clfsList) \n",
    " \n",
    "      # run grid search to find best hyper params\n",
    "      clfsAccuracyDict = {}\n",
    "      results = {}\n",
    "      for clfs in clfsList:\n",
    "            for i in hyper_param_dict[clfs]:\n",
    "                 \n",
    "                  clf_hyper = i\n",
    " \n",
    "                  results = clfRun(clfs, data, clf_hyper)\n",
    " \n",
    "                  for key in results:\n",
    "                        k = results[key]['clf']\n",
    "                        v = results[key]['accuracy']\n",
    " \n",
    "                        kTest = str(k)\n",
    " \n",
    "                        kTest = kTest.replace('         ', ' ')\n",
    "                        kTest = kTest.replace('        ', ' ')\n",
    " \n",
    "                        if kTest in clfsAccuracyDict:\n",
    "                             \n",
    "                              clfsAccuracyDict[kTest].append(v)\n",
    "                        else:\n",
    "                              clfsAccuracyDict[kTest] = [v]\n",
    "           \n",
    "      clfsAccuracyList_sorted = sorted(clfsAccuracyDict.items(), key = lambda item: statistics.mean(item[1]), reverse = True)\n",
    " \n",
    "      for i in clfsAccuracyList_sorted:\n",
    "            print('\\nClassifier with Parameters:', i[0], '\\nMeanAccuracy', statistics.mean(i[1]))\n",
    "\n",
    "def clfResults(clf, X_train, y_train, X_test, y_test):\n",
    "    X_test_scaled = scaler.transform(X_test)\n",
    "    clfTmp = clf.fit(X_train, y_train) #fit model on training data\n",
    "    y_pred = clfTmp.predict(X_test_scaled) #produce predictions (0/1) on test data\n",
    "    y_pred_prob = clfTmp.predict_proba(X_test_scaled) #produce prediction probabilites (0 <= p <= 1) on test data\n",
    "    y_pred_prob = y_pred_prob[:, 1] # only take second column.  first column is inverse prob\n",
    "    tn, fp, fn, tp = confusion_matrix(y_test,y_pred).ravel() #get confusion matrix on test data\n",
    "    total_obs = (tp + tn + fp + fn)\n",
    "   # print(tn, fp, fn, tp)\n",
    " \n",
    " \n",
    "    clfAcc = (tp + tn) / (tp + tn + fp + fn) # accuracy of entire model\n",
    "    clfPrecision = tp / (tp + fp) # precision is the ability of the classifier not to label as positive a sample that is negative\n",
    "    clfRecall = tp / (tp + fn) # recall is the ability of the classifier to find all the positive samples\n",
    " \n",
    "    # return(clfAcc, clfPrecision, clfRecall)\n",
    "    print('-----------------------Confusion Matrix------------------------'\n",
    "        , '\\n  Predicted|--------------------Actual------------------------'\n",
    "        , '\\n           |        Yes            |         No                |   Total   '\n",
    "        , '\\n--------------------------------------------------------------'\n",
    "        , '\\n        Yes|        '+ str(tp)+'            |        '+str(fp)+'               |    '+str(tp+fp)\n",
    "        , '\\n--------------------------------------------------------------'\n",
    "        , '\\n         No|        '+ str(fn)+'             |        '+str(tn)+'              |    '+str(fn+tn)\n",
    "        , '\\n--------------------------------------------------------------'\n",
    "        , '\\n      Total|        '+ str(tp+fn)+'            |        '+str(fp+tn)+'              |    '+str(total_obs)\n",
    "        , '\\n'\n",
    "        )\n",
    "    # print('Test Total Obs: ', total_obs)\n",
    "    print('Accuracy: ', np.round(clfAcc,6), '\\nPrecision: ', np.round(clfPrecision,6), '\\nRecall: ', np.round(clfRecall,6))"
   ]
  },
  {
   "source": [
    "Import Data: Need to copy and paste sqllite file from Kaggle into local drive path.\n",
    "FPA_FOD_20170508.sqlite https://www.kaggle.com/rtatman/188-million-us-wildfires             \n",
    "        \n",
    "Metadata:   \n",
    "Fires - Target data - Kaggle        \n",
    "Time - Calendar data - Omits Dec through March (non fire season)      \n",
    "Location - MGRS - Military Grid Ref. Sys. with lat/lon                      \n",
    "Weather - MeteoMatics - Precip, Temp, sunshine, and drought data"
   ],
   "cell_type": "markdown",
   "metadata": {}
  },
  {
   "source": [
    "Get Fire Data"
   ],
   "cell_type": "markdown",
   "metadata": {}
  },
  {
   "cell_type": "code",
   "execution_count": 4,
   "metadata": {},
   "outputs": [
    {
     "output_type": "stream",
     "name": "stdout",
     "text": [
      "<class 'pandas.core.frame.DataFrame'>\nRangeIndex: 8057 entries, 0 to 8056\nData columns (total 5 columns):\n #   Column      Non-Null Count  Dtype         \n---  ------      --------------  -----         \n 0   mgrs_100km  8057 non-null   object        \n 1   mgrs_10km   8057 non-null   object        \n 2   lat         8057 non-null   float64       \n 3   lon         8057 non-null   float64       \n 4   date        8057 non-null   datetime64[ns]\ndtypes: datetime64[ns](1), float64(2), object(2)\nmemory usage: 314.9+ KB\n"
     ]
    }
   ],
   "source": [
    "conn = sqlite3.connect('C:/Users/balso/Downloads/FPA_FOD_20170508.sqlite')\n",
    "ca_fires = pd.read_sql_query('select * from fires where State = \"CA\";', conn) # \n",
    "\n",
    "m = mgrs.MGRS() #mgrs API\n",
    "to_mgrs_10km = []  #precision 1\n",
    "to_mgrs_100km = []  #precision 0\n",
    "to_mgrs_lat_10km = []\n",
    "to_mgrs_lon_10km = []\n",
    "\n",
    "ca_fires_data = pd.DataFrame()\n",
    "\n",
    "ca_fires_data['object_id'] = ca_fires['OBJECTID']\n",
    "ca_fires_data['reporting_unit'] = ca_fires['NWCG_REPORTING_UNIT_NAME']\n",
    "ca_fires_data['fire_date_num'] = ca_fires['DISCOVERY_DATE']\n",
    "ca_fires_data['fire_date_cal'] = pd.to_datetime(ca_fires['DISCOVERY_DATE'], unit='D', origin='julian') #convert numeric to calendar date\n",
    "ca_fires_data['fire_year'] = ca_fires['FIRE_YEAR']\n",
    "ca_fires_data['fire_month'] = ca_fires_data['fire_date_cal'].dt.month_name()\n",
    "ca_fires_data['fire_day_of_week'] = ca_fires_data['fire_date_cal'].dt.day_name()\n",
    "ca_fires_data['fire_class'] = ca_fires['FIRE_SIZE_CLASS']\n",
    "ca_fires_data['lat'] = ca_fires['LATITUDE']\n",
    "ca_fires_data['lon'] = ca_fires['LONGITUDE']\n",
    "\n",
    "for i, j in zip(ca_fires_data['lat'].tolist(), ca_fires_data['lon'].tolist()):\n",
    "    to_mgrs_10km.append(m.toMGRS(i, j, MGRSPrecision=1)) \n",
    "    to_mgrs_100km.append(m.toMGRS(i, j, MGRSPrecision=0)) \n",
    "\n",
    "ca_fires_data['mgrs_10km'] = to_mgrs_10km\n",
    "ca_fires_data['mgrs_100km'] = to_mgrs_100km\n",
    "\n",
    "for k in ca_fires_data['mgrs_10km'].tolist():\n",
    "    to_mgrs_lat_10km.append(m.toLatLon(k)[0])\n",
    "    to_mgrs_lon_10km.append(m.toLatLon(k)[1])\n",
    "\n",
    "ca_fires_data['mgrs_lat_10km'] = to_mgrs_lat_10km\n",
    "ca_fires_data['mgrs_lon_10km'] = to_mgrs_lon_10km\n",
    "\n",
    "# filter out winter months where fires not likely\n",
    "ca_fires_data = ca_fires_data[ca_fires_data.fire_month.isin(MONTHS_USED)]\n",
    "\n",
    "# filter out class A fires, which are less than 1/4 acre\n",
    "ca_fires_data = ca_fires_data[ca_fires_data.fire_class.isin(CLASSES_USED)]\n",
    "\n",
    "# filter out fires before 2000 since weather data is sparse before year 2000\n",
    "ca_fires_data = ca_fires_data[ca_fires_data.fire_year >= 2000]\n",
    "\n",
    "# limit to only the MGRS locations in Southern CA\n",
    "socal_fires_data = ca_fires_data[ca_fires_data.mgrs_100km.isin(MGRS_100KM_USED)]\n",
    "\n",
    "# keep only necessary columns\n",
    "socal_lite = pd.DataFrame()\n",
    "socal_lite['mgrs_100km'] = socal_fires_data['mgrs_100km']\n",
    "socal_lite['mgrs_10km'] = socal_fires_data['mgrs_10km']\n",
    "socal_lite['lat'] = socal_fires_data['mgrs_lat_10km']\n",
    "socal_lite['lon'] = socal_fires_data['mgrs_lon_10km']\n",
    "socal_lite['date'] = socal_fires_data['fire_date_cal']\n",
    "# socal_lite = socal_lite.groupby(level=0).first()\n",
    "# socal_lite.mgrs_10km.unique().shape\n",
    "socal_lite.reset_index(drop=True, inplace = True)\n",
    "socal_lite.info()"
   ]
  },
  {
   "cell_type": "code",
   "execution_count": 5,
   "metadata": {},
   "outputs": [
    {
     "output_type": "execute_result",
     "data": {
      "text/plain": [
       "     mgrs_100km mgrs_10km        lat         lon       date\n",
       "0         11SMT   11SMT27  34.067686 -117.866966 2005-07-03\n",
       "1         11SMT   11SMT53  33.708802 -117.539594 2005-06-19\n",
       "2         11SNS   11SNS16  33.078549 -116.892857 2005-07-31\n",
       "3         11SNS   11SNS23  32.807799 -116.786366 2005-07-04\n",
       "4         11SNS   11SNS08  33.258997 -117.000000 2005-07-05\n",
       "...         ...       ...        ...         ...        ...\n",
       "8052      11SNS   11SNS12  32.717728 -116.893290 2015-04-09\n",
       "8053      11SMT   11SMT95  33.890318 -117.108147 2009-05-03\n",
       "8054      11SNS   11SNS04  32.898187 -117.000000 2010-05-29\n",
       "8055      11SNS   11SNS04  32.898187 -117.000000 2014-05-29\n",
       "8056      11SNT   11SNT38  34.160500 -116.674529 2015-07-25\n",
       "\n",
       "[8057 rows x 5 columns]"
      ],
      "text/html": "<div>\n<style scoped>\n    .dataframe tbody tr th:only-of-type {\n        vertical-align: middle;\n    }\n\n    .dataframe tbody tr th {\n        vertical-align: top;\n    }\n\n    .dataframe thead th {\n        text-align: right;\n    }\n</style>\n<table border=\"1\" class=\"dataframe\">\n  <thead>\n    <tr style=\"text-align: right;\">\n      <th></th>\n      <th>mgrs_100km</th>\n      <th>mgrs_10km</th>\n      <th>lat</th>\n      <th>lon</th>\n      <th>date</th>\n    </tr>\n  </thead>\n  <tbody>\n    <tr>\n      <th>0</th>\n      <td>11SMT</td>\n      <td>11SMT27</td>\n      <td>34.067686</td>\n      <td>-117.866966</td>\n      <td>2005-07-03</td>\n    </tr>\n    <tr>\n      <th>1</th>\n      <td>11SMT</td>\n      <td>11SMT53</td>\n      <td>33.708802</td>\n      <td>-117.539594</td>\n      <td>2005-06-19</td>\n    </tr>\n    <tr>\n      <th>2</th>\n      <td>11SNS</td>\n      <td>11SNS16</td>\n      <td>33.078549</td>\n      <td>-116.892857</td>\n      <td>2005-07-31</td>\n    </tr>\n    <tr>\n      <th>3</th>\n      <td>11SNS</td>\n      <td>11SNS23</td>\n      <td>32.807799</td>\n      <td>-116.786366</td>\n      <td>2005-07-04</td>\n    </tr>\n    <tr>\n      <th>4</th>\n      <td>11SNS</td>\n      <td>11SNS08</td>\n      <td>33.258997</td>\n      <td>-117.000000</td>\n      <td>2005-07-05</td>\n    </tr>\n    <tr>\n      <th>...</th>\n      <td>...</td>\n      <td>...</td>\n      <td>...</td>\n      <td>...</td>\n      <td>...</td>\n    </tr>\n    <tr>\n      <th>8052</th>\n      <td>11SNS</td>\n      <td>11SNS12</td>\n      <td>32.717728</td>\n      <td>-116.893290</td>\n      <td>2015-04-09</td>\n    </tr>\n    <tr>\n      <th>8053</th>\n      <td>11SMT</td>\n      <td>11SMT95</td>\n      <td>33.890318</td>\n      <td>-117.108147</td>\n      <td>2009-05-03</td>\n    </tr>\n    <tr>\n      <th>8054</th>\n      <td>11SNS</td>\n      <td>11SNS04</td>\n      <td>32.898187</td>\n      <td>-117.000000</td>\n      <td>2010-05-29</td>\n    </tr>\n    <tr>\n      <th>8055</th>\n      <td>11SNS</td>\n      <td>11SNS04</td>\n      <td>32.898187</td>\n      <td>-117.000000</td>\n      <td>2014-05-29</td>\n    </tr>\n    <tr>\n      <th>8056</th>\n      <td>11SNT</td>\n      <td>11SNT38</td>\n      <td>34.160500</td>\n      <td>-116.674529</td>\n      <td>2015-07-25</td>\n    </tr>\n  </tbody>\n</table>\n<p>8057 rows × 5 columns</p>\n</div>"
     },
     "metadata": {},
     "execution_count": 5
    }
   ],
   "source": [
    "socal_lite"
   ]
  },
  {
   "source": [
    "Import Weather Data"
   ],
   "cell_type": "markdown",
   "metadata": {}
  },
  {
   "cell_type": "code",
   "execution_count": 6,
   "metadata": {},
   "outputs": [
    {
     "output_type": "stream",
     "name": "stdout",
     "text": [
      "<class 'pandas.core.frame.DataFrame'>\nRangeIndex: 2249940 entries, 0 to 2249939\nData columns (total 14 columns):\n #   Column                         Dtype  \n---  ------                         -----  \n 0   Unnamed: 0                     int64  \n 1   lat                            float64\n 2   lon                            float64\n 3   t_mean_2m_24h:F                float64\n 4   t_min_2m_24h:F                 float64\n 5   t_max_2m_24h:F                 float64\n 6   precip_24h:mm                  float64\n 7   sunshine_duration_24h:min      float64\n 8   drought_index:idx              float64\n 9   soil_moisture_index_-15cm:idx  float64\n 10  soil_type:idx                  float64\n 11  wind_speed_2m:mph              float64\n 12  elevation:m                    float64\n 13  date                           object \ndtypes: float64(12), int64(1), object(1)\nmemory usage: 240.3+ MB\n"
     ]
    }
   ],
   "source": [
    "weather = pd.read_csv('2000to2015_Weather_v2.csv')\n",
    "weather.info()"
   ]
  },
  {
   "cell_type": "code",
   "execution_count": 7,
   "metadata": {},
   "outputs": [],
   "source": [
    "# m = mgrs.MGRS() #mgrs API\n",
    "# to_mgrs_10km = []  #precision 1\n",
    "# to_mgrs_100km = []  #precision 0\n",
    "\n",
    "# for i, j in zip(weather['lat'].tolist(), weather['lon'].tolist()):\n",
    "#     to_mgrs_10km.append(m.toMGRS(i, j, MGRSPrecision=1)) \n",
    "#     to_mgrs_100km.append(m.toMGRS(i, j, MGRSPrecision=0)) # use mgrs API to convert lat/lon to MGRS conventions\n",
    "\n",
    "# weather['mgrs_10km'] = to_mgrs_10km\n",
    "# weather['mgrs_100km'] = to_mgrs_100km"
   ]
  },
  {
   "cell_type": "code",
   "execution_count": 8,
   "metadata": {},
   "outputs": [],
   "source": [
    "# print('Number of 100km stations ',len(set(weather['mgrs_100km'].unique())))\n",
    "# print('Number of 10km stations ',len(set(weather['mgrs_10km'].unique())))"
   ]
  },
  {
   "source": [
    "Weather Data Preprocessing"
   ],
   "cell_type": "markdown",
   "metadata": {}
  },
  {
   "cell_type": "code",
   "execution_count": 9,
   "metadata": {},
   "outputs": [
    {
     "output_type": "stream",
     "name": "stdout",
     "text": [
      "<class 'pandas.core.frame.DataFrame'>\nRangeIndex: 2249940 entries, 0 to 2249939\nData columns (total 11 columns):\n #   Column         Dtype         \n---  ------         -----         \n 0   date           datetime64[ns]\n 1   lat            float64       \n 2   lon            float64       \n 3   tavg           float64       \n 4   tmin           float64       \n 5   tmax           float64       \n 6   prcp           float64       \n 7   sun            float64       \n 8   drought_index  float64       \n 9   wind_speed     float64       \n 10  elevation      float64       \ndtypes: datetime64[ns](1), float64(10)\nmemory usage: 188.8 MB\n"
     ]
    }
   ],
   "source": [
    "weather = weather[['date','lat','lon','t_mean_2m_24h:F','t_min_2m_24h:F','t_max_2m_24h:F','precip_24h:mm','sunshine_duration_24h:min','drought_index:idx','wind_speed_2m:mph','elevation:m']]\n",
    "weather = weather.rename(columns={'t_mean_2m_24h:F':'tavg','t_min_2m_24h:F':'tmin','t_max_2m_24h:F':'tmax','precip_24h:mm':'prcp','sunshine_duration_24h:min':'sun','drought_index:idx':'drought_index','wind_speed_2m:mph':'wind_speed','elevation:m':'elevation'})\n",
    "weather.date = pd.to_datetime(pd.to_datetime(weather['date']).dt.date)\n",
    "# weather.date = weather.date.dt.date\n",
    "weather.info()"
   ]
  },
  {
   "cell_type": "code",
   "execution_count": 10,
   "metadata": {},
   "outputs": [
    {
     "output_type": "execute_result",
     "data": {
      "text/plain": [
       "5844"
      ]
     },
     "metadata": {},
     "execution_count": 10
    }
   ],
   "source": [
    "len(set(weather['date'].unique())) #should be 5844 - number of days from 1/1/2000 - 12/31/2015"
   ]
  },
  {
   "cell_type": "code",
   "execution_count": 11,
   "metadata": {},
   "outputs": [],
   "source": [
    "# rolling averages for prcp, tmax, tmin for 3, 7, and 10 days\n",
    "\n",
    "#prcp\n",
    "weather['prcp_rolling_3day'] = weather.groupby(['lat','lon'])['prcp'].transform(lambda x: x.rolling(3).mean())\n",
    "weather['prcp_rolling_3day'] = round(weather['prcp_rolling_3day'],6)\n",
    "\n",
    "weather['prcp_rolling_7day'] = weather.groupby(['lat','lon'])['prcp'].transform(lambda x: x.rolling(7).mean())\n",
    "weather['prcp_rolling_7day'] = round(weather['prcp_rolling_7day'],6)\n",
    "\n",
    "weather['prcp_rolling_14day'] = weather.groupby(['lat','lon'])['prcp'].transform(lambda x: x.rolling(14).mean())\n",
    "weather['prcp_rolling_14day'] = round(weather['prcp_rolling_14day'],6)\n",
    "\n",
    "#tavg\n",
    "weather['tavg_rolling_3day'] = weather.groupby(['lat','lon'])['tavg'].transform(lambda x: x.rolling(3).mean())\n",
    "weather['tavg_rolling_3day'] = round(weather['tavg_rolling_3day'],6)\n",
    "\n",
    "weather['tavg_rolling_7day'] = weather.groupby(['lat','lon'])['tavg'].transform(lambda x: x.rolling(7).mean())\n",
    "weather['tavg_rolling_7day'] = round(weather['tavg_rolling_7day'],6)\n",
    "\n",
    "weather['tavg_rolling_14day'] = weather.groupby(['lat','lon'])['tavg'].transform(lambda x: x.rolling(14).mean())\n",
    "weather['tavg_rolling_14day'] = round(weather['tavg_rolling_14day'],6)\n",
    "\n",
    "#tmin\n",
    "weather['tmin_rolling_3day'] = weather.groupby(['lat','lon'])['tmin'].transform(lambda x: x.rolling(3).mean())\n",
    "weather['tmin_rolling_3day'] = round(weather['tmin_rolling_3day'],6)\n",
    "\n",
    "weather['tmin_rolling_7day'] = weather.groupby(['lat','lon'])['tmin'].transform(lambda x: x.rolling(7).mean())\n",
    "weather['tmin_rolling_7day'] = round(weather['tmin_rolling_7day'],6)\n",
    "\n",
    "weather['tmin_rolling_14day'] = weather.groupby(['lat','lon'])['tmin'].transform(lambda x: x.rolling(14).mean())\n",
    "weather['tmin_rolling_14day'] = round(weather['tmin_rolling_14day'],6)\n",
    "\n",
    "#tmax\n",
    "weather['tmax_rolling_3day'] = weather.groupby(['lat','lon'])['tmax'].transform(lambda x: x.rolling(3).mean())\n",
    "weather['tmax_rolling_3day'] = round(weather['tmax_rolling_3day'],6)\n",
    "\n",
    "weather['tmax_rolling_7day'] = weather.groupby(['lat','lon'])['tmax'].transform(lambda x: x.rolling(7).mean())\n",
    "weather['tmax_rolling_7day'] = round(weather['tmax_rolling_7day'],6)\n",
    "\n",
    "weather['tmax_rolling_14day'] = weather.groupby(['lat','lon'])['tmax'].transform(lambda x: x.rolling(14).mean())\n",
    "weather['tmax_rolling_14day'] = round(weather['tmax_rolling_14day'],6)\n",
    "\n",
    "#sun\n",
    "weather['sun_rolling_3day'] = weather.groupby(['lat','lon'])['sun'].transform(lambda x: x.rolling(3).mean())\n",
    "weather['sun_rolling_3day'] = round(weather['sun_rolling_3day'],6)\n",
    "\n",
    "weather['sun_rolling_7day'] = weather.groupby(['lat','lon'])['sun'].transform(lambda x: x.rolling(7).mean())\n",
    "weather['sun_rolling_7day'] = round(weather['sun_rolling_7day'],6)\n",
    "\n",
    "weather['sun_rolling_14day'] = weather.groupby(['lat','lon'])['sun'].transform(lambda x: x.rolling(14).mean())\n",
    "weather['sun_rolling_14day'] = round(weather['sun_rolling_14day'],6)\n",
    "\n",
    "#windspeed\n",
    "weather['wind_speed_3day'] = weather.groupby(['lat','lon'])['wind_speed'].transform(lambda x: x.rolling(3).mean())\n",
    "weather['wind_speed_3day'] = round(weather['wind_speed_3day'],6)\n",
    "\n",
    "weather['wind_speed_7day'] = weather.groupby(['lat','lon'])['wind_speed'].transform(lambda x: x.rolling(7).mean())\n",
    "weather['wind_speed_7day'] = round(weather['wind_speed_7day'],6)\n",
    "\n",
    "weather['wind_speed_14day'] = weather.groupby(['lat','lon'])['wind_speed'].transform(lambda x: x.rolling(14).mean())\n",
    "weather['wind_speed_14day'] = round(weather['wind_speed_14day'],6)"
   ]
  },
  {
   "cell_type": "code",
   "execution_count": 12,
   "metadata": {},
   "outputs": [],
   "source": [
    "# c = {'lat':'lat_6', 'lon':'lon_6'}\n",
    "# weather = weather.rename(columns = c)"
   ]
  },
  {
   "cell_type": "code",
   "execution_count": 13,
   "metadata": {},
   "outputs": [
    {
     "output_type": "stream",
     "name": "stdout",
     "text": [
      "<class 'pandas.core.frame.DataFrame'>\nInt64Index: 1503040 entries, 91 to 2249908\nData columns (total 29 columns):\n #   Column              Non-Null Count    Dtype         \n---  ------              --------------    -----         \n 0   date                1503040 non-null  datetime64[ns]\n 1   lat                 1503040 non-null  float64       \n 2   lon                 1503040 non-null  float64       \n 3   tavg                1503040 non-null  float64       \n 4   tmin                1503040 non-null  float64       \n 5   tmax                1503040 non-null  float64       \n 6   prcp                1503040 non-null  float64       \n 7   sun                 1503040 non-null  float64       \n 8   drought_index       1503040 non-null  float64       \n 9   wind_speed          1503040 non-null  float64       \n 10  elevation           1503040 non-null  float64       \n 11  prcp_rolling_3day   1503040 non-null  float64       \n 12  prcp_rolling_7day   1503040 non-null  float64       \n 13  prcp_rolling_14day  1503040 non-null  float64       \n 14  tavg_rolling_3day   1503040 non-null  float64       \n 15  tavg_rolling_7day   1503040 non-null  float64       \n 16  tavg_rolling_14day  1503040 non-null  float64       \n 17  tmin_rolling_3day   1503040 non-null  float64       \n 18  tmin_rolling_7day   1503040 non-null  float64       \n 19  tmin_rolling_14day  1503040 non-null  float64       \n 20  tmax_rolling_3day   1503040 non-null  float64       \n 21  tmax_rolling_7day   1503040 non-null  float64       \n 22  tmax_rolling_14day  1503040 non-null  float64       \n 23  sun_rolling_3day    1503040 non-null  float64       \n 24  sun_rolling_7day    1503040 non-null  float64       \n 25  sun_rolling_14day   1503040 non-null  float64       \n 26  wind_speed_3day     1503040 non-null  float64       \n 27  wind_speed_7day     1503040 non-null  float64       \n 28  wind_speed_14day    1503040 non-null  float64       \ndtypes: datetime64[ns](1), float64(28)\nmemory usage: 344.0 MB\n"
     ]
    }
   ],
   "source": [
    "weather = weather[weather.date.dt.month_name().isin(MONTHS_USED)]\n",
    "weather.info()"
   ]
  },
  {
   "cell_type": "code",
   "execution_count": 14,
   "metadata": {},
   "outputs": [
    {
     "output_type": "execute_result",
     "data": {
      "text/plain": [
       "3904"
      ]
     },
     "metadata": {},
     "execution_count": 14
    }
   ],
   "source": [
    "len(set(weather['date'].unique())) #should be 3904 - number of days from 1/1/2000 - 12/31/2015 excluding Dec - Mar."
   ]
  },
  {
   "cell_type": "code",
   "execution_count": 15,
   "metadata": {},
   "outputs": [],
   "source": [
    "missingByCol(weather)"
   ]
  },
  {
   "cell_type": "code",
   "execution_count": 16,
   "metadata": {},
   "outputs": [
    {
     "output_type": "execute_result",
     "data": {
      "text/plain": [
       "  mgrs_10km   lat_10km    lon_10km\n",
       "0   11SMT03  33.705267 -118.079125\n",
       "1   11SMT04  33.795444 -118.080255\n",
       "2   11SMT05  33.885620 -118.081391\n",
       "3   11SMT06  33.975794 -118.082531\n",
       "4   11SMT07  34.065966 -118.083677"
      ],
      "text/html": "<div>\n<style scoped>\n    .dataframe tbody tr th:only-of-type {\n        vertical-align: middle;\n    }\n\n    .dataframe tbody tr th {\n        vertical-align: top;\n    }\n\n    .dataframe thead th {\n        text-align: right;\n    }\n</style>\n<table border=\"1\" class=\"dataframe\">\n  <thead>\n    <tr style=\"text-align: right;\">\n      <th></th>\n      <th>mgrs_10km</th>\n      <th>lat_10km</th>\n      <th>lon_10km</th>\n    </tr>\n  </thead>\n  <tbody>\n    <tr>\n      <th>0</th>\n      <td>11SMT03</td>\n      <td>33.705267</td>\n      <td>-118.079125</td>\n    </tr>\n    <tr>\n      <th>1</th>\n      <td>11SMT04</td>\n      <td>33.795444</td>\n      <td>-118.080255</td>\n    </tr>\n    <tr>\n      <th>2</th>\n      <td>11SMT05</td>\n      <td>33.885620</td>\n      <td>-118.081391</td>\n    </tr>\n    <tr>\n      <th>3</th>\n      <td>11SMT06</td>\n      <td>33.975794</td>\n      <td>-118.082531</td>\n    </tr>\n    <tr>\n      <th>4</th>\n      <td>11SMT07</td>\n      <td>34.065966</td>\n      <td>-118.083677</td>\n    </tr>\n  </tbody>\n</table>\n</div>"
     },
     "metadata": {},
     "execution_count": 16
    }
   ],
   "source": [
    "mgrs_final = pd.read_csv('mgrs_final.csv')\n",
    "mgrs_final = mgrs_final[['mgrs_10km','lat_10km','lon_10km']]\n",
    "mgrs_final.head()"
   ]
  },
  {
   "cell_type": "code",
   "execution_count": 17,
   "metadata": {},
   "outputs": [],
   "source": [
    "# import math\n",
    "\n",
    "mgrs_lat_6, mgrs_lon_6 = [], []\n",
    "\n",
    "for i in mgrs_final['lat_10km']:\n",
    "    # print(math.trunc(1000000 * i) / 1000000)\n",
    "    mgrs_lat_6.append(math.trunc(1000000 * i) / 1000000)\n",
    "\n",
    "for j in mgrs_final['lon_10km']:\n",
    "    # print(float('%.6f'%(i)))\n",
    "    mgrs_lon_6.append(math.trunc(1000000 * j) / 1000000)\n",
    "# mgrs_final.lat_10km_6 = mgrs_final['lat_10km']\n",
    "\n",
    "mgrs_final['lat_6'] = mgrs_lat_6\n",
    "mgrs_final['lon_6'] = mgrs_lon_6\n",
    "# mgrs_final.info()"
   ]
  },
  {
   "cell_type": "code",
   "execution_count": 18,
   "metadata": {},
   "outputs": [
    {
     "output_type": "execute_result",
     "data": {
      "text/plain": [
       "array([33.705267, 33.795444, 33.885619, 33.975793, 34.065966, 34.156137,\n",
       "       34.246307, 33.615981, 33.706162, 33.796342])"
      ]
     },
     "metadata": {},
     "execution_count": 18
    }
   ],
   "source": [
    "mgrs_final.lat_6.unique()[:10]"
   ]
  },
  {
   "cell_type": "code",
   "execution_count": 19,
   "metadata": {},
   "outputs": [
    {
     "output_type": "execute_result",
     "data": {
      "text/plain": [
       "array([-118.079125, -118.080255, -118.08139 , -118.082531, -118.083676,\n",
       "       -118.084827, -118.085983, -117.970213, -117.971226, -117.972244])"
      ]
     },
     "metadata": {},
     "execution_count": 19
    }
   ],
   "source": [
    "mgrs_final.lon_6.unique()[:10]"
   ]
  },
  {
   "cell_type": "code",
   "execution_count": 21,
   "metadata": {},
   "outputs": [],
   "source": [
    "weather_lat_6, weather_lon_6 = [], []\n",
    "\n",
    "for i in weather['lat']:\n",
    "    # print(math.trunc(1000000 * i) / 1000000)\n",
    "    weather_lat_6.append(math.trunc(1000000 * i) / 1000000)\n",
    "\n",
    "for j in weather['lon']:\n",
    "    # print(float('%.6f'%(i)))\n",
    "    weather_lon_6.append(math.trunc(1000000 * j) / 1000000)\n",
    "# mgrs_final.lat_10km_6 = mgrs_final['lat_10km']\n",
    "\n",
    "weather['lat_6'] = weather_lat_6\n",
    "weather['lon_6'] = weather_lon_6"
   ]
  },
  {
   "cell_type": "code",
   "execution_count": 22,
   "metadata": {},
   "outputs": [
    {
     "output_type": "execute_result",
     "data": {
      "text/plain": [
       "array([33.705267, 33.795444, 33.885619, 33.975793, 34.065966, 34.156137,\n",
       "       34.246307, 33.615981, 33.706162, 33.796342])"
      ]
     },
     "metadata": {},
     "execution_count": 22
    }
   ],
   "source": [
    "weather.lat_6.unique()[:10]"
   ]
  },
  {
   "cell_type": "code",
   "execution_count": 23,
   "metadata": {},
   "outputs": [
    {
     "output_type": "execute_result",
     "data": {
      "text/plain": [
       "array([-118.079125, -118.080255, -118.08139 , -118.082531, -118.083676,\n",
       "       -118.084827, -118.085983, -117.970213, -117.971226, -117.972244])"
      ]
     },
     "metadata": {},
     "execution_count": 23
    }
   ],
   "source": [
    "weather.lon_6.unique()[:10]"
   ]
  },
  {
   "cell_type": "code",
   "execution_count": 24,
   "metadata": {},
   "outputs": [
    {
     "output_type": "stream",
     "name": "stdout",
     "text": [
      "<class 'pandas.core.frame.DataFrame'>\nInt64Index: 1499136 entries, 0 to 1499135\nData columns (total 34 columns):\n #   Column              Non-Null Count    Dtype         \n---  ------              --------------    -----         \n 0   date                1499136 non-null  datetime64[ns]\n 1   lat                 1499136 non-null  float64       \n 2   lon                 1499136 non-null  float64       \n 3   tavg                1499136 non-null  float64       \n 4   tmin                1499136 non-null  float64       \n 5   tmax                1499136 non-null  float64       \n 6   prcp                1499136 non-null  float64       \n 7   sun                 1499136 non-null  float64       \n 8   drought_index       1499136 non-null  float64       \n 9   wind_speed          1499136 non-null  float64       \n 10  elevation           1499136 non-null  float64       \n 11  prcp_rolling_3day   1499136 non-null  float64       \n 12  prcp_rolling_7day   1499136 non-null  float64       \n 13  prcp_rolling_14day  1499136 non-null  float64       \n 14  tavg_rolling_3day   1499136 non-null  float64       \n 15  tavg_rolling_7day   1499136 non-null  float64       \n 16  tavg_rolling_14day  1499136 non-null  float64       \n 17  tmin_rolling_3day   1499136 non-null  float64       \n 18  tmin_rolling_7day   1499136 non-null  float64       \n 19  tmin_rolling_14day  1499136 non-null  float64       \n 20  tmax_rolling_3day   1499136 non-null  float64       \n 21  tmax_rolling_7day   1499136 non-null  float64       \n 22  tmax_rolling_14day  1499136 non-null  float64       \n 23  sun_rolling_3day    1499136 non-null  float64       \n 24  sun_rolling_7day    1499136 non-null  float64       \n 25  sun_rolling_14day   1499136 non-null  float64       \n 26  wind_speed_3day     1499136 non-null  float64       \n 27  wind_speed_7day     1499136 non-null  float64       \n 28  wind_speed_14day    1499136 non-null  float64       \n 29  lat_6               1499136 non-null  float64       \n 30  lon_6               1499136 non-null  float64       \n 31  mgrs_10km           1499136 non-null  object        \n 32  lat_10km            1499136 non-null  float64       \n 33  lon_10km            1499136 non-null  float64       \ndtypes: datetime64[ns](1), float64(32), object(1)\nmemory usage: 400.3+ MB\n"
     ]
    }
   ],
   "source": [
    "weather2 = weather.merge(mgrs_final, on = ('lat_6','lon_6'), how = 'inner')\n",
    "weather2.info()"
   ]
  },
  {
   "cell_type": "code",
   "execution_count": 25,
   "metadata": {},
   "outputs": [
    {
     "output_type": "execute_result",
     "data": {
      "text/plain": [
       "384"
      ]
     },
     "metadata": {},
     "execution_count": 25
    }
   ],
   "source": [
    "len(weather2.mgrs_10km.unique())"
   ]
  },
  {
   "cell_type": "code",
   "execution_count": 149,
   "metadata": {},
   "outputs": [],
   "source": [
    "# weather = weather[weather.mgrs_100km.isin(MGRS_100KM_USED)]\n",
    "# weather.info()\n",
    "# print(len(weather.mgrs_10km.unique()))\n",
    "# weather.mgrs_100km.unique()"
   ]
  },
  {
   "cell_type": "code",
   "execution_count": 70,
   "metadata": {},
   "outputs": [],
   "source": [
    "# weather.head(15)"
   ]
  },
  {
   "source": [
    "Merge Weather and Fire Data"
   ],
   "cell_type": "markdown",
   "metadata": {}
  },
  {
   "cell_type": "code",
   "execution_count": 26,
   "metadata": {},
   "outputs": [
    {
     "output_type": "stream",
     "name": "stdout",
     "text": [
      "<class 'pandas.core.frame.DataFrame'>\nInt64Index: 1499549 entries, 0 to 1499548\nData columns (total 37 columns):\n #   Column              Non-Null Count    Dtype         \n---  ------              --------------    -----         \n 0   date                1499549 non-null  datetime64[ns]\n 1   lat_x               1499549 non-null  float64       \n 2   lon_x               1499549 non-null  float64       \n 3   tavg                1499549 non-null  float64       \n 4   tmin                1499549 non-null  float64       \n 5   tmax                1499549 non-null  float64       \n 6   prcp                1499549 non-null  float64       \n 7   sun                 1499549 non-null  float64       \n 8   drought_index       1499549 non-null  float64       \n 9   wind_speed          1499549 non-null  float64       \n 10  elevation           1499549 non-null  float64       \n 11  prcp_rolling_3day   1499549 non-null  float64       \n 12  prcp_rolling_7day   1499549 non-null  float64       \n 13  prcp_rolling_14day  1499549 non-null  float64       \n 14  tavg_rolling_3day   1499549 non-null  float64       \n 15  tavg_rolling_7day   1499549 non-null  float64       \n 16  tavg_rolling_14day  1499549 non-null  float64       \n 17  tmin_rolling_3day   1499549 non-null  float64       \n 18  tmin_rolling_7day   1499549 non-null  float64       \n 19  tmin_rolling_14day  1499549 non-null  float64       \n 20  tmax_rolling_3day   1499549 non-null  float64       \n 21  tmax_rolling_7day   1499549 non-null  float64       \n 22  tmax_rolling_14day  1499549 non-null  float64       \n 23  sun_rolling_3day    1499549 non-null  float64       \n 24  sun_rolling_7day    1499549 non-null  float64       \n 25  sun_rolling_14day   1499549 non-null  float64       \n 26  wind_speed_3day     1499549 non-null  float64       \n 27  wind_speed_7day     1499549 non-null  float64       \n 28  wind_speed_14day    1499549 non-null  float64       \n 29  lat_6               1499549 non-null  float64       \n 30  lon_6               1499549 non-null  float64       \n 31  mgrs_10km           1499549 non-null  object        \n 32  lat_10km            1499549 non-null  float64       \n 33  lon_10km            1499549 non-null  float64       \n 34  mgrs_100km          8054 non-null     object        \n 35  lat_y               8054 non-null     float64       \n 36  lon_y               8054 non-null     float64       \ndtypes: datetime64[ns](1), float64(34), object(2)\nmemory usage: 434.7+ MB\n"
     ]
    }
   ],
   "source": [
    "data = weather2.merge(socal_lite, on = ('mgrs_10km','date'), how = 'left')\n",
    "data.info()"
   ]
  },
  {
   "cell_type": "code",
   "execution_count": 27,
   "metadata": {},
   "outputs": [
    {
     "output_type": "stream",
     "name": "stdout",
     "text": [
      "<class 'pandas.core.frame.DataFrame'>\nInt64Index: 1499549 entries, 0 to 1499548\nData columns (total 29 columns):\n #   Column              Non-Null Count    Dtype         \n---  ------              --------------    -----         \n 0   date                1499549 non-null  datetime64[ns]\n 1   tavg                1499549 non-null  float64       \n 2   tmin                1499549 non-null  float64       \n 3   tmax                1499549 non-null  float64       \n 4   prcp                1499549 non-null  float64       \n 5   sun                 1499549 non-null  float64       \n 6   drought_index       1499549 non-null  float64       \n 7   wind_speed          1499549 non-null  float64       \n 8   elevation           1499549 non-null  float64       \n 9   prcp_rolling_3day   1499549 non-null  float64       \n 10  prcp_rolling_7day   1499549 non-null  float64       \n 11  prcp_rolling_14day  1499549 non-null  float64       \n 12  tavg_rolling_3day   1499549 non-null  float64       \n 13  tavg_rolling_7day   1499549 non-null  float64       \n 14  tavg_rolling_14day  1499549 non-null  float64       \n 15  tmin_rolling_3day   1499549 non-null  float64       \n 16  tmin_rolling_7day   1499549 non-null  float64       \n 17  tmin_rolling_14day  1499549 non-null  float64       \n 18  tmax_rolling_3day   1499549 non-null  float64       \n 19  tmax_rolling_7day   1499549 non-null  float64       \n 20  tmax_rolling_14day  1499549 non-null  float64       \n 21  sun_rolling_3day    1499549 non-null  float64       \n 22  sun_rolling_7day    1499549 non-null  float64       \n 23  sun_rolling_14day   1499549 non-null  float64       \n 24  wind_speed_3day     1499549 non-null  float64       \n 25  wind_speed_7day     1499549 non-null  float64       \n 26  wind_speed_14day    1499549 non-null  float64       \n 27  mgrs_100km          8054 non-null     object        \n 28  day_of_year         1499549 non-null  int64         \ndtypes: datetime64[ns](1), float64(26), int64(1), object(1)\nmemory usage: 343.2+ MB\n"
     ]
    }
   ],
   "source": [
    "data = data.drop(columns = ['mgrs_10km','lat_y','lon_y','lat_x','lon_x','lat_6','lon_6','lat_10km','lon_10km'])\n",
    "# data = data[[mgrs_10km,]]\n",
    "data['day_of_year'] = data.date.dt.dayofyear\n",
    "data.info()"
   ]
  },
  {
   "cell_type": "code",
   "execution_count": 28,
   "metadata": {
    "tags": []
   },
   "outputs": [
    {
     "output_type": "stream",
     "name": "stdout",
     "text": [
      "<class 'pandas.core.frame.DataFrame'>\nInt64Index: 1499549 entries, 0 to 1499548\nData columns (total 30 columns):\n #   Column              Non-Null Count    Dtype         \n---  ------              --------------    -----         \n 0   date                1499549 non-null  datetime64[ns]\n 1   tavg                1499549 non-null  float64       \n 2   tmin                1499549 non-null  float64       \n 3   tmax                1499549 non-null  float64       \n 4   prcp                1499549 non-null  float64       \n 5   sun                 1499549 non-null  float64       \n 6   drought_index       1499549 non-null  float64       \n 7   wind_speed          1499549 non-null  float64       \n 8   elevation           1499549 non-null  float64       \n 9   prcp_rolling_3day   1499549 non-null  float64       \n 10  prcp_rolling_7day   1499549 non-null  float64       \n 11  prcp_rolling_14day  1499549 non-null  float64       \n 12  tavg_rolling_3day   1499549 non-null  float64       \n 13  tavg_rolling_7day   1499549 non-null  float64       \n 14  tavg_rolling_14day  1499549 non-null  float64       \n 15  tmin_rolling_3day   1499549 non-null  float64       \n 16  tmin_rolling_7day   1499549 non-null  float64       \n 17  tmin_rolling_14day  1499549 non-null  float64       \n 18  tmax_rolling_3day   1499549 non-null  float64       \n 19  tmax_rolling_7day   1499549 non-null  float64       \n 20  tmax_rolling_14day  1499549 non-null  float64       \n 21  sun_rolling_3day    1499549 non-null  float64       \n 22  sun_rolling_7day    1499549 non-null  float64       \n 23  sun_rolling_14day   1499549 non-null  float64       \n 24  wind_speed_3day     1499549 non-null  float64       \n 25  wind_speed_7day     1499549 non-null  float64       \n 26  wind_speed_14day    1499549 non-null  float64       \n 27  mgrs_100km          8054 non-null     object        \n 28  day_of_year         1499549 non-null  int64         \n 29  is_fire             1499549 non-null  int64         \ndtypes: datetime64[ns](1), float64(26), int64(2), object(1)\nmemory usage: 354.7+ MB\n"
     ]
    }
   ],
   "source": [
    "is_fire = []\n",
    "for i in data['mgrs_100km']:\n",
    "    # print(pd.isnull(i))\n",
    "    if pd.isnull(i) == True:\n",
    "        is_fire.append(int(0))\n",
    "    else:\n",
    "        is_fire.append(int(1))\n",
    "# np.sum(is_fire)\n",
    "data['is_fire'] = is_fire\n",
    "data.info()"
   ]
  },
  {
   "cell_type": "code",
   "execution_count": 29,
   "metadata": {},
   "outputs": [
    {
     "output_type": "stream",
     "name": "stdout",
     "text": [
      "<class 'pandas.core.frame.DataFrame'>\nInt64Index: 1499549 entries, 0 to 1499548\nData columns (total 28 columns):\n #   Column              Non-Null Count    Dtype  \n---  ------              --------------    -----  \n 0   tavg                1499549 non-null  float64\n 1   tmin                1499549 non-null  float64\n 2   tmax                1499549 non-null  float64\n 3   prcp                1499549 non-null  float64\n 4   sun                 1499549 non-null  float64\n 5   drought_index       1499549 non-null  float64\n 6   wind_speed          1499549 non-null  float64\n 7   elevation           1499549 non-null  float64\n 8   prcp_rolling_3day   1499549 non-null  float64\n 9   prcp_rolling_7day   1499549 non-null  float64\n 10  prcp_rolling_14day  1499549 non-null  float64\n 11  tavg_rolling_3day   1499549 non-null  float64\n 12  tavg_rolling_7day   1499549 non-null  float64\n 13  tavg_rolling_14day  1499549 non-null  float64\n 14  tmin_rolling_3day   1499549 non-null  float64\n 15  tmin_rolling_7day   1499549 non-null  float64\n 16  tmin_rolling_14day  1499549 non-null  float64\n 17  tmax_rolling_3day   1499549 non-null  float64\n 18  tmax_rolling_7day   1499549 non-null  float64\n 19  tmax_rolling_14day  1499549 non-null  float64\n 20  sun_rolling_3day    1499549 non-null  float64\n 21  sun_rolling_7day    1499549 non-null  float64\n 22  sun_rolling_14day   1499549 non-null  float64\n 23  wind_speed_3day     1499549 non-null  float64\n 24  wind_speed_7day     1499549 non-null  float64\n 25  wind_speed_14day    1499549 non-null  float64\n 26  day_of_year         1499549 non-null  int64  \n 27  is_fire             1499549 non-null  int64  \ndtypes: float64(26), int64(2)\nmemory usage: 331.8 MB\n"
     ]
    }
   ],
   "source": [
    "data.drop(['date','mgrs_100km'], axis = 1,inplace = True)\n",
    "data.info()"
   ]
  },
  {
   "cell_type": "code",
   "execution_count": 30,
   "metadata": {},
   "outputs": [
    {
     "output_type": "execute_result",
     "data": {
      "text/plain": [
       "   tavg  tmin  tmax  prcp    sun  drought_index  wind_speed  elevation  \\\n",
       "0  65.1  51.7  79.0   0.0  751.9            0.0        11.1        0.0   \n",
       "1  64.7  54.1  76.2   0.0  753.6            0.0         6.1        0.0   \n",
       "2  61.8  53.0  71.2   0.0  738.8            0.0         5.1        0.0   \n",
       "3  62.0  52.3  75.8   0.0  629.5            0.0         9.4        0.0   \n",
       "4  59.9  53.9  69.1   0.0  529.7            0.0         5.6        0.0   \n",
       "\n",
       "   prcp_rolling_3day  prcp_rolling_7day  ...  tmax_rolling_7day  \\\n",
       "0                0.0                0.0  ...          66.914286   \n",
       "1                0.0                0.0  ...          68.485714   \n",
       "2                0.0                0.0  ...          69.785714   \n",
       "3                0.0                0.0  ...          71.942857   \n",
       "4                0.0                0.0  ...          73.185714   \n",
       "\n",
       "   tmax_rolling_14day  sun_rolling_3day  sun_rolling_7day  sun_rolling_14day  \\\n",
       "0           66.557143        663.100000        527.585714         594.450000   \n",
       "1           67.142857        749.400000        540.042857         602.242857   \n",
       "2           67.357143        748.100000        574.242857         608.907143   \n",
       "3           67.850000        707.300000        621.528571         602.200000   \n",
       "4           67.921429        632.666667        662.985714         587.750000   \n",
       "\n",
       "   wind_speed_3day  wind_speed_7day  wind_speed_14day  day_of_year  is_fire  \n",
       "0         7.266667         6.414286          6.685714           92        0  \n",
       "1         7.633333         6.228571          6.650000           93        0  \n",
       "2         7.433333         6.100000          6.600000           94        0  \n",
       "3         6.866667         6.742857          6.721429           95        0  \n",
       "4         6.700000         6.857143          6.585714           96        0  \n",
       "\n",
       "[5 rows x 28 columns]"
      ],
      "text/html": "<div>\n<style scoped>\n    .dataframe tbody tr th:only-of-type {\n        vertical-align: middle;\n    }\n\n    .dataframe tbody tr th {\n        vertical-align: top;\n    }\n\n    .dataframe thead th {\n        text-align: right;\n    }\n</style>\n<table border=\"1\" class=\"dataframe\">\n  <thead>\n    <tr style=\"text-align: right;\">\n      <th></th>\n      <th>tavg</th>\n      <th>tmin</th>\n      <th>tmax</th>\n      <th>prcp</th>\n      <th>sun</th>\n      <th>drought_index</th>\n      <th>wind_speed</th>\n      <th>elevation</th>\n      <th>prcp_rolling_3day</th>\n      <th>prcp_rolling_7day</th>\n      <th>...</th>\n      <th>tmax_rolling_7day</th>\n      <th>tmax_rolling_14day</th>\n      <th>sun_rolling_3day</th>\n      <th>sun_rolling_7day</th>\n      <th>sun_rolling_14day</th>\n      <th>wind_speed_3day</th>\n      <th>wind_speed_7day</th>\n      <th>wind_speed_14day</th>\n      <th>day_of_year</th>\n      <th>is_fire</th>\n    </tr>\n  </thead>\n  <tbody>\n    <tr>\n      <th>0</th>\n      <td>65.1</td>\n      <td>51.7</td>\n      <td>79.0</td>\n      <td>0.0</td>\n      <td>751.9</td>\n      <td>0.0</td>\n      <td>11.1</td>\n      <td>0.0</td>\n      <td>0.0</td>\n      <td>0.0</td>\n      <td>...</td>\n      <td>66.914286</td>\n      <td>66.557143</td>\n      <td>663.100000</td>\n      <td>527.585714</td>\n      <td>594.450000</td>\n      <td>7.266667</td>\n      <td>6.414286</td>\n      <td>6.685714</td>\n      <td>92</td>\n      <td>0</td>\n    </tr>\n    <tr>\n      <th>1</th>\n      <td>64.7</td>\n      <td>54.1</td>\n      <td>76.2</td>\n      <td>0.0</td>\n      <td>753.6</td>\n      <td>0.0</td>\n      <td>6.1</td>\n      <td>0.0</td>\n      <td>0.0</td>\n      <td>0.0</td>\n      <td>...</td>\n      <td>68.485714</td>\n      <td>67.142857</td>\n      <td>749.400000</td>\n      <td>540.042857</td>\n      <td>602.242857</td>\n      <td>7.633333</td>\n      <td>6.228571</td>\n      <td>6.650000</td>\n      <td>93</td>\n      <td>0</td>\n    </tr>\n    <tr>\n      <th>2</th>\n      <td>61.8</td>\n      <td>53.0</td>\n      <td>71.2</td>\n      <td>0.0</td>\n      <td>738.8</td>\n      <td>0.0</td>\n      <td>5.1</td>\n      <td>0.0</td>\n      <td>0.0</td>\n      <td>0.0</td>\n      <td>...</td>\n      <td>69.785714</td>\n      <td>67.357143</td>\n      <td>748.100000</td>\n      <td>574.242857</td>\n      <td>608.907143</td>\n      <td>7.433333</td>\n      <td>6.100000</td>\n      <td>6.600000</td>\n      <td>94</td>\n      <td>0</td>\n    </tr>\n    <tr>\n      <th>3</th>\n      <td>62.0</td>\n      <td>52.3</td>\n      <td>75.8</td>\n      <td>0.0</td>\n      <td>629.5</td>\n      <td>0.0</td>\n      <td>9.4</td>\n      <td>0.0</td>\n      <td>0.0</td>\n      <td>0.0</td>\n      <td>...</td>\n      <td>71.942857</td>\n      <td>67.850000</td>\n      <td>707.300000</td>\n      <td>621.528571</td>\n      <td>602.200000</td>\n      <td>6.866667</td>\n      <td>6.742857</td>\n      <td>6.721429</td>\n      <td>95</td>\n      <td>0</td>\n    </tr>\n    <tr>\n      <th>4</th>\n      <td>59.9</td>\n      <td>53.9</td>\n      <td>69.1</td>\n      <td>0.0</td>\n      <td>529.7</td>\n      <td>0.0</td>\n      <td>5.6</td>\n      <td>0.0</td>\n      <td>0.0</td>\n      <td>0.0</td>\n      <td>...</td>\n      <td>73.185714</td>\n      <td>67.921429</td>\n      <td>632.666667</td>\n      <td>662.985714</td>\n      <td>587.750000</td>\n      <td>6.700000</td>\n      <td>6.857143</td>\n      <td>6.585714</td>\n      <td>96</td>\n      <td>0</td>\n    </tr>\n  </tbody>\n</table>\n<p>5 rows × 28 columns</p>\n</div>"
     },
     "metadata": {},
     "execution_count": 30
    }
   ],
   "source": [
    "data.head()"
   ]
  },
  {
   "cell_type": "code",
   "execution_count": 31,
   "metadata": {},
   "outputs": [
    {
     "output_type": "stream",
     "name": "stdout",
     "text": [
      "(1499549, 27) (1499549,)\n"
     ]
    }
   ],
   "source": [
    "X = data.copy()\n",
    "y = X['is_fire']\n",
    "X.drop(['is_fire'], axis = 1, inplace = True)\n",
    "print(X.shape, y.shape)"
   ]
  },
  {
   "cell_type": "code",
   "execution_count": 32,
   "metadata": {},
   "outputs": [
    {
     "output_type": "stream",
     "name": "stdout",
     "text": [
      "(1004697, 27) (494852, 27) (1004697,) (494852,)\n"
     ]
    }
   ],
   "source": [
    "(X_train, X_test, y_train, y_test) = train_test_split(X,y,test_size = 0.33, random_state = 8)\n",
    "print(X_train.shape, X_test.shape, y_train.shape, y_test.shape)"
   ]
  },
  {
   "cell_type": "code",
   "execution_count": 33,
   "metadata": {},
   "outputs": [
    {
     "output_type": "execute_result",
     "data": {
      "text/plain": [
       "               tavg          tmin          tmax          prcp           sun  \\\n",
       "count  1.004697e+06  1.004697e+06  1.004697e+06  1.004697e+06  1.004697e+06   \n",
       "mean  -1.795451e-15 -5.458639e-16  6.171873e-16  5.026321e-15 -5.503174e-16   \n",
       "std    1.000000e+00  1.000000e+00  1.000000e+00  1.000000e+00  1.000000e+00   \n",
       "min   -4.925105e+00 -5.069672e+00 -4.401697e+00 -1.762145e-01 -4.109702e+00   \n",
       "25%   -6.971439e-01 -6.559366e-01 -7.411490e-01 -1.762145e-01 -3.625510e-01   \n",
       "50%   -4.056645e-02  4.154250e-02 -2.182735e-02 -1.762145e-01  2.129878e-01   \n",
       "75%    6.458555e-01  6.518367e-01  7.134793e-01 -1.762145e-01  7.331864e-01   \n",
       "max    3.859106e+00  4.629647e+00  3.470879e+00  3.669386e+01  1.221411e+00   \n",
       "\n",
       "       drought_index    wind_speed     elevation  prcp_rolling_3day  \\\n",
       "count   1.004697e+06  1.004697e+06  1.004697e+06       1.004697e+06   \n",
       "mean    2.960698e-15  6.689890e-16  2.793280e-17       2.428461e-16   \n",
       "std     1.000000e+00  1.000000e+00  1.000000e+00       1.000000e+00   \n",
       "min    -1.364020e+00 -2.331338e+00 -1.169357e+00      -2.570019e-01   \n",
       "25%    -9.775440e-01 -6.261727e-01 -8.369245e-01      -2.570019e-01   \n",
       "50%     1.818839e-01 -6.112418e-03 -2.345054e-01      -2.570019e-01   \n",
       "75%     9.548358e-01  5.106044e-01  5.552514e-01      -2.052965e-01   \n",
       "max     1.727788e+00  2.396955e+01  4.465466e+00       2.396477e+01   \n",
       "\n",
       "       prcp_rolling_7day  ...  tmax_rolling_3day  tmax_rolling_7day  \\\n",
       "count       1.004697e+06  ...       1.004697e+06       1.004697e+06   \n",
       "mean       -2.274796e-16  ...       1.807853e-16       5.004247e-16   \n",
       "std         1.000000e+00  ...       1.000000e+00       1.000000e+00   \n",
       "min        -3.635540e-01  ...      -4.477181e+00      -4.216882e+00   \n",
       "25%        -3.635540e-01  ...      -7.483656e-01      -7.498138e-01   \n",
       "50%        -3.534683e-01  ...      -3.065119e-02      -4.280376e-02   \n",
       "75%        -1.431091e-01  ...       7.090622e-01       6.963431e-01   \n",
       "max         1.904861e+01  ...       3.491924e+00       3.394600e+00   \n",
       "\n",
       "       tmax_rolling_14day  sun_rolling_3day  sun_rolling_7day  \\\n",
       "count        1.004697e+06      1.004697e+06      1.004697e+06   \n",
       "mean         2.623294e-15     -9.297078e-16     -1.022490e-15   \n",
       "std          1.000000e+00      1.000000e+00      1.000000e+00   \n",
       "min         -4.098447e+00     -4.654366e+00     -4.959122e+00   \n",
       "25%         -7.512886e-01     -5.049689e-01     -6.234710e-01   \n",
       "50%         -5.682541e-02      1.698440e-01      1.225099e-01   \n",
       "75%          6.954026e-01      7.620025e-01      7.641744e-01   \n",
       "max          3.443731e+00      1.415139e+00      1.633913e+00   \n",
       "\n",
       "       sun_rolling_14day  wind_speed_3day  wind_speed_7day  wind_speed_14day  \\\n",
       "count       1.004697e+06     1.004697e+06     1.004697e+06      1.004697e+06   \n",
       "mean       -4.045249e-16     1.367383e-16    -1.532039e-15     -1.872709e-15   \n",
       "std         1.000000e+00     1.000000e+00     1.000000e+00      1.000000e+00   \n",
       "min        -4.417495e+00    -2.722938e+00    -2.888732e+00     -2.845245e+00   \n",
       "25%        -6.896810e-01    -6.384215e-01    -6.389264e-01     -6.361836e-01   \n",
       "50%         8.859390e-02    -3.391147e-02    -3.556965e-02     -4.673277e-02   \n",
       "75%         7.686792e-01     5.497529e-01     5.575613e-01      5.537352e-01   \n",
       "max         1.815813e+00     2.101970e+01     1.827989e+01      1.410008e+01   \n",
       "\n",
       "        day_of_year  \n",
       "count  1.004697e+06  \n",
       "mean   1.351461e-16  \n",
       "std    1.000000e+00  \n",
       "min   -1.728288e+00  \n",
       "25%   -8.625356e-01  \n",
       "50%    3.216603e-03  \n",
       "75%    8.689688e-01  \n",
       "max    1.734721e+00  \n",
       "\n",
       "[8 rows x 27 columns]"
      ],
      "text/html": "<div>\n<style scoped>\n    .dataframe tbody tr th:only-of-type {\n        vertical-align: middle;\n    }\n\n    .dataframe tbody tr th {\n        vertical-align: top;\n    }\n\n    .dataframe thead th {\n        text-align: right;\n    }\n</style>\n<table border=\"1\" class=\"dataframe\">\n  <thead>\n    <tr style=\"text-align: right;\">\n      <th></th>\n      <th>tavg</th>\n      <th>tmin</th>\n      <th>tmax</th>\n      <th>prcp</th>\n      <th>sun</th>\n      <th>drought_index</th>\n      <th>wind_speed</th>\n      <th>elevation</th>\n      <th>prcp_rolling_3day</th>\n      <th>prcp_rolling_7day</th>\n      <th>...</th>\n      <th>tmax_rolling_3day</th>\n      <th>tmax_rolling_7day</th>\n      <th>tmax_rolling_14day</th>\n      <th>sun_rolling_3day</th>\n      <th>sun_rolling_7day</th>\n      <th>sun_rolling_14day</th>\n      <th>wind_speed_3day</th>\n      <th>wind_speed_7day</th>\n      <th>wind_speed_14day</th>\n      <th>day_of_year</th>\n    </tr>\n  </thead>\n  <tbody>\n    <tr>\n      <th>count</th>\n      <td>1.004697e+06</td>\n      <td>1.004697e+06</td>\n      <td>1.004697e+06</td>\n      <td>1.004697e+06</td>\n      <td>1.004697e+06</td>\n      <td>1.004697e+06</td>\n      <td>1.004697e+06</td>\n      <td>1.004697e+06</td>\n      <td>1.004697e+06</td>\n      <td>1.004697e+06</td>\n      <td>...</td>\n      <td>1.004697e+06</td>\n      <td>1.004697e+06</td>\n      <td>1.004697e+06</td>\n      <td>1.004697e+06</td>\n      <td>1.004697e+06</td>\n      <td>1.004697e+06</td>\n      <td>1.004697e+06</td>\n      <td>1.004697e+06</td>\n      <td>1.004697e+06</td>\n      <td>1.004697e+06</td>\n    </tr>\n    <tr>\n      <th>mean</th>\n      <td>-1.795451e-15</td>\n      <td>-5.458639e-16</td>\n      <td>6.171873e-16</td>\n      <td>5.026321e-15</td>\n      <td>-5.503174e-16</td>\n      <td>2.960698e-15</td>\n      <td>6.689890e-16</td>\n      <td>2.793280e-17</td>\n      <td>2.428461e-16</td>\n      <td>-2.274796e-16</td>\n      <td>...</td>\n      <td>1.807853e-16</td>\n      <td>5.004247e-16</td>\n      <td>2.623294e-15</td>\n      <td>-9.297078e-16</td>\n      <td>-1.022490e-15</td>\n      <td>-4.045249e-16</td>\n      <td>1.367383e-16</td>\n      <td>-1.532039e-15</td>\n      <td>-1.872709e-15</td>\n      <td>1.351461e-16</td>\n    </tr>\n    <tr>\n      <th>std</th>\n      <td>1.000000e+00</td>\n      <td>1.000000e+00</td>\n      <td>1.000000e+00</td>\n      <td>1.000000e+00</td>\n      <td>1.000000e+00</td>\n      <td>1.000000e+00</td>\n      <td>1.000000e+00</td>\n      <td>1.000000e+00</td>\n      <td>1.000000e+00</td>\n      <td>1.000000e+00</td>\n      <td>...</td>\n      <td>1.000000e+00</td>\n      <td>1.000000e+00</td>\n      <td>1.000000e+00</td>\n      <td>1.000000e+00</td>\n      <td>1.000000e+00</td>\n      <td>1.000000e+00</td>\n      <td>1.000000e+00</td>\n      <td>1.000000e+00</td>\n      <td>1.000000e+00</td>\n      <td>1.000000e+00</td>\n    </tr>\n    <tr>\n      <th>min</th>\n      <td>-4.925105e+00</td>\n      <td>-5.069672e+00</td>\n      <td>-4.401697e+00</td>\n      <td>-1.762145e-01</td>\n      <td>-4.109702e+00</td>\n      <td>-1.364020e+00</td>\n      <td>-2.331338e+00</td>\n      <td>-1.169357e+00</td>\n      <td>-2.570019e-01</td>\n      <td>-3.635540e-01</td>\n      <td>...</td>\n      <td>-4.477181e+00</td>\n      <td>-4.216882e+00</td>\n      <td>-4.098447e+00</td>\n      <td>-4.654366e+00</td>\n      <td>-4.959122e+00</td>\n      <td>-4.417495e+00</td>\n      <td>-2.722938e+00</td>\n      <td>-2.888732e+00</td>\n      <td>-2.845245e+00</td>\n      <td>-1.728288e+00</td>\n    </tr>\n    <tr>\n      <th>25%</th>\n      <td>-6.971439e-01</td>\n      <td>-6.559366e-01</td>\n      <td>-7.411490e-01</td>\n      <td>-1.762145e-01</td>\n      <td>-3.625510e-01</td>\n      <td>-9.775440e-01</td>\n      <td>-6.261727e-01</td>\n      <td>-8.369245e-01</td>\n      <td>-2.570019e-01</td>\n      <td>-3.635540e-01</td>\n      <td>...</td>\n      <td>-7.483656e-01</td>\n      <td>-7.498138e-01</td>\n      <td>-7.512886e-01</td>\n      <td>-5.049689e-01</td>\n      <td>-6.234710e-01</td>\n      <td>-6.896810e-01</td>\n      <td>-6.384215e-01</td>\n      <td>-6.389264e-01</td>\n      <td>-6.361836e-01</td>\n      <td>-8.625356e-01</td>\n    </tr>\n    <tr>\n      <th>50%</th>\n      <td>-4.056645e-02</td>\n      <td>4.154250e-02</td>\n      <td>-2.182735e-02</td>\n      <td>-1.762145e-01</td>\n      <td>2.129878e-01</td>\n      <td>1.818839e-01</td>\n      <td>-6.112418e-03</td>\n      <td>-2.345054e-01</td>\n      <td>-2.570019e-01</td>\n      <td>-3.534683e-01</td>\n      <td>...</td>\n      <td>-3.065119e-02</td>\n      <td>-4.280376e-02</td>\n      <td>-5.682541e-02</td>\n      <td>1.698440e-01</td>\n      <td>1.225099e-01</td>\n      <td>8.859390e-02</td>\n      <td>-3.391147e-02</td>\n      <td>-3.556965e-02</td>\n      <td>-4.673277e-02</td>\n      <td>3.216603e-03</td>\n    </tr>\n    <tr>\n      <th>75%</th>\n      <td>6.458555e-01</td>\n      <td>6.518367e-01</td>\n      <td>7.134793e-01</td>\n      <td>-1.762145e-01</td>\n      <td>7.331864e-01</td>\n      <td>9.548358e-01</td>\n      <td>5.106044e-01</td>\n      <td>5.552514e-01</td>\n      <td>-2.052965e-01</td>\n      <td>-1.431091e-01</td>\n      <td>...</td>\n      <td>7.090622e-01</td>\n      <td>6.963431e-01</td>\n      <td>6.954026e-01</td>\n      <td>7.620025e-01</td>\n      <td>7.641744e-01</td>\n      <td>7.686792e-01</td>\n      <td>5.497529e-01</td>\n      <td>5.575613e-01</td>\n      <td>5.537352e-01</td>\n      <td>8.689688e-01</td>\n    </tr>\n    <tr>\n      <th>max</th>\n      <td>3.859106e+00</td>\n      <td>4.629647e+00</td>\n      <td>3.470879e+00</td>\n      <td>3.669386e+01</td>\n      <td>1.221411e+00</td>\n      <td>1.727788e+00</td>\n      <td>2.396955e+01</td>\n      <td>4.465466e+00</td>\n      <td>2.396477e+01</td>\n      <td>1.904861e+01</td>\n      <td>...</td>\n      <td>3.491924e+00</td>\n      <td>3.394600e+00</td>\n      <td>3.443731e+00</td>\n      <td>1.415139e+00</td>\n      <td>1.633913e+00</td>\n      <td>1.815813e+00</td>\n      <td>2.101970e+01</td>\n      <td>1.827989e+01</td>\n      <td>1.410008e+01</td>\n      <td>1.734721e+00</td>\n    </tr>\n  </tbody>\n</table>\n<p>8 rows × 27 columns</p>\n</div>"
     },
     "metadata": {},
     "execution_count": 33
    }
   ],
   "source": [
    "scaler = StandardScaler()\n",
    "X_train_scaled = pd.DataFrame(scaler.fit_transform(X_train), columns = X_train.columns)\n",
    "X_train_scaled.describe()"
   ]
  },
  {
   "cell_type": "code",
   "execution_count": 34,
   "metadata": {},
   "outputs": [],
   "source": [
    "# clfsList = [LogisticRegression, RandomForestClassifier, GradientBoostingClassifier]\n",
    "clfsList = [LogisticRegression, RandomForestClassifier, GradientBoostingClassifier]\n",
    "\n",
    "clf_hyper = { \n",
    "         'LogisticRegression':{\n",
    "            'tol': [0.01, 0.1, 1.0]\n",
    "           ,'C': [0.01, 0.1, 1.0]\n",
    "           , 'solver': ['sag','saga']\n",
    "           , 'class_weight': [None,'balanced']\n",
    "        }\n",
    "        ,\n",
    "         'RandomForestClassifier':{\n",
    "            'n_estimators': [50,100,150]\n",
    "           ,'min_samples_leaf': [1,5,15]\n",
    "           ,'class_weight': [None, 'balanced']\n",
    "           ,'bootstrap': [True]\n",
    "        }        \n",
    "        # ,\n",
    "        # 'GradientBoostingClassifier':{\n",
    "        #     'learning_rate': [0.001,0.01,0.1]\n",
    "        #    ,'n_estimators': [10,50,100]\n",
    "        #    ,'min_samples_leaf': [5,3,1]\n",
    "        # }\n",
    "}"
   ]
  },
  {
   "cell_type": "code",
   "execution_count": 307,
   "metadata": {},
   "outputs": [],
   "source": [
    "# clfGridSearch(np.array(X_train_scaled), np.array(y_train), 5)"
   ]
  },
  {
   "cell_type": "code",
   "execution_count": 302,
   "metadata": {},
   "outputs": [
    {
     "output_type": "execute_result",
     "data": {
      "text/plain": [
       "RandomForestClassifier(class_weight='balanced')"
      ]
     },
     "metadata": {},
     "execution_count": 302
    }
   ],
   "source": [
    "clf_0 = RandomForestClassifier(class_weight = 'balanced')\n",
    "clf_0.fit(X_train_scaled, y_train)"
   ]
  },
  {
   "cell_type": "code",
   "execution_count": 303,
   "metadata": {},
   "outputs": [
    {
     "output_type": "stream",
     "name": "stdout",
     "text": [
      "-----------------------Confusion Matrix------------------------ \n  Predicted|--------------------Actual------------------------ \n           |        Yes            |         No                |   Total    \n-------------------------------------------------------------- \n        Yes|        183            |        0               |    183 \n-------------------------------------------------------------- \n         No|        2507             |        492162              |    494669 \n-------------------------------------------------------------- \n      Total|        2690            |        492162              |    494852 \n\nAccuracy:  0.994934 \nPrecision:  1.0 \nRecall:  0.06803\n"
     ]
    }
   ],
   "source": [
    "clfResults(clf_0, X_train_scaled, y_train, X_test, y_test)"
   ]
  },
  {
   "cell_type": "code",
   "execution_count": 304,
   "metadata": {},
   "outputs": [
    {
     "output_type": "execute_result",
     "data": {
      "text/plain": [
       "                       coeff\n",
       "elevation           0.104115\n",
       "wind_speed_14day    0.050244\n",
       "tmax                0.050058\n",
       "tmax_rolling_3day   0.045804\n",
       "wind_speed_7day     0.043873\n",
       "tmax_rolling_7day   0.043785\n",
       "sun                 0.042679\n",
       "day_of_year         0.042470\n",
       "tmax_rolling_14day  0.041231\n",
       "tavg_rolling_14day  0.040654\n",
       "sun_rolling_3day    0.040510\n",
       "sun_rolling_14day   0.038656\n",
       "wind_speed_3day     0.038285\n",
       "tmin_rolling_14day  0.036986\n",
       "sun_rolling_7day    0.035375\n",
       "wind_speed          0.033129\n",
       "tavg_rolling_7day   0.033098\n",
       "tavg                0.032115\n",
       "tmin_rolling_7day   0.031411\n",
       "tmin                0.030824\n",
       "tmin_rolling_3day   0.030668\n",
       "tavg_rolling_3day   0.030122\n",
       "prcp_rolling_14day  0.026846\n",
       "prcp_rolling_7day   0.019439\n",
       "drought_index       0.018665\n",
       "prcp_rolling_3day   0.012089\n",
       "prcp                0.006867"
      ],
      "text/html": "<div>\n<style scoped>\n    .dataframe tbody tr th:only-of-type {\n        vertical-align: middle;\n    }\n\n    .dataframe tbody tr th {\n        vertical-align: top;\n    }\n\n    .dataframe thead th {\n        text-align: right;\n    }\n</style>\n<table border=\"1\" class=\"dataframe\">\n  <thead>\n    <tr style=\"text-align: right;\">\n      <th></th>\n      <th>coeff</th>\n    </tr>\n  </thead>\n  <tbody>\n    <tr>\n      <th>elevation</th>\n      <td>0.104115</td>\n    </tr>\n    <tr>\n      <th>wind_speed_14day</th>\n      <td>0.050244</td>\n    </tr>\n    <tr>\n      <th>tmax</th>\n      <td>0.050058</td>\n    </tr>\n    <tr>\n      <th>tmax_rolling_3day</th>\n      <td>0.045804</td>\n    </tr>\n    <tr>\n      <th>wind_speed_7day</th>\n      <td>0.043873</td>\n    </tr>\n    <tr>\n      <th>tmax_rolling_7day</th>\n      <td>0.043785</td>\n    </tr>\n    <tr>\n      <th>sun</th>\n      <td>0.042679</td>\n    </tr>\n    <tr>\n      <th>day_of_year</th>\n      <td>0.042470</td>\n    </tr>\n    <tr>\n      <th>tmax_rolling_14day</th>\n      <td>0.041231</td>\n    </tr>\n    <tr>\n      <th>tavg_rolling_14day</th>\n      <td>0.040654</td>\n    </tr>\n    <tr>\n      <th>sun_rolling_3day</th>\n      <td>0.040510</td>\n    </tr>\n    <tr>\n      <th>sun_rolling_14day</th>\n      <td>0.038656</td>\n    </tr>\n    <tr>\n      <th>wind_speed_3day</th>\n      <td>0.038285</td>\n    </tr>\n    <tr>\n      <th>tmin_rolling_14day</th>\n      <td>0.036986</td>\n    </tr>\n    <tr>\n      <th>sun_rolling_7day</th>\n      <td>0.035375</td>\n    </tr>\n    <tr>\n      <th>wind_speed</th>\n      <td>0.033129</td>\n    </tr>\n    <tr>\n      <th>tavg_rolling_7day</th>\n      <td>0.033098</td>\n    </tr>\n    <tr>\n      <th>tavg</th>\n      <td>0.032115</td>\n    </tr>\n    <tr>\n      <th>tmin_rolling_7day</th>\n      <td>0.031411</td>\n    </tr>\n    <tr>\n      <th>tmin</th>\n      <td>0.030824</td>\n    </tr>\n    <tr>\n      <th>tmin_rolling_3day</th>\n      <td>0.030668</td>\n    </tr>\n    <tr>\n      <th>tavg_rolling_3day</th>\n      <td>0.030122</td>\n    </tr>\n    <tr>\n      <th>prcp_rolling_14day</th>\n      <td>0.026846</td>\n    </tr>\n    <tr>\n      <th>prcp_rolling_7day</th>\n      <td>0.019439</td>\n    </tr>\n    <tr>\n      <th>drought_index</th>\n      <td>0.018665</td>\n    </tr>\n    <tr>\n      <th>prcp_rolling_3day</th>\n      <td>0.012089</td>\n    </tr>\n    <tr>\n      <th>prcp</th>\n      <td>0.006867</td>\n    </tr>\n  </tbody>\n</table>\n</div>"
     },
     "metadata": {},
     "execution_count": 304
    }
   ],
   "source": [
    "importance0 = [clf_0.feature_importances_]\n",
    "\n",
    "clf_0_importance = pd.DataFrame(importance0, columns = X_train.columns).T\n",
    "\n",
    "clf_0_importance.columns = ['coeff']\n",
    "\n",
    "clf_0_importance.sort_values(by = 'coeff', ascending = False)"
   ]
  },
  {
   "cell_type": "code",
   "execution_count": 250,
   "metadata": {},
   "outputs": [],
   "source": [
    "# data.unique()"
   ]
  },
  {
   "cell_type": "code",
   "execution_count": 66,
   "metadata": {},
   "outputs": [],
   "source": [
    "# weather['soil_type:idx'].unique()"
   ]
  },
  {
   "cell_type": "code",
   "execution_count": 67,
   "metadata": {},
   "outputs": [],
   "source": [
    "# weather['soil_moisture_index_-15cm:idx'].unique()"
   ]
  },
  {
   "cell_type": "code",
   "execution_count": 68,
   "metadata": {},
   "outputs": [],
   "source": [
    "# import missingno as msno"
   ]
  },
  {
   "cell_type": "code",
   "execution_count": 69,
   "metadata": {},
   "outputs": [],
   "source": [
    "# Visualize missing values as a matrix\n",
    "# msno.matrix(weather)"
   ]
  },
  {
   "cell_type": "code",
   "execution_count": null,
   "metadata": {},
   "outputs": [],
   "source": []
  }
 ]
}