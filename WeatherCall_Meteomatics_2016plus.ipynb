{
 "cells": [
  {
   "cell_type": "code",
   "execution_count": 1,
   "id": "5f38c11f-0845-4724-b98e-2c27e8c908a7",
   "metadata": {},
   "outputs": [],
   "source": [
    "import datetime as dt\n",
    "import meteomatics.api as api\n",
    "import pandas as pd\n",
    "import numpy as np"
   ]
  },
  {
   "cell_type": "markdown",
   "id": "bf2894b3-e924-49b3-8216-58ab24702d3b",
   "metadata": {},
   "source": [
    "# Meteomatics api call\n",
    "\n",
    "The following code can be used to call the meteomatics api."
   ]
  },
  {
   "cell_type": "markdown",
   "id": "f64e08f8-09ab-4af9-bd83-fdefe97c0d6b",
   "metadata": {},
   "source": [
    "### WeatherCall function\n",
    "The WeatherCall function calls the Metomatics api and returns a dataframe with the results of the call.\n",
    "\n",
    "**Notes on the WeatherCall function:**\n",
    "* The Metomatics api returns time stamps for averages right bounded (the preceding 24h are taken into account) )in the API because of this the dates are shifted by one day. That means that the following value: \n",
    "      validdate;t_mean_2m_24h:F \n",
    "      2021-05-06T00:00:00Z;72.4\n",
    "      represents the 24h hour mean temperature of May 5.\n",
    "* WeatherCall fixes the date shift for each row returned in a new column called 'date'. The original column with the shifted dates is droped from the dataframe that is returned\n",
    "\n",
    "\n",
    "\n",
    "\n",
    "\n",
    "\n",
    " "
   ]
  },
  {
   "cell_type": "code",
   "execution_count": 2,
   "id": "8a63763a-daca-4d68-a8ad-53d8c5918e19",
   "metadata": {},
   "outputs": [],
   "source": [
    "def WeatherCall(location,parameters,time):\n",
    "    \n",
    "    ###Credentials:\n",
    "    username = 'smu_student'\n",
    "    password = 'KExx3Nhs768c'\n",
    "    \n",
    "    #unpack time\n",
    "    startdate,enddate,interval = time\n",
    "    \n",
    "    #empty results dataframe will be populated by query results\n",
    "    results = pd.DataFrame()\n",
    "\n",
    "    #for loop that loops through a list of latitude and longitude locations \n",
    "    for x in location:\n",
    "        try:\n",
    "            ts = api.query_time_series(x, startdate, enddate, interval,parameters, username, password) #query api\n",
    "            ts_df = ts.reset_index() #lat, lon, and validdate come back as a multi Index this makes them columns\n",
    "            results = results.append(ts_df) #append the results dataframe with query results\n",
    "            results['date'] = results.validdate - dt.timedelta(days=1) #daily results are off by a day\n",
    "\n",
    "\n",
    "        except Exception as e:\n",
    "            print(\"Failed, the exception is {}\".format(e)) \n",
    "        \n",
    "    results = results.drop(columns=['validdate'])\n",
    "    return results    "
   ]
  },
  {
   "cell_type": "markdown",
   "id": "83d25b88-ed31-4176-9153-163f7e32e92a",
   "metadata": {},
   "source": [
    "### Import mgrs location csv and format to work with WeatherCall function\n",
    "\n",
    "The meteomatics api can only be queried for 10 locations at a time. To return results for all 385 mgrs locations the latitude and longitude have to be combined into individual records (tuples) and then sent through the api ten at a time. The following code will pull down the mgrs_final.csv file from our git convert the lat and long to tuples and put them in a list. The code will then split the orginal list into a list of lists each of the smaller lists containing ten locations except for the last list which only contains five locations. The code returns 'mgrs_locations' that can be passed into the 'WeatherCall' function to get results for all 385 locations at once. \n",
    "\n",
    "**<font color=red>Notes on location READ ME: </font>**\n",
    "   * When 'mgrs_locations' list is sent through the 'WeatherCall' function 39 calls will be made to the api! One call = list of 10 locations\n",
    "\n",
    "  * When 'mgrs_test' list is sent through the 'WeatherCall funciton 2 calls will be made to the api. Use this for testing until you're ready to get data for all lcoations."
   ]
  },
  {
   "cell_type": "code",
   "execution_count": 3,
   "id": "18e735b3-373c-4116-8df9-d0b50f5ae1b5",
   "metadata": {},
   "outputs": [],
   "source": [
    "from itertools import islice\n",
    "\n",
    "#Import mgrs locations\n",
    "mgrs = pd.read_csv('https://raw.githubusercontent.com/jbalson0808/fires/main/mgrs_final.csv') #set location of mgrs_final\n",
    "\n",
    "#Select lat and longitude columns\n",
    "mgrs = mgrs[['lat_10km','lon_10km']]\n",
    "\n",
    "#Convert mgrs Lat and lon into a list of tuples \n",
    "records = mgrs.to_records(index=False)\n",
    "\n",
    "#convert \n",
    "mgrs_list = list(records)\n",
    "\n",
    "#split list into 39 smaller lists \n",
    "length_to_split = [10,10,10,10,10,10,10,10,10,10,10,10,10,10,10,10,10,10,10,10,10,10,10,10,10,10,10,10,10,10,10,10,10,10,10,10,10,10,6]\n",
    "\n",
    "inputt = iter(mgrs_list)\n",
    "\n",
    "# All mgrs locations ################\n",
    "mgrs_locations = [list(islice(inputt,elem)) for elem in length_to_split]\n",
    "\n",
    "\n",
    "# mgrs_test this limits the locations to twenty and only makes 2 calls to the api useful in testing#######\n",
    "mgrs_test = mgrs_locations[:2]\n",
    "\n",
    "#print(mgrs_locations[:2]"
   ]
  },
  {
   "cell_type": "code",
   "execution_count": 4,
   "metadata": {},
   "outputs": [
    {
     "output_type": "execute_result",
     "data": {
      "text/plain": [
       "[[(33.70526732, -118.079125),\n",
       "  (33.79544412, -118.0802553),\n",
       "  (33.88561957, -118.0813907),\n",
       "  (33.97579365, -118.0825311),\n",
       "  (34.06596638, -118.0836766),\n",
       "  (34.15613776, -118.0848272),\n",
       "  (34.24630777, -118.085983),\n",
       "  (33.61598164, -117.970214),\n",
       "  (33.70616282, -117.9712268),\n",
       "  (33.79634266, -117.9722441)],\n",
       " [(33.88652115, -117.973266),\n",
       "  (33.97669829, -117.9742925),\n",
       "  (34.06687408, -117.9753235),\n",
       "  (34.15704851, -117.9763591),\n",
       "  (34.24722159, -117.9773993),\n",
       "  (33.6167802, -117.8624237),\n",
       "  (33.70696409, -117.8633241),\n",
       "  (33.79714665, -117.8642284),\n",
       "  (33.88732786, -117.8651368),\n",
       "  (33.97750773, -117.8660493)]]"
      ]
     },
     "metadata": {},
     "execution_count": 4
    }
   ],
   "source": [
    "mgrs_locations[:2]"
   ]
  },
  {
   "cell_type": "markdown",
   "id": "1854a045-d837-439e-b90b-1e6a7342deab",
   "metadata": {},
   "source": [
    "### Set Start date and enddate of call\n",
    "Use the code below to set the start and end dates for the weather data you want to call. The start date, end date, and interval are packed into a variable called 'time' that can be passed to the WeatherCall function. \n",
    "\n",
    "Notes on start and end date: \n",
    "* the Meteomatics api uses right bounded dates for averages when entering start date and end date you need to shift the dates by one day. Example, if you want to get the daily mean (00:00 until 00:00 UTC) temperatures between May 5 and 10, you should specify the following:\n",
    "        startdate_ts = dt.datetime(2021,5,6)\n",
    "        enddate_ts = dt.datetime(2021,5,11)\n",
    "        interval_ts = dt.timedelta(hours=24) \n",
    "        \n",
    "* The code below shifts the start and end dates you enter by one day to make it easier to use. Just enter the actual dates you want and the function will do the rest\n"
   ]
  },
  {
   "cell_type": "code",
   "execution_count": 5,
   "id": "30433fd8-a25b-47fb-a32c-897db9eabff8",
   "metadata": {},
   "outputs": [],
   "source": [
    "# month_s = 1    #start date month\n",
    "# day_s = 1      #start date day\n",
    "# year_s = 2000  #start date year\n",
    "\n",
    "# month_e = 12    #end date month\n",
    "# day_e = 31     #end date day\n",
    "# year_e = 2010  #end date year\n",
    "\n",
    "month_s = 1   #start date month\n",
    "day_s = 1      #start date day\n",
    "year_s = 2013  #start date year ##!!3 years before 2016 for mgrs_fires_past3yrs rolling average\n",
    "\n",
    "month_e = 12  #end date month\n",
    "day_e = 31     #end date day\n",
    "year_e = 2020  #end date year\n",
    "\n",
    "########### function to set WeatherCall time ##########################\n",
    "def t(year_s,month_s,day_s,year_e,month_e,day_e):\n",
    "    \n",
    "    #start date +1day\n",
    "    startdate = dt.datetime(year_s,month_s,day_s) + dt.timedelta(days=1) \n",
    "    \n",
    "    #end date +1day\n",
    "    enddate = dt.datetime(year_e,month_e,day_e) + dt.timedelta(days=1) \n",
    "    \n",
    "    #interval hours = 24 for daily data\n",
    "    interval = dt.timedelta(hours=24)\n",
    "    \n",
    "    time = startdate,enddate,interval\n",
    "    \n",
    "    return time\n",
    "########################################################################\n",
    "\n",
    "time = t(year_s,month_s,day_s,year_e,month_e,day_e)"
   ]
  },
  {
   "cell_type": "markdown",
   "id": "efb5f4f8-cddc-4ccf-b859-309db7f3bf85",
   "metadata": {},
   "source": [
    "### Set parameters you want to return\n",
    "\n",
    "Use the code below to set the values of the parameters you want the api to return.Temperature and other parameters available that can be queried for 24 h periods, like dew point and relative humidity also 24 h precipitation sums can be queried. \n",
    "* Parameters that can be called are found in the Metomatics Documentation here: https://www.meteomatics.com/en/api/available-parameters/"
   ]
  },
  {
   "cell_type": "code",
   "execution_count": 6,
   "id": "3ca99aab-4854-4e3f-a199-31fc6e2bb9d8",
   "metadata": {},
   "outputs": [],
   "source": [
    "parameters = ['t_mean_2m_24h:F', 't_min_2m_24h:F','t_max_2m_24h:F','precip_24h:mm','sunshine_duration_24h:min','drought_index:idx','soil_moisture_index_-15cm:idx','soil_type:idx','wind_speed_2m:mph','elevation:m']"
   ]
  },
  {
   "cell_type": "markdown",
   "id": "fbe4bf67-650c-4b0b-928e-9a130f9fe525",
   "metadata": {},
   "source": [
    "# Call Meteomatics API with WeatherCall\n",
    "\n",
    "**Run the code below to call the Metomatics API after setting location, time, and parameters above.**\n"
   ]
  },
  {
   "cell_type": "code",
   "execution_count": 7,
   "id": "9e29cb43-a810-4caa-be13-0b964bda2d68",
   "metadata": {},
   "outputs": [
    {
     "output_type": "execute_result",
     "data": {
      "text/plain": [
       "         lat         lon  t_mean_2m_24h:F  t_min_2m_24h:F  t_max_2m_24h:F  \\\n",
       "0  33.705267 -118.079125             54.0            43.3            64.6   \n",
       "1  33.705267 -118.079125             54.8            47.9            62.9   \n",
       "2  33.705267 -118.079125             54.8            47.1            62.3   \n",
       "3  33.705267 -118.079125             57.4            52.7            63.5   \n",
       "4  33.705267 -118.079125             57.6            54.2            62.8   \n",
       "\n",
       "   precip_24h:mm  sunshine_duration_24h:min  drought_index:idx  \\\n",
       "0           0.00                      589.8               -1.0   \n",
       "1           0.00                      431.7               -2.0   \n",
       "2           0.00                      584.2               -3.0   \n",
       "3           1.61                      242.0               -2.0   \n",
       "4          21.89                      129.9               -1.0   \n",
       "\n",
       "   soil_moisture_index_-15cm:idx  soil_type:idx  wind_speed_2m:mph  \\\n",
       "0                            NaN            NaN                4.1   \n",
       "1                            NaN            NaN                4.2   \n",
       "2                            NaN            NaN                8.0   \n",
       "3                            NaN            NaN                6.5   \n",
       "4                            NaN            NaN                8.7   \n",
       "\n",
       "   elevation:m                      date  \n",
       "0          0.0 2016-01-01 00:00:00+00:00  \n",
       "1          0.0 2016-01-02 00:00:00+00:00  \n",
       "2          0.0 2016-01-03 00:00:00+00:00  \n",
       "3          0.0 2016-01-04 00:00:00+00:00  \n",
       "4          0.0 2016-01-05 00:00:00+00:00  "
      ],
      "text/html": "<div>\n<style scoped>\n    .dataframe tbody tr th:only-of-type {\n        vertical-align: middle;\n    }\n\n    .dataframe tbody tr th {\n        vertical-align: top;\n    }\n\n    .dataframe thead th {\n        text-align: right;\n    }\n</style>\n<table border=\"1\" class=\"dataframe\">\n  <thead>\n    <tr style=\"text-align: right;\">\n      <th></th>\n      <th>lat</th>\n      <th>lon</th>\n      <th>t_mean_2m_24h:F</th>\n      <th>t_min_2m_24h:F</th>\n      <th>t_max_2m_24h:F</th>\n      <th>precip_24h:mm</th>\n      <th>sunshine_duration_24h:min</th>\n      <th>drought_index:idx</th>\n      <th>soil_moisture_index_-15cm:idx</th>\n      <th>soil_type:idx</th>\n      <th>wind_speed_2m:mph</th>\n      <th>elevation:m</th>\n      <th>date</th>\n    </tr>\n  </thead>\n  <tbody>\n    <tr>\n      <th>0</th>\n      <td>33.705267</td>\n      <td>-118.079125</td>\n      <td>54.0</td>\n      <td>43.3</td>\n      <td>64.6</td>\n      <td>0.00</td>\n      <td>589.8</td>\n      <td>-1.0</td>\n      <td>NaN</td>\n      <td>NaN</td>\n      <td>4.1</td>\n      <td>0.0</td>\n      <td>2016-01-01 00:00:00+00:00</td>\n    </tr>\n    <tr>\n      <th>1</th>\n      <td>33.705267</td>\n      <td>-118.079125</td>\n      <td>54.8</td>\n      <td>47.9</td>\n      <td>62.9</td>\n      <td>0.00</td>\n      <td>431.7</td>\n      <td>-2.0</td>\n      <td>NaN</td>\n      <td>NaN</td>\n      <td>4.2</td>\n      <td>0.0</td>\n      <td>2016-01-02 00:00:00+00:00</td>\n    </tr>\n    <tr>\n      <th>2</th>\n      <td>33.705267</td>\n      <td>-118.079125</td>\n      <td>54.8</td>\n      <td>47.1</td>\n      <td>62.3</td>\n      <td>0.00</td>\n      <td>584.2</td>\n      <td>-3.0</td>\n      <td>NaN</td>\n      <td>NaN</td>\n      <td>8.0</td>\n      <td>0.0</td>\n      <td>2016-01-03 00:00:00+00:00</td>\n    </tr>\n    <tr>\n      <th>3</th>\n      <td>33.705267</td>\n      <td>-118.079125</td>\n      <td>57.4</td>\n      <td>52.7</td>\n      <td>63.5</td>\n      <td>1.61</td>\n      <td>242.0</td>\n      <td>-2.0</td>\n      <td>NaN</td>\n      <td>NaN</td>\n      <td>6.5</td>\n      <td>0.0</td>\n      <td>2016-01-04 00:00:00+00:00</td>\n    </tr>\n    <tr>\n      <th>4</th>\n      <td>33.705267</td>\n      <td>-118.079125</td>\n      <td>57.6</td>\n      <td>54.2</td>\n      <td>62.8</td>\n      <td>21.89</td>\n      <td>129.9</td>\n      <td>-1.0</td>\n      <td>NaN</td>\n      <td>NaN</td>\n      <td>8.7</td>\n      <td>0.0</td>\n      <td>2016-01-05 00:00:00+00:00</td>\n    </tr>\n  </tbody>\n</table>\n</div>"
     },
     "metadata": {},
     "execution_count": 7
    }
   ],
   "source": [
    "#Call API\n",
    "# results = WeatherCall(mgrs_test,parameters,time)\n",
    "results = WeatherCall(mgrs_locations,parameters,time)\n",
    "\n",
    "#View Results\n",
    "results.head()"
   ]
  },
  {
   "cell_type": "code",
   "execution_count": 8,
   "metadata": {},
   "outputs": [
    {
     "output_type": "execute_result",
     "data": {
      "text/plain": [
       "            lat         lon  t_mean_2m_24h:F  t_min_2m_24h:F  t_max_2m_24h:F  \\\n",
       "0     33.705267 -118.079125             54.0            43.3            64.6   \n",
       "1     33.705267 -118.079125             54.8            47.9            62.9   \n",
       "2     33.705267 -118.079125             54.8            47.1            62.3   \n",
       "3     33.705267 -118.079125             57.4            52.7            63.5   \n",
       "4     33.705267 -118.079125             57.6            54.2            62.8   \n",
       "...         ...         ...              ...             ...             ...   \n",
       "9130  33.167642 -117.536254             57.6            55.4            60.2   \n",
       "9131  33.167642 -117.536254             56.8            54.2            58.8   \n",
       "9132  33.167642 -117.536254             54.8            52.4            60.6   \n",
       "9133  33.167642 -117.536254             57.0            52.9            60.8   \n",
       "9134  33.167642 -117.536254             56.9            54.5            59.6   \n",
       "\n",
       "      precip_24h:mm  sunshine_duration_24h:min  drought_index:idx  \\\n",
       "0              0.00                      589.8               -1.0   \n",
       "1              0.00                      431.7               -2.0   \n",
       "2              0.00                      584.2               -3.0   \n",
       "3              1.61                      242.0               -2.0   \n",
       "4             21.89                      129.9               -1.0   \n",
       "...             ...                        ...                ...   \n",
       "9130           0.00                      187.9               -4.0   \n",
       "9131           7.38                      283.2               -4.0   \n",
       "9132          10.16                      514.3               -4.0   \n",
       "9133           0.00                      599.0               -4.0   \n",
       "9134           0.00                      539.5               -4.0   \n",
       "\n",
       "      soil_moisture_index_-15cm:idx  soil_type:idx  wind_speed_2m:mph  \\\n",
       "0                               NaN            NaN                4.1   \n",
       "1                               NaN            NaN                4.2   \n",
       "2                               NaN            NaN                8.0   \n",
       "3                               NaN            NaN                6.5   \n",
       "4                               NaN            NaN                8.7   \n",
       "...                             ...            ...                ...   \n",
       "9130                            NaN            NaN                4.9   \n",
       "9131                            NaN            NaN               11.4   \n",
       "9132                            NaN            NaN               12.2   \n",
       "9133                            NaN            NaN                5.2   \n",
       "9134                            NaN            NaN                7.0   \n",
       "\n",
       "      elevation:m                      date  \n",
       "0             0.0 2016-01-01 00:00:00+00:00  \n",
       "1             0.0 2016-01-02 00:00:00+00:00  \n",
       "2             0.0 2016-01-03 00:00:00+00:00  \n",
       "3             0.0 2016-01-04 00:00:00+00:00  \n",
       "4             0.0 2016-01-05 00:00:00+00:00  \n",
       "...           ...                       ...  \n",
       "9130          0.0 2020-12-27 00:00:00+00:00  \n",
       "9131          0.0 2020-12-28 00:00:00+00:00  \n",
       "9132          0.0 2020-12-29 00:00:00+00:00  \n",
       "9133          0.0 2020-12-30 00:00:00+00:00  \n",
       "9134          0.0 2020-12-31 00:00:00+00:00  \n",
       "\n",
       "[703395 rows x 13 columns]"
      ],
      "text/html": "<div>\n<style scoped>\n    .dataframe tbody tr th:only-of-type {\n        vertical-align: middle;\n    }\n\n    .dataframe tbody tr th {\n        vertical-align: top;\n    }\n\n    .dataframe thead th {\n        text-align: right;\n    }\n</style>\n<table border=\"1\" class=\"dataframe\">\n  <thead>\n    <tr style=\"text-align: right;\">\n      <th></th>\n      <th>lat</th>\n      <th>lon</th>\n      <th>t_mean_2m_24h:F</th>\n      <th>t_min_2m_24h:F</th>\n      <th>t_max_2m_24h:F</th>\n      <th>precip_24h:mm</th>\n      <th>sunshine_duration_24h:min</th>\n      <th>drought_index:idx</th>\n      <th>soil_moisture_index_-15cm:idx</th>\n      <th>soil_type:idx</th>\n      <th>wind_speed_2m:mph</th>\n      <th>elevation:m</th>\n      <th>date</th>\n    </tr>\n  </thead>\n  <tbody>\n    <tr>\n      <th>0</th>\n      <td>33.705267</td>\n      <td>-118.079125</td>\n      <td>54.0</td>\n      <td>43.3</td>\n      <td>64.6</td>\n      <td>0.00</td>\n      <td>589.8</td>\n      <td>-1.0</td>\n      <td>NaN</td>\n      <td>NaN</td>\n      <td>4.1</td>\n      <td>0.0</td>\n      <td>2016-01-01 00:00:00+00:00</td>\n    </tr>\n    <tr>\n      <th>1</th>\n      <td>33.705267</td>\n      <td>-118.079125</td>\n      <td>54.8</td>\n      <td>47.9</td>\n      <td>62.9</td>\n      <td>0.00</td>\n      <td>431.7</td>\n      <td>-2.0</td>\n      <td>NaN</td>\n      <td>NaN</td>\n      <td>4.2</td>\n      <td>0.0</td>\n      <td>2016-01-02 00:00:00+00:00</td>\n    </tr>\n    <tr>\n      <th>2</th>\n      <td>33.705267</td>\n      <td>-118.079125</td>\n      <td>54.8</td>\n      <td>47.1</td>\n      <td>62.3</td>\n      <td>0.00</td>\n      <td>584.2</td>\n      <td>-3.0</td>\n      <td>NaN</td>\n      <td>NaN</td>\n      <td>8.0</td>\n      <td>0.0</td>\n      <td>2016-01-03 00:00:00+00:00</td>\n    </tr>\n    <tr>\n      <th>3</th>\n      <td>33.705267</td>\n      <td>-118.079125</td>\n      <td>57.4</td>\n      <td>52.7</td>\n      <td>63.5</td>\n      <td>1.61</td>\n      <td>242.0</td>\n      <td>-2.0</td>\n      <td>NaN</td>\n      <td>NaN</td>\n      <td>6.5</td>\n      <td>0.0</td>\n      <td>2016-01-04 00:00:00+00:00</td>\n    </tr>\n    <tr>\n      <th>4</th>\n      <td>33.705267</td>\n      <td>-118.079125</td>\n      <td>57.6</td>\n      <td>54.2</td>\n      <td>62.8</td>\n      <td>21.89</td>\n      <td>129.9</td>\n      <td>-1.0</td>\n      <td>NaN</td>\n      <td>NaN</td>\n      <td>8.7</td>\n      <td>0.0</td>\n      <td>2016-01-05 00:00:00+00:00</td>\n    </tr>\n    <tr>\n      <th>...</th>\n      <td>...</td>\n      <td>...</td>\n      <td>...</td>\n      <td>...</td>\n      <td>...</td>\n      <td>...</td>\n      <td>...</td>\n      <td>...</td>\n      <td>...</td>\n      <td>...</td>\n      <td>...</td>\n      <td>...</td>\n      <td>...</td>\n    </tr>\n    <tr>\n      <th>9130</th>\n      <td>33.167642</td>\n      <td>-117.536254</td>\n      <td>57.6</td>\n      <td>55.4</td>\n      <td>60.2</td>\n      <td>0.00</td>\n      <td>187.9</td>\n      <td>-4.0</td>\n      <td>NaN</td>\n      <td>NaN</td>\n      <td>4.9</td>\n      <td>0.0</td>\n      <td>2020-12-27 00:00:00+00:00</td>\n    </tr>\n    <tr>\n      <th>9131</th>\n      <td>33.167642</td>\n      <td>-117.536254</td>\n      <td>56.8</td>\n      <td>54.2</td>\n      <td>58.8</td>\n      <td>7.38</td>\n      <td>283.2</td>\n      <td>-4.0</td>\n      <td>NaN</td>\n      <td>NaN</td>\n      <td>11.4</td>\n      <td>0.0</td>\n      <td>2020-12-28 00:00:00+00:00</td>\n    </tr>\n    <tr>\n      <th>9132</th>\n      <td>33.167642</td>\n      <td>-117.536254</td>\n      <td>54.8</td>\n      <td>52.4</td>\n      <td>60.6</td>\n      <td>10.16</td>\n      <td>514.3</td>\n      <td>-4.0</td>\n      <td>NaN</td>\n      <td>NaN</td>\n      <td>12.2</td>\n      <td>0.0</td>\n      <td>2020-12-29 00:00:00+00:00</td>\n    </tr>\n    <tr>\n      <th>9133</th>\n      <td>33.167642</td>\n      <td>-117.536254</td>\n      <td>57.0</td>\n      <td>52.9</td>\n      <td>60.8</td>\n      <td>0.00</td>\n      <td>599.0</td>\n      <td>-4.0</td>\n      <td>NaN</td>\n      <td>NaN</td>\n      <td>5.2</td>\n      <td>0.0</td>\n      <td>2020-12-30 00:00:00+00:00</td>\n    </tr>\n    <tr>\n      <th>9134</th>\n      <td>33.167642</td>\n      <td>-117.536254</td>\n      <td>56.9</td>\n      <td>54.5</td>\n      <td>59.6</td>\n      <td>0.00</td>\n      <td>539.5</td>\n      <td>-4.0</td>\n      <td>NaN</td>\n      <td>NaN</td>\n      <td>7.0</td>\n      <td>0.0</td>\n      <td>2020-12-31 00:00:00+00:00</td>\n    </tr>\n  </tbody>\n</table>\n<p>703395 rows × 13 columns</p>\n</div>"
     },
     "metadata": {},
     "execution_count": 8
    }
   ],
   "source": [
    "results"
   ]
  },
  {
   "cell_type": "code",
   "execution_count": 12,
   "metadata": {},
   "outputs": [
    {
     "output_type": "stream",
     "name": "stdout",
     "text": [
      "<class 'pandas.core.frame.DataFrame'>\nInt64Index: 703395 entries, 0 to 9134\nData columns (total 13 columns):\n #   Column                         Non-Null Count   Dtype              \n---  ------                         --------------   -----              \n 0   lat                            703395 non-null  float64            \n 1   lon                            703395 non-null  float64            \n 2   t_mean_2m_24h:F                703395 non-null  float64            \n 3   t_min_2m_24h:F                 703395 non-null  float64            \n 4   t_max_2m_24h:F                 703395 non-null  float64            \n 5   precip_24h:mm                  703395 non-null  float64            \n 6   sunshine_duration_24h:min      703395 non-null  float64            \n 7   drought_index:idx              703395 non-null  float64            \n 8   soil_moisture_index_-15cm:idx  626661 non-null  float64            \n 9   soil_type:idx                  630315 non-null  float64            \n 10  wind_speed_2m:mph              703395 non-null  float64            \n 11  elevation:m                    703395 non-null  float64            \n 12  date                           703395 non-null  datetime64[ns, UTC]\ndtypes: datetime64[ns, UTC](1), float64(12)\nmemory usage: 75.1 MB\n"
     ]
    }
   ],
   "source": [
    "results.info()"
   ]
  },
  {
   "cell_type": "code",
   "execution_count": 13,
   "metadata": {},
   "outputs": [],
   "source": [
    "weather = results.copy()\n",
    "weather.to_csv('2016to2020_Weather_v1.csv')"
   ]
  }
 ],
 "metadata": {
  "kernelspec": {
   "name": "python3",
   "display_name": "Python 3.8.10 64-bit ('base': conda)"
  },
  "language_info": {
   "codemirror_mode": {
    "name": "ipython",
    "version": 3
   },
   "file_extension": ".py",
   "mimetype": "text/x-python",
   "name": "python",
   "nbconvert_exporter": "python",
   "pygments_lexer": "ipython3",
   "version": "3.8.10"
  },
  "interpreter": {
   "hash": "7a8cd81a1699e7e1c05d771835f6490edbb9a81a456e457283de8180856282df"
  }
 },
 "nbformat": 4,
 "nbformat_minor": 5
}