{
 "metadata": {
  "language_info": {
   "codemirror_mode": {
    "name": "ipython",
    "version": 3
   },
   "file_extension": ".py",
   "mimetype": "text/x-python",
   "name": "python",
   "nbconvert_exporter": "python",
   "pygments_lexer": "ipython3",
   "version": "3.8.10"
  },
  "orig_nbformat": 2,
  "kernelspec": {
   "name": "python3810jvsc74a57bd07a8cd81a1699e7e1c05d771835f6490edbb9a81a456e457283de8180856282df",
   "display_name": "Python 3.8.10 64-bit ('base': conda)"
  }
 },
 "nbformat": 4,
 "nbformat_minor": 2,
 "cells": [
  {
   "cell_type": "code",
   "execution_count": 1,
   "metadata": {},
   "outputs": [],
   "source": [
    "import numpy as np\n",
    "import pandas as pd"
   ]
  },
  {
   "cell_type": "code",
   "execution_count": 2,
   "metadata": {},
   "outputs": [],
   "source": [
    "# filter out winter months where fires not likely\n",
    "MONTHS_USED = ['April', 'May', 'June', 'July', 'August', 'September', 'October','November']\n",
    "\n",
    "def missingByCol(df): #count missing values by column\n",
    "    for col in df.columns:\n",
    "        if df[col].isna().sum() != 0:\n",
    "            print(col, df[col].isna().sum())"
   ]
  },
  {
   "source": [
    "Get weather_clean"
   ],
   "cell_type": "markdown",
   "metadata": {}
  },
  {
   "cell_type": "code",
   "execution_count": 3,
   "metadata": {},
   "outputs": [
    {
     "output_type": "stream",
     "name": "stdout",
     "text": [
      "<class 'pandas.core.frame.DataFrame'>\nRangeIndex: 2249940 entries, 0 to 2249939\nData columns (total 36 columns):\n #   Column               Dtype         \n---  ------               -----         \n 0   date                 datetime64[ns]\n 1   mgrs_10km            object        \n 2   lat                  float64       \n 3   lon                  float64       \n 4   tavg                 float64       \n 5   tmin                 float64       \n 6   tmax                 float64       \n 7   prcp                 float64       \n 8   sun                  float64       \n 9   drought_index        float64       \n 10  wind_speed           float64       \n 11  elevation            float64       \n 12  soil_type            float64       \n 13  soil_moisture        float64       \n 14  prcp_rolling_3day    float64       \n 15  prcp_rolling_7day    float64       \n 16  prcp_rolling_14day   float64       \n 17  tavg_rolling_3day    float64       \n 18  tavg_rolling_7day    float64       \n 19  tavg_rolling_14day   float64       \n 20  tmin_rolling_3day    float64       \n 21  tmin_rolling_7day    float64       \n 22  tmin_rolling_14day   float64       \n 23  tmax_rolling_3day    float64       \n 24  tmax_rolling_7day    float64       \n 25  tmax_rolling_14day   float64       \n 26  sun_rolling_3day     float64       \n 27  sun_rolling_7day     float64       \n 28  sun_rolling_14day    float64       \n 29  wind_speed_3day      float64       \n 30  wind_speed_7day      float64       \n 31  wind_speed_14day     float64       \n 32  soil_moisture_3day   float64       \n 33  soil_moisture_7day   float64       \n 34  soil_moisture_14day  float64       \n 35  pop_density_sqmile   float64       \ndtypes: datetime64[ns](1), float64(34), object(1)\nmemory usage: 618.0+ MB\n"
     ]
    }
   ],
   "source": [
    "weather_clean = pd.read_csv('weather_clean.csv')\n",
    "weather_clean.date = pd.to_datetime(pd.to_datetime(weather_clean['date']).dt.date)\n",
    "weather_clean.info()"
   ]
  },
  {
   "cell_type": "code",
   "execution_count": 4,
   "metadata": {},
   "outputs": [],
   "source": [
    "# weather_clean = weather_clean.sort_values(by = ['mgrs_10km','date'])\n",
    "# weather_clean.reset_index(drop=True, inplace = True)\n",
    "# weather_clean.info()"
   ]
  },
  {
   "source": [
    "Get fires_clean"
   ],
   "cell_type": "markdown",
   "metadata": {}
  },
  {
   "cell_type": "code",
   "execution_count": 5,
   "metadata": {},
   "outputs": [
    {
     "output_type": "stream",
     "name": "stdout",
     "text": [
      "<class 'pandas.core.frame.DataFrame'>\nRangeIndex: 2250400 entries, 0 to 2250399\nData columns (total 6 columns):\n #   Column               Dtype         \n---  ------               -----         \n 0   mgrs_10km            object        \n 1   lat_10km             float64       \n 2   lon_10km             float64       \n 3   date                 datetime64[ns]\n 4   is_fire              int64         \n 5   mgrs_fires_past3yrs  float64       \ndtypes: datetime64[ns](1), float64(3), int64(1), object(1)\nmemory usage: 103.0+ MB\n"
     ]
    }
   ],
   "source": [
    "fires_clean = pd.read_csv('fires_clean.csv')\n",
    "fires_clean.date = pd.to_datetime(pd.to_datetime(fires_clean['date']).dt.date)\n",
    "fires_clean.info()"
   ]
  },
  {
   "cell_type": "code",
   "execution_count": 6,
   "metadata": {},
   "outputs": [],
   "source": [
    "# fires_clean = fires_clean.sort_values(by = ['mgrs_10km','date'])\n",
    "# fires_clean.reset_index(drop=True, inplace = True)\n",
    "# fires_clean.info()"
   ]
  },
  {
   "source": [
    "Merge Data"
   ],
   "cell_type": "markdown",
   "metadata": {}
  },
  {
   "cell_type": "code",
   "execution_count": 7,
   "metadata": {},
   "outputs": [
    {
     "output_type": "stream",
     "name": "stdout",
     "text": [
      "<class 'pandas.core.frame.DataFrame'>\nInt64Index: 2250454 entries, 0 to 2250453\nData columns (total 40 columns):\n #   Column               Dtype         \n---  ------               -----         \n 0   date                 datetime64[ns]\n 1   mgrs_10km            object        \n 2   lat                  float64       \n 3   lon                  float64       \n 4   tavg                 float64       \n 5   tmin                 float64       \n 6   tmax                 float64       \n 7   prcp                 float64       \n 8   sun                  float64       \n 9   drought_index        float64       \n 10  wind_speed           float64       \n 11  elevation            float64       \n 12  soil_type            float64       \n 13  soil_moisture        float64       \n 14  prcp_rolling_3day    float64       \n 15  prcp_rolling_7day    float64       \n 16  prcp_rolling_14day   float64       \n 17  tavg_rolling_3day    float64       \n 18  tavg_rolling_7day    float64       \n 19  tavg_rolling_14day   float64       \n 20  tmin_rolling_3day    float64       \n 21  tmin_rolling_7day    float64       \n 22  tmin_rolling_14day   float64       \n 23  tmax_rolling_3day    float64       \n 24  tmax_rolling_7day    float64       \n 25  tmax_rolling_14day   float64       \n 26  sun_rolling_3day     float64       \n 27  sun_rolling_7day     float64       \n 28  sun_rolling_14day    float64       \n 29  wind_speed_3day      float64       \n 30  wind_speed_7day      float64       \n 31  wind_speed_14day     float64       \n 32  soil_moisture_3day   float64       \n 33  soil_moisture_7day   float64       \n 34  soil_moisture_14day  float64       \n 35  pop_density_sqmile   float64       \n 36  lat_10km             float64       \n 37  lon_10km             float64       \n 38  is_fire              int64         \n 39  mgrs_fires_past3yrs  float64       \ndtypes: datetime64[ns](1), float64(37), int64(1), object(1)\nmemory usage: 704.0+ MB\n"
     ]
    }
   ],
   "source": [
    "data_merged = weather_clean.merge(fires_clean,on=('mgrs_10km','date'),how='inner')\n",
    "data_merged.info()"
   ]
  },
  {
   "cell_type": "code",
   "execution_count": 8,
   "metadata": {},
   "outputs": [
    {
     "output_type": "execute_result",
     "data": {
      "text/plain": [
       "9583"
      ]
     },
     "metadata": {},
     "execution_count": 8
    }
   ],
   "source": [
    "np.sum(data_merged.is_fire)"
   ]
  },
  {
   "cell_type": "code",
   "execution_count": 9,
   "metadata": {},
   "outputs": [
    {
     "output_type": "execute_result",
     "data": {
      "text/plain": [
       "385"
      ]
     },
     "metadata": {},
     "execution_count": 9
    }
   ],
   "source": [
    "len(data_merged.mgrs_10km.unique())"
   ]
  },
  {
   "cell_type": "code",
   "execution_count": 10,
   "metadata": {},
   "outputs": [
    {
     "output_type": "execute_result",
     "data": {
      "text/plain": [
       "              date mgrs_10km        lat         lon  tavg  tmin  tmax  prcp  \\\n",
       "32628   2007-08-30   11SMT08  33.615982 -117.970214  72.3  67.5  79.1  0.00   \n",
       "32629   2007-08-30   11SMT08  33.706163 -117.971227  74.5  67.6  85.0  0.00   \n",
       "32990   2008-04-26   11SMT08  33.615982 -117.970214  67.6  58.7  78.6  0.00   \n",
       "33073   2008-07-18   11SMT08  33.615982 -117.970214  67.5  63.9  72.1  0.00   \n",
       "33839   2010-08-23   11SMT08  33.615982 -117.970214  69.6  61.9  78.8  0.00   \n",
       "...            ...       ...        ...         ...   ...   ...   ...   ...   \n",
       "2218091 2012-02-13   11SMS81  33.702016 -118.402788  55.5  53.3  57.9  0.00   \n",
       "2218092 2012-02-13   11SMS81  33.704278 -118.187018  56.1  53.4  58.6  0.13   \n",
       "2219071 2013-01-05   11SMS81  32.987978 -117.321101  52.2  44.3  61.3  0.00   \n",
       "2219072 2013-01-05   11SMS81  33.702016 -118.402788  54.4  47.6  61.3  0.00   \n",
       "2219073 2013-01-05   11SMS81  33.704278 -118.187018  53.8  44.6  62.8  0.00   \n",
       "\n",
       "           sun  drought_index  ...  wind_speed_7day  wind_speed_14day  \\\n",
       "32628    700.5           -2.0  ...         7.642857          6.814286   \n",
       "32629    700.0           -3.0  ...         6.814286          6.328571   \n",
       "32990    802.0           -3.0  ...         8.157143          7.914286   \n",
       "33073    664.7           -2.0  ...         6.700000          6.128571   \n",
       "33839    782.7           -1.0  ...         6.700000          6.921429   \n",
       "...        ...            ...  ...              ...               ...   \n",
       "2218091  480.8           -2.0  ...         9.771429          7.635714   \n",
       "2218092  411.3           -2.0  ...         8.457143          6.721429   \n",
       "2219071  599.4            0.0  ...         4.028571          4.478571   \n",
       "2219072  600.0           -1.0  ...         4.928571          5.207143   \n",
       "2219073  600.0           -1.0  ...         4.185714          4.442857   \n",
       "\n",
       "         soil_moisture_3day  soil_moisture_7day  soil_moisture_14day  \\\n",
       "32628              0.068733            0.068733             0.068733   \n",
       "32629              0.018333            0.020571             0.022929   \n",
       "32990              0.068733            0.068733             0.068733   \n",
       "33073              0.068733            0.068733             0.068733   \n",
       "33839              0.068733            0.068733             0.068733   \n",
       "...                     ...                 ...                  ...   \n",
       "2218091            0.000000            0.000000             0.000000   \n",
       "2218092            0.000000            0.000000             0.000000   \n",
       "2219071            0.077000            0.110857             0.122857   \n",
       "2219072            0.000000            0.000000             0.000000   \n",
       "2219073            0.000000            0.000000             0.000000   \n",
       "\n",
       "         pop_density_sqmile   lat_10km    lon_10km  is_fire  \\\n",
       "32628           3696.918388  34.156138 -118.084827        1   \n",
       "32629           3696.918388  34.156138 -118.084827        1   \n",
       "32990           3696.918388  34.156138 -118.084827        1   \n",
       "33073           3696.918388  34.156138 -118.084827        1   \n",
       "33839           3696.918388  34.156138 -118.084827        1   \n",
       "...                     ...        ...         ...      ...   \n",
       "2218091        25481.522340  32.627384 -117.213205        1   \n",
       "2218092        25481.522340  32.627384 -117.213205        1   \n",
       "2219071        25481.522340  32.627384 -117.213205        1   \n",
       "2219072        25481.522340  32.627384 -117.213205        1   \n",
       "2219073        25481.522340  32.627384 -117.213205        1   \n",
       "\n",
       "         mgrs_fires_past3yrs  \n",
       "32628                    1.0  \n",
       "32629                    1.0  \n",
       "32990                    2.0  \n",
       "33073                    3.0  \n",
       "33839                    4.0  \n",
       "...                      ...  \n",
       "2218091                  2.0  \n",
       "2218092                  2.0  \n",
       "2219071                  3.0  \n",
       "2219072                  3.0  \n",
       "2219073                  3.0  \n",
       "\n",
       "[9583 rows x 40 columns]"
      ],
      "text/html": "<div>\n<style scoped>\n    .dataframe tbody tr th:only-of-type {\n        vertical-align: middle;\n    }\n\n    .dataframe tbody tr th {\n        vertical-align: top;\n    }\n\n    .dataframe thead th {\n        text-align: right;\n    }\n</style>\n<table border=\"1\" class=\"dataframe\">\n  <thead>\n    <tr style=\"text-align: right;\">\n      <th></th>\n      <th>date</th>\n      <th>mgrs_10km</th>\n      <th>lat</th>\n      <th>lon</th>\n      <th>tavg</th>\n      <th>tmin</th>\n      <th>tmax</th>\n      <th>prcp</th>\n      <th>sun</th>\n      <th>drought_index</th>\n      <th>...</th>\n      <th>wind_speed_7day</th>\n      <th>wind_speed_14day</th>\n      <th>soil_moisture_3day</th>\n      <th>soil_moisture_7day</th>\n      <th>soil_moisture_14day</th>\n      <th>pop_density_sqmile</th>\n      <th>lat_10km</th>\n      <th>lon_10km</th>\n      <th>is_fire</th>\n      <th>mgrs_fires_past3yrs</th>\n    </tr>\n  </thead>\n  <tbody>\n    <tr>\n      <th>32628</th>\n      <td>2007-08-30</td>\n      <td>11SMT08</td>\n      <td>33.615982</td>\n      <td>-117.970214</td>\n      <td>72.3</td>\n      <td>67.5</td>\n      <td>79.1</td>\n      <td>0.00</td>\n      <td>700.5</td>\n      <td>-2.0</td>\n      <td>...</td>\n      <td>7.642857</td>\n      <td>6.814286</td>\n      <td>0.068733</td>\n      <td>0.068733</td>\n      <td>0.068733</td>\n      <td>3696.918388</td>\n      <td>34.156138</td>\n      <td>-118.084827</td>\n      <td>1</td>\n      <td>1.0</td>\n    </tr>\n    <tr>\n      <th>32629</th>\n      <td>2007-08-30</td>\n      <td>11SMT08</td>\n      <td>33.706163</td>\n      <td>-117.971227</td>\n      <td>74.5</td>\n      <td>67.6</td>\n      <td>85.0</td>\n      <td>0.00</td>\n      <td>700.0</td>\n      <td>-3.0</td>\n      <td>...</td>\n      <td>6.814286</td>\n      <td>6.328571</td>\n      <td>0.018333</td>\n      <td>0.020571</td>\n      <td>0.022929</td>\n      <td>3696.918388</td>\n      <td>34.156138</td>\n      <td>-118.084827</td>\n      <td>1</td>\n      <td>1.0</td>\n    </tr>\n    <tr>\n      <th>32990</th>\n      <td>2008-04-26</td>\n      <td>11SMT08</td>\n      <td>33.615982</td>\n      <td>-117.970214</td>\n      <td>67.6</td>\n      <td>58.7</td>\n      <td>78.6</td>\n      <td>0.00</td>\n      <td>802.0</td>\n      <td>-3.0</td>\n      <td>...</td>\n      <td>8.157143</td>\n      <td>7.914286</td>\n      <td>0.068733</td>\n      <td>0.068733</td>\n      <td>0.068733</td>\n      <td>3696.918388</td>\n      <td>34.156138</td>\n      <td>-118.084827</td>\n      <td>1</td>\n      <td>2.0</td>\n    </tr>\n    <tr>\n      <th>33073</th>\n      <td>2008-07-18</td>\n      <td>11SMT08</td>\n      <td>33.615982</td>\n      <td>-117.970214</td>\n      <td>67.5</td>\n      <td>63.9</td>\n      <td>72.1</td>\n      <td>0.00</td>\n      <td>664.7</td>\n      <td>-2.0</td>\n      <td>...</td>\n      <td>6.700000</td>\n      <td>6.128571</td>\n      <td>0.068733</td>\n      <td>0.068733</td>\n      <td>0.068733</td>\n      <td>3696.918388</td>\n      <td>34.156138</td>\n      <td>-118.084827</td>\n      <td>1</td>\n      <td>3.0</td>\n    </tr>\n    <tr>\n      <th>33839</th>\n      <td>2010-08-23</td>\n      <td>11SMT08</td>\n      <td>33.615982</td>\n      <td>-117.970214</td>\n      <td>69.6</td>\n      <td>61.9</td>\n      <td>78.8</td>\n      <td>0.00</td>\n      <td>782.7</td>\n      <td>-1.0</td>\n      <td>...</td>\n      <td>6.700000</td>\n      <td>6.921429</td>\n      <td>0.068733</td>\n      <td>0.068733</td>\n      <td>0.068733</td>\n      <td>3696.918388</td>\n      <td>34.156138</td>\n      <td>-118.084827</td>\n      <td>1</td>\n      <td>4.0</td>\n    </tr>\n    <tr>\n      <th>...</th>\n      <td>...</td>\n      <td>...</td>\n      <td>...</td>\n      <td>...</td>\n      <td>...</td>\n      <td>...</td>\n      <td>...</td>\n      <td>...</td>\n      <td>...</td>\n      <td>...</td>\n      <td>...</td>\n      <td>...</td>\n      <td>...</td>\n      <td>...</td>\n      <td>...</td>\n      <td>...</td>\n      <td>...</td>\n      <td>...</td>\n      <td>...</td>\n      <td>...</td>\n      <td>...</td>\n    </tr>\n    <tr>\n      <th>2218091</th>\n      <td>2012-02-13</td>\n      <td>11SMS81</td>\n      <td>33.702016</td>\n      <td>-118.402788</td>\n      <td>55.5</td>\n      <td>53.3</td>\n      <td>57.9</td>\n      <td>0.00</td>\n      <td>480.8</td>\n      <td>-2.0</td>\n      <td>...</td>\n      <td>9.771429</td>\n      <td>7.635714</td>\n      <td>0.000000</td>\n      <td>0.000000</td>\n      <td>0.000000</td>\n      <td>25481.522340</td>\n      <td>32.627384</td>\n      <td>-117.213205</td>\n      <td>1</td>\n      <td>2.0</td>\n    </tr>\n    <tr>\n      <th>2218092</th>\n      <td>2012-02-13</td>\n      <td>11SMS81</td>\n      <td>33.704278</td>\n      <td>-118.187018</td>\n      <td>56.1</td>\n      <td>53.4</td>\n      <td>58.6</td>\n      <td>0.13</td>\n      <td>411.3</td>\n      <td>-2.0</td>\n      <td>...</td>\n      <td>8.457143</td>\n      <td>6.721429</td>\n      <td>0.000000</td>\n      <td>0.000000</td>\n      <td>0.000000</td>\n      <td>25481.522340</td>\n      <td>32.627384</td>\n      <td>-117.213205</td>\n      <td>1</td>\n      <td>2.0</td>\n    </tr>\n    <tr>\n      <th>2219071</th>\n      <td>2013-01-05</td>\n      <td>11SMS81</td>\n      <td>32.987978</td>\n      <td>-117.321101</td>\n      <td>52.2</td>\n      <td>44.3</td>\n      <td>61.3</td>\n      <td>0.00</td>\n      <td>599.4</td>\n      <td>0.0</td>\n      <td>...</td>\n      <td>4.028571</td>\n      <td>4.478571</td>\n      <td>0.077000</td>\n      <td>0.110857</td>\n      <td>0.122857</td>\n      <td>25481.522340</td>\n      <td>32.627384</td>\n      <td>-117.213205</td>\n      <td>1</td>\n      <td>3.0</td>\n    </tr>\n    <tr>\n      <th>2219072</th>\n      <td>2013-01-05</td>\n      <td>11SMS81</td>\n      <td>33.702016</td>\n      <td>-118.402788</td>\n      <td>54.4</td>\n      <td>47.6</td>\n      <td>61.3</td>\n      <td>0.00</td>\n      <td>600.0</td>\n      <td>-1.0</td>\n      <td>...</td>\n      <td>4.928571</td>\n      <td>5.207143</td>\n      <td>0.000000</td>\n      <td>0.000000</td>\n      <td>0.000000</td>\n      <td>25481.522340</td>\n      <td>32.627384</td>\n      <td>-117.213205</td>\n      <td>1</td>\n      <td>3.0</td>\n    </tr>\n    <tr>\n      <th>2219073</th>\n      <td>2013-01-05</td>\n      <td>11SMS81</td>\n      <td>33.704278</td>\n      <td>-118.187018</td>\n      <td>53.8</td>\n      <td>44.6</td>\n      <td>62.8</td>\n      <td>0.00</td>\n      <td>600.0</td>\n      <td>-1.0</td>\n      <td>...</td>\n      <td>4.185714</td>\n      <td>4.442857</td>\n      <td>0.000000</td>\n      <td>0.000000</td>\n      <td>0.000000</td>\n      <td>25481.522340</td>\n      <td>32.627384</td>\n      <td>-117.213205</td>\n      <td>1</td>\n      <td>3.0</td>\n    </tr>\n  </tbody>\n</table>\n<p>9583 rows × 40 columns</p>\n</div>"
     },
     "metadata": {},
     "execution_count": 10
    }
   ],
   "source": [
    "data_merged[data_merged['is_fire']==1]"
   ]
  },
  {
   "cell_type": "code",
   "execution_count": 11,
   "metadata": {},
   "outputs": [
    {
     "output_type": "stream",
     "name": "stdout",
     "text": [
      "<class 'pandas.core.frame.DataFrame'>\nInt64Index: 1503508 entries, 182 to 2250363\nData columns (total 40 columns):\n #   Column               Non-Null Count    Dtype         \n---  ------               --------------    -----         \n 0   date                 1503508 non-null  datetime64[ns]\n 1   mgrs_10km            1503508 non-null  object        \n 2   lat                  1503508 non-null  float64       \n 3   lon                  1503508 non-null  float64       \n 4   tavg                 1503508 non-null  float64       \n 5   tmin                 1503508 non-null  float64       \n 6   tmax                 1503508 non-null  float64       \n 7   prcp                 1503508 non-null  float64       \n 8   sun                  1503508 non-null  float64       \n 9   drought_index        1503508 non-null  float64       \n 10  wind_speed           1503508 non-null  float64       \n 11  elevation            1503508 non-null  float64       \n 12  soil_type            1503508 non-null  float64       \n 13  soil_moisture        1503508 non-null  float64       \n 14  prcp_rolling_3day    1503508 non-null  float64       \n 15  prcp_rolling_7day    1503508 non-null  float64       \n 16  prcp_rolling_14day   1503508 non-null  float64       \n 17  tavg_rolling_3day    1503508 non-null  float64       \n 18  tavg_rolling_7day    1503508 non-null  float64       \n 19  tavg_rolling_14day   1503508 non-null  float64       \n 20  tmin_rolling_3day    1503508 non-null  float64       \n 21  tmin_rolling_7day    1503508 non-null  float64       \n 22  tmin_rolling_14day   1503508 non-null  float64       \n 23  tmax_rolling_3day    1503508 non-null  float64       \n 24  tmax_rolling_7day    1503508 non-null  float64       \n 25  tmax_rolling_14day   1503508 non-null  float64       \n 26  sun_rolling_3day     1503508 non-null  float64       \n 27  sun_rolling_7day     1503508 non-null  float64       \n 28  sun_rolling_14day    1503508 non-null  float64       \n 29  wind_speed_3day      1503508 non-null  float64       \n 30  wind_speed_7day      1503508 non-null  float64       \n 31  wind_speed_14day     1503508 non-null  float64       \n 32  soil_moisture_3day   1503508 non-null  float64       \n 33  soil_moisture_7day   1503508 non-null  float64       \n 34  soil_moisture_14day  1503508 non-null  float64       \n 35  pop_density_sqmile   1503508 non-null  float64       \n 36  lat_10km             1503508 non-null  float64       \n 37  lon_10km             1503508 non-null  float64       \n 38  is_fire              1503508 non-null  int64         \n 39  mgrs_fires_past3yrs  1221600 non-null  float64       \ndtypes: datetime64[ns](1), float64(37), int64(1), object(1)\nmemory usage: 470.3+ MB\n"
     ]
    }
   ],
   "source": [
    "# filter out winter months where fires not likely\n",
    "data_merged = data_merged[data_merged.date.dt.month_name().isin(MONTHS_USED)]\n",
    "data_merged.info()"
   ]
  },
  {
   "cell_type": "code",
   "execution_count": 12,
   "metadata": {},
   "outputs": [
    {
     "output_type": "execute_result",
     "data": {
      "text/plain": [
       "8420"
      ]
     },
     "metadata": {},
     "execution_count": 12
    }
   ],
   "source": [
    "np.sum(data_merged.is_fire)"
   ]
  },
  {
   "cell_type": "code",
   "execution_count": 13,
   "metadata": {},
   "outputs": [
    {
     "output_type": "execute_result",
     "data": {
      "text/plain": [
       "385"
      ]
     },
     "metadata": {},
     "execution_count": 13
    }
   ],
   "source": [
    "len(data_merged.mgrs_10km.unique())"
   ]
  },
  {
   "cell_type": "code",
   "execution_count": 14,
   "metadata": {},
   "outputs": [
    {
     "output_type": "stream",
     "name": "stdout",
     "text": [
      "mgrs_fires_past3yrs 281908\n"
     ]
    }
   ],
   "source": [
    "missingByCol(data_merged)"
   ]
  },
  {
   "cell_type": "code",
   "execution_count": 15,
   "metadata": {},
   "outputs": [
    {
     "output_type": "stream",
     "name": "stdout",
     "text": [
      "<class 'pandas.core.frame.DataFrame'>\nRangeIndex: 1221600 entries, 0 to 1221599\nData columns (total 40 columns):\n #   Column               Non-Null Count    Dtype         \n---  ------               --------------    -----         \n 0   date                 1221600 non-null  datetime64[ns]\n 1   mgrs_10km            1221600 non-null  object        \n 2   lat                  1221600 non-null  float64       \n 3   lon                  1221600 non-null  float64       \n 4   tavg                 1221600 non-null  float64       \n 5   tmin                 1221600 non-null  float64       \n 6   tmax                 1221600 non-null  float64       \n 7   prcp                 1221600 non-null  float64       \n 8   sun                  1221600 non-null  float64       \n 9   drought_index        1221600 non-null  float64       \n 10  wind_speed           1221600 non-null  float64       \n 11  elevation            1221600 non-null  float64       \n 12  soil_type            1221600 non-null  float64       \n 13  soil_moisture        1221600 non-null  float64       \n 14  prcp_rolling_3day    1221600 non-null  float64       \n 15  prcp_rolling_7day    1221600 non-null  float64       \n 16  prcp_rolling_14day   1221600 non-null  float64       \n 17  tavg_rolling_3day    1221600 non-null  float64       \n 18  tavg_rolling_7day    1221600 non-null  float64       \n 19  tavg_rolling_14day   1221600 non-null  float64       \n 20  tmin_rolling_3day    1221600 non-null  float64       \n 21  tmin_rolling_7day    1221600 non-null  float64       \n 22  tmin_rolling_14day   1221600 non-null  float64       \n 23  tmax_rolling_3day    1221600 non-null  float64       \n 24  tmax_rolling_7day    1221600 non-null  float64       \n 25  tmax_rolling_14day   1221600 non-null  float64       \n 26  sun_rolling_3day     1221600 non-null  float64       \n 27  sun_rolling_7day     1221600 non-null  float64       \n 28  sun_rolling_14day    1221600 non-null  float64       \n 29  wind_speed_3day      1221600 non-null  float64       \n 30  wind_speed_7day      1221600 non-null  float64       \n 31  wind_speed_14day     1221600 non-null  float64       \n 32  soil_moisture_3day   1221600 non-null  float64       \n 33  soil_moisture_7day   1221600 non-null  float64       \n 34  soil_moisture_14day  1221600 non-null  float64       \n 35  pop_density_sqmile   1221600 non-null  float64       \n 36  lat_10km             1221600 non-null  float64       \n 37  lon_10km             1221600 non-null  float64       \n 38  is_fire              1221600 non-null  int64         \n 39  mgrs_fires_past3yrs  1221600 non-null  float64       \ndtypes: datetime64[ns](1), float64(37), int64(1), object(1)\nmemory usage: 372.8+ MB\n"
     ]
    }
   ],
   "source": [
    "# eliminate nulls from rolling sum mgrs_fires_past3yrs\n",
    "start_date = '2003-01-01'\n",
    "data_merged = data_merged[data_merged['date'] >= start_date]\n",
    "data_merged.reset_index(drop=True,inplace=True)\n",
    "data_merged.info()"
   ]
  },
  {
   "cell_type": "code",
   "execution_count": 16,
   "metadata": {},
   "outputs": [],
   "source": [
    "missingByCol(data_merged)"
   ]
  },
  {
   "cell_type": "code",
   "execution_count": 17,
   "metadata": {},
   "outputs": [
    {
     "output_type": "execute_result",
     "data": {
      "text/plain": [
       "6782"
      ]
     },
     "metadata": {},
     "execution_count": 17
    }
   ],
   "source": [
    "np.sum(data_merged.is_fire)"
   ]
  },
  {
   "cell_type": "code",
   "execution_count": 18,
   "metadata": {},
   "outputs": [
    {
     "output_type": "execute_result",
     "data": {
      "text/plain": [
       "385"
      ]
     },
     "metadata": {},
     "execution_count": 18
    }
   ],
   "source": [
    "len(data_merged.mgrs_10km.unique())"
   ]
  },
  {
   "cell_type": "code",
   "execution_count": 21,
   "metadata": {},
   "outputs": [],
   "source": [
    "# final ordering of columns, remove lat/lon\n",
    "data_merged = data_merged[['date', 'mgrs_10km', 'pop_density_sqmile', 'tavg', 'tmin', 'tmax', 'prcp',\n",
    "       'sun', 'drought_index', 'wind_speed', 'elevation', 'soil_type',\n",
    "       'soil_moisture', 'prcp_rolling_3day', 'prcp_rolling_7day',\n",
    "       'prcp_rolling_14day', 'tavg_rolling_3day', 'tavg_rolling_7day',\n",
    "       'tavg_rolling_14day', 'tmin_rolling_3day', 'tmin_rolling_7day',\n",
    "       'tmin_rolling_14day', 'tmax_rolling_3day', 'tmax_rolling_7day',\n",
    "       'tmax_rolling_14day', 'sun_rolling_3day', 'sun_rolling_7day',\n",
    "       'sun_rolling_14day', 'wind_speed_3day', 'wind_speed_7day',\n",
    "       'wind_speed_14day', 'soil_moisture_3day', 'soil_moisture_7day',\n",
    "       'soil_moisture_14day', 'mgrs_fires_past3yrs','is_fire']]\n"
   ]
  },
  {
   "cell_type": "code",
   "execution_count": 22,
   "metadata": {},
   "outputs": [
    {
     "output_type": "stream",
     "name": "stdout",
     "text": [
      "<class 'pandas.core.frame.DataFrame'>\nRangeIndex: 1221600 entries, 0 to 1221599\nData columns (total 36 columns):\n #   Column               Non-Null Count    Dtype         \n---  ------               --------------    -----         \n 0   date                 1221600 non-null  datetime64[ns]\n 1   mgrs_10km            1221600 non-null  object        \n 2   pop_density_sqmile   1221600 non-null  float64       \n 3   tavg                 1221600 non-null  float64       \n 4   tmin                 1221600 non-null  float64       \n 5   tmax                 1221600 non-null  float64       \n 6   prcp                 1221600 non-null  float64       \n 7   sun                  1221600 non-null  float64       \n 8   drought_index        1221600 non-null  float64       \n 9   wind_speed           1221600 non-null  float64       \n 10  elevation            1221600 non-null  float64       \n 11  soil_type            1221600 non-null  float64       \n 12  soil_moisture        1221600 non-null  float64       \n 13  prcp_rolling_3day    1221600 non-null  float64       \n 14  prcp_rolling_7day    1221600 non-null  float64       \n 15  prcp_rolling_14day   1221600 non-null  float64       \n 16  tavg_rolling_3day    1221600 non-null  float64       \n 17  tavg_rolling_7day    1221600 non-null  float64       \n 18  tavg_rolling_14day   1221600 non-null  float64       \n 19  tmin_rolling_3day    1221600 non-null  float64       \n 20  tmin_rolling_7day    1221600 non-null  float64       \n 21  tmin_rolling_14day   1221600 non-null  float64       \n 22  tmax_rolling_3day    1221600 non-null  float64       \n 23  tmax_rolling_7day    1221600 non-null  float64       \n 24  tmax_rolling_14day   1221600 non-null  float64       \n 25  sun_rolling_3day     1221600 non-null  float64       \n 26  sun_rolling_7day     1221600 non-null  float64       \n 27  sun_rolling_14day    1221600 non-null  float64       \n 28  wind_speed_3day      1221600 non-null  float64       \n 29  wind_speed_7day      1221600 non-null  float64       \n 30  wind_speed_14day     1221600 non-null  float64       \n 31  soil_moisture_3day   1221600 non-null  float64       \n 32  soil_moisture_7day   1221600 non-null  float64       \n 33  soil_moisture_14day  1221600 non-null  float64       \n 34  mgrs_fires_past3yrs  1221600 non-null  float64       \n 35  is_fire              1221600 non-null  int64         \ndtypes: datetime64[ns](1), float64(33), int64(1), object(1)\nmemory usage: 335.5+ MB\n"
     ]
    }
   ],
   "source": [
    "data_merged.info()"
   ]
  },
  {
   "cell_type": "code",
   "execution_count": 23,
   "metadata": {},
   "outputs": [],
   "source": [
    "data_merged.to_csv('data_clean.csv', index=False)"
   ]
  }
 ]
}