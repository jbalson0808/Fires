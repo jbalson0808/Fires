{
 "metadata": {
  "language_info": {
   "codemirror_mode": {
    "name": "ipython",
    "version": 3
   },
   "file_extension": ".py",
   "mimetype": "text/x-python",
   "name": "python",
   "nbconvert_exporter": "python",
   "pygments_lexer": "ipython3",
   "version": "3.8.10"
  },
  "orig_nbformat": 2,
  "kernelspec": {
   "name": "python3810jvsc74a57bd07a8cd81a1699e7e1c05d771835f6490edbb9a81a456e457283de8180856282df",
   "display_name": "Python 3.8.10 64-bit ('base': conda)"
  }
 },
 "nbformat": 4,
 "nbformat_minor": 2,
 "cells": [
  {
   "cell_type": "code",
   "execution_count": 83,
   "metadata": {},
   "outputs": [],
   "source": [
    "import numpy as np\n",
    "import pandas as pd\n",
    "import mgrs"
   ]
  },
  {
   "cell_type": "code",
   "execution_count": 62,
   "metadata": {},
   "outputs": [
    {
     "output_type": "stream",
     "name": "stdout",
     "text": [
      "<class 'pandas.core.frame.DataFrame'>\nRangeIndex: 43191 entries, 0 to 43190\nData columns (total 9 columns):\n #   Column                      Non-Null Count  Dtype  \n---  ------                      --------------  -----  \n 0   zip_5                       43191 non-null  int64  \n 1   Zip                         43191 non-null  int64  \n 2   City                        43191 non-null  object \n 3   State                       43191 non-null  object \n 4   Latitude                    43191 non-null  float64\n 5   Longitude                   43191 non-null  float64\n 6   Timezone                    43191 non-null  int64  \n 7   Daylight savings time flag  43191 non-null  int64  \n 8   geopoint                    43191 non-null  float64\ndtypes: float64(3), int64(4), object(2)\nmemory usage: 3.0+ MB\n"
     ]
    }
   ],
   "source": [
    "zip_lat_lon = pd.read_csv('zip_lat_lon.csv')\n",
    "zip_lat_lon.info()"
   ]
  },
  {
   "cell_type": "code",
   "execution_count": 63,
   "metadata": {},
   "outputs": [
    {
     "output_type": "execute_result",
     "data": {
      "text/plain": [
       "   zip_5    Zip       City State   Latitude  Longitude  Timezone  \\\n",
       "0  38732  38732  Cleveland    MS  33.749149  -90.71329        -6   \n",
       "1  47872  47872  Rockville    IN  39.758142  -87.17540        -5   \n",
       "2  50049  50049   Chariton    IA  41.028910  -93.29857        -6   \n",
       "3  48463  48463  Otisville    MI  43.167457  -83.52542        -5   \n",
       "4  51063  51063    Whiting    IA  42.137272  -96.16648        -6   \n",
       "\n",
       "   Daylight savings time flag   geopoint  \n",
       "0                           1  33.749149  \n",
       "1                           0  39.758142  \n",
       "2                           1  41.028910  \n",
       "3                           1  43.167457  \n",
       "4                           1  42.137272  "
      ],
      "text/html": "<div>\n<style scoped>\n    .dataframe tbody tr th:only-of-type {\n        vertical-align: middle;\n    }\n\n    .dataframe tbody tr th {\n        vertical-align: top;\n    }\n\n    .dataframe thead th {\n        text-align: right;\n    }\n</style>\n<table border=\"1\" class=\"dataframe\">\n  <thead>\n    <tr style=\"text-align: right;\">\n      <th></th>\n      <th>zip_5</th>\n      <th>Zip</th>\n      <th>City</th>\n      <th>State</th>\n      <th>Latitude</th>\n      <th>Longitude</th>\n      <th>Timezone</th>\n      <th>Daylight savings time flag</th>\n      <th>geopoint</th>\n    </tr>\n  </thead>\n  <tbody>\n    <tr>\n      <th>0</th>\n      <td>38732</td>\n      <td>38732</td>\n      <td>Cleveland</td>\n      <td>MS</td>\n      <td>33.749149</td>\n      <td>-90.71329</td>\n      <td>-6</td>\n      <td>1</td>\n      <td>33.749149</td>\n    </tr>\n    <tr>\n      <th>1</th>\n      <td>47872</td>\n      <td>47872</td>\n      <td>Rockville</td>\n      <td>IN</td>\n      <td>39.758142</td>\n      <td>-87.17540</td>\n      <td>-5</td>\n      <td>0</td>\n      <td>39.758142</td>\n    </tr>\n    <tr>\n      <th>2</th>\n      <td>50049</td>\n      <td>50049</td>\n      <td>Chariton</td>\n      <td>IA</td>\n      <td>41.028910</td>\n      <td>-93.29857</td>\n      <td>-6</td>\n      <td>1</td>\n      <td>41.028910</td>\n    </tr>\n    <tr>\n      <th>3</th>\n      <td>48463</td>\n      <td>48463</td>\n      <td>Otisville</td>\n      <td>MI</td>\n      <td>43.167457</td>\n      <td>-83.52542</td>\n      <td>-5</td>\n      <td>1</td>\n      <td>43.167457</td>\n    </tr>\n    <tr>\n      <th>4</th>\n      <td>51063</td>\n      <td>51063</td>\n      <td>Whiting</td>\n      <td>IA</td>\n      <td>42.137272</td>\n      <td>-96.16648</td>\n      <td>-6</td>\n      <td>1</td>\n      <td>42.137272</td>\n    </tr>\n  </tbody>\n</table>\n</div>"
     },
     "metadata": {},
     "execution_count": 63
    }
   ],
   "source": [
    "zip_lat_lon.head()"
   ]
  },
  {
   "cell_type": "code",
   "execution_count": 64,
   "metadata": {},
   "outputs": [
    {
     "output_type": "stream",
     "name": "stdout",
     "text": [
      "<class 'pandas.core.frame.DataFrame'>\nInt64Index: 2716 entries, 32 to 43172\nData columns (total 5 columns):\n #   Column     Non-Null Count  Dtype  \n---  ------     --------------  -----  \n 0   zip_5      2716 non-null   int64  \n 1   City       2716 non-null   object \n 2   State      2716 non-null   object \n 3   Latitude   2716 non-null   float64\n 4   Longitude  2716 non-null   float64\ndtypes: float64(2), int64(1), object(2)\nmemory usage: 127.3+ KB\n"
     ]
    }
   ],
   "source": [
    "zip_lat_lon = zip_lat_lon[['zip_5','City','State','Latitude','Longitude']]\n",
    "zip_lat_lon = zip_lat_lon[zip_lat_lon['State']=='CA']\n",
    "zip_lat_lon.info()"
   ]
  },
  {
   "cell_type": "code",
   "execution_count": 65,
   "metadata": {},
   "outputs": [
    {
     "output_type": "stream",
     "name": "stdout",
     "text": [
      "<class 'pandas.core.frame.DataFrame'>\nRangeIndex: 33144 entries, 0 to 33143\nData columns (total 5 columns):\n #   Column               Non-Null Count  Dtype  \n---  ------               --------------  -----  \n 0   zip_5                33144 non-null  int64  \n 1   Zip/ZCTA             33144 non-null  int64  \n 2   2010 Population      33144 non-null  int64  \n 3   Land-Sq-Mi           33144 non-null  float64\n 4   Density Per Sq Mile  33144 non-null  float64\ndtypes: float64(2), int64(3)\nmemory usage: 1.3 MB\n"
     ]
    }
   ],
   "source": [
    "pop_density = pd.read_csv('pop_density_by_zip.csv')\n",
    "pop_density.info()"
   ]
  },
  {
   "cell_type": "code",
   "execution_count": 66,
   "metadata": {},
   "outputs": [
    {
     "output_type": "stream",
     "name": "stdout",
     "text": [
      "<class 'pandas.core.frame.DataFrame'>\nInt64Index: 1744 entries, 0 to 1743\nData columns (total 9 columns):\n #   Column               Non-Null Count  Dtype  \n---  ------               --------------  -----  \n 0   zip_5                1744 non-null   int64  \n 1   City                 1744 non-null   object \n 2   State                1744 non-null   object \n 3   Latitude             1744 non-null   float64\n 4   Longitude            1744 non-null   float64\n 5   Zip/ZCTA             1744 non-null   int64  \n 6   2010 Population      1744 non-null   int64  \n 7   Land-Sq-Mi           1744 non-null   float64\n 8   Density Per Sq Mile  1744 non-null   float64\ndtypes: float64(4), int64(3), object(2)\nmemory usage: 136.2+ KB\n"
     ]
    }
   ],
   "source": [
    "pop_density_coords = zip_lat_lon.merge(pop_density,on='zip_5',how='inner')\n",
    "pop_density_coords.info()"
   ]
  },
  {
   "cell_type": "code",
   "execution_count": 67,
   "metadata": {},
   "outputs": [
    {
     "output_type": "execute_result",
     "data": {
      "text/plain": [
       "   zip_5          City State   Latitude   Longitude  Zip/ZCTA  \\\n",
       "0  92399       Yucaipa    CA  34.033564 -117.037760     92399   \n",
       "1  95957      Meridian    CA  39.070323 -121.830650     95957   \n",
       "2  93225  Frazier Park    CA  34.815266 -119.004040     93225   \n",
       "3  90094   Los Angeles    CA  33.786594 -118.298662     90094   \n",
       "4  92683   Westminster    CA  33.751418 -117.993920     92683   \n",
       "\n",
       "   2010 Population  Land-Sq-Mi  Density Per Sq Mile  \n",
       "0            52606      53.035           991.911002  \n",
       "1              761      69.859            10.893371  \n",
       "2             5077     177.186            28.653505  \n",
       "3             5464       0.611          8942.716858  \n",
       "4            89747       9.991          8982.784506  "
      ],
      "text/html": "<div>\n<style scoped>\n    .dataframe tbody tr th:only-of-type {\n        vertical-align: middle;\n    }\n\n    .dataframe tbody tr th {\n        vertical-align: top;\n    }\n\n    .dataframe thead th {\n        text-align: right;\n    }\n</style>\n<table border=\"1\" class=\"dataframe\">\n  <thead>\n    <tr style=\"text-align: right;\">\n      <th></th>\n      <th>zip_5</th>\n      <th>City</th>\n      <th>State</th>\n      <th>Latitude</th>\n      <th>Longitude</th>\n      <th>Zip/ZCTA</th>\n      <th>2010 Population</th>\n      <th>Land-Sq-Mi</th>\n      <th>Density Per Sq Mile</th>\n    </tr>\n  </thead>\n  <tbody>\n    <tr>\n      <th>0</th>\n      <td>92399</td>\n      <td>Yucaipa</td>\n      <td>CA</td>\n      <td>34.033564</td>\n      <td>-117.037760</td>\n      <td>92399</td>\n      <td>52606</td>\n      <td>53.035</td>\n      <td>991.911002</td>\n    </tr>\n    <tr>\n      <th>1</th>\n      <td>95957</td>\n      <td>Meridian</td>\n      <td>CA</td>\n      <td>39.070323</td>\n      <td>-121.830650</td>\n      <td>95957</td>\n      <td>761</td>\n      <td>69.859</td>\n      <td>10.893371</td>\n    </tr>\n    <tr>\n      <th>2</th>\n      <td>93225</td>\n      <td>Frazier Park</td>\n      <td>CA</td>\n      <td>34.815266</td>\n      <td>-119.004040</td>\n      <td>93225</td>\n      <td>5077</td>\n      <td>177.186</td>\n      <td>28.653505</td>\n    </tr>\n    <tr>\n      <th>3</th>\n      <td>90094</td>\n      <td>Los Angeles</td>\n      <td>CA</td>\n      <td>33.786594</td>\n      <td>-118.298662</td>\n      <td>90094</td>\n      <td>5464</td>\n      <td>0.611</td>\n      <td>8942.716858</td>\n    </tr>\n    <tr>\n      <th>4</th>\n      <td>92683</td>\n      <td>Westminster</td>\n      <td>CA</td>\n      <td>33.751418</td>\n      <td>-117.993920</td>\n      <td>92683</td>\n      <td>89747</td>\n      <td>9.991</td>\n      <td>8982.784506</td>\n    </tr>\n  </tbody>\n</table>\n</div>"
     },
     "metadata": {},
     "execution_count": 67
    }
   ],
   "source": [
    "pop_density_coords.head()"
   ]
  },
  {
   "cell_type": "code",
   "execution_count": 68,
   "metadata": {},
   "outputs": [
    {
     "output_type": "stream",
     "name": "stdout",
     "text": [
      "<class 'pandas.core.frame.DataFrame'>\nInt64Index: 592 entries, 0 to 1740\nData columns (total 11 columns):\n #   Column               Non-Null Count  Dtype  \n---  ------               --------------  -----  \n 0   zip_5                592 non-null    int64  \n 1   City                 592 non-null    object \n 2   State                592 non-null    object \n 3   Latitude             592 non-null    float64\n 4   Longitude            592 non-null    float64\n 5   Zip/ZCTA             592 non-null    int64  \n 6   2010 Population      592 non-null    int64  \n 7   Land-Sq-Mi           592 non-null    float64\n 8   Density Per Sq Mile  592 non-null    float64\n 9   mgrs_10km            592 non-null    object \n 10  mgrs_100km           592 non-null    object \ndtypes: float64(4), int64(3), object(4)\nmemory usage: 55.5+ KB\n"
     ]
    }
   ],
   "source": [
    "# limit to only the MGRS locations in Southern CA\n",
    "MGRS_100KM_USED = ['11SMT','11SNT','11SNS','11SMS','11SLT']\n",
    "\n",
    "m = mgrs.MGRS() #mgrs API\n",
    "to_mgrs_10km = []  #precision 1\n",
    "to_mgrs_100km = []  #precision 0\n",
    "\n",
    "for i, j in zip(pop_density_coords['Latitude'].tolist(), pop_density_coords['Longitude'].tolist()):\n",
    "    to_mgrs_10km.append(m.toMGRS(i, j, MGRSPrecision=1)) \n",
    "    to_mgrs_100km.append(m.toMGRS(i, j, MGRSPrecision=0)) \n",
    "\n",
    "pop_density_coords['mgrs_10km'] = to_mgrs_10km\n",
    "pop_density_coords['mgrs_100km'] = to_mgrs_100km\n",
    "\n",
    "# limit to only the MGRS locations in Southern CA\n",
    "pop_density_coords = pop_density_coords[pop_density_coords.mgrs_100km.isin(MGRS_100KM_USED)]\n",
    "pop_density_coords.info()"
   ]
  },
  {
   "cell_type": "code",
   "execution_count": 69,
   "metadata": {},
   "outputs": [
    {
     "output_type": "execute_result",
     "data": {
      "text/plain": [
       "    zip_5              City State   Latitude   Longitude  Zip/ZCTA  \\\n",
       "0   92399           Yucaipa    CA  34.033564 -117.037760     92399   \n",
       "3   90094       Los Angeles    CA  33.786594 -118.298662     90094   \n",
       "4   92683       Westminster    CA  33.751418 -117.993920     92683   \n",
       "6   91730  Rancho Cucamonga    CA  34.104555 -117.587340     91730   \n",
       "8   92614            Irvine    CA  33.680408 -117.825920     92614   \n",
       "12  92655       Midway City    CA  33.745166 -117.985690     92655   \n",
       "14  90079       Los Angeles    CA  33.786594 -118.298662     90079   \n",
       "15  90670  Santa Fe Springs    CA  33.933551 -118.068210     90670   \n",
       "16  90742      Sunset Beach    CA  33.718167 -118.071790     90742   \n",
       "17  91436            Encino    CA  34.155625 -118.489250     91436   \n",
       "\n",
       "    2010 Population  Land-Sq-Mi  Density Per Sq Mile mgrs_10km mgrs_100km  \n",
       "0             52606      53.035           991.911002   11SMT96      11SMT  \n",
       "3              5464       0.611          8942.716858   11SLT73      11SLT  \n",
       "4             89747       9.991          8982.784506   11SMT03      11SMT  \n",
       "6             66925      14.483          4620.934889   11SMT47      11SMT  \n",
       "8             24748       4.420          5599.095023   11SMT22      11SMT  \n",
       "12             8337       0.632         13191.455700   11SMT03      11SMT  \n",
       "14                0       0.010             0.000000   11SLT73      11SLT  \n",
       "15            14866       8.462          1756.795084   11SMT05      11SMT  \n",
       "16              831       0.184          4516.304348   11SMT03      11SMT  \n",
       "17            14372       5.695          2523.617208   11SLT68      11SLT  "
      ],
      "text/html": "<div>\n<style scoped>\n    .dataframe tbody tr th:only-of-type {\n        vertical-align: middle;\n    }\n\n    .dataframe tbody tr th {\n        vertical-align: top;\n    }\n\n    .dataframe thead th {\n        text-align: right;\n    }\n</style>\n<table border=\"1\" class=\"dataframe\">\n  <thead>\n    <tr style=\"text-align: right;\">\n      <th></th>\n      <th>zip_5</th>\n      <th>City</th>\n      <th>State</th>\n      <th>Latitude</th>\n      <th>Longitude</th>\n      <th>Zip/ZCTA</th>\n      <th>2010 Population</th>\n      <th>Land-Sq-Mi</th>\n      <th>Density Per Sq Mile</th>\n      <th>mgrs_10km</th>\n      <th>mgrs_100km</th>\n    </tr>\n  </thead>\n  <tbody>\n    <tr>\n      <th>0</th>\n      <td>92399</td>\n      <td>Yucaipa</td>\n      <td>CA</td>\n      <td>34.033564</td>\n      <td>-117.037760</td>\n      <td>92399</td>\n      <td>52606</td>\n      <td>53.035</td>\n      <td>991.911002</td>\n      <td>11SMT96</td>\n      <td>11SMT</td>\n    </tr>\n    <tr>\n      <th>3</th>\n      <td>90094</td>\n      <td>Los Angeles</td>\n      <td>CA</td>\n      <td>33.786594</td>\n      <td>-118.298662</td>\n      <td>90094</td>\n      <td>5464</td>\n      <td>0.611</td>\n      <td>8942.716858</td>\n      <td>11SLT73</td>\n      <td>11SLT</td>\n    </tr>\n    <tr>\n      <th>4</th>\n      <td>92683</td>\n      <td>Westminster</td>\n      <td>CA</td>\n      <td>33.751418</td>\n      <td>-117.993920</td>\n      <td>92683</td>\n      <td>89747</td>\n      <td>9.991</td>\n      <td>8982.784506</td>\n      <td>11SMT03</td>\n      <td>11SMT</td>\n    </tr>\n    <tr>\n      <th>6</th>\n      <td>91730</td>\n      <td>Rancho Cucamonga</td>\n      <td>CA</td>\n      <td>34.104555</td>\n      <td>-117.587340</td>\n      <td>91730</td>\n      <td>66925</td>\n      <td>14.483</td>\n      <td>4620.934889</td>\n      <td>11SMT47</td>\n      <td>11SMT</td>\n    </tr>\n    <tr>\n      <th>8</th>\n      <td>92614</td>\n      <td>Irvine</td>\n      <td>CA</td>\n      <td>33.680408</td>\n      <td>-117.825920</td>\n      <td>92614</td>\n      <td>24748</td>\n      <td>4.420</td>\n      <td>5599.095023</td>\n      <td>11SMT22</td>\n      <td>11SMT</td>\n    </tr>\n    <tr>\n      <th>12</th>\n      <td>92655</td>\n      <td>Midway City</td>\n      <td>CA</td>\n      <td>33.745166</td>\n      <td>-117.985690</td>\n      <td>92655</td>\n      <td>8337</td>\n      <td>0.632</td>\n      <td>13191.455700</td>\n      <td>11SMT03</td>\n      <td>11SMT</td>\n    </tr>\n    <tr>\n      <th>14</th>\n      <td>90079</td>\n      <td>Los Angeles</td>\n      <td>CA</td>\n      <td>33.786594</td>\n      <td>-118.298662</td>\n      <td>90079</td>\n      <td>0</td>\n      <td>0.010</td>\n      <td>0.000000</td>\n      <td>11SLT73</td>\n      <td>11SLT</td>\n    </tr>\n    <tr>\n      <th>15</th>\n      <td>90670</td>\n      <td>Santa Fe Springs</td>\n      <td>CA</td>\n      <td>33.933551</td>\n      <td>-118.068210</td>\n      <td>90670</td>\n      <td>14866</td>\n      <td>8.462</td>\n      <td>1756.795084</td>\n      <td>11SMT05</td>\n      <td>11SMT</td>\n    </tr>\n    <tr>\n      <th>16</th>\n      <td>90742</td>\n      <td>Sunset Beach</td>\n      <td>CA</td>\n      <td>33.718167</td>\n      <td>-118.071790</td>\n      <td>90742</td>\n      <td>831</td>\n      <td>0.184</td>\n      <td>4516.304348</td>\n      <td>11SMT03</td>\n      <td>11SMT</td>\n    </tr>\n    <tr>\n      <th>17</th>\n      <td>91436</td>\n      <td>Encino</td>\n      <td>CA</td>\n      <td>34.155625</td>\n      <td>-118.489250</td>\n      <td>91436</td>\n      <td>14372</td>\n      <td>5.695</td>\n      <td>2523.617208</td>\n      <td>11SLT68</td>\n      <td>11SLT</td>\n    </tr>\n  </tbody>\n</table>\n</div>"
     },
     "metadata": {},
     "execution_count": 69
    }
   ],
   "source": [
    "pop_density_coords.head(10)"
   ]
  },
  {
   "cell_type": "code",
   "execution_count": 70,
   "metadata": {},
   "outputs": [
    {
     "output_type": "execute_result",
     "data": {
      "text/plain": [
       "array(['11SMT', '11SLT', '11SMS', '11SNT', '11SNS'], dtype=object)"
      ]
     },
     "metadata": {},
     "execution_count": 70
    }
   ],
   "source": [
    "pop_density_coords['mgrs_100km'].unique()"
   ]
  },
  {
   "cell_type": "code",
   "execution_count": 71,
   "metadata": {},
   "outputs": [
    {
     "output_type": "execute_result",
     "data": {
      "text/plain": [
       "201"
      ]
     },
     "metadata": {},
     "execution_count": 71
    }
   ],
   "source": [
    "len(pop_density_coords['mgrs_10km'].unique())"
   ]
  },
  {
   "cell_type": "code",
   "execution_count": 72,
   "metadata": {},
   "outputs": [
    {
     "output_type": "execute_result",
     "data": {
      "text/plain": [
       "  mgrs_10km   lat_10km    lon_10km\n",
       "0   11SMT03  33.705267 -118.079125\n",
       "1   11SMT04  33.795444 -118.080255\n",
       "2   11SMT05  33.885620 -118.081391\n",
       "3   11SMT06  33.975794 -118.082531\n",
       "4   11SMT07  34.065966 -118.083677"
      ],
      "text/html": "<div>\n<style scoped>\n    .dataframe tbody tr th:only-of-type {\n        vertical-align: middle;\n    }\n\n    .dataframe tbody tr th {\n        vertical-align: top;\n    }\n\n    .dataframe thead th {\n        text-align: right;\n    }\n</style>\n<table border=\"1\" class=\"dataframe\">\n  <thead>\n    <tr style=\"text-align: right;\">\n      <th></th>\n      <th>mgrs_10km</th>\n      <th>lat_10km</th>\n      <th>lon_10km</th>\n    </tr>\n  </thead>\n  <tbody>\n    <tr>\n      <th>0</th>\n      <td>11SMT03</td>\n      <td>33.705267</td>\n      <td>-118.079125</td>\n    </tr>\n    <tr>\n      <th>1</th>\n      <td>11SMT04</td>\n      <td>33.795444</td>\n      <td>-118.080255</td>\n    </tr>\n    <tr>\n      <th>2</th>\n      <td>11SMT05</td>\n      <td>33.885620</td>\n      <td>-118.081391</td>\n    </tr>\n    <tr>\n      <th>3</th>\n      <td>11SMT06</td>\n      <td>33.975794</td>\n      <td>-118.082531</td>\n    </tr>\n    <tr>\n      <th>4</th>\n      <td>11SMT07</td>\n      <td>34.065966</td>\n      <td>-118.083677</td>\n    </tr>\n  </tbody>\n</table>\n</div>"
     },
     "metadata": {},
     "execution_count": 72
    }
   ],
   "source": [
    "mgrs_final = pd.read_csv('mgrs_final.csv')\n",
    "mgrs_final = mgrs_final[['mgrs_10km','lat_10km','lon_10km']]\n",
    "mgrs_final.head()"
   ]
  },
  {
   "cell_type": "code",
   "execution_count": 73,
   "metadata": {},
   "outputs": [
    {
     "output_type": "stream",
     "name": "stdout",
     "text": [
      "<class 'pandas.core.frame.DataFrame'>\nInt64Index: 776 entries, 0 to 775\nData columns (total 13 columns):\n #   Column               Non-Null Count  Dtype  \n---  ------               --------------  -----  \n 0   mgrs_10km            776 non-null    object \n 1   lat_10km             776 non-null    float64\n 2   lon_10km             776 non-null    float64\n 3   zip_5                592 non-null    float64\n 4   City                 592 non-null    object \n 5   State                592 non-null    object \n 6   Latitude             592 non-null    float64\n 7   Longitude            592 non-null    float64\n 8   Zip/ZCTA             592 non-null    float64\n 9   2010 Population      592 non-null    float64\n 10  Land-Sq-Mi           592 non-null    float64\n 11  Density Per Sq Mile  592 non-null    float64\n 12  mgrs_100km           592 non-null    object \ndtypes: float64(9), object(4)\nmemory usage: 84.9+ KB\n"
     ]
    }
   ],
   "source": [
    "pop_density_mgrs = mgrs_final.merge(pop_density_coords,on='mgrs_10km',how='left')\n",
    "pop_density_mgrs.info()"
   ]
  },
  {
   "cell_type": "code",
   "execution_count": 74,
   "metadata": {},
   "outputs": [
    {
     "output_type": "execute_result",
     "data": {
      "text/plain": [
       "  mgrs_10km   lat_10km    lon_10km    zip_5              City State  \\\n",
       "0   11SMT03  33.705267 -118.079125  92683.0       Westminster    CA   \n",
       "1   11SMT03  33.705267 -118.079125  92655.0       Midway City    CA   \n",
       "2   11SMT03  33.705267 -118.079125  90742.0      Sunset Beach    CA   \n",
       "3   11SMT03  33.705267 -118.079125  92841.0      Garden Grove    CA   \n",
       "4   11SMT03  33.705267 -118.079125  92649.0  Huntington Beach    CA   \n",
       "5   11SMT03  33.705267 -118.079125  90720.0      Los Alamitos    CA   \n",
       "6   11SMT03  33.705267 -118.079125  92845.0      Garden Grove    CA   \n",
       "7   11SMT03  33.705267 -118.079125  92844.0      Garden Grove    CA   \n",
       "8   11SMT03  33.705267 -118.079125  92647.0  Huntington Beach    CA   \n",
       "9   11SMT04  33.795444 -118.080255  90621.0        Buena Park    CA   \n",
       "\n",
       "    Latitude  Longitude  Zip/ZCTA  2010 Population  Land-Sq-Mi  \\\n",
       "0  33.751418 -117.99392   92683.0          89747.0       9.991   \n",
       "1  33.745166 -117.98569   92655.0           8337.0       0.632   \n",
       "2  33.718167 -118.07179   90742.0            831.0       0.184   \n",
       "3  33.786915 -117.98224   92841.0          32845.0       4.480   \n",
       "4  33.720017 -118.04614   92649.0          32463.0       7.638   \n",
       "5  33.794028 -118.07218   90720.0          21751.0       6.122   \n",
       "6  33.782916 -118.02619   92845.0          16333.0       2.189   \n",
       "7  33.765516 -117.97310   92844.0          24307.0       2.127   \n",
       "8  33.725167 -118.00509   92647.0          57245.0       7.748   \n",
       "9  33.875714 -117.99404   90621.0          35153.0       4.154   \n",
       "\n",
       "   Density Per Sq Mile mgrs_100km  \n",
       "0          8982.784506      11SMT  \n",
       "1         13191.455700      11SMT  \n",
       "2          4516.304348      11SMT  \n",
       "3          7331.473214      11SMT  \n",
       "4          4250.196386      11SMT  \n",
       "5          3552.923881      11SMT  \n",
       "6          7461.397899      11SMT  \n",
       "7         11427.832630      11SMT  \n",
       "8          7388.358286      11SMT  \n",
       "9          8462.445835      11SMT  "
      ],
      "text/html": "<div>\n<style scoped>\n    .dataframe tbody tr th:only-of-type {\n        vertical-align: middle;\n    }\n\n    .dataframe tbody tr th {\n        vertical-align: top;\n    }\n\n    .dataframe thead th {\n        text-align: right;\n    }\n</style>\n<table border=\"1\" class=\"dataframe\">\n  <thead>\n    <tr style=\"text-align: right;\">\n      <th></th>\n      <th>mgrs_10km</th>\n      <th>lat_10km</th>\n      <th>lon_10km</th>\n      <th>zip_5</th>\n      <th>City</th>\n      <th>State</th>\n      <th>Latitude</th>\n      <th>Longitude</th>\n      <th>Zip/ZCTA</th>\n      <th>2010 Population</th>\n      <th>Land-Sq-Mi</th>\n      <th>Density Per Sq Mile</th>\n      <th>mgrs_100km</th>\n    </tr>\n  </thead>\n  <tbody>\n    <tr>\n      <th>0</th>\n      <td>11SMT03</td>\n      <td>33.705267</td>\n      <td>-118.079125</td>\n      <td>92683.0</td>\n      <td>Westminster</td>\n      <td>CA</td>\n      <td>33.751418</td>\n      <td>-117.99392</td>\n      <td>92683.0</td>\n      <td>89747.0</td>\n      <td>9.991</td>\n      <td>8982.784506</td>\n      <td>11SMT</td>\n    </tr>\n    <tr>\n      <th>1</th>\n      <td>11SMT03</td>\n      <td>33.705267</td>\n      <td>-118.079125</td>\n      <td>92655.0</td>\n      <td>Midway City</td>\n      <td>CA</td>\n      <td>33.745166</td>\n      <td>-117.98569</td>\n      <td>92655.0</td>\n      <td>8337.0</td>\n      <td>0.632</td>\n      <td>13191.455700</td>\n      <td>11SMT</td>\n    </tr>\n    <tr>\n      <th>2</th>\n      <td>11SMT03</td>\n      <td>33.705267</td>\n      <td>-118.079125</td>\n      <td>90742.0</td>\n      <td>Sunset Beach</td>\n      <td>CA</td>\n      <td>33.718167</td>\n      <td>-118.07179</td>\n      <td>90742.0</td>\n      <td>831.0</td>\n      <td>0.184</td>\n      <td>4516.304348</td>\n      <td>11SMT</td>\n    </tr>\n    <tr>\n      <th>3</th>\n      <td>11SMT03</td>\n      <td>33.705267</td>\n      <td>-118.079125</td>\n      <td>92841.0</td>\n      <td>Garden Grove</td>\n      <td>CA</td>\n      <td>33.786915</td>\n      <td>-117.98224</td>\n      <td>92841.0</td>\n      <td>32845.0</td>\n      <td>4.480</td>\n      <td>7331.473214</td>\n      <td>11SMT</td>\n    </tr>\n    <tr>\n      <th>4</th>\n      <td>11SMT03</td>\n      <td>33.705267</td>\n      <td>-118.079125</td>\n      <td>92649.0</td>\n      <td>Huntington Beach</td>\n      <td>CA</td>\n      <td>33.720017</td>\n      <td>-118.04614</td>\n      <td>92649.0</td>\n      <td>32463.0</td>\n      <td>7.638</td>\n      <td>4250.196386</td>\n      <td>11SMT</td>\n    </tr>\n    <tr>\n      <th>5</th>\n      <td>11SMT03</td>\n      <td>33.705267</td>\n      <td>-118.079125</td>\n      <td>90720.0</td>\n      <td>Los Alamitos</td>\n      <td>CA</td>\n      <td>33.794028</td>\n      <td>-118.07218</td>\n      <td>90720.0</td>\n      <td>21751.0</td>\n      <td>6.122</td>\n      <td>3552.923881</td>\n      <td>11SMT</td>\n    </tr>\n    <tr>\n      <th>6</th>\n      <td>11SMT03</td>\n      <td>33.705267</td>\n      <td>-118.079125</td>\n      <td>92845.0</td>\n      <td>Garden Grove</td>\n      <td>CA</td>\n      <td>33.782916</td>\n      <td>-118.02619</td>\n      <td>92845.0</td>\n      <td>16333.0</td>\n      <td>2.189</td>\n      <td>7461.397899</td>\n      <td>11SMT</td>\n    </tr>\n    <tr>\n      <th>7</th>\n      <td>11SMT03</td>\n      <td>33.705267</td>\n      <td>-118.079125</td>\n      <td>92844.0</td>\n      <td>Garden Grove</td>\n      <td>CA</td>\n      <td>33.765516</td>\n      <td>-117.97310</td>\n      <td>92844.0</td>\n      <td>24307.0</td>\n      <td>2.127</td>\n      <td>11427.832630</td>\n      <td>11SMT</td>\n    </tr>\n    <tr>\n      <th>8</th>\n      <td>11SMT03</td>\n      <td>33.705267</td>\n      <td>-118.079125</td>\n      <td>92647.0</td>\n      <td>Huntington Beach</td>\n      <td>CA</td>\n      <td>33.725167</td>\n      <td>-118.00509</td>\n      <td>92647.0</td>\n      <td>57245.0</td>\n      <td>7.748</td>\n      <td>7388.358286</td>\n      <td>11SMT</td>\n    </tr>\n    <tr>\n      <th>9</th>\n      <td>11SMT04</td>\n      <td>33.795444</td>\n      <td>-118.080255</td>\n      <td>90621.0</td>\n      <td>Buena Park</td>\n      <td>CA</td>\n      <td>33.875714</td>\n      <td>-117.99404</td>\n      <td>90621.0</td>\n      <td>35153.0</td>\n      <td>4.154</td>\n      <td>8462.445835</td>\n      <td>11SMT</td>\n    </tr>\n  </tbody>\n</table>\n</div>"
     },
     "metadata": {},
     "execution_count": 74
    }
   ],
   "source": [
    "pop_density_mgrs.head(10)"
   ]
  },
  {
   "cell_type": "code",
   "execution_count": 75,
   "metadata": {},
   "outputs": [
    {
     "output_type": "execute_result",
     "data": {
      "text/plain": [
       "    mgrs_10km   lat_10km    lon_10km    zip_5            City State  \\\n",
       "766   11SMS81  32.627384 -117.213205  92118.0        Coronado    CA   \n",
       "767   11SMS81  32.627384 -117.213205  92155.0       San Diego    CA   \n",
       "768   11SMS81  32.627384 -117.213205  92113.0       San Diego    CA   \n",
       "769   11SMS66  33.077858 -117.428568  92008.0        Carlsbad    CA   \n",
       "770   11SMS71  32.627158 -117.319806      NaN             NaN   NaN   \n",
       "771   11SMT11  33.525799 -117.969206  92662.0   Newport Beach    CA   \n",
       "772   11SMT11  33.525799 -117.969206  92661.0   Newport Beach    CA   \n",
       "773   11SMT11  33.525799 -117.969206  92625.0  Corona Del Mar    CA   \n",
       "774   11SMT20  33.436408 -117.860635      NaN             NaN   NaN   \n",
       "775   11SMS57  33.167642 -117.536254      NaN             NaN   NaN   \n",
       "\n",
       "      Latitude   Longitude  Zip/ZCTA  2010 Population  Land-Sq-Mi  \\\n",
       "766  32.682727 -117.174410   92118.0          23575.0       7.756   \n",
       "767  32.671602 -117.165665   92155.0            550.0       0.223   \n",
       "768  32.697402 -117.120010   92113.0          56066.0       5.269   \n",
       "769  33.158137 -117.326460   92008.0          27649.0      10.307   \n",
       "770        NaN         NaN       NaN              NaN         NaN   \n",
       "771  33.606271 -117.892430   92662.0           2756.0       0.208   \n",
       "772  33.601822 -117.899660   92661.0           3744.0       0.651   \n",
       "773  33.600172 -117.868230   92625.0          12478.0       2.565   \n",
       "774        NaN         NaN       NaN              NaN         NaN   \n",
       "775        NaN         NaN       NaN              NaN         NaN   \n",
       "\n",
       "     Density Per Sq Mile mgrs_100km  \n",
       "766          3039.582259      11SMS  \n",
       "767          2466.367713      11SMS  \n",
       "768         10640.728790      11SMS  \n",
       "769          2682.545843      11SMS  \n",
       "770                  NaN        NaN  \n",
       "771         13250.000000      11SMT  \n",
       "772          5751.152074      11SMT  \n",
       "773          4864.717349      11SMT  \n",
       "774                  NaN        NaN  \n",
       "775                  NaN        NaN  "
      ],
      "text/html": "<div>\n<style scoped>\n    .dataframe tbody tr th:only-of-type {\n        vertical-align: middle;\n    }\n\n    .dataframe tbody tr th {\n        vertical-align: top;\n    }\n\n    .dataframe thead th {\n        text-align: right;\n    }\n</style>\n<table border=\"1\" class=\"dataframe\">\n  <thead>\n    <tr style=\"text-align: right;\">\n      <th></th>\n      <th>mgrs_10km</th>\n      <th>lat_10km</th>\n      <th>lon_10km</th>\n      <th>zip_5</th>\n      <th>City</th>\n      <th>State</th>\n      <th>Latitude</th>\n      <th>Longitude</th>\n      <th>Zip/ZCTA</th>\n      <th>2010 Population</th>\n      <th>Land-Sq-Mi</th>\n      <th>Density Per Sq Mile</th>\n      <th>mgrs_100km</th>\n    </tr>\n  </thead>\n  <tbody>\n    <tr>\n      <th>766</th>\n      <td>11SMS81</td>\n      <td>32.627384</td>\n      <td>-117.213205</td>\n      <td>92118.0</td>\n      <td>Coronado</td>\n      <td>CA</td>\n      <td>32.682727</td>\n      <td>-117.174410</td>\n      <td>92118.0</td>\n      <td>23575.0</td>\n      <td>7.756</td>\n      <td>3039.582259</td>\n      <td>11SMS</td>\n    </tr>\n    <tr>\n      <th>767</th>\n      <td>11SMS81</td>\n      <td>32.627384</td>\n      <td>-117.213205</td>\n      <td>92155.0</td>\n      <td>San Diego</td>\n      <td>CA</td>\n      <td>32.671602</td>\n      <td>-117.165665</td>\n      <td>92155.0</td>\n      <td>550.0</td>\n      <td>0.223</td>\n      <td>2466.367713</td>\n      <td>11SMS</td>\n    </tr>\n    <tr>\n      <th>768</th>\n      <td>11SMS81</td>\n      <td>32.627384</td>\n      <td>-117.213205</td>\n      <td>92113.0</td>\n      <td>San Diego</td>\n      <td>CA</td>\n      <td>32.697402</td>\n      <td>-117.120010</td>\n      <td>92113.0</td>\n      <td>56066.0</td>\n      <td>5.269</td>\n      <td>10640.728790</td>\n      <td>11SMS</td>\n    </tr>\n    <tr>\n      <th>769</th>\n      <td>11SMS66</td>\n      <td>33.077858</td>\n      <td>-117.428568</td>\n      <td>92008.0</td>\n      <td>Carlsbad</td>\n      <td>CA</td>\n      <td>33.158137</td>\n      <td>-117.326460</td>\n      <td>92008.0</td>\n      <td>27649.0</td>\n      <td>10.307</td>\n      <td>2682.545843</td>\n      <td>11SMS</td>\n    </tr>\n    <tr>\n      <th>770</th>\n      <td>11SMS71</td>\n      <td>32.627158</td>\n      <td>-117.319806</td>\n      <td>NaN</td>\n      <td>NaN</td>\n      <td>NaN</td>\n      <td>NaN</td>\n      <td>NaN</td>\n      <td>NaN</td>\n      <td>NaN</td>\n      <td>NaN</td>\n      <td>NaN</td>\n      <td>NaN</td>\n    </tr>\n    <tr>\n      <th>771</th>\n      <td>11SMT11</td>\n      <td>33.525799</td>\n      <td>-117.969206</td>\n      <td>92662.0</td>\n      <td>Newport Beach</td>\n      <td>CA</td>\n      <td>33.606271</td>\n      <td>-117.892430</td>\n      <td>92662.0</td>\n      <td>2756.0</td>\n      <td>0.208</td>\n      <td>13250.000000</td>\n      <td>11SMT</td>\n    </tr>\n    <tr>\n      <th>772</th>\n      <td>11SMT11</td>\n      <td>33.525799</td>\n      <td>-117.969206</td>\n      <td>92661.0</td>\n      <td>Newport Beach</td>\n      <td>CA</td>\n      <td>33.601822</td>\n      <td>-117.899660</td>\n      <td>92661.0</td>\n      <td>3744.0</td>\n      <td>0.651</td>\n      <td>5751.152074</td>\n      <td>11SMT</td>\n    </tr>\n    <tr>\n      <th>773</th>\n      <td>11SMT11</td>\n      <td>33.525799</td>\n      <td>-117.969206</td>\n      <td>92625.0</td>\n      <td>Corona Del Mar</td>\n      <td>CA</td>\n      <td>33.600172</td>\n      <td>-117.868230</td>\n      <td>92625.0</td>\n      <td>12478.0</td>\n      <td>2.565</td>\n      <td>4864.717349</td>\n      <td>11SMT</td>\n    </tr>\n    <tr>\n      <th>774</th>\n      <td>11SMT20</td>\n      <td>33.436408</td>\n      <td>-117.860635</td>\n      <td>NaN</td>\n      <td>NaN</td>\n      <td>NaN</td>\n      <td>NaN</td>\n      <td>NaN</td>\n      <td>NaN</td>\n      <td>NaN</td>\n      <td>NaN</td>\n      <td>NaN</td>\n      <td>NaN</td>\n    </tr>\n    <tr>\n      <th>775</th>\n      <td>11SMS57</td>\n      <td>33.167642</td>\n      <td>-117.536254</td>\n      <td>NaN</td>\n      <td>NaN</td>\n      <td>NaN</td>\n      <td>NaN</td>\n      <td>NaN</td>\n      <td>NaN</td>\n      <td>NaN</td>\n      <td>NaN</td>\n      <td>NaN</td>\n      <td>NaN</td>\n    </tr>\n  </tbody>\n</table>\n</div>"
     },
     "metadata": {},
     "execution_count": 75
    }
   ],
   "source": [
    "pop_density_mgrs.tail(10)"
   ]
  },
  {
   "cell_type": "code",
   "execution_count": 76,
   "metadata": {},
   "outputs": [
    {
     "output_type": "execute_result",
     "data": {
      "text/plain": [
       "  mgrs_10km   lat_10km    lon_10km\n",
       "0   11SMT09  34.246308 -118.085983\n",
       "1   11SMT18  34.157049 -117.976359\n",
       "2   11SMT19  34.247222 -117.977399\n",
       "3   11SMT28  34.157863 -117.867886\n",
       "4   11SMT29  34.248039 -117.868811"
      ],
      "text/html": "<div>\n<style scoped>\n    .dataframe tbody tr th:only-of-type {\n        vertical-align: middle;\n    }\n\n    .dataframe tbody tr th {\n        vertical-align: top;\n    }\n\n    .dataframe thead th {\n        text-align: right;\n    }\n</style>\n<table border=\"1\" class=\"dataframe\">\n  <thead>\n    <tr style=\"text-align: right;\">\n      <th></th>\n      <th>mgrs_10km</th>\n      <th>lat_10km</th>\n      <th>lon_10km</th>\n    </tr>\n  </thead>\n  <tbody>\n    <tr>\n      <th>0</th>\n      <td>11SMT09</td>\n      <td>34.246308</td>\n      <td>-118.085983</td>\n    </tr>\n    <tr>\n      <th>1</th>\n      <td>11SMT18</td>\n      <td>34.157049</td>\n      <td>-117.976359</td>\n    </tr>\n    <tr>\n      <th>2</th>\n      <td>11SMT19</td>\n      <td>34.247222</td>\n      <td>-117.977399</td>\n    </tr>\n    <tr>\n      <th>3</th>\n      <td>11SMT28</td>\n      <td>34.157863</td>\n      <td>-117.867886</td>\n    </tr>\n    <tr>\n      <th>4</th>\n      <td>11SMT29</td>\n      <td>34.248039</td>\n      <td>-117.868811</td>\n    </tr>\n  </tbody>\n</table>\n</div>"
     },
     "metadata": {},
     "execution_count": 76
    }
   ],
   "source": [
    "pop_missing = pop_density_mgrs[pop_density_mgrs['Longitude'].isna()]\n",
    "pop_missing = pop_missing[['mgrs_10km','lat_10km','lon_10km']]\n",
    "pop_missing.reset_index(drop=True,inplace=True)\n",
    "pop_missing.head()"
   ]
  },
  {
   "cell_type": "code",
   "execution_count": 77,
   "metadata": {},
   "outputs": [],
   "source": [
    "# pop_missing.to_csv('pop_missing.csv')"
   ]
  },
  {
   "source": [
    "all the missing appear to be in the ocean or in the high mountains.  another large area where camp pendleton is.  it looks ok"
   ],
   "cell_type": "markdown",
   "metadata": {}
  },
  {
   "cell_type": "code",
   "execution_count": 78,
   "metadata": {},
   "outputs": [
    {
     "output_type": "execute_result",
     "data": {
      "text/plain": [
       "mgrs_10km\n",
       "11SLT07       2.473607\n",
       "11SLT08    2820.689420\n",
       "11SLT09    4244.793942\n",
       "11SLT16       0.000000\n",
       "11SLT17       0.000000\n",
       "              ...     \n",
       "11SNT95       0.000000\n",
       "11SNT96       0.000000\n",
       "11SNT97       0.000000\n",
       "11SNT98       0.000000\n",
       "11SNT99       0.000000\n",
       "Name: Density Per Sq Mile, Length: 385, dtype: float64"
      ]
     },
     "metadata": {},
     "execution_count": 78
    }
   ],
   "source": [
    "pop_density_mgrs.groupby(['mgrs_10km'])['Density Per Sq Mile'].sum()"
   ]
  },
  {
   "cell_type": "code",
   "execution_count": 79,
   "metadata": {},
   "outputs": [
    {
     "output_type": "execute_result",
     "data": {
      "text/plain": [
       "    mgrs_10km   lat_10km    lon_10km  zip_5 City State  Latitude  Longitude  \\\n",
       "753   11SLT16  33.963371 -119.056389    NaN  NaN   NaN       NaN        NaN   \n",
       "\n",
       "     Zip/ZCTA  2010 Population  Land-Sq-Mi  Density Per Sq Mile mgrs_100km  \n",
       "753       NaN              NaN         NaN                  NaN        NaN  "
      ],
      "text/html": "<div>\n<style scoped>\n    .dataframe tbody tr th:only-of-type {\n        vertical-align: middle;\n    }\n\n    .dataframe tbody tr th {\n        vertical-align: top;\n    }\n\n    .dataframe thead th {\n        text-align: right;\n    }\n</style>\n<table border=\"1\" class=\"dataframe\">\n  <thead>\n    <tr style=\"text-align: right;\">\n      <th></th>\n      <th>mgrs_10km</th>\n      <th>lat_10km</th>\n      <th>lon_10km</th>\n      <th>zip_5</th>\n      <th>City</th>\n      <th>State</th>\n      <th>Latitude</th>\n      <th>Longitude</th>\n      <th>Zip/ZCTA</th>\n      <th>2010 Population</th>\n      <th>Land-Sq-Mi</th>\n      <th>Density Per Sq Mile</th>\n      <th>mgrs_100km</th>\n    </tr>\n  </thead>\n  <tbody>\n    <tr>\n      <th>753</th>\n      <td>11SLT16</td>\n      <td>33.963371</td>\n      <td>-119.056389</td>\n      <td>NaN</td>\n      <td>NaN</td>\n      <td>NaN</td>\n      <td>NaN</td>\n      <td>NaN</td>\n      <td>NaN</td>\n      <td>NaN</td>\n      <td>NaN</td>\n      <td>NaN</td>\n      <td>NaN</td>\n    </tr>\n  </tbody>\n</table>\n</div>"
     },
     "metadata": {},
     "execution_count": 79
    }
   ],
   "source": [
    "pop_density_mgrs[pop_density_mgrs['mgrs_10km']=='11SLT16']"
   ]
  },
  {
   "cell_type": "code",
   "execution_count": 80,
   "metadata": {},
   "outputs": [
    {
     "output_type": "stream",
     "name": "stdout",
     "text": [
      "<class 'pandas.core.frame.DataFrame'>\nRangeIndex: 385 entries, 0 to 384\nData columns (total 2 columns):\n #   Column               Non-Null Count  Dtype  \n---  ------               --------------  -----  \n 0   mgrs_10km            385 non-null    object \n 1   Density Per Sq Mile  385 non-null    float64\ndtypes: float64(1), object(1)\nmemory usage: 6.1+ KB\n"
     ]
    }
   ],
   "source": [
    "pop_density_mgrs = pd.DataFrame(pop_density_mgrs.groupby(['mgrs_10km'])['Density Per Sq Mile'].sum())\n",
    "pop_density_mgrs.reset_index(inplace=True)\n",
    "pop_density_mgrs.info()"
   ]
  },
  {
   "cell_type": "code",
   "execution_count": 81,
   "metadata": {},
   "outputs": [
    {
     "output_type": "execute_result",
     "data": {
      "text/plain": [
       "    mgrs_10km  Density Per Sq Mile\n",
       "0     11SLT07             2.473607\n",
       "1     11SLT08          2820.689420\n",
       "2     11SLT09          4244.793942\n",
       "3     11SLT16             0.000000\n",
       "4     11SLT17             0.000000\n",
       "..        ...                  ...\n",
       "380   11SNT95             0.000000\n",
       "381   11SNT96             0.000000\n",
       "382   11SNT97             0.000000\n",
       "383   11SNT98             0.000000\n",
       "384   11SNT99             0.000000\n",
       "\n",
       "[385 rows x 2 columns]"
      ],
      "text/html": "<div>\n<style scoped>\n    .dataframe tbody tr th:only-of-type {\n        vertical-align: middle;\n    }\n\n    .dataframe tbody tr th {\n        vertical-align: top;\n    }\n\n    .dataframe thead th {\n        text-align: right;\n    }\n</style>\n<table border=\"1\" class=\"dataframe\">\n  <thead>\n    <tr style=\"text-align: right;\">\n      <th></th>\n      <th>mgrs_10km</th>\n      <th>Density Per Sq Mile</th>\n    </tr>\n  </thead>\n  <tbody>\n    <tr>\n      <th>0</th>\n      <td>11SLT07</td>\n      <td>2.473607</td>\n    </tr>\n    <tr>\n      <th>1</th>\n      <td>11SLT08</td>\n      <td>2820.689420</td>\n    </tr>\n    <tr>\n      <th>2</th>\n      <td>11SLT09</td>\n      <td>4244.793942</td>\n    </tr>\n    <tr>\n      <th>3</th>\n      <td>11SLT16</td>\n      <td>0.000000</td>\n    </tr>\n    <tr>\n      <th>4</th>\n      <td>11SLT17</td>\n      <td>0.000000</td>\n    </tr>\n    <tr>\n      <th>...</th>\n      <td>...</td>\n      <td>...</td>\n    </tr>\n    <tr>\n      <th>380</th>\n      <td>11SNT95</td>\n      <td>0.000000</td>\n    </tr>\n    <tr>\n      <th>381</th>\n      <td>11SNT96</td>\n      <td>0.000000</td>\n    </tr>\n    <tr>\n      <th>382</th>\n      <td>11SNT97</td>\n      <td>0.000000</td>\n    </tr>\n    <tr>\n      <th>383</th>\n      <td>11SNT98</td>\n      <td>0.000000</td>\n    </tr>\n    <tr>\n      <th>384</th>\n      <td>11SNT99</td>\n      <td>0.000000</td>\n    </tr>\n  </tbody>\n</table>\n<p>385 rows × 2 columns</p>\n</div>"
     },
     "metadata": {},
     "execution_count": 81
    }
   ],
   "source": [
    "pop_density_mgrs"
   ]
  },
  {
   "cell_type": "code",
   "execution_count": 84,
   "metadata": {},
   "outputs": [
    {
     "output_type": "execute_result",
     "data": {
      "text/plain": [
       "3543709.962151825"
      ]
     },
     "metadata": {},
     "execution_count": 84
    }
   ],
   "source": [
    "np.sum(pop_density_mgrs['Density Per Sq Mile'])"
   ]
  },
  {
   "cell_type": "code",
   "execution_count": 85,
   "metadata": {},
   "outputs": [
    {
     "output_type": "execute_result",
     "data": {
      "text/plain": [
       "3543709.9621518254"
      ]
     },
     "metadata": {},
     "execution_count": 85
    }
   ],
   "source": [
    "np.sum(pop_density_coords['Density Per Sq Mile'])"
   ]
  },
  {
   "cell_type": "code",
   "execution_count": 86,
   "metadata": {},
   "outputs": [],
   "source": [
    "pop_density_mgrs.to_csv('pop_density_mgrs.csv')"
   ]
  }
 ]
}