{
 "metadata": {
  "language_info": {
   "codemirror_mode": {
    "name": "ipython",
    "version": 3
   },
   "file_extension": ".py",
   "mimetype": "text/x-python",
   "name": "python",
   "nbconvert_exporter": "python",
   "pygments_lexer": "ipython3",
   "version": "3.8.5"
  },
  "orig_nbformat": 2,
  "kernelspec": {
   "name": "python385jvsc74a57bd07a8cd81a1699e7e1c05d771835f6490edbb9a81a456e457283de8180856282df",
   "display_name": "Python 3.8.5 64-bit ('base': conda)"
  }
 },
 "nbformat": 4,
 "nbformat_minor": 2,
 "cells": [
  {
   "cell_type": "code",
   "execution_count": 9,
   "metadata": {},
   "outputs": [],
   "source": [
    "import numpy as np\n",
    "import pandas as pd\n",
    "import sqlite3\n",
    "import mgrs"
   ]
  },
  {
   "cell_type": "code",
   "execution_count": 15,
   "metadata": {},
   "outputs": [
    {
     "output_type": "stream",
     "name": "stdout",
     "text": [
      "<class 'pandas.core.frame.DataFrame'>\nRangeIndex: 8057 entries, 0 to 8056\nData columns (total 5 columns):\n #   Column      Non-Null Count  Dtype         \n---  ------      --------------  -----         \n 0   mgrs_100km  8057 non-null   object        \n 1   mgrs_10km   8057 non-null   object        \n 2   lat_raw     8057 non-null   float64       \n 3   lon_raw     8057 non-null   float64       \n 4   date        8057 non-null   datetime64[ns]\ndtypes: datetime64[ns](1), float64(2), object(2)\nmemory usage: 314.9+ KB\n"
     ]
    }
   ],
   "source": [
    "conn = sqlite3.connect('C:/Users/balso/Downloads/FPA_FOD_20170508.sqlite')\n",
    "ca_fires = pd.read_sql_query('select * from fires where State = \"CA\";', conn) # \n",
    "\n",
    "m = mgrs.MGRS() #mgrs API\n",
    "to_mgrs_1m = [] #precision 5\n",
    "to_mgrs_10m = [] #precision 4\n",
    "to_mgrs_100m = [] #precision 3\n",
    "to_mgrs_1km = []  #precision 2\n",
    "to_mgrs_10km = []  #precision 1\n",
    "to_mgrs_100km = []  #precision 0\n",
    "to_mgrs_lat_10km = []\n",
    "to_mgrs_lon_10km = []\n",
    "ca_fires_data = pd.DataFrame()\n",
    "\n",
    "ca_fires_data['object_id'] = ca_fires['OBJECTID']\n",
    "ca_fires_data['reporting_unit'] = ca_fires['NWCG_REPORTING_UNIT_NAME']\n",
    "ca_fires_data['fire_date_num'] = ca_fires['DISCOVERY_DATE']\n",
    "ca_fires_data['fire_date_cal'] = pd.to_datetime(ca_fires['DISCOVERY_DATE'], unit='D', origin='julian') #convert numeric to calendar date\n",
    "ca_fires_data['fire_year'] = ca_fires['FIRE_YEAR']\n",
    "ca_fires_data['fire_month'] = ca_fires_data['fire_date_cal'].dt.month_name()\n",
    "ca_fires_data['fire_day_of_week'] = ca_fires_data['fire_date_cal'].dt.day_name()\n",
    "ca_fires_data['fire_class'] = ca_fires['FIRE_SIZE_CLASS']\n",
    "ca_fires_data['lat'] = ca_fires['LATITUDE']\n",
    "ca_fires_data['lon'] = ca_fires['LONGITUDE']\n",
    "\n",
    "for i, j in zip(ca_fires_data['lat'].tolist(), ca_fires_data['lon'].tolist()):\n",
    "    to_mgrs_1m.append(m.toMGRS(i, j, MGRSPrecision=5)) # use mgrs API to convert lat/lon to MGRS conventions\n",
    "    to_mgrs_10m.append(m.toMGRS(i, j, MGRSPrecision=4)) \n",
    "    to_mgrs_100m.append(m.toMGRS(i, j, MGRSPrecision=3)) \n",
    "    to_mgrs_1km.append(m.toMGRS(i, j, MGRSPrecision=2)) \n",
    "    to_mgrs_10km.append(m.toMGRS(i, j, MGRSPrecision=1)) \n",
    "    to_mgrs_100km.append(m.toMGRS(i, j, MGRSPrecision=0)) \n",
    "\n",
    "ca_fires_data['mgrs_1m'] = to_mgrs_1m\n",
    "ca_fires_data['mgrs_10m'] = to_mgrs_10m\n",
    "ca_fires_data['mgrs_100m'] = to_mgrs_100m\n",
    "ca_fires_data['mgrs_1km'] = to_mgrs_1km\n",
    "ca_fires_data['mgrs_10km'] = to_mgrs_10km\n",
    "ca_fires_data['mgrs_100km'] = to_mgrs_100km\n",
    "\n",
    "for k in ca_fires_data['mgrs_10km'].tolist():\n",
    "    to_mgrs_lat_10km.append(m.toLatLon(k)[0])\n",
    "    to_mgrs_lon_10km.append(m.toLatLon(k)[1])\n",
    "\n",
    "ca_fires_data['mgrs_lat_10km'] = to_mgrs_lat_10km\n",
    "ca_fires_data['mgrs_lon_10km'] = to_mgrs_lon_10km\n",
    "\n",
    "# filter out winter months where fires not likely\n",
    "months_used = ['April', 'May', 'June', 'July', 'August', 'September', 'October','November'] \n",
    "ca_fires_data = ca_fires_data[ca_fires_data.fire_month.isin(months_used)]\n",
    "\n",
    "# filter out class A fires, which are less than 1/4 acre\n",
    "classes_used = ['B','C','D','E','F','G']\n",
    "ca_fires_data = ca_fires_data[ca_fires_data.fire_class.isin(classes_used)]\n",
    "\n",
    "# filter out fires before 2000 since weather data is sparse before year 2000\n",
    "ca_fires_data = ca_fires_data[ca_fires_data.fire_year >= 2000]\n",
    "\n",
    "# limit to only the MGRS locations in Southern CA\n",
    "mgrs_100km = ['11SMT','11SNT','11SNS','11SMS','11SLT'] # redefine mgrs blocks\n",
    "socal_fires_data = ca_fires_data[ca_fires_data.mgrs_100km.isin(mgrs_100km)]\n",
    "\n",
    "# keep only necessary columns\n",
    "socal_lite = pd.DataFrame()\n",
    "socal_lite['mgrs_100km'] = socal_fires_data['mgrs_100km']\n",
    "socal_lite['mgrs_10km'] = socal_fires_data['mgrs_10km']\n",
    "# socal_lite['lat_mgrs'] = socal_fires_data['mgrs_lat_10km']\n",
    "# socal_lite['lon_mgrs'] = socal_fires_data['mgrs_lon_10km']\n",
    "socal_lite['lat_raw'] = ca_fires_data['lat']\n",
    "socal_lite['lon_raw'] = ca_fires_data['lon']\n",
    "socal_lite['date'] = socal_fires_data['fire_date_cal']\n",
    "socal_lite = socal_lite.groupby(level=0).first()\n",
    "# socal_lite.mgrs_10km.unique().shape\n",
    "socal_lite.reset_index(drop=True, inplace = True)\n",
    "socal_lite.info()"
   ]
  },
  {
   "cell_type": "code",
   "execution_count": 16,
   "metadata": {},
   "outputs": [],
   "source": [
    "socal_lite.to_csv('fires_raw_coords.csv')"
   ]
  },
  {
   "cell_type": "code",
   "execution_count": 7,
   "metadata": {},
   "outputs": [
    {
     "output_type": "stream",
     "name": "stdout",
     "text": [
      "<class 'pandas.core.frame.DataFrame'>\nRangeIndex: 189550 entries, 0 to 189549\nData columns (total 5 columns):\n #   Column      Non-Null Count   Dtype         \n---  ------      --------------   -----         \n 0   fire_year   189550 non-null  int64         \n 1   fire_date   189550 non-null  datetime64[ns]\n 2   fire_class  189550 non-null  object        \n 3   lat         189550 non-null  float64       \n 4   lon         189550 non-null  float64       \ndtypes: datetime64[ns](1), float64(2), int64(1), object(1)\nmemory usage: 7.2+ MB\n"
     ]
    }
   ],
   "source": [
    "socal_fires_raw.info()"
   ]
  },
  {
   "cell_type": "code",
   "execution_count": null,
   "metadata": {},
   "outputs": [],
   "source": []
  }
 ]
}