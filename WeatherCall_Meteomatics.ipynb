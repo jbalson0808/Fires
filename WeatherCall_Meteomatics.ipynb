{
 "cells": [
  {
   "cell_type": "code",
   "execution_count": 2,
   "id": "5f38c11f-0845-4724-b98e-2c27e8c908a7",
   "metadata": {},
   "outputs": [],
   "source": [
    "import datetime as dt\n",
    "import meteomatics.api as api\n",
    "import pandas as pd\n",
    "import numpy as np"
   ]
  },
  {
   "cell_type": "markdown",
   "id": "bf2894b3-e924-49b3-8216-58ab24702d3b",
   "metadata": {},
   "source": [
    "# Meteomatics api call\n",
    "\n",
    "The following code can be used to call the meteomatics api."
   ]
  },
  {
   "cell_type": "markdown",
   "id": "f64e08f8-09ab-4af9-bd83-fdefe97c0d6b",
   "metadata": {},
   "source": [
    "### WeatherCall function\n",
    "The WeatherCall function calls the Metomatics api and returns a dataframe with the results of the call.\n",
    "\n",
    "**Notes on the WeatherCall function:**\n",
    "* The Metomatics api returns time stamps for averages right bounded (the preceding 24h are taken into account) )in the API because of this the dates are shifted by one day. That means that the following value: \n",
    "      validdate;t_mean_2m_24h:F \n",
    "      2021-05-06T00:00:00Z;72.4\n",
    "      represents the 24h hour mean temperature of May 5.\n",
    "* WeatherCall fixes the date shift for each row returned in a new column called 'date'. The original column with the shifted dates is droped from the dataframe that is returned\n",
    "\n",
    "\n",
    "\n",
    "\n",
    "\n",
    "\n",
    " "
   ]
  },
  {
   "cell_type": "code",
   "execution_count": 3,
   "id": "8a63763a-daca-4d68-a8ad-53d8c5918e19",
   "metadata": {},
   "outputs": [],
   "source": [
    "def WeatherCall(location,parameters,time):\n",
    "    \n",
    "    ###Credentials:\n",
    "    username = 'smu_student'\n",
    "    password = 'KExx3Nhs768c'\n",
    "    \n",
    "    #unpack time\n",
    "    startdate,enddate,interval = time\n",
    "    \n",
    "    #empty results dataframe will be populated by query results\n",
    "    results = pd.DataFrame()\n",
    "\n",
    "    #for loop that loops through a list of latitude and longitude locations \n",
    "    for x in location:\n",
    "        try:\n",
    "            ts = api.query_time_series(x, startdate, enddate, interval,parameters, username, password) #query api\n",
    "            ts_df = ts.reset_index() #lat, lon, and validdate come back as a multi Index this makes them columns\n",
    "            results = results.append(ts_df) #append the results dataframe with query results\n",
    "            results['date'] = results.validdate - dt.timedelta(days=1) #daily results are off by a day\n",
    "\n",
    "\n",
    "        except Exception as e:\n",
    "            print(\"Failed, the exception is {}\".format(e)) \n",
    "        \n",
    "    results = results.drop(columns=['validdate'])\n",
    "    return results    "
   ]
  },
  {
   "cell_type": "markdown",
   "id": "83d25b88-ed31-4176-9153-163f7e32e92a",
   "metadata": {},
   "source": [
    "### Import mgrs location csv and format to work with WeatherCall function\n",
    "\n",
    "The meteomatics api can only be queried for 10 locations at a time. To return results for all 385 mgrs locations the latitude and longitude have to be combined into individual records (tuples) and then sent through the api ten at a time. The following code will pull down the mgrs_final.csv file from our git convert the lat and long to tuples and put them in a list. The code will then split the orginal list into a list of lists each of the smaller lists containing ten locations except for the last list which only contains five locations. The code returns 'mgrs_locations' that can be passed into the 'WeatherCall' function to get results for all 385 locations at once. \n",
    "\n",
    "**<font color=red>Notes on location READ ME: </font>**\n",
    "   * When 'mgrs_locations' list is sent through the 'WeatherCall' function 39 calls will be made to the api! One call = list of 10 locations\n",
    "\n",
    "  * When 'mgrs_test' list is sent through the 'WeatherCall funciton 2 calls will be made to the api. Use this for testing until you're ready to get data for all lcoations."
   ]
  },
  {
   "cell_type": "code",
   "execution_count": 4,
   "id": "18e735b3-373c-4116-8df9-d0b50f5ae1b5",
   "metadata": {},
   "outputs": [],
   "source": [
    "from itertools import islice\n",
    "\n",
    "#Import mgrs locations\n",
    "mgrs = pd.read_csv('https://raw.githubusercontent.com/jbalson0808/fires/main/mgrs_final.csv') #set location of mgrs_final\n",
    "\n",
    "#Select lat and longitude columns\n",
    "mgrs = mgrs[['lat_10km','lon_10km']]\n",
    "\n",
    "#Convert mgrs Lat and lon into a list of tuples \n",
    "records = mgrs.to_records(index=False)\n",
    "\n",
    "#convert \n",
    "mgrs_list = list(records)\n",
    "\n",
    "#split list into 39 smaller lists \n",
    "length_to_split = [10,10,10,10,10,10,10,10,10,10,10,10,10,10,10,10,10,10,10,10,10,10,10,10,10,10,10,10,10,10,10,10,10,10,10,10,10,10,6]\n",
    "\n",
    "inputt = iter(mgrs_list)\n",
    "\n",
    "# All mgrs locations ################\n",
    "mgrs_locations = [list(islice(inputt,elem)) for elem in length_to_split]\n",
    "\n",
    "\n",
    "# mgrs_test this limits the locations to twenty and only makes 2 calls to the api useful in testing#######\n",
    "mgrs_test = mgrs_locations[:2]\n",
    "\n",
    "#print(mgrs_locations[:2]"
   ]
  },
  {
   "cell_type": "code",
   "execution_count": 30,
   "metadata": {},
   "outputs": [
    {
     "output_type": "execute_result",
     "data": {
      "text/plain": [
       "[[(33.70526732, -118.079125),\n",
       "  (33.79544412, -118.0802553),\n",
       "  (33.88561957, -118.0813907),\n",
       "  (33.97579365, -118.0825311),\n",
       "  (34.06596638, -118.0836766),\n",
       "  (34.15613776, -118.0848272),\n",
       "  (34.24630777, -118.085983),\n",
       "  (33.61598164, -117.970214),\n",
       "  (33.70616282, -117.9712268),\n",
       "  (33.79634266, -117.9722441)],\n",
       " [(33.88652115, -117.973266),\n",
       "  (33.97669829, -117.9742925),\n",
       "  (34.06687408, -117.9753235),\n",
       "  (34.15704851, -117.9763591),\n",
       "  (34.24722159, -117.9773993),\n",
       "  (33.6167802, -117.8624237),\n",
       "  (33.70696409, -117.8633241),\n",
       "  (33.79714665, -117.8642284),\n",
       "  (33.88732786, -117.8651368),\n",
       "  (33.97750773, -117.8660493)]]"
      ]
     },
     "metadata": {},
     "execution_count": 30
    }
   ],
   "source": [
    "mgrs_locations[:2]"
   ]
  },
  {
   "cell_type": "markdown",
   "id": "1854a045-d837-439e-b90b-1e6a7342deab",
   "metadata": {},
   "source": [
    "### Set Start date and enddate of call\n",
    "Use the code below to set the start and end dates for the weather data you want to call. The start date, end date, and interval are packed into a variable called 'time' that can be passed to the WeatherCall function. \n",
    "\n",
    "Notes on start and end date: \n",
    "* the Meteomatics api uses right bounded dates for averages when entering start date and end date you need to shift the dates by one day. Example, if you want to get the daily mean (00:00 until 00:00 UTC) temperatures between May 5 and 10, you should specify the following:\n",
    "        startdate_ts = dt.datetime(2021,5,6)\n",
    "        enddate_ts = dt.datetime(2021,5,11)\n",
    "        interval_ts = dt.timedelta(hours=24) \n",
    "        \n",
    "* The code below shifts the start and end dates you enter by one day to make it easier to use. Just enter the actual dates you want and the function will do the rest\n"
   ]
  },
  {
   "cell_type": "code",
   "execution_count": 13,
   "id": "30433fd8-a25b-47fb-a32c-897db9eabff8",
   "metadata": {},
   "outputs": [],
   "source": [
    "# month_s = 1    #start date month\n",
    "# day_s = 1      #start date day\n",
    "# year_s = 2000  #start date year\n",
    "\n",
    "# month_e = 12    #end date month\n",
    "# day_e = 31     #end date day\n",
    "# year_e = 2010  #end date year\n",
    "\n",
    "month_s = 1    #start date month\n",
    "day_s = 1      #start date day\n",
    "year_s = 2011  #start date year\n",
    "\n",
    "month_e = 12    #end date month\n",
    "day_e = 31     #end date day\n",
    "year_e = 2015  #end date year\n",
    "\n",
    "########### function to set WeatherCall time ##########################\n",
    "def t(year_s,month_s,day_s,year_e,month_e,day_e):\n",
    "    \n",
    "    #start date +1day\n",
    "    startdate = dt.datetime(year_s,month_s,day_s) + dt.timedelta(days=1) \n",
    "    \n",
    "    #end date +1day\n",
    "    enddate = dt.datetime(year_e,month_e,day_e) + dt.timedelta(days=1) \n",
    "    \n",
    "    #interval hours = 24 for daily data\n",
    "    interval = dt.timedelta(hours=24)\n",
    "    \n",
    "    time = startdate,enddate,interval\n",
    "    \n",
    "    return time\n",
    "########################################################################\n",
    "\n",
    "time = t(year_s,month_s,day_s,year_e,month_e,day_e)"
   ]
  },
  {
   "cell_type": "markdown",
   "id": "efb5f4f8-cddc-4ccf-b859-309db7f3bf85",
   "metadata": {},
   "source": [
    "### Set parameters you want to return\n",
    "\n",
    "Use the code below to set the values of the parameters you want the api to return.Temperature and other parameters available that can be queried for 24 h periods, like dew point and relative humidity also 24 h precipitation sums can be queried. \n",
    "* Parameters that can be called are found in the Metomatics Documentation here: https://www.meteomatics.com/en/api/available-parameters/"
   ]
  },
  {
   "cell_type": "code",
   "execution_count": 5,
   "id": "3ca99aab-4854-4e3f-a199-31fc6e2bb9d8",
   "metadata": {},
   "outputs": [],
   "source": [
    "parameters = ['t_mean_2m_24h:F', 't_min_2m_24h:F','t_max_2m_24h:F','precip_24h:mm','sunshine_duration_24h:min','drought_index:idx','soil_moisture_index_-15cm:idx','soil_type:idx','wind_speed_2m:mph','elevation:m']"
   ]
  },
  {
   "cell_type": "markdown",
   "id": "fbe4bf67-650c-4b0b-928e-9a130f9fe525",
   "metadata": {},
   "source": [
    "# Call Meteomatics API with WeatherCall\n",
    "\n",
    "**Run the code below to call the Metomatics API after setting location, time, and parameters above.**\n"
   ]
  },
  {
   "cell_type": "code",
   "execution_count": 6,
   "id": "9e29cb43-a810-4caa-be13-0b964bda2d68",
   "metadata": {},
   "outputs": [
    {
     "output_type": "execute_result",
     "data": {
      "text/plain": [
       "         lat         lon  t_mean_2m_24h:F  t_min_2m_24h:F  t_max_2m_24h:F  \\\n",
       "0  33.705267 -118.079125             53.0            47.6            58.5   \n",
       "1  33.705267 -118.079125             54.2            49.6            60.6   \n",
       "2  33.705267 -118.079125             53.2            42.7            66.0   \n",
       "3  33.705267 -118.079125             55.1            44.2            67.5   \n",
       "4  33.705267 -118.079125             54.9            44.0            68.9   \n",
       "\n",
       "   precip_24h:mm  sunshine_duration_24h:min  drought_index:idx  \\\n",
       "0           0.45                      232.7               -4.0   \n",
       "1           0.08                      572.1               -4.0   \n",
       "2           0.00                      598.0               -4.0   \n",
       "3           0.00                      598.9               -4.0   \n",
       "4           0.00                      598.5               -4.0   \n",
       "\n",
       "   soil_moisture_index_-15cm:idx  soil_type:idx  wind_speed_2m:mph  \\\n",
       "0                            0.0            2.0                5.6   \n",
       "1                            0.0            2.0                9.6   \n",
       "2                            0.0            2.0                4.5   \n",
       "3                            0.0            2.0                6.2   \n",
       "4                            0.0            2.0                3.0   \n",
       "\n",
       "   elevation:m                      date  \n",
       "0          0.0 2000-01-01 00:00:00+00:00  \n",
       "1          0.0 2000-01-02 00:00:00+00:00  \n",
       "2          0.0 2000-01-03 00:00:00+00:00  \n",
       "3          0.0 2000-01-04 00:00:00+00:00  \n",
       "4          0.0 2000-01-05 00:00:00+00:00  "
      ],
      "text/html": "<div>\n<style scoped>\n    .dataframe tbody tr th:only-of-type {\n        vertical-align: middle;\n    }\n\n    .dataframe tbody tr th {\n        vertical-align: top;\n    }\n\n    .dataframe thead th {\n        text-align: right;\n    }\n</style>\n<table border=\"1\" class=\"dataframe\">\n  <thead>\n    <tr style=\"text-align: right;\">\n      <th></th>\n      <th>lat</th>\n      <th>lon</th>\n      <th>t_mean_2m_24h:F</th>\n      <th>t_min_2m_24h:F</th>\n      <th>t_max_2m_24h:F</th>\n      <th>precip_24h:mm</th>\n      <th>sunshine_duration_24h:min</th>\n      <th>drought_index:idx</th>\n      <th>soil_moisture_index_-15cm:idx</th>\n      <th>soil_type:idx</th>\n      <th>wind_speed_2m:mph</th>\n      <th>elevation:m</th>\n      <th>date</th>\n    </tr>\n  </thead>\n  <tbody>\n    <tr>\n      <th>0</th>\n      <td>33.705267</td>\n      <td>-118.079125</td>\n      <td>53.0</td>\n      <td>47.6</td>\n      <td>58.5</td>\n      <td>0.45</td>\n      <td>232.7</td>\n      <td>-4.0</td>\n      <td>0.0</td>\n      <td>2.0</td>\n      <td>5.6</td>\n      <td>0.0</td>\n      <td>2000-01-01 00:00:00+00:00</td>\n    </tr>\n    <tr>\n      <th>1</th>\n      <td>33.705267</td>\n      <td>-118.079125</td>\n      <td>54.2</td>\n      <td>49.6</td>\n      <td>60.6</td>\n      <td>0.08</td>\n      <td>572.1</td>\n      <td>-4.0</td>\n      <td>0.0</td>\n      <td>2.0</td>\n      <td>9.6</td>\n      <td>0.0</td>\n      <td>2000-01-02 00:00:00+00:00</td>\n    </tr>\n    <tr>\n      <th>2</th>\n      <td>33.705267</td>\n      <td>-118.079125</td>\n      <td>53.2</td>\n      <td>42.7</td>\n      <td>66.0</td>\n      <td>0.00</td>\n      <td>598.0</td>\n      <td>-4.0</td>\n      <td>0.0</td>\n      <td>2.0</td>\n      <td>4.5</td>\n      <td>0.0</td>\n      <td>2000-01-03 00:00:00+00:00</td>\n    </tr>\n    <tr>\n      <th>3</th>\n      <td>33.705267</td>\n      <td>-118.079125</td>\n      <td>55.1</td>\n      <td>44.2</td>\n      <td>67.5</td>\n      <td>0.00</td>\n      <td>598.9</td>\n      <td>-4.0</td>\n      <td>0.0</td>\n      <td>2.0</td>\n      <td>6.2</td>\n      <td>0.0</td>\n      <td>2000-01-04 00:00:00+00:00</td>\n    </tr>\n    <tr>\n      <th>4</th>\n      <td>33.705267</td>\n      <td>-118.079125</td>\n      <td>54.9</td>\n      <td>44.0</td>\n      <td>68.9</td>\n      <td>0.00</td>\n      <td>598.5</td>\n      <td>-4.0</td>\n      <td>0.0</td>\n      <td>2.0</td>\n      <td>3.0</td>\n      <td>0.0</td>\n      <td>2000-01-05 00:00:00+00:00</td>\n    </tr>\n  </tbody>\n</table>\n</div>"
     },
     "metadata": {},
     "execution_count": 6
    }
   ],
   "source": [
    "#Call API\n",
    "# results = WeatherCall(mgrs_test,parameters,time)\n",
    "results = WeatherCall(mgrs_locations,parameters,time)\n",
    "\n",
    "#View Results\n",
    "results.head()"
   ]
  },
  {
   "cell_type": "code",
   "execution_count": 40,
   "metadata": {},
   "outputs": [
    {
     "output_type": "execute_result",
     "data": {
      "text/plain": [
       "             lat         lon  t_mean_2m_24h:F  t_min_2m_24h:F  t_max_2m_24h:F  \\\n",
       "0      33.705267 -118.079125             53.0            47.6            58.5   \n",
       "1      33.705267 -118.079125             54.2            49.6            60.6   \n",
       "2      33.705267 -118.079125             53.2            42.7            66.0   \n",
       "3      33.705267 -118.079125             55.1            44.2            67.5   \n",
       "4      33.705267 -118.079125             54.9            44.0            68.9   \n",
       "...          ...         ...              ...             ...             ...   \n",
       "20085  33.167642 -117.536254             55.9            51.7            60.6   \n",
       "20086  33.167642 -117.536254             56.4            50.3            60.7   \n",
       "20087  33.167642 -117.536254             56.5            54.6            60.1   \n",
       "20088  33.167642 -117.536254             52.9            49.8            57.7   \n",
       "20089  33.167642 -117.536254             51.0            47.1            54.7   \n",
       "\n",
       "       precip_24h:mm  sunshine_duration_24h:min  drought_index:idx  \\\n",
       "0               0.45                      232.7               -4.0   \n",
       "1               0.08                      572.1               -4.0   \n",
       "2               0.00                      598.0               -4.0   \n",
       "3               0.00                      598.9               -4.0   \n",
       "4               0.00                      598.5               -4.0   \n",
       "...              ...                        ...                ...   \n",
       "20085           0.00                      470.9                4.0   \n",
       "20086           0.00                      466.8                4.0   \n",
       "20087          16.65                      184.8                4.0   \n",
       "20088           0.00                      584.7                4.0   \n",
       "20089           0.00                      565.8                4.0   \n",
       "\n",
       "       soil_moisture_index_-15cm:idx  soil_type:idx  wind_speed_2m:mph  \\\n",
       "0                              0.000            2.0                5.6   \n",
       "1                              0.000            2.0                9.6   \n",
       "2                              0.000            2.0                4.5   \n",
       "3                              0.000            2.0                6.2   \n",
       "4                              0.000            2.0                3.0   \n",
       "...                              ...            ...                ...   \n",
       "20085                          0.889            2.0                4.6   \n",
       "20086                          0.902            2.0                3.9   \n",
       "20087                          1.027            2.0               15.1   \n",
       "20088                          0.942            2.0                6.4   \n",
       "20089                          0.895            2.0                2.6   \n",
       "\n",
       "       elevation:m                      date  \n",
       "0              0.0 2000-01-01 00:00:00+00:00  \n",
       "1              0.0 2000-01-02 00:00:00+00:00  \n",
       "2              0.0 2000-01-03 00:00:00+00:00  \n",
       "3              0.0 2000-01-04 00:00:00+00:00  \n",
       "4              0.0 2000-01-05 00:00:00+00:00  \n",
       "...            ...                       ...  \n",
       "20085          0.0 2010-12-27 00:00:00+00:00  \n",
       "20086          0.0 2010-12-28 00:00:00+00:00  \n",
       "20087          0.0 2010-12-29 00:00:00+00:00  \n",
       "20088          0.0 2010-12-30 00:00:00+00:00  \n",
       "20089          0.0 2010-12-31 00:00:00+00:00  \n",
       "\n",
       "[1546930 rows x 13 columns]"
      ],
      "text/html": "<div>\n<style scoped>\n    .dataframe tbody tr th:only-of-type {\n        vertical-align: middle;\n    }\n\n    .dataframe tbody tr th {\n        vertical-align: top;\n    }\n\n    .dataframe thead th {\n        text-align: right;\n    }\n</style>\n<table border=\"1\" class=\"dataframe\">\n  <thead>\n    <tr style=\"text-align: right;\">\n      <th></th>\n      <th>lat</th>\n      <th>lon</th>\n      <th>t_mean_2m_24h:F</th>\n      <th>t_min_2m_24h:F</th>\n      <th>t_max_2m_24h:F</th>\n      <th>precip_24h:mm</th>\n      <th>sunshine_duration_24h:min</th>\n      <th>drought_index:idx</th>\n      <th>soil_moisture_index_-15cm:idx</th>\n      <th>soil_type:idx</th>\n      <th>wind_speed_2m:mph</th>\n      <th>elevation:m</th>\n      <th>date</th>\n    </tr>\n  </thead>\n  <tbody>\n    <tr>\n      <th>0</th>\n      <td>33.705267</td>\n      <td>-118.079125</td>\n      <td>53.0</td>\n      <td>47.6</td>\n      <td>58.5</td>\n      <td>0.45</td>\n      <td>232.7</td>\n      <td>-4.0</td>\n      <td>0.000</td>\n      <td>2.0</td>\n      <td>5.6</td>\n      <td>0.0</td>\n      <td>2000-01-01 00:00:00+00:00</td>\n    </tr>\n    <tr>\n      <th>1</th>\n      <td>33.705267</td>\n      <td>-118.079125</td>\n      <td>54.2</td>\n      <td>49.6</td>\n      <td>60.6</td>\n      <td>0.08</td>\n      <td>572.1</td>\n      <td>-4.0</td>\n      <td>0.000</td>\n      <td>2.0</td>\n      <td>9.6</td>\n      <td>0.0</td>\n      <td>2000-01-02 00:00:00+00:00</td>\n    </tr>\n    <tr>\n      <th>2</th>\n      <td>33.705267</td>\n      <td>-118.079125</td>\n      <td>53.2</td>\n      <td>42.7</td>\n      <td>66.0</td>\n      <td>0.00</td>\n      <td>598.0</td>\n      <td>-4.0</td>\n      <td>0.000</td>\n      <td>2.0</td>\n      <td>4.5</td>\n      <td>0.0</td>\n      <td>2000-01-03 00:00:00+00:00</td>\n    </tr>\n    <tr>\n      <th>3</th>\n      <td>33.705267</td>\n      <td>-118.079125</td>\n      <td>55.1</td>\n      <td>44.2</td>\n      <td>67.5</td>\n      <td>0.00</td>\n      <td>598.9</td>\n      <td>-4.0</td>\n      <td>0.000</td>\n      <td>2.0</td>\n      <td>6.2</td>\n      <td>0.0</td>\n      <td>2000-01-04 00:00:00+00:00</td>\n    </tr>\n    <tr>\n      <th>4</th>\n      <td>33.705267</td>\n      <td>-118.079125</td>\n      <td>54.9</td>\n      <td>44.0</td>\n      <td>68.9</td>\n      <td>0.00</td>\n      <td>598.5</td>\n      <td>-4.0</td>\n      <td>0.000</td>\n      <td>2.0</td>\n      <td>3.0</td>\n      <td>0.0</td>\n      <td>2000-01-05 00:00:00+00:00</td>\n    </tr>\n    <tr>\n      <th>...</th>\n      <td>...</td>\n      <td>...</td>\n      <td>...</td>\n      <td>...</td>\n      <td>...</td>\n      <td>...</td>\n      <td>...</td>\n      <td>...</td>\n      <td>...</td>\n      <td>...</td>\n      <td>...</td>\n      <td>...</td>\n      <td>...</td>\n    </tr>\n    <tr>\n      <th>20085</th>\n      <td>33.167642</td>\n      <td>-117.536254</td>\n      <td>55.9</td>\n      <td>51.7</td>\n      <td>60.6</td>\n      <td>0.00</td>\n      <td>470.9</td>\n      <td>4.0</td>\n      <td>0.889</td>\n      <td>2.0</td>\n      <td>4.6</td>\n      <td>0.0</td>\n      <td>2010-12-27 00:00:00+00:00</td>\n    </tr>\n    <tr>\n      <th>20086</th>\n      <td>33.167642</td>\n      <td>-117.536254</td>\n      <td>56.4</td>\n      <td>50.3</td>\n      <td>60.7</td>\n      <td>0.00</td>\n      <td>466.8</td>\n      <td>4.0</td>\n      <td>0.902</td>\n      <td>2.0</td>\n      <td>3.9</td>\n      <td>0.0</td>\n      <td>2010-12-28 00:00:00+00:00</td>\n    </tr>\n    <tr>\n      <th>20087</th>\n      <td>33.167642</td>\n      <td>-117.536254</td>\n      <td>56.5</td>\n      <td>54.6</td>\n      <td>60.1</td>\n      <td>16.65</td>\n      <td>184.8</td>\n      <td>4.0</td>\n      <td>1.027</td>\n      <td>2.0</td>\n      <td>15.1</td>\n      <td>0.0</td>\n      <td>2010-12-29 00:00:00+00:00</td>\n    </tr>\n    <tr>\n      <th>20088</th>\n      <td>33.167642</td>\n      <td>-117.536254</td>\n      <td>52.9</td>\n      <td>49.8</td>\n      <td>57.7</td>\n      <td>0.00</td>\n      <td>584.7</td>\n      <td>4.0</td>\n      <td>0.942</td>\n      <td>2.0</td>\n      <td>6.4</td>\n      <td>0.0</td>\n      <td>2010-12-30 00:00:00+00:00</td>\n    </tr>\n    <tr>\n      <th>20089</th>\n      <td>33.167642</td>\n      <td>-117.536254</td>\n      <td>51.0</td>\n      <td>47.1</td>\n      <td>54.7</td>\n      <td>0.00</td>\n      <td>565.8</td>\n      <td>4.0</td>\n      <td>0.895</td>\n      <td>2.0</td>\n      <td>2.6</td>\n      <td>0.0</td>\n      <td>2010-12-31 00:00:00+00:00</td>\n    </tr>\n  </tbody>\n</table>\n<p>1546930 rows × 13 columns</p>\n</div>"
     },
     "metadata": {},
     "execution_count": 40
    }
   ],
   "source": [
    "results"
   ]
  },
  {
   "cell_type": "code",
   "execution_count": 7,
   "metadata": {},
   "outputs": [
    {
     "output_type": "stream",
     "name": "stdout",
     "text": [
      "<class 'pandas.core.frame.DataFrame'>\nInt64Index: 1546930 entries, 0 to 20089\nData columns (total 13 columns):\n #   Column                         Non-Null Count    Dtype              \n---  ------                         --------------    -----              \n 0   lat                            1546930 non-null  float64            \n 1   lon                            1546930 non-null  float64            \n 2   t_mean_2m_24h:F                1546930 non-null  float64            \n 3   t_min_2m_24h:F                 1546930 non-null  float64            \n 4   t_max_2m_24h:F                 1546930 non-null  float64            \n 5   precip_24h:mm                  1546930 non-null  float64            \n 6   sunshine_duration_24h:min      1546930 non-null  float64            \n 7   drought_index:idx              1546930 non-null  float64            \n 8   soil_moisture_index_-15cm:idx  1462552 non-null  float64            \n 9   soil_type:idx                  1462552 non-null  float64            \n 10  wind_speed_2m:mph              1546930 non-null  float64            \n 11  elevation:m                    1546930 non-null  float64            \n 12  date                           1546930 non-null  datetime64[ns, UTC]\ndtypes: datetime64[ns, UTC](1), float64(12)\nmemory usage: 165.2 MB\n"
     ]
    }
   ],
   "source": [
    "results.info()"
   ]
  },
  {
   "cell_type": "code",
   "execution_count": 8,
   "metadata": {},
   "outputs": [
    {
     "output_type": "execute_result",
     "data": {
      "text/plain": [
       "4018"
      ]
     },
     "metadata": {},
     "execution_count": 8
    }
   ],
   "source": [
    "len(results.date.unique())"
   ]
  },
  {
   "cell_type": "code",
   "execution_count": 14,
   "metadata": {},
   "outputs": [
    {
     "output_type": "execute_result",
     "data": {
      "text/plain": [
       "(datetime.datetime(2011, 1, 2, 0, 0),\n",
       " datetime.datetime(2016, 1, 1, 0, 0),\n",
       " datetime.timedelta(days=1))"
      ]
     },
     "metadata": {},
     "execution_count": 14
    }
   ],
   "source": [
    "time"
   ]
  },
  {
   "cell_type": "code",
   "execution_count": 15,
   "metadata": {},
   "outputs": [
    {
     "output_type": "stream",
     "name": "stdout",
     "text": [
      "<class 'pandas.core.frame.DataFrame'>\nInt64Index: 703010 entries, 0 to 9129\nData columns (total 13 columns):\n #   Column                         Non-Null Count   Dtype              \n---  ------                         --------------   -----              \n 0   lat                            703010 non-null  float64            \n 1   lon                            703010 non-null  float64            \n 2   t_mean_2m_24h:F                703010 non-null  float64            \n 3   t_min_2m_24h:F                 703010 non-null  float64            \n 4   t_max_2m_24h:F                 703010 non-null  float64            \n 5   precip_24h:mm                  703010 non-null  float64            \n 6   sunshine_duration_24h:min      703010 non-null  float64            \n 7   drought_index:idx              703010 non-null  float64            \n 8   soil_moisture_index_-15cm:idx  649271 non-null  float64            \n 9   soil_type:idx                  650737 non-null  float64            \n 10  wind_speed_2m:mph              703010 non-null  float64            \n 11  elevation:m                    703010 non-null  float64            \n 12  date                           703010 non-null  datetime64[ns, UTC]\ndtypes: datetime64[ns, UTC](1), float64(12)\nmemory usage: 75.1 MB\n"
     ]
    }
   ],
   "source": [
    "#Call API\n",
    "# results = WeatherCall(mgrs_test,parameters,time)\n",
    "results2 = WeatherCall(mgrs_locations,parameters,time)\n",
    "\n",
    "#View Results\n",
    "results2.info()"
   ]
  },
  {
   "cell_type": "code",
   "execution_count": 16,
   "metadata": {},
   "outputs": [
    {
     "output_type": "execute_result",
     "data": {
      "text/plain": [
       "         lat         lon  t_mean_2m_24h:F  t_min_2m_24h:F  t_max_2m_24h:F  \\\n",
       "0  33.705267 -118.079125             49.9            42.9            57.0   \n",
       "1  33.705267 -118.079125             50.8            46.2            55.7   \n",
       "2  33.705267 -118.079125             50.8            46.7            57.0   \n",
       "3  33.705267 -118.079125             52.9            44.6            62.9   \n",
       "4  33.705267 -118.079125             53.3            43.8            64.0   \n",
       "\n",
       "   precip_24h:mm  sunshine_duration_24h:min  drought_index:idx  \\\n",
       "0           0.00                      576.4                4.0   \n",
       "1           3.80                      204.0                4.0   \n",
       "2          11.71                      152.0                4.0   \n",
       "3           0.65                      577.1                4.0   \n",
       "4           0.00                      588.0                4.0   \n",
       "\n",
       "   soil_moisture_index_-15cm:idx  soil_type:idx  wind_speed_2m:mph  \\\n",
       "0                          0.844            2.0                1.9   \n",
       "1                          0.817            2.0                6.6   \n",
       "2                          0.940            2.0                2.1   \n",
       "3                          0.911            2.0                3.4   \n",
       "4                          0.871            2.0                4.0   \n",
       "\n",
       "   elevation:m                      date  \n",
       "0          0.0 2011-01-01 00:00:00+00:00  \n",
       "1          0.0 2011-01-02 00:00:00+00:00  \n",
       "2          0.0 2011-01-03 00:00:00+00:00  \n",
       "3          0.0 2011-01-04 00:00:00+00:00  \n",
       "4          0.0 2011-01-05 00:00:00+00:00  "
      ],
      "text/html": "<div>\n<style scoped>\n    .dataframe tbody tr th:only-of-type {\n        vertical-align: middle;\n    }\n\n    .dataframe tbody tr th {\n        vertical-align: top;\n    }\n\n    .dataframe thead th {\n        text-align: right;\n    }\n</style>\n<table border=\"1\" class=\"dataframe\">\n  <thead>\n    <tr style=\"text-align: right;\">\n      <th></th>\n      <th>lat</th>\n      <th>lon</th>\n      <th>t_mean_2m_24h:F</th>\n      <th>t_min_2m_24h:F</th>\n      <th>t_max_2m_24h:F</th>\n      <th>precip_24h:mm</th>\n      <th>sunshine_duration_24h:min</th>\n      <th>drought_index:idx</th>\n      <th>soil_moisture_index_-15cm:idx</th>\n      <th>soil_type:idx</th>\n      <th>wind_speed_2m:mph</th>\n      <th>elevation:m</th>\n      <th>date</th>\n    </tr>\n  </thead>\n  <tbody>\n    <tr>\n      <th>0</th>\n      <td>33.705267</td>\n      <td>-118.079125</td>\n      <td>49.9</td>\n      <td>42.9</td>\n      <td>57.0</td>\n      <td>0.00</td>\n      <td>576.4</td>\n      <td>4.0</td>\n      <td>0.844</td>\n      <td>2.0</td>\n      <td>1.9</td>\n      <td>0.0</td>\n      <td>2011-01-01 00:00:00+00:00</td>\n    </tr>\n    <tr>\n      <th>1</th>\n      <td>33.705267</td>\n      <td>-118.079125</td>\n      <td>50.8</td>\n      <td>46.2</td>\n      <td>55.7</td>\n      <td>3.80</td>\n      <td>204.0</td>\n      <td>4.0</td>\n      <td>0.817</td>\n      <td>2.0</td>\n      <td>6.6</td>\n      <td>0.0</td>\n      <td>2011-01-02 00:00:00+00:00</td>\n    </tr>\n    <tr>\n      <th>2</th>\n      <td>33.705267</td>\n      <td>-118.079125</td>\n      <td>50.8</td>\n      <td>46.7</td>\n      <td>57.0</td>\n      <td>11.71</td>\n      <td>152.0</td>\n      <td>4.0</td>\n      <td>0.940</td>\n      <td>2.0</td>\n      <td>2.1</td>\n      <td>0.0</td>\n      <td>2011-01-03 00:00:00+00:00</td>\n    </tr>\n    <tr>\n      <th>3</th>\n      <td>33.705267</td>\n      <td>-118.079125</td>\n      <td>52.9</td>\n      <td>44.6</td>\n      <td>62.9</td>\n      <td>0.65</td>\n      <td>577.1</td>\n      <td>4.0</td>\n      <td>0.911</td>\n      <td>2.0</td>\n      <td>3.4</td>\n      <td>0.0</td>\n      <td>2011-01-04 00:00:00+00:00</td>\n    </tr>\n    <tr>\n      <th>4</th>\n      <td>33.705267</td>\n      <td>-118.079125</td>\n      <td>53.3</td>\n      <td>43.8</td>\n      <td>64.0</td>\n      <td>0.00</td>\n      <td>588.0</td>\n      <td>4.0</td>\n      <td>0.871</td>\n      <td>2.0</td>\n      <td>4.0</td>\n      <td>0.0</td>\n      <td>2011-01-05 00:00:00+00:00</td>\n    </tr>\n  </tbody>\n</table>\n</div>"
     },
     "metadata": {},
     "execution_count": 16
    }
   ],
   "source": [
    "results2.head()"
   ]
  },
  {
   "cell_type": "code",
   "execution_count": 52,
   "metadata": {},
   "outputs": [
    {
     "output_type": "stream",
     "name": "stdout",
     "text": [
      "<class 'pandas.core.frame.DataFrame'>\nRangeIndex: 2249940 entries, 0 to 2249939\nData columns (total 13 columns):\n #   Column                         Dtype              \n---  ------                         -----              \n 0   lat                            float64            \n 1   lon                            float64            \n 2   t_mean_2m_24h:F                float64            \n 3   t_min_2m_24h:F                 float64            \n 4   t_max_2m_24h:F                 float64            \n 5   precip_24h:mm                  float64            \n 6   sunshine_duration_24h:min      float64            \n 7   drought_index:idx              float64            \n 8   soil_moisture_index_-15cm:idx  float64            \n 9   soil_type:idx                  float64            \n 10  wind_speed_2m:mph              float64            \n 11  elevation:m                    float64            \n 12  date                           datetime64[ns, UTC]\ndtypes: datetime64[ns, UTC](1), float64(12)\nmemory usage: 223.2 MB\n"
     ]
    }
   ],
   "source": [
    "weather = pd.concat([results, results2], ignore_index=True)\n",
    "weather.info()"
   ]
  },
  {
   "cell_type": "code",
   "execution_count": 60,
   "metadata": {},
   "outputs": [],
   "source": [
    "weather.to_csv('2000to2015_Weather_v2.csv')"
   ]
  },
  {
   "cell_type": "code",
   "execution_count": 44,
   "metadata": {},
   "outputs": [],
   "source": [
    "# import mgrs\n",
    "# m = mgrs.MGRS() #mgrs API\n",
    "# to_mgrs_10km = []  #precision 1\n",
    "# to_mgrs_100km = []  #precision 0\n",
    "\n",
    "# for i, j in zip(weather['lat'].tolist(), np.round(weather['lon'],8).tolist()):\n",
    "#     to_mgrs_10km.append(m.toMGRS(i, j, MGRSPrecision=1)) \n",
    "#     to_mgrs_100km.append(m.toMGRS(i, j, MGRSPrecision=0)) # use mgrs API to convert lat/lon to MGRS conventions\n",
    "\n",
    "# weather['mgrs_10km'] = to_mgrs_10km\n",
    "# weather['mgrs_100km'] = to_mgrs_100km"
   ]
  },
  {
   "cell_type": "code",
   "execution_count": 53,
   "metadata": {},
   "outputs": [],
   "source": [
    "# weather.info()"
   ]
  },
  {
   "cell_type": "code",
   "execution_count": 46,
   "metadata": {},
   "outputs": [
    {
     "output_type": "execute_result",
     "data": {
      "text/plain": [
       "274"
      ]
     },
     "metadata": {},
     "execution_count": 46
    }
   ],
   "source": [
    "# len(weather.mgrs_10km.unique())"
   ]
  },
  {
   "cell_type": "code",
   "execution_count": 59,
   "metadata": {},
   "outputs": [],
   "source": [
    "# len(weather.mgrs_100km.unique())"
   ]
  },
  {
   "cell_type": "code",
   "execution_count": 54,
   "metadata": {},
   "outputs": [],
   "source": [
    "# weather.mgrs_100km.unique()"
   ]
  },
  {
   "cell_type": "code",
   "execution_count": 55,
   "metadata": {},
   "outputs": [],
   "source": [
    "# weather.head()"
   ]
  },
  {
   "cell_type": "code",
   "execution_count": 56,
   "metadata": {
    "tags": []
   },
   "outputs": [],
   "source": [
    "\n",
    "# # w_lat, w_lon = [], []\n",
    "# w_coords = []\n",
    "\n",
    "# for i,j in zip(weather.lat.unique().tolist(), np.round(weather.lon,8).unique().tolist()):\n",
    "#     # print(i,j)\n",
    "#     w_coords.append([i,j])\n",
    "\n",
    "# w_coords[:20]"
   ]
  },
  {
   "cell_type": "code",
   "execution_count": 57,
   "metadata": {},
   "outputs": [],
   "source": [
    "# len(w_coords)"
   ]
  },
  {
   "cell_type": "code",
   "execution_count": 58,
   "metadata": {},
   "outputs": [],
   "source": [
    "# mgrs_locations[:2]"
   ]
  }
 ],
 "metadata": {
  "kernelspec": {
   "name": "python385jvsc74a57bd07a8cd81a1699e7e1c05d771835f6490edbb9a81a456e457283de8180856282df",
   "display_name": "Python 3.8.5 64-bit ('base': conda)"
  },
  "language_info": {
   "codemirror_mode": {
    "name": "ipython",
    "version": 3
   },
   "file_extension": ".py",
   "mimetype": "text/x-python",
   "name": "python",
   "nbconvert_exporter": "python",
   "pygments_lexer": "ipython3",
   "version": "3.8.5"
  }
 },
 "nbformat": 4,
 "nbformat_minor": 5
}