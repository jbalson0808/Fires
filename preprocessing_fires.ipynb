{
 "metadata": {
  "language_info": {
   "codemirror_mode": {
    "name": "ipython",
    "version": 3
   },
   "file_extension": ".py",
   "mimetype": "text/x-python",
   "name": "python",
   "nbconvert_exporter": "python",
   "pygments_lexer": "ipython3",
   "version": "3.8.10"
  },
  "orig_nbformat": 2,
  "kernelspec": {
   "name": "python3810jvsc74a57bd07a8cd81a1699e7e1c05d771835f6490edbb9a81a456e457283de8180856282df",
   "display_name": "Python 3.8.10 64-bit ('base': conda)"
  }
 },
 "nbformat": 4,
 "nbformat_minor": 2,
 "cells": [
  {
   "cell_type": "code",
   "execution_count": 39,
   "metadata": {},
   "outputs": [],
   "source": [
    "import numpy as np\n",
    "import pandas as pd\n",
    "import mgrs\n",
    "import sqlite3"
   ]
  },
  {
   "cell_type": "code",
   "execution_count": 40,
   "metadata": {},
   "outputs": [],
   "source": [
    "# limit to only the MGRS locations in Southern CA\n",
    "MGRS_100KM_USED = ['11SMT','11SNT','11SNS','11SMS','11SLT']\n",
    "\n",
    "# filter out class A fires, which are less than 1/4 acre\n",
    "CLASSES_USED = ['B','C','D','E','F','G']\n",
    "\n",
    "def missingByCol(df): #count missing values by column\n",
    "    for col in df.columns:\n",
    "        if df[col].isna().sum() != 0:\n",
    "            print(col, df[col].isna().sum())\n",
    "\n",
    "def getCalTbl(start='2000-01-01', end='2015-12-31'):\n",
    "    df = pd.DataFrame({'date': pd.date_range(start, end)})\n",
    "    return df"
   ]
  },
  {
   "source": [
    "Import Data: Need to copy and paste sqllite file from Kaggle into local drive path. FPA_FOD_20170508.sqlite https://www.kaggle.com/rtatman/188-million-us-wildfires\n",
    "\n",
    "Fires - Target data - Kaggle"
   ],
   "cell_type": "markdown",
   "metadata": {}
  },
  {
   "cell_type": "code",
   "execution_count": 41,
   "metadata": {},
   "outputs": [
    {
     "output_type": "stream",
     "name": "stdout",
     "text": [
      "<class 'pandas.core.frame.DataFrame'>\nRangeIndex: 9191 entries, 0 to 9190\nData columns (total 5 columns):\n #   Column      Non-Null Count  Dtype         \n---  ------      --------------  -----         \n 0   mgrs_100km  9191 non-null   object        \n 1   mgrs_10km   9191 non-null   object        \n 2   lat         9191 non-null   float64       \n 3   lon         9191 non-null   float64       \n 4   date        9191 non-null   datetime64[ns]\ndtypes: datetime64[ns](1), float64(2), object(2)\nmemory usage: 359.1+ KB\n"
     ]
    }
   ],
   "source": [
    "conn = sqlite3.connect('C:/Users/balso/Downloads/FPA_FOD_20170508.sqlite')\n",
    "ca_fires = pd.read_sql_query('select * from fires where State = \"CA\";', conn) # \n",
    "\n",
    "m = mgrs.MGRS() #mgrs API\n",
    "to_mgrs_10km = []  #precision 1\n",
    "to_mgrs_100km = []  #precision 0\n",
    "to_mgrs_lat_10km = []\n",
    "to_mgrs_lon_10km = []\n",
    "\n",
    "ca_fires_data = pd.DataFrame()\n",
    "\n",
    "ca_fires_data['object_id'] = ca_fires['OBJECTID']\n",
    "ca_fires_data['reporting_unit'] = ca_fires['NWCG_REPORTING_UNIT_NAME']\n",
    "ca_fires_data['fire_date_num'] = ca_fires['DISCOVERY_DATE']\n",
    "ca_fires_data['fire_date_cal'] = pd.to_datetime(ca_fires['DISCOVERY_DATE'], unit='D', origin='julian') #convert numeric to calendar date\n",
    "ca_fires_data['fire_year'] = ca_fires['FIRE_YEAR']\n",
    "ca_fires_data['fire_month'] = ca_fires_data['fire_date_cal'].dt.month_name()\n",
    "ca_fires_data['fire_day_of_week'] = ca_fires_data['fire_date_cal'].dt.day_name()\n",
    "ca_fires_data['fire_class'] = ca_fires['FIRE_SIZE_CLASS']\n",
    "ca_fires_data['lat'] = ca_fires['LATITUDE']\n",
    "ca_fires_data['lon'] = ca_fires['LONGITUDE']\n",
    "\n",
    "for i, j in zip(ca_fires_data['lat'].tolist(), ca_fires_data['lon'].tolist()):\n",
    "    to_mgrs_10km.append(m.toMGRS(i, j, MGRSPrecision=1)) \n",
    "    to_mgrs_100km.append(m.toMGRS(i, j, MGRSPrecision=0)) \n",
    "\n",
    "ca_fires_data['mgrs_10km'] = to_mgrs_10km\n",
    "ca_fires_data['mgrs_100km'] = to_mgrs_100km\n",
    "\n",
    "for k in ca_fires_data['mgrs_10km'].tolist():\n",
    "    to_mgrs_lat_10km.append(m.toLatLon(k)[0])\n",
    "    to_mgrs_lon_10km.append(m.toLatLon(k)[1])\n",
    "\n",
    "ca_fires_data['mgrs_lat_10km'] = to_mgrs_lat_10km\n",
    "ca_fires_data['mgrs_lon_10km'] = to_mgrs_lon_10km\n",
    "\n",
    "# filter out winter months where fires not likely\n",
    "# ca_fires_data = ca_fires_data[ca_fires_data.fire_month.isin(MONTHS_USED)] #don't apply this filter until later\n",
    "\n",
    "# filter out class A fires, which are less than 1/4 acre\n",
    "ca_fires_data = ca_fires_data[ca_fires_data.fire_class.isin(CLASSES_USED)]\n",
    "\n",
    "# filter out fires before 2000 since weather data is sparse before year 2000\n",
    "ca_fires_data = ca_fires_data[ca_fires_data.fire_year >= 2000]\n",
    "\n",
    "# limit to only the MGRS locations in Southern CA\n",
    "socal_fires_data = ca_fires_data[ca_fires_data.mgrs_100km.isin(MGRS_100KM_USED)]\n",
    "\n",
    "# keep only necessary columns\n",
    "socal_lite = pd.DataFrame()\n",
    "socal_lite['mgrs_100km'] = socal_fires_data['mgrs_100km']\n",
    "socal_lite['mgrs_10km'] = socal_fires_data['mgrs_10km']\n",
    "socal_lite['lat'] = socal_fires_data['mgrs_lat_10km']\n",
    "socal_lite['lon'] = socal_fires_data['mgrs_lon_10km']\n",
    "socal_lite['date'] = socal_fires_data['fire_date_cal']\n",
    "socal_lite = socal_lite.sort_values(by = ['mgrs_10km','date'])\n",
    "socal_lite.reset_index(drop=True, inplace = True)\n",
    "socal_lite.info()"
   ]
  },
  {
   "cell_type": "code",
   "execution_count": 42,
   "metadata": {},
   "outputs": [
    {
     "output_type": "stream",
     "name": "stdout",
     "text": [
      "<class 'pandas.core.frame.DataFrame'>\nRangeIndex: 5844 entries, 0 to 5843\nData columns (total 1 columns):\n #   Column  Non-Null Count  Dtype         \n---  ------  --------------  -----         \n 0   date    5844 non-null   datetime64[ns]\ndtypes: datetime64[ns](1)\nmemory usage: 45.8 KB\n"
     ]
    }
   ],
   "source": [
    "calendar = getCalTbl()\n",
    "calendar.info()"
   ]
  },
  {
   "cell_type": "code",
   "execution_count": 43,
   "metadata": {},
   "outputs": [
    {
     "output_type": "stream",
     "name": "stdout",
     "text": [
      "<class 'pandas.core.frame.DataFrame'>\nRangeIndex: 385 entries, 0 to 384\nData columns (total 3 columns):\n #   Column     Non-Null Count  Dtype  \n---  ------     --------------  -----  \n 0   mgrs_10km  385 non-null    object \n 1   lat_10km   385 non-null    float64\n 2   lon_10km   385 non-null    float64\ndtypes: float64(2), object(1)\nmemory usage: 9.1+ KB\n"
     ]
    }
   ],
   "source": [
    "#Import mgrs locations\n",
    "mgrs_final = pd.read_csv('https://raw.githubusercontent.com/jbalson0808/fires/main/mgrs_final.csv') #set location of mgrs_final\n",
    "mgrs_final = mgrs_final[['mgrs_10km','lat_10km','lon_10km']]\n",
    "mgrs_final.info() "
   ]
  },
  {
   "cell_type": "code",
   "execution_count": 44,
   "metadata": {},
   "outputs": [
    {
     "output_type": "stream",
     "name": "stdout",
     "text": [
      "<class 'pandas.core.frame.DataFrame'>\nInt64Index: 2249940 entries, 0 to 2249939\nData columns (total 5 columns):\n #   Column     Dtype         \n---  ------     -----         \n 0   mgrs_10km  object        \n 1   lat_10km   float64       \n 2   lon_10km   float64       \n 3   key        int64         \n 4   date       datetime64[ns]\ndtypes: datetime64[ns](1), float64(2), int64(1), object(1)\nmemory usage: 103.0+ MB\n"
     ]
    }
   ],
   "source": [
    "mgrs_final['key'] = int(0)\n",
    "calendar['key'] = int(0)\n",
    "mgrs_date = mgrs_final.merge(calendar,on='key',how='outer') #false key for cross join\n",
    "mgrs_date.info()"
   ]
  },
  {
   "cell_type": "code",
   "execution_count": 45,
   "metadata": {},
   "outputs": [
    {
     "output_type": "stream",
     "name": "stdout",
     "text": [
      "<class 'pandas.core.frame.DataFrame'>\nInt64Index: 2250400 entries, 0 to 2250399\nData columns (total 9 columns):\n #   Column      Dtype         \n---  ------      -----         \n 0   mgrs_10km   object        \n 1   lat_10km    float64       \n 2   lon_10km    float64       \n 3   key         int64         \n 4   date        datetime64[ns]\n 5   mgrs_100km  object        \n 6   lat         float64       \n 7   lon         float64       \n 8   is_fire     int64         \ndtypes: datetime64[ns](1), float64(4), int64(2), object(2)\nmemory usage: 171.7+ MB\n"
     ]
    }
   ],
   "source": [
    "fires = mgrs_date.merge(socal_lite,on=('mgrs_10km','date'),how='left')\n",
    "is_fire = []\n",
    "for i in fires['lat']:\n",
    "    # print(pd.isnull(i))\n",
    "    if pd.isnull(i) == True:\n",
    "        is_fire.append(int(0))\n",
    "    else:\n",
    "        is_fire.append(int(1))\n",
    "# np.sum(is_fire)\n",
    "fires['is_fire'] = is_fire\n",
    "fires.info()"
   ]
  },
  {
   "cell_type": "code",
   "execution_count": 46,
   "metadata": {},
   "outputs": [
    {
     "output_type": "execute_result",
     "data": {
      "text/plain": [
       "  mgrs_10km   lat_10km    lon_10km       date  is_fire\n",
       "0   11SMT03  33.705267 -118.079125 2000-01-01        0\n",
       "1   11SMT03  33.705267 -118.079125 2000-01-02        0\n",
       "2   11SMT03  33.705267 -118.079125 2000-01-03        0\n",
       "3   11SMT03  33.705267 -118.079125 2000-01-04        0\n",
       "4   11SMT03  33.705267 -118.079125 2000-01-05        0"
      ],
      "text/html": "<div>\n<style scoped>\n    .dataframe tbody tr th:only-of-type {\n        vertical-align: middle;\n    }\n\n    .dataframe tbody tr th {\n        vertical-align: top;\n    }\n\n    .dataframe thead th {\n        text-align: right;\n    }\n</style>\n<table border=\"1\" class=\"dataframe\">\n  <thead>\n    <tr style=\"text-align: right;\">\n      <th></th>\n      <th>mgrs_10km</th>\n      <th>lat_10km</th>\n      <th>lon_10km</th>\n      <th>date</th>\n      <th>is_fire</th>\n    </tr>\n  </thead>\n  <tbody>\n    <tr>\n      <th>0</th>\n      <td>11SMT03</td>\n      <td>33.705267</td>\n      <td>-118.079125</td>\n      <td>2000-01-01</td>\n      <td>0</td>\n    </tr>\n    <tr>\n      <th>1</th>\n      <td>11SMT03</td>\n      <td>33.705267</td>\n      <td>-118.079125</td>\n      <td>2000-01-02</td>\n      <td>0</td>\n    </tr>\n    <tr>\n      <th>2</th>\n      <td>11SMT03</td>\n      <td>33.705267</td>\n      <td>-118.079125</td>\n      <td>2000-01-03</td>\n      <td>0</td>\n    </tr>\n    <tr>\n      <th>3</th>\n      <td>11SMT03</td>\n      <td>33.705267</td>\n      <td>-118.079125</td>\n      <td>2000-01-04</td>\n      <td>0</td>\n    </tr>\n    <tr>\n      <th>4</th>\n      <td>11SMT03</td>\n      <td>33.705267</td>\n      <td>-118.079125</td>\n      <td>2000-01-05</td>\n      <td>0</td>\n    </tr>\n  </tbody>\n</table>\n</div>"
     },
     "metadata": {},
     "execution_count": 46
    }
   ],
   "source": [
    "fires.drop(columns=['key','mgrs_100km','lat','lon'], axis=1,inplace=True)\n",
    "fires.head()"
   ]
  },
  {
   "cell_type": "code",
   "execution_count": 47,
   "metadata": {},
   "outputs": [
    {
     "output_type": "execute_result",
     "data": {
      "text/plain": [
       "9190"
      ]
     },
     "metadata": {},
     "execution_count": 47
    }
   ],
   "source": [
    "np.sum(fires['is_fire'])"
   ]
  },
  {
   "cell_type": "code",
   "execution_count": 48,
   "metadata": {},
   "outputs": [],
   "source": [
    "years = 3\n",
    "days = 365\n",
    "roll_days = years * days\n",
    "fires['mgrs_fires_past3yrs'] = fires.groupby(['mgrs_10km'])['is_fire'].transform(lambda x: x.rolling(roll_days).sum())"
   ]
  },
  {
   "cell_type": "code",
   "execution_count": 49,
   "metadata": {},
   "outputs": [
    {
     "output_type": "execute_result",
     "data": {
      "text/plain": [
       "        mgrs_10km   lat_10km    lon_10km       date  is_fire  \\\n",
       "5057      11SMT03  33.705267 -118.079125 2013-11-05        1   \n",
       "9885      11SMT04  33.795444 -118.080255 2011-01-24        1   \n",
       "10044     11SMT04  33.795444 -118.080255 2011-07-02        1   \n",
       "10597     11SMT04  33.795444 -118.080255 2013-01-05        1   \n",
       "11088     11SMT04  33.795444 -118.080255 2014-05-11        1   \n",
       "...           ...        ...         ...        ...      ...   \n",
       "2202589   11SMS67  33.168058 -117.429006 2013-02-06        1   \n",
       "2207735   11SMS74  32.897775 -117.320775 2011-03-11        1   \n",
       "2219728   11SMS81  32.627384 -117.213205 2012-01-10        1   \n",
       "2219762   11SMS81  32.627384 -117.213205 2012-02-13        1   \n",
       "2220089   11SMS81  32.627384 -117.213205 2013-01-05        1   \n",
       "\n",
       "         mgrs_fires_past3yrs  \n",
       "5057                     1.0  \n",
       "9885                     1.0  \n",
       "10044                    2.0  \n",
       "10597                    3.0  \n",
       "11088                    3.0  \n",
       "...                      ...  \n",
       "2202589                  2.0  \n",
       "2207735                  1.0  \n",
       "2219728                  1.0  \n",
       "2219762                  2.0  \n",
       "2220089                  3.0  \n",
       "\n",
       "[9190 rows x 6 columns]"
      ],
      "text/html": "<div>\n<style scoped>\n    .dataframe tbody tr th:only-of-type {\n        vertical-align: middle;\n    }\n\n    .dataframe tbody tr th {\n        vertical-align: top;\n    }\n\n    .dataframe thead th {\n        text-align: right;\n    }\n</style>\n<table border=\"1\" class=\"dataframe\">\n  <thead>\n    <tr style=\"text-align: right;\">\n      <th></th>\n      <th>mgrs_10km</th>\n      <th>lat_10km</th>\n      <th>lon_10km</th>\n      <th>date</th>\n      <th>is_fire</th>\n      <th>mgrs_fires_past3yrs</th>\n    </tr>\n  </thead>\n  <tbody>\n    <tr>\n      <th>5057</th>\n      <td>11SMT03</td>\n      <td>33.705267</td>\n      <td>-118.079125</td>\n      <td>2013-11-05</td>\n      <td>1</td>\n      <td>1.0</td>\n    </tr>\n    <tr>\n      <th>9885</th>\n      <td>11SMT04</td>\n      <td>33.795444</td>\n      <td>-118.080255</td>\n      <td>2011-01-24</td>\n      <td>1</td>\n      <td>1.0</td>\n    </tr>\n    <tr>\n      <th>10044</th>\n      <td>11SMT04</td>\n      <td>33.795444</td>\n      <td>-118.080255</td>\n      <td>2011-07-02</td>\n      <td>1</td>\n      <td>2.0</td>\n    </tr>\n    <tr>\n      <th>10597</th>\n      <td>11SMT04</td>\n      <td>33.795444</td>\n      <td>-118.080255</td>\n      <td>2013-01-05</td>\n      <td>1</td>\n      <td>3.0</td>\n    </tr>\n    <tr>\n      <th>11088</th>\n      <td>11SMT04</td>\n      <td>33.795444</td>\n      <td>-118.080255</td>\n      <td>2014-05-11</td>\n      <td>1</td>\n      <td>3.0</td>\n    </tr>\n    <tr>\n      <th>...</th>\n      <td>...</td>\n      <td>...</td>\n      <td>...</td>\n      <td>...</td>\n      <td>...</td>\n      <td>...</td>\n    </tr>\n    <tr>\n      <th>2202589</th>\n      <td>11SMS67</td>\n      <td>33.168058</td>\n      <td>-117.429006</td>\n      <td>2013-02-06</td>\n      <td>1</td>\n      <td>2.0</td>\n    </tr>\n    <tr>\n      <th>2207735</th>\n      <td>11SMS74</td>\n      <td>32.897775</td>\n      <td>-117.320775</td>\n      <td>2011-03-11</td>\n      <td>1</td>\n      <td>1.0</td>\n    </tr>\n    <tr>\n      <th>2219728</th>\n      <td>11SMS81</td>\n      <td>32.627384</td>\n      <td>-117.213205</td>\n      <td>2012-01-10</td>\n      <td>1</td>\n      <td>1.0</td>\n    </tr>\n    <tr>\n      <th>2219762</th>\n      <td>11SMS81</td>\n      <td>32.627384</td>\n      <td>-117.213205</td>\n      <td>2012-02-13</td>\n      <td>1</td>\n      <td>2.0</td>\n    </tr>\n    <tr>\n      <th>2220089</th>\n      <td>11SMS81</td>\n      <td>32.627384</td>\n      <td>-117.213205</td>\n      <td>2013-01-05</td>\n      <td>1</td>\n      <td>3.0</td>\n    </tr>\n  </tbody>\n</table>\n<p>9190 rows × 6 columns</p>\n</div>"
     },
     "metadata": {},
     "execution_count": 49
    }
   ],
   "source": [
    "fires[fires['is_fire']==1]"
   ]
  },
  {
   "cell_type": "code",
   "execution_count": 50,
   "metadata": {},
   "outputs": [
    {
     "output_type": "stream",
     "name": "stdout",
     "text": [
      "1095\n"
     ]
    },
    {
     "output_type": "execute_result",
     "data": {
      "text/plain": [
       "     mgrs_10km   lat_10km    lon_10km       date  is_fire  mgrs_fires_past3yrs\n",
       "1090   11SMT03  33.705267 -118.079125 2002-12-26        0                  NaN\n",
       "1091   11SMT03  33.705267 -118.079125 2002-12-27        0                  NaN\n",
       "1092   11SMT03  33.705267 -118.079125 2002-12-28        0                  NaN\n",
       "1093   11SMT03  33.705267 -118.079125 2002-12-29        0                  NaN\n",
       "1094   11SMT03  33.705267 -118.079125 2002-12-30        0                  0.0\n",
       "1095   11SMT03  33.705267 -118.079125 2002-12-31        0                  0.0\n",
       "1096   11SMT03  33.705267 -118.079125 2003-01-01        0                  0.0\n",
       "1097   11SMT03  33.705267 -118.079125 2003-01-02        0                  0.0\n",
       "1098   11SMT03  33.705267 -118.079125 2003-01-03        0                  0.0\n",
       "1099   11SMT03  33.705267 -118.079125 2003-01-04        0                  0.0"
      ],
      "text/html": "<div>\n<style scoped>\n    .dataframe tbody tr th:only-of-type {\n        vertical-align: middle;\n    }\n\n    .dataframe tbody tr th {\n        vertical-align: top;\n    }\n\n    .dataframe thead th {\n        text-align: right;\n    }\n</style>\n<table border=\"1\" class=\"dataframe\">\n  <thead>\n    <tr style=\"text-align: right;\">\n      <th></th>\n      <th>mgrs_10km</th>\n      <th>lat_10km</th>\n      <th>lon_10km</th>\n      <th>date</th>\n      <th>is_fire</th>\n      <th>mgrs_fires_past3yrs</th>\n    </tr>\n  </thead>\n  <tbody>\n    <tr>\n      <th>1090</th>\n      <td>11SMT03</td>\n      <td>33.705267</td>\n      <td>-118.079125</td>\n      <td>2002-12-26</td>\n      <td>0</td>\n      <td>NaN</td>\n    </tr>\n    <tr>\n      <th>1091</th>\n      <td>11SMT03</td>\n      <td>33.705267</td>\n      <td>-118.079125</td>\n      <td>2002-12-27</td>\n      <td>0</td>\n      <td>NaN</td>\n    </tr>\n    <tr>\n      <th>1092</th>\n      <td>11SMT03</td>\n      <td>33.705267</td>\n      <td>-118.079125</td>\n      <td>2002-12-28</td>\n      <td>0</td>\n      <td>NaN</td>\n    </tr>\n    <tr>\n      <th>1093</th>\n      <td>11SMT03</td>\n      <td>33.705267</td>\n      <td>-118.079125</td>\n      <td>2002-12-29</td>\n      <td>0</td>\n      <td>NaN</td>\n    </tr>\n    <tr>\n      <th>1094</th>\n      <td>11SMT03</td>\n      <td>33.705267</td>\n      <td>-118.079125</td>\n      <td>2002-12-30</td>\n      <td>0</td>\n      <td>0.0</td>\n    </tr>\n    <tr>\n      <th>1095</th>\n      <td>11SMT03</td>\n      <td>33.705267</td>\n      <td>-118.079125</td>\n      <td>2002-12-31</td>\n      <td>0</td>\n      <td>0.0</td>\n    </tr>\n    <tr>\n      <th>1096</th>\n      <td>11SMT03</td>\n      <td>33.705267</td>\n      <td>-118.079125</td>\n      <td>2003-01-01</td>\n      <td>0</td>\n      <td>0.0</td>\n    </tr>\n    <tr>\n      <th>1097</th>\n      <td>11SMT03</td>\n      <td>33.705267</td>\n      <td>-118.079125</td>\n      <td>2003-01-02</td>\n      <td>0</td>\n      <td>0.0</td>\n    </tr>\n    <tr>\n      <th>1098</th>\n      <td>11SMT03</td>\n      <td>33.705267</td>\n      <td>-118.079125</td>\n      <td>2003-01-03</td>\n      <td>0</td>\n      <td>0.0</td>\n    </tr>\n    <tr>\n      <th>1099</th>\n      <td>11SMT03</td>\n      <td>33.705267</td>\n      <td>-118.079125</td>\n      <td>2003-01-04</td>\n      <td>0</td>\n      <td>0.0</td>\n    </tr>\n  </tbody>\n</table>\n</div>"
     },
     "metadata": {},
     "execution_count": 50
    }
   ],
   "source": [
    "print(roll_days)\n",
    "fires[1090:1100]"
   ]
  },
  {
   "cell_type": "code",
   "execution_count": 51,
   "metadata": {},
   "outputs": [],
   "source": [
    "# start_date = '2003-01-01'\n",
    "# fires = fires[fires['date'] >= start_date]\n",
    "# fires.reset_index(drop=True,inplace=True)\n",
    "# fires.info()"
   ]
  },
  {
   "cell_type": "code",
   "execution_count": 52,
   "metadata": {},
   "outputs": [
    {
     "output_type": "stream",
     "name": "stdout",
     "text": [
      "mgrs_fires_past3yrs 421190\n"
     ]
    }
   ],
   "source": [
    "missingByCol(fires)"
   ]
  },
  {
   "cell_type": "code",
   "execution_count": 53,
   "metadata": {},
   "outputs": [
    {
     "output_type": "execute_result",
     "data": {
      "text/plain": [
       "385"
      ]
     },
     "metadata": {},
     "execution_count": 53
    }
   ],
   "source": [
    "len(fires.mgrs_10km.unique())"
   ]
  },
  {
   "cell_type": "code",
   "execution_count": 54,
   "metadata": {},
   "outputs": [
    {
     "output_type": "execute_result",
     "data": {
      "text/plain": [
       "5844"
      ]
     },
     "metadata": {},
     "execution_count": 54
    }
   ],
   "source": [
    "len(fires.date.unique())"
   ]
  },
  {
   "cell_type": "code",
   "execution_count": 55,
   "metadata": {},
   "outputs": [
    {
     "output_type": "execute_result",
     "data": {
      "text/plain": [
       "  mgrs_10km   lat_10km    lon_10km       date  is_fire  mgrs_fires_past3yrs\n",
       "0   11SMT03  33.705267 -118.079125 2000-01-01        0                  NaN\n",
       "1   11SMT03  33.705267 -118.079125 2000-01-02        0                  NaN\n",
       "2   11SMT03  33.705267 -118.079125 2000-01-03        0                  NaN\n",
       "3   11SMT03  33.705267 -118.079125 2000-01-04        0                  NaN\n",
       "4   11SMT03  33.705267 -118.079125 2000-01-05        0                  NaN"
      ],
      "text/html": "<div>\n<style scoped>\n    .dataframe tbody tr th:only-of-type {\n        vertical-align: middle;\n    }\n\n    .dataframe tbody tr th {\n        vertical-align: top;\n    }\n\n    .dataframe thead th {\n        text-align: right;\n    }\n</style>\n<table border=\"1\" class=\"dataframe\">\n  <thead>\n    <tr style=\"text-align: right;\">\n      <th></th>\n      <th>mgrs_10km</th>\n      <th>lat_10km</th>\n      <th>lon_10km</th>\n      <th>date</th>\n      <th>is_fire</th>\n      <th>mgrs_fires_past3yrs</th>\n    </tr>\n  </thead>\n  <tbody>\n    <tr>\n      <th>0</th>\n      <td>11SMT03</td>\n      <td>33.705267</td>\n      <td>-118.079125</td>\n      <td>2000-01-01</td>\n      <td>0</td>\n      <td>NaN</td>\n    </tr>\n    <tr>\n      <th>1</th>\n      <td>11SMT03</td>\n      <td>33.705267</td>\n      <td>-118.079125</td>\n      <td>2000-01-02</td>\n      <td>0</td>\n      <td>NaN</td>\n    </tr>\n    <tr>\n      <th>2</th>\n      <td>11SMT03</td>\n      <td>33.705267</td>\n      <td>-118.079125</td>\n      <td>2000-01-03</td>\n      <td>0</td>\n      <td>NaN</td>\n    </tr>\n    <tr>\n      <th>3</th>\n      <td>11SMT03</td>\n      <td>33.705267</td>\n      <td>-118.079125</td>\n      <td>2000-01-04</td>\n      <td>0</td>\n      <td>NaN</td>\n    </tr>\n    <tr>\n      <th>4</th>\n      <td>11SMT03</td>\n      <td>33.705267</td>\n      <td>-118.079125</td>\n      <td>2000-01-05</td>\n      <td>0</td>\n      <td>NaN</td>\n    </tr>\n  </tbody>\n</table>\n</div>"
     },
     "metadata": {},
     "execution_count": 55
    }
   ],
   "source": [
    "fires.head()"
   ]
  },
  {
   "cell_type": "code",
   "execution_count": 56,
   "metadata": {},
   "outputs": [
    {
     "output_type": "execute_result",
     "data": {
      "text/plain": [
       "        mgrs_10km   lat_10km    lon_10km       date  is_fire  \\\n",
       "2250395   11SMS57  33.167642 -117.536254 2015-12-27        0   \n",
       "2250396   11SMS57  33.167642 -117.536254 2015-12-28        0   \n",
       "2250397   11SMS57  33.167642 -117.536254 2015-12-29        0   \n",
       "2250398   11SMS57  33.167642 -117.536254 2015-12-30        0   \n",
       "2250399   11SMS57  33.167642 -117.536254 2015-12-31        0   \n",
       "\n",
       "         mgrs_fires_past3yrs  \n",
       "2250395                  0.0  \n",
       "2250396                  0.0  \n",
       "2250397                  0.0  \n",
       "2250398                  0.0  \n",
       "2250399                  0.0  "
      ],
      "text/html": "<div>\n<style scoped>\n    .dataframe tbody tr th:only-of-type {\n        vertical-align: middle;\n    }\n\n    .dataframe tbody tr th {\n        vertical-align: top;\n    }\n\n    .dataframe thead th {\n        text-align: right;\n    }\n</style>\n<table border=\"1\" class=\"dataframe\">\n  <thead>\n    <tr style=\"text-align: right;\">\n      <th></th>\n      <th>mgrs_10km</th>\n      <th>lat_10km</th>\n      <th>lon_10km</th>\n      <th>date</th>\n      <th>is_fire</th>\n      <th>mgrs_fires_past3yrs</th>\n    </tr>\n  </thead>\n  <tbody>\n    <tr>\n      <th>2250395</th>\n      <td>11SMS57</td>\n      <td>33.167642</td>\n      <td>-117.536254</td>\n      <td>2015-12-27</td>\n      <td>0</td>\n      <td>0.0</td>\n    </tr>\n    <tr>\n      <th>2250396</th>\n      <td>11SMS57</td>\n      <td>33.167642</td>\n      <td>-117.536254</td>\n      <td>2015-12-28</td>\n      <td>0</td>\n      <td>0.0</td>\n    </tr>\n    <tr>\n      <th>2250397</th>\n      <td>11SMS57</td>\n      <td>33.167642</td>\n      <td>-117.536254</td>\n      <td>2015-12-29</td>\n      <td>0</td>\n      <td>0.0</td>\n    </tr>\n    <tr>\n      <th>2250398</th>\n      <td>11SMS57</td>\n      <td>33.167642</td>\n      <td>-117.536254</td>\n      <td>2015-12-30</td>\n      <td>0</td>\n      <td>0.0</td>\n    </tr>\n    <tr>\n      <th>2250399</th>\n      <td>11SMS57</td>\n      <td>33.167642</td>\n      <td>-117.536254</td>\n      <td>2015-12-31</td>\n      <td>0</td>\n      <td>0.0</td>\n    </tr>\n  </tbody>\n</table>\n</div>"
     },
     "metadata": {},
     "execution_count": 56
    }
   ],
   "source": [
    "fires.tail()"
   ]
  },
  {
   "cell_type": "code",
   "execution_count": 57,
   "metadata": {},
   "outputs": [],
   "source": [
    "fires.to_csv('fires_clean.csv',index=False)"
   ]
  }
 ]
}