{
 "metadata": {
  "language_info": {
   "codemirror_mode": {
    "name": "ipython",
    "version": 3
   },
   "file_extension": ".py",
   "mimetype": "text/x-python",
   "name": "python",
   "nbconvert_exporter": "python",
   "pygments_lexer": "ipython3",
   "version": "3.8.5"
  },
  "orig_nbformat": 2,
  "kernelspec": {
   "name": "python385jvsc74a57bd07a8cd81a1699e7e1c05d771835f6490edbb9a81a456e457283de8180856282df",
   "display_name": "Python 3.8.5 64-bit ('base': conda)"
  }
 },
 "nbformat": 4,
 "nbformat_minor": 2,
 "cells": [
  {
   "cell_type": "code",
   "execution_count": 269,
   "metadata": {},
   "outputs": [],
   "source": [
    "import numpy as np\n",
    "import pandas as pd\n",
    "import sqlite3\n",
    "import math\n",
    "import mgrs\n",
    "from itertools import product\n",
    "import statistics\n",
    "from sklearn.impute import KNNImputer\n",
    "from sklearn.model_selection import train_test_split\n",
    "from sklearn.model_selection import KFold\n",
    "from sklearn.ensemble import RandomForestClassifier\n",
    "from sklearn.linear_model import LogisticRegression\n",
    "from sklearn.ensemble import GradientBoostingClassifier\n",
    "from sklearn.metrics import confusion_matrix\n",
    "from sklearn.metrics import accuracy_score\n",
    "import matplotlib.pyplot as plt\n",
    "import warnings\n",
    "warnings.simplefilter(action='ignore', category=FutureWarning)"
   ]
  },
  {
   "cell_type": "code",
   "execution_count": 261,
   "metadata": {},
   "outputs": [],
   "source": [
    "def missingByCol(df): #count missing values by column\n",
    "    for col in df.columns:\n",
    "        if df[col].isna().sum() != 0:\n",
    "            print(col, df[col].isna().sum())\n",
    "\n",
    "def getCalTbl(start='2000-01-01', end='2015-12-31'):\n",
    "    df = pd.DataFrame({'date': pd.date_range(start, end)})\n",
    "    df['year'] = df.date.dt.year\n",
    "    df['day_of_year'] = df.date.dt.dayofyear\n",
    "    df['month'] = df.date.dt.month\n",
    "    df['month_name'] = df.date.dt.month_name()\n",
    "    df['day'] = df.date.dt.day\n",
    "    df['day_of_week'] = df.date.dt.dayofweek\n",
    "    df['day_of_week_name'] = df.date.dt.day_name()\n",
    "    return df\n",
    "    \n",
    "'''\n",
    "Run classification on data set with chosen clfs for each combination of hypers\n",
    "Store results in a sorted list\n",
    "Print all results\n",
    "'''\n",
    "def clfRun(a_clf, data, clf_hyper={}):\n",
    "  M, L, n_folds = data # unpack data container\n",
    "  kf = KFold(n_splits=n_folds) # Establish the cross validation\n",
    "  ret = {} # classic explication of results\n",
    " \n",
    "  for ids, (train_index, test_index) in enumerate(kf.split(M, L)):\n",
    "       \n",
    "    clf = a_clf(**clf_hyper) # unpack parameters into clf if they exist\n",
    " \n",
    "    clf.fit(M[train_index], L[train_index])\n",
    " \n",
    "    pred = clf.predict(M[test_index])\n",
    " \n",
    "    ret[ids]= {'clf': clf,\n",
    "              'train_index': train_index,\n",
    "              'test_index': test_index,\n",
    "              'accuracy': accuracy_score(L[test_index], pred)}\n",
    " \n",
    "  return ret\n",
    " \n",
    "def clfHypers(clfsList):\n",
    "    ret_hyper = dict()\n",
    "    for clf in clfsList:\n",
    "        clfString = str(clf)  # Check if values in clfsList are in clf_hyperict\n",
    "        for k1, v1 in clf_hyper.items():  # go through first level of clf_hyperict\n",
    "            if k1 in clfString:            # if clfString1 matches first level\n",
    "                ret_hyper[clf] = [dict(zip(v1, s))\n",
    "                                  for s in product(*v1.values())]\n",
    "    return ret_hyper\n",
    " \n",
    "def clfGridSearch(X, y, n_folds):\n",
    "      # suppress future warnings\n",
    "      with warnings.catch_warnings():\n",
    "            # ignore all caught warnings\n",
    "            warnings.filterwarnings(\"ignore\")\n",
    " \n",
    "      # n_folds = 5\n",
    " \n",
    "      data = (X, y, n_folds)\n",
    "\n",
    "\n",
    "      hyper_param_dict = clfHypers(clfsList) \n",
    " \n",
    "      # run grid search to find best hyper params\n",
    "      clfsAccuracyDict = {}\n",
    "      results = {}\n",
    "      for clfs in clfsList:\n",
    "            for i in hyper_param_dict[clfs]:\n",
    "                 \n",
    "                  clf_hyper = i\n",
    " \n",
    "                  results = clfRun(clfs, data, clf_hyper)\n",
    " \n",
    "                  for key in results:\n",
    "                        k = results[key]['clf']\n",
    "                        v = results[key]['accuracy']\n",
    " \n",
    "                        kTest = str(k)\n",
    " \n",
    "                        kTest = kTest.replace('         ', ' ')\n",
    "                        kTest = kTest.replace('        ', ' ')\n",
    " \n",
    "                        if kTest in clfsAccuracyDict:\n",
    "                             \n",
    "                              clfsAccuracyDict[kTest].append(v)\n",
    "                        else:\n",
    "                              clfsAccuracyDict[kTest] = [v]\n",
    "           \n",
    "      clfsAccuracyList_sorted = sorted(clfsAccuracyDict.items(), key = lambda item: statistics.mean(item[1]), reverse = True)\n",
    " \n",
    "      for i in clfsAccuracyList_sorted:\n",
    "            print('\\nClassifier with Parameters:', i[0], '\\nMeanAccuracy', statistics.mean(i[1]))\n",
    "\n",
    "def clfResults(clf, X_train, y_train, X_test, y_test):\n",
    " \n",
    "    clfTmp = clf.fit(X_train, y_train) #fit model on training data\n",
    "    y_pred = clfTmp.predict(X_test) #produce predictions (0/1) on test data\n",
    "    y_pred_prob = clfTmp.predict_proba(X_test) #produce prediction probabilites (0 <= p <= 1) on test data\n",
    "    y_pred_prob = y_pred_prob[:, 1] # only take second column.  first column is inverse prob\n",
    "    tn, fp, fn, tp = confusion_matrix(y_test,y_pred).ravel() #get confusion matrix on test data\n",
    "    total_obs = (tp + tn + fp + fn)\n",
    "   # print(tn, fp, fn, tp)\n",
    " \n",
    " \n",
    "    clfAcc = (tp + tn) / (tp + tn + fp + fn) # accuracy of entire model\n",
    "    clfPrecision = tp / (tp + fp) # precision is the ability of the classifier not to label as positive a sample that is negative\n",
    "    clfRecall = tp / (tp + fn) # recall is the ability of the classifier to find all the positive samples\n",
    " \n",
    "    # return(clfAcc, clfPrecision, clfRecall)\n",
    "    print('-----------------------Confusion Matrix------------------------'\n",
    "        , '\\n  Predicted|--------------------Actual------------------------'\n",
    "        , '\\n           |        Yes            |         No                |   Total   '\n",
    "        , '\\n--------------------------------------------------------------'\n",
    "        , '\\n        Yes|        '+ str(tp)+'            |        '+str(fp)+'               |    '+str(tp+fp)\n",
    "        , '\\n--------------------------------------------------------------'\n",
    "        , '\\n         No|        '+ str(fn)+'             |        '+str(tn)+'              |    '+str(fn+tn)\n",
    "        , '\\n--------------------------------------------------------------'\n",
    "        , '\\n      Total|        '+ str(tp+fn)+'            |        '+str(fp+tn)+'              |    '+str(total_obs)\n",
    "        , '\\n'\n",
    "        )\n",
    "    # print('Test Total Obs: ', total_obs)\n",
    "    print('Accuracy: ', np.round(clfAcc,6), '\\nPrecision: ', np.round(clfPrecision,6), '\\nRecall: ', np.round(clfRecall,6))"
   ]
  },
  {
   "source": [
    "Import Data: Need to copy and paste sqllite file from Kaggle into local drive path.\n",
    "FPA_FOD_20170508.sqlite https://www.kaggle.com/rtatman/188-million-us-wildfires             \n",
    "        \n",
    "Metadata:   \n",
    "Fires - Target data - Kaggle        \n",
    "Time - Calendar data - Omits Dec through March (non fire season)      \n",
    "Location - MGRS - Military Grid Ref. Sys. with lat/lon                      \n",
    "Weather - USGS - Precip and Temp only (for now)"
   ],
   "cell_type": "markdown",
   "metadata": {}
  },
  {
   "source": [
    "Get Fire Data"
   ],
   "cell_type": "markdown",
   "metadata": {}
  },
  {
   "cell_type": "code",
   "execution_count": 226,
   "metadata": {},
   "outputs": [
    {
     "output_type": "stream",
     "name": "stdout",
     "text": [
      "<class 'pandas.core.frame.DataFrame'>\nRangeIndex: 8057 entries, 0 to 8056\nData columns (total 5 columns):\n #   Column      Non-Null Count  Dtype         \n---  ------      --------------  -----         \n 0   mgrs_100km  8057 non-null   object        \n 1   mgrs_10km   8057 non-null   object        \n 2   lat         8057 non-null   float64       \n 3   lon         8057 non-null   float64       \n 4   date        8057 non-null   datetime64[ns]\ndtypes: datetime64[ns](1), float64(2), object(2)\nmemory usage: 314.9+ KB\n"
     ]
    }
   ],
   "source": [
    "conn = sqlite3.connect('C:/Users/balso/Downloads/FPA_FOD_20170508.sqlite')\n",
    "ca_fires = pd.read_sql_query('select * from fires where State = \"CA\";', conn) # \n",
    "\n",
    "m = mgrs.MGRS() #mgrs API\n",
    "to_mgrs_1m = [] #precision 5\n",
    "to_mgrs_10m = [] #precision 4\n",
    "to_mgrs_100m = [] #precision 3\n",
    "to_mgrs_1km = []  #precision 2\n",
    "to_mgrs_10km = []  #precision 1\n",
    "to_mgrs_100km = []  #precision 0\n",
    "to_mgrs_lat_10km = []\n",
    "to_mgrs_lon_10km = []\n",
    "ca_fires_data = pd.DataFrame()\n",
    "\n",
    "ca_fires_data['object_id'] = ca_fires['OBJECTID']\n",
    "ca_fires_data['reporting_unit'] = ca_fires['NWCG_REPORTING_UNIT_NAME']\n",
    "ca_fires_data['fire_date_num'] = ca_fires['DISCOVERY_DATE']\n",
    "ca_fires_data['fire_date_cal'] = pd.to_datetime(ca_fires['DISCOVERY_DATE'], unit='D', origin='julian') #convert numeric to calendar date\n",
    "ca_fires_data['fire_year'] = ca_fires['FIRE_YEAR']\n",
    "ca_fires_data['fire_month'] = ca_fires_data['fire_date_cal'].dt.month_name()\n",
    "ca_fires_data['fire_day_of_week'] = ca_fires_data['fire_date_cal'].dt.day_name()\n",
    "ca_fires_data['fire_class'] = ca_fires['FIRE_SIZE_CLASS']\n",
    "ca_fires_data['lat'] = ca_fires['LATITUDE']\n",
    "ca_fires_data['lon'] = ca_fires['LONGITUDE']\n",
    "\n",
    "for i, j in zip(ca_fires_data['lat'].tolist(), ca_fires_data['lon'].tolist()):\n",
    "    to_mgrs_1m.append(m.toMGRS(i, j, MGRSPrecision=5)) # use mgrs API to convert lat/lon to MGRS conventions\n",
    "    to_mgrs_10m.append(m.toMGRS(i, j, MGRSPrecision=4)) \n",
    "    to_mgrs_100m.append(m.toMGRS(i, j, MGRSPrecision=3)) \n",
    "    to_mgrs_1km.append(m.toMGRS(i, j, MGRSPrecision=2)) \n",
    "    to_mgrs_10km.append(m.toMGRS(i, j, MGRSPrecision=1)) \n",
    "    to_mgrs_100km.append(m.toMGRS(i, j, MGRSPrecision=0)) \n",
    "\n",
    "ca_fires_data['mgrs_1m'] = to_mgrs_1m\n",
    "ca_fires_data['mgrs_10m'] = to_mgrs_10m\n",
    "ca_fires_data['mgrs_100m'] = to_mgrs_100m\n",
    "ca_fires_data['mgrs_1km'] = to_mgrs_1km\n",
    "ca_fires_data['mgrs_10km'] = to_mgrs_10km\n",
    "ca_fires_data['mgrs_100km'] = to_mgrs_100km\n",
    "\n",
    "for k in ca_fires_data['mgrs_10km'].tolist():\n",
    "    to_mgrs_lat_10km.append(m.toLatLon(k)[0])\n",
    "    to_mgrs_lon_10km.append(m.toLatLon(k)[1])\n",
    "\n",
    "ca_fires_data['mgrs_lat_10km'] = to_mgrs_lat_10km\n",
    "ca_fires_data['mgrs_lon_10km'] = to_mgrs_lon_10km\n",
    "\n",
    "# filter out winter months where fires not likely\n",
    "months_used = ['April', 'May', 'June', 'July', 'August', 'September', 'October','November'] \n",
    "ca_fires_data = ca_fires_data[ca_fires_data.fire_month.isin(months_used)]\n",
    "\n",
    "# filter out class A fires, which are less than 1/4 acre\n",
    "classes_used = ['B','C','D','E','F','G']\n",
    "ca_fires_data = ca_fires_data[ca_fires_data.fire_class.isin(classes_used)]\n",
    "\n",
    "# filter out fires before 2000 since weather data is sparse before year 2000\n",
    "ca_fires_data = ca_fires_data[ca_fires_data.fire_year >= 2000]\n",
    "\n",
    "# limit to only the MGRS locations in Southern CA\n",
    "mgrs_100km = ['11SMT','11SNT','11SNS','11SMS','11SLT'] # redefine mgrs blocks\n",
    "socal_fires_data = ca_fires_data[ca_fires_data.mgrs_100km.isin(mgrs_100km)]\n",
    "\n",
    "# keep only necessary columns\n",
    "socal_lite = pd.DataFrame()\n",
    "socal_lite['mgrs_100km'] = socal_fires_data['mgrs_100km']\n",
    "socal_lite['mgrs_10km'] = socal_fires_data['mgrs_10km']\n",
    "socal_lite['lat'] = socal_fires_data['mgrs_lat_10km']\n",
    "socal_lite['lon'] = socal_fires_data['mgrs_lon_10km']\n",
    "socal_lite['date'] = socal_fires_data['fire_date_cal']\n",
    "socal_lite = socal_lite.groupby(level=0).first()\n",
    "# socal_lite.mgrs_10km.unique().shape\n",
    "socal_lite.reset_index(drop=True, inplace = True)\n",
    "socal_lite.info()"
   ]
  },
  {
   "source": [
    "Get Calendar Data"
   ],
   "cell_type": "markdown",
   "metadata": {}
  },
  {
   "cell_type": "code",
   "execution_count": 227,
   "metadata": {},
   "outputs": [
    {
     "output_type": "stream",
     "name": "stdout",
     "text": [
      "<class 'pandas.core.frame.DataFrame'>\nInt64Index: 3904 entries, 91 to 5812\nData columns (total 9 columns):\n #   Column            Non-Null Count  Dtype         \n---  ------            --------------  -----         \n 0   date              3904 non-null   datetime64[ns]\n 1   year              3904 non-null   int64         \n 2   day_of_year       3904 non-null   int64         \n 3   month             3904 non-null   int64         \n 4   month_name        3904 non-null   object        \n 5   day               3904 non-null   int64         \n 6   day_of_week       3904 non-null   int64         \n 7   day_of_week_name  3904 non-null   object        \n 8   key               3904 non-null   int64         \ndtypes: datetime64[ns](1), int64(6), object(2)\nmemory usage: 305.0+ KB\n"
     ]
    }
   ],
   "source": [
    "cal_table = getCalTbl()\n",
    "cal_table = cal_table[cal_table.month_name.isin(months_used)] # filter out winter months\n",
    "cal_table['key'] = int(0) # dummy key for cross join later\n",
    "cal_table.info()"
   ]
  },
  {
   "source": [
    "Get Weather Data and Impute Missing Values"
   ],
   "cell_type": "markdown",
   "metadata": {}
  },
  {
   "cell_type": "code",
   "execution_count": 228,
   "metadata": {},
   "outputs": [
    {
     "output_type": "stream",
     "name": "stdout",
     "text": [
      "<class 'pandas.core.frame.DataFrame'>\nRangeIndex: 38204 entries, 0 to 38203\nData columns (total 10 columns):\n #   Column     Non-Null Count  Dtype  \n---  ------     --------------  -----  \n 0   STATION    38204 non-null  object \n 1   NAME       38204 non-null  object \n 2   LATITUDE   38204 non-null  float64\n 3   LONGITUDE  38204 non-null  float64\n 4   ELEVATION  38204 non-null  float64\n 5   DATE       38204 non-null  object \n 6   PRCP       37863 non-null  float64\n 7   TMAX       36571 non-null  float64\n 8   TMIN       36570 non-null  float64\n 9   TOBS       24269 non-null  float64\ndtypes: float64(7), object(3)\nmemory usage: 2.9+ MB\n"
     ]
    }
   ],
   "source": [
    "usgs_weather = pd.read_csv('usgs_weather.csv')\n",
    "usgs_weather.info()"
   ]
  },
  {
   "cell_type": "code",
   "execution_count": 229,
   "metadata": {},
   "outputs": [
    {
     "output_type": "stream",
     "name": "stdout",
     "text": [
      "<class 'pandas.core.frame.DataFrame'>\nInt64Index: 25294 entries, 91 to 38203\nData columns (total 7 columns):\n #   Column        Non-Null Count  Dtype         \n---  ------        --------------  -----         \n 0   station_name  25294 non-null  object        \n 1   lat           25294 non-null  float64       \n 2   lon           25294 non-null  float64       \n 3   date          25294 non-null  datetime64[ns]\n 4   prcp          25082 non-null  float64       \n 5   tmax          24180 non-null  float64       \n 6   tmin          24195 non-null  float64       \ndtypes: datetime64[ns](1), float64(5), object(1)\nmemory usage: 1.5+ MB\n"
     ]
    }
   ],
   "source": [
    "prcp_temp = pd.DataFrame()\n",
    "prcp_temp['station_name'] = usgs_weather['NAME']\n",
    "prcp_temp['lat'] = usgs_weather['LATITUDE']\n",
    "prcp_temp['lon'] = usgs_weather['LONGITUDE']\n",
    "prcp_temp['date'] = pd.to_datetime(usgs_weather['DATE'])\n",
    "prcp_temp['prcp'] = usgs_weather['PRCP']\n",
    "prcp_temp['tmax'] = usgs_weather['TMAX']\n",
    "prcp_temp['tmin'] = usgs_weather['TMIN']\n",
    "prcp_temp = prcp_temp[prcp_temp.date.dt.month_name().isin(months_used)]\n",
    "prcp_temp.info()"
   ]
  },
  {
   "cell_type": "code",
   "execution_count": 230,
   "metadata": {},
   "outputs": [
    {
     "output_type": "stream",
     "name": "stdout",
     "text": [
      "(3904, 15) (3904, 15) (3904, 15) (3904, 15) (3904, 15)\n(19520, 15)\n"
     ]
    }
   ],
   "source": [
    "df_hemet = cal_table.merge(prcp_temp[prcp_temp.station_name == 'HEMET, CA US'], on='date', how = 'left')\n",
    "df_cuymaca = cal_table.merge(prcp_temp[prcp_temp.station_name == 'CUYAMACA, CA US'], on='date', how = 'left')\n",
    "df_la = cal_table.merge(prcp_temp[prcp_temp.station_name == 'LOS ANGELES DOWNTOWN USC, CA US'], on='date', how = 'left')\n",
    "df_elsinore = cal_table.merge(prcp_temp[prcp_temp.station_name == 'ELSINORE, CA US'], on='date', how = 'left')\n",
    "df_vista = cal_table.merge(prcp_temp[prcp_temp.station_name == 'VISTA, CA US'], on='date', how = 'left')\n",
    "print(df_hemet.shape, df_cuymaca.shape, df_la.shape, df_elsinore.shape, df_vista.shape)\n",
    "\n",
    "df_hemet['station_name'] = df_hemet['station_name'].fillna('HEMET, CA US')\n",
    "df_cuymaca['station_name'] = df_cuymaca['station_name'].fillna('CUYAMACA, CA US')\n",
    "df_la['station_name'] = df_la['station_name'].fillna('LOS ANGELES DOWNTOWN USC, CA US')\n",
    "df_elsinore['station_name'] = df_elsinore['station_name'].fillna('ELSINORE, CA US')\n",
    "df_vista['station_name'] = df_vista['station_name'].fillna('VISTA, CA US')\n",
    "\n",
    "df_hemet['lat'] = df_hemet['lat'].fillna(33.7381)\n",
    "df_cuymaca['lat'] = df_cuymaca['lat'].fillna(32.9897)\n",
    "df_la['lat'] = df_la['lat'].fillna(33.686)\n",
    "df_elsinore['lat'] = df_elsinore['lat'].fillna(34.0236)\n",
    "df_vista['lat'] = df_vista['lat'].fillna(33.2354)\n",
    "\n",
    "df_hemet['lon'] = df_hemet['lon'].fillna(-116.8939)\n",
    "df_cuymaca['lon'] = df_cuymaca['lon'].fillna(-116.5872)\n",
    "df_la['lon'] = df_la['lon'].fillna(-117.3458)\n",
    "df_elsinore['lon'] = df_elsinore['lon'].fillna(-118.2911)\n",
    "df_vista['lon'] = df_vista['lon'].fillna(-117.2322)\n",
    "\n",
    "data = pd.concat([df_hemet, df_cuymaca, df_elsinore, df_la, df_vista])\n",
    "data.reset_index(drop=True, inplace=True)\n",
    "print(data.shape)"
   ]
  },
  {
   "cell_type": "code",
   "execution_count": 231,
   "metadata": {},
   "outputs": [
    {
     "output_type": "stream",
     "name": "stdout",
     "text": [
      "prcp 587\n",
      "tmax 1354\n",
      "tmin 1338\n"
     ]
    }
   ],
   "source": [
    "missingByCol(data)"
   ]
  },
  {
   "cell_type": "code",
   "execution_count": 232,
   "metadata": {},
   "outputs": [
    {
     "output_type": "execute_result",
     "data": {
      "text/plain": [
       "            date  year  day_of_year  month month_name  day  day_of_week  \\\n",
       "494   2002-04-07  2002           97      4      April    7            6   \n",
       "1433  2005-10-31  2005          304     10    October   31            0   \n",
       "1517  2006-05-24  2006          144      5        May   24            2   \n",
       "1524  2006-05-31  2006          151      5        May   31            2   \n",
       "2046  2008-07-04  2008          186      7       July    4            4   \n",
       "...          ...   ...          ...    ...        ...  ...          ...   \n",
       "18544 2012-04-01  2012           92      4      April    1            6   \n",
       "18545 2012-04-02  2012           93      4      April    2            0   \n",
       "18546 2012-04-03  2012           94      4      April    3            1   \n",
       "18568 2012-04-25  2012          116      4      April   25            2   \n",
       "18634 2012-06-30  2012          182      6       June   30            5   \n",
       "\n",
       "      day_of_week_name  key  station_name      lat       lon  prcp  tmax  tmin  \n",
       "494             Sunday    0  HEMET, CA US  33.7381 -116.8939   0.0  73.0   NaN  \n",
       "1433            Monday    0  HEMET, CA US  33.7381 -116.8939   0.0   NaN  48.0  \n",
       "1517         Wednesday    0  HEMET, CA US  33.7381 -116.8939   0.0  94.0   NaN  \n",
       "1524         Wednesday    0  HEMET, CA US  33.7381 -116.8939   0.0   NaN   NaN  \n",
       "2046            Friday    0  HEMET, CA US  33.7381 -116.8939   0.0   NaN   NaN  \n",
       "...                ...  ...           ...      ...       ...   ...   ...   ...  \n",
       "18544           Sunday    0  VISTA, CA US  33.2354 -117.2322   NaN   NaN   NaN  \n",
       "18545           Monday    0  VISTA, CA US  33.2354 -117.2322   NaN   NaN   NaN  \n",
       "18546          Tuesday    0  VISTA, CA US  33.2354 -117.2322   NaN   NaN   NaN  \n",
       "18568        Wednesday    0  VISTA, CA US  33.2354 -117.2322   NaN   NaN   NaN  \n",
       "18634         Saturday    0  VISTA, CA US  33.2354 -117.2322   NaN   NaN   NaN  \n",
       "\n",
       "[1467 rows x 15 columns]"
      ],
      "text/html": "<div>\n<style scoped>\n    .dataframe tbody tr th:only-of-type {\n        vertical-align: middle;\n    }\n\n    .dataframe tbody tr th {\n        vertical-align: top;\n    }\n\n    .dataframe thead th {\n        text-align: right;\n    }\n</style>\n<table border=\"1\" class=\"dataframe\">\n  <thead>\n    <tr style=\"text-align: right;\">\n      <th></th>\n      <th>date</th>\n      <th>year</th>\n      <th>day_of_year</th>\n      <th>month</th>\n      <th>month_name</th>\n      <th>day</th>\n      <th>day_of_week</th>\n      <th>day_of_week_name</th>\n      <th>key</th>\n      <th>station_name</th>\n      <th>lat</th>\n      <th>lon</th>\n      <th>prcp</th>\n      <th>tmax</th>\n      <th>tmin</th>\n    </tr>\n  </thead>\n  <tbody>\n    <tr>\n      <th>494</th>\n      <td>2002-04-07</td>\n      <td>2002</td>\n      <td>97</td>\n      <td>4</td>\n      <td>April</td>\n      <td>7</td>\n      <td>6</td>\n      <td>Sunday</td>\n      <td>0</td>\n      <td>HEMET, CA US</td>\n      <td>33.7381</td>\n      <td>-116.8939</td>\n      <td>0.0</td>\n      <td>73.0</td>\n      <td>NaN</td>\n    </tr>\n    <tr>\n      <th>1433</th>\n      <td>2005-10-31</td>\n      <td>2005</td>\n      <td>304</td>\n      <td>10</td>\n      <td>October</td>\n      <td>31</td>\n      <td>0</td>\n      <td>Monday</td>\n      <td>0</td>\n      <td>HEMET, CA US</td>\n      <td>33.7381</td>\n      <td>-116.8939</td>\n      <td>0.0</td>\n      <td>NaN</td>\n      <td>48.0</td>\n    </tr>\n    <tr>\n      <th>1517</th>\n      <td>2006-05-24</td>\n      <td>2006</td>\n      <td>144</td>\n      <td>5</td>\n      <td>May</td>\n      <td>24</td>\n      <td>2</td>\n      <td>Wednesday</td>\n      <td>0</td>\n      <td>HEMET, CA US</td>\n      <td>33.7381</td>\n      <td>-116.8939</td>\n      <td>0.0</td>\n      <td>94.0</td>\n      <td>NaN</td>\n    </tr>\n    <tr>\n      <th>1524</th>\n      <td>2006-05-31</td>\n      <td>2006</td>\n      <td>151</td>\n      <td>5</td>\n      <td>May</td>\n      <td>31</td>\n      <td>2</td>\n      <td>Wednesday</td>\n      <td>0</td>\n      <td>HEMET, CA US</td>\n      <td>33.7381</td>\n      <td>-116.8939</td>\n      <td>0.0</td>\n      <td>NaN</td>\n      <td>NaN</td>\n    </tr>\n    <tr>\n      <th>2046</th>\n      <td>2008-07-04</td>\n      <td>2008</td>\n      <td>186</td>\n      <td>7</td>\n      <td>July</td>\n      <td>4</td>\n      <td>4</td>\n      <td>Friday</td>\n      <td>0</td>\n      <td>HEMET, CA US</td>\n      <td>33.7381</td>\n      <td>-116.8939</td>\n      <td>0.0</td>\n      <td>NaN</td>\n      <td>NaN</td>\n    </tr>\n    <tr>\n      <th>...</th>\n      <td>...</td>\n      <td>...</td>\n      <td>...</td>\n      <td>...</td>\n      <td>...</td>\n      <td>...</td>\n      <td>...</td>\n      <td>...</td>\n      <td>...</td>\n      <td>...</td>\n      <td>...</td>\n      <td>...</td>\n      <td>...</td>\n      <td>...</td>\n      <td>...</td>\n    </tr>\n    <tr>\n      <th>18544</th>\n      <td>2012-04-01</td>\n      <td>2012</td>\n      <td>92</td>\n      <td>4</td>\n      <td>April</td>\n      <td>1</td>\n      <td>6</td>\n      <td>Sunday</td>\n      <td>0</td>\n      <td>VISTA, CA US</td>\n      <td>33.2354</td>\n      <td>-117.2322</td>\n      <td>NaN</td>\n      <td>NaN</td>\n      <td>NaN</td>\n    </tr>\n    <tr>\n      <th>18545</th>\n      <td>2012-04-02</td>\n      <td>2012</td>\n      <td>93</td>\n      <td>4</td>\n      <td>April</td>\n      <td>2</td>\n      <td>0</td>\n      <td>Monday</td>\n      <td>0</td>\n      <td>VISTA, CA US</td>\n      <td>33.2354</td>\n      <td>-117.2322</td>\n      <td>NaN</td>\n      <td>NaN</td>\n      <td>NaN</td>\n    </tr>\n    <tr>\n      <th>18546</th>\n      <td>2012-04-03</td>\n      <td>2012</td>\n      <td>94</td>\n      <td>4</td>\n      <td>April</td>\n      <td>3</td>\n      <td>1</td>\n      <td>Tuesday</td>\n      <td>0</td>\n      <td>VISTA, CA US</td>\n      <td>33.2354</td>\n      <td>-117.2322</td>\n      <td>NaN</td>\n      <td>NaN</td>\n      <td>NaN</td>\n    </tr>\n    <tr>\n      <th>18568</th>\n      <td>2012-04-25</td>\n      <td>2012</td>\n      <td>116</td>\n      <td>4</td>\n      <td>April</td>\n      <td>25</td>\n      <td>2</td>\n      <td>Wednesday</td>\n      <td>0</td>\n      <td>VISTA, CA US</td>\n      <td>33.2354</td>\n      <td>-117.2322</td>\n      <td>NaN</td>\n      <td>NaN</td>\n      <td>NaN</td>\n    </tr>\n    <tr>\n      <th>18634</th>\n      <td>2012-06-30</td>\n      <td>2012</td>\n      <td>182</td>\n      <td>6</td>\n      <td>June</td>\n      <td>30</td>\n      <td>5</td>\n      <td>Saturday</td>\n      <td>0</td>\n      <td>VISTA, CA US</td>\n      <td>33.2354</td>\n      <td>-117.2322</td>\n      <td>NaN</td>\n      <td>NaN</td>\n      <td>NaN</td>\n    </tr>\n  </tbody>\n</table>\n<p>1467 rows × 15 columns</p>\n</div>"
     },
     "metadata": {},
     "execution_count": 232
    }
   ],
   "source": [
    "weather_nulls = data[data.isna().any(axis=1)]\n",
    "weather_nulls"
   ]
  },
  {
   "cell_type": "code",
   "execution_count": 233,
   "metadata": {},
   "outputs": [],
   "source": [
    "data_missing = data.copy()\n",
    "data_missing.drop(['date','year','day_of_year','month','month_name','day','day_of_week','day_of_week_name','key','station_name'], axis = 1, inplace = True)\n",
    "imputer = KNNImputer(n_neighbors=2)\n",
    "data_imputed = pd.DataFrame(imputer.fit_transform(data_missing), columns = data_missing.columns) # impute missing data here before the merge\n",
    "missingByCol(data_imputed) # check for missing values"
   ]
  },
  {
   "cell_type": "code",
   "execution_count": 234,
   "metadata": {},
   "outputs": [
    {
     "output_type": "execute_result",
     "data": {
      "text/plain": [
       "lat      33.7381\n",
       "lon    -116.8939\n",
       "prcp      0.0000\n",
       "tmax     73.0000\n",
       "tmin     44.5000\n",
       "Name: 494, dtype: float64"
      ]
     },
     "metadata": {},
     "execution_count": 234
    }
   ],
   "source": [
    "data_imputed.loc[494]"
   ]
  },
  {
   "cell_type": "code",
   "execution_count": 235,
   "metadata": {},
   "outputs": [
    {
     "output_type": "stream",
     "name": "stdout",
     "text": [
      "19520\n"
     ]
    }
   ],
   "source": [
    "print(len(data_imputed))\n",
    "\n",
    "data.drop(['lat','lon','prcp','tmax','tmin'], axis = 1, inplace = True)\n",
    "data['lat'] = data_imputed['lat']\n",
    "data['lon'] = data_imputed['lon']\n",
    "data['prcp'] = data_imputed['prcp']\n",
    "data['tmax'] = data_imputed['tmax']\n",
    "data['tmin'] = data_imputed['tmin']\n",
    "missingByCol(data) # check for missing values"
   ]
  },
  {
   "cell_type": "code",
   "execution_count": 236,
   "metadata": {},
   "outputs": [
    {
     "output_type": "stream",
     "name": "stdout",
     "text": [
      "<class 'pandas.core.frame.DataFrame'>\nRangeIndex: 19520 entries, 0 to 19519\nData columns (total 15 columns):\n #   Column            Non-Null Count  Dtype         \n---  ------            --------------  -----         \n 0   date              19520 non-null  datetime64[ns]\n 1   year              19520 non-null  int64         \n 2   day_of_year       19520 non-null  int64         \n 3   month             19520 non-null  int64         \n 4   month_name        19520 non-null  object        \n 5   day               19520 non-null  int64         \n 6   day_of_week       19520 non-null  int64         \n 7   day_of_week_name  19520 non-null  object        \n 8   key               19520 non-null  int64         \n 9   station_name      19520 non-null  object        \n 10  lat               19520 non-null  float64       \n 11  lon               19520 non-null  float64       \n 12  prcp              19520 non-null  float64       \n 13  tmax              19520 non-null  float64       \n 14  tmin              19520 non-null  float64       \ndtypes: datetime64[ns](1), float64(5), int64(6), object(3)\nmemory usage: 2.2+ MB\n"
     ]
    }
   ],
   "source": [
    "data.info()"
   ]
  },
  {
   "cell_type": "code",
   "execution_count": 237,
   "metadata": {},
   "outputs": [
    {
     "output_type": "execute_result",
     "data": {
      "text/plain": [
       "            date  year  day_of_year  month month_name  day  day_of_week  \\\n",
       "0     2000-04-01  2000           92      4      April    1            5   \n",
       "1     2000-04-02  2000           93      4      April    2            6   \n",
       "2     2000-04-03  2000           94      4      April    3            0   \n",
       "3     2000-04-04  2000           95      4      April    4            1   \n",
       "4     2000-04-05  2000           96      4      April    5            2   \n",
       "...          ...   ...          ...    ...        ...  ...          ...   \n",
       "19515 2015-11-26  2015          330     11   November   26            3   \n",
       "19516 2015-11-27  2015          331     11   November   27            4   \n",
       "19517 2015-11-28  2015          332     11   November   28            5   \n",
       "19518 2015-11-29  2015          333     11   November   29            6   \n",
       "19519 2015-11-30  2015          334     11   November   30            0   \n",
       "\n",
       "      day_of_week_name  key  station_name      lat       lon  prcp  tmax  tmin  \n",
       "0             Saturday    0  HEMET, CA US  33.7381 -116.8939  0.00  80.0  44.0  \n",
       "1               Sunday    0  HEMET, CA US  33.7381 -116.8939  0.00  82.0  44.0  \n",
       "2               Monday    0  HEMET, CA US  33.7381 -116.8939  0.00  87.0  43.0  \n",
       "3              Tuesday    0  HEMET, CA US  33.7381 -116.8939  0.00  91.0  41.0  \n",
       "4            Wednesday    0  HEMET, CA US  33.7381 -116.8939  0.00  86.0  45.0  \n",
       "...                ...  ...           ...      ...       ...   ...   ...   ...  \n",
       "19515         Thursday    0  VISTA, CA US  33.2354 -117.2322  0.00  62.0  45.0  \n",
       "19516           Friday    0  VISTA, CA US  33.2354 -117.2322  0.51  61.0  46.0  \n",
       "19517         Saturday    0  VISTA, CA US  33.2354 -117.2322  0.00  65.0  40.0  \n",
       "19518           Sunday    0  VISTA, CA US  33.2354 -117.2322  0.00  67.0  44.0  \n",
       "19519           Monday    0  VISTA, CA US  33.2354 -117.2322  0.00  68.0  41.0  \n",
       "\n",
       "[19520 rows x 15 columns]"
      ],
      "text/html": "<div>\n<style scoped>\n    .dataframe tbody tr th:only-of-type {\n        vertical-align: middle;\n    }\n\n    .dataframe tbody tr th {\n        vertical-align: top;\n    }\n\n    .dataframe thead th {\n        text-align: right;\n    }\n</style>\n<table border=\"1\" class=\"dataframe\">\n  <thead>\n    <tr style=\"text-align: right;\">\n      <th></th>\n      <th>date</th>\n      <th>year</th>\n      <th>day_of_year</th>\n      <th>month</th>\n      <th>month_name</th>\n      <th>day</th>\n      <th>day_of_week</th>\n      <th>day_of_week_name</th>\n      <th>key</th>\n      <th>station_name</th>\n      <th>lat</th>\n      <th>lon</th>\n      <th>prcp</th>\n      <th>tmax</th>\n      <th>tmin</th>\n    </tr>\n  </thead>\n  <tbody>\n    <tr>\n      <th>0</th>\n      <td>2000-04-01</td>\n      <td>2000</td>\n      <td>92</td>\n      <td>4</td>\n      <td>April</td>\n      <td>1</td>\n      <td>5</td>\n      <td>Saturday</td>\n      <td>0</td>\n      <td>HEMET, CA US</td>\n      <td>33.7381</td>\n      <td>-116.8939</td>\n      <td>0.00</td>\n      <td>80.0</td>\n      <td>44.0</td>\n    </tr>\n    <tr>\n      <th>1</th>\n      <td>2000-04-02</td>\n      <td>2000</td>\n      <td>93</td>\n      <td>4</td>\n      <td>April</td>\n      <td>2</td>\n      <td>6</td>\n      <td>Sunday</td>\n      <td>0</td>\n      <td>HEMET, CA US</td>\n      <td>33.7381</td>\n      <td>-116.8939</td>\n      <td>0.00</td>\n      <td>82.0</td>\n      <td>44.0</td>\n    </tr>\n    <tr>\n      <th>2</th>\n      <td>2000-04-03</td>\n      <td>2000</td>\n      <td>94</td>\n      <td>4</td>\n      <td>April</td>\n      <td>3</td>\n      <td>0</td>\n      <td>Monday</td>\n      <td>0</td>\n      <td>HEMET, CA US</td>\n      <td>33.7381</td>\n      <td>-116.8939</td>\n      <td>0.00</td>\n      <td>87.0</td>\n      <td>43.0</td>\n    </tr>\n    <tr>\n      <th>3</th>\n      <td>2000-04-04</td>\n      <td>2000</td>\n      <td>95</td>\n      <td>4</td>\n      <td>April</td>\n      <td>4</td>\n      <td>1</td>\n      <td>Tuesday</td>\n      <td>0</td>\n      <td>HEMET, CA US</td>\n      <td>33.7381</td>\n      <td>-116.8939</td>\n      <td>0.00</td>\n      <td>91.0</td>\n      <td>41.0</td>\n    </tr>\n    <tr>\n      <th>4</th>\n      <td>2000-04-05</td>\n      <td>2000</td>\n      <td>96</td>\n      <td>4</td>\n      <td>April</td>\n      <td>5</td>\n      <td>2</td>\n      <td>Wednesday</td>\n      <td>0</td>\n      <td>HEMET, CA US</td>\n      <td>33.7381</td>\n      <td>-116.8939</td>\n      <td>0.00</td>\n      <td>86.0</td>\n      <td>45.0</td>\n    </tr>\n    <tr>\n      <th>...</th>\n      <td>...</td>\n      <td>...</td>\n      <td>...</td>\n      <td>...</td>\n      <td>...</td>\n      <td>...</td>\n      <td>...</td>\n      <td>...</td>\n      <td>...</td>\n      <td>...</td>\n      <td>...</td>\n      <td>...</td>\n      <td>...</td>\n      <td>...</td>\n      <td>...</td>\n    </tr>\n    <tr>\n      <th>19515</th>\n      <td>2015-11-26</td>\n      <td>2015</td>\n      <td>330</td>\n      <td>11</td>\n      <td>November</td>\n      <td>26</td>\n      <td>3</td>\n      <td>Thursday</td>\n      <td>0</td>\n      <td>VISTA, CA US</td>\n      <td>33.2354</td>\n      <td>-117.2322</td>\n      <td>0.00</td>\n      <td>62.0</td>\n      <td>45.0</td>\n    </tr>\n    <tr>\n      <th>19516</th>\n      <td>2015-11-27</td>\n      <td>2015</td>\n      <td>331</td>\n      <td>11</td>\n      <td>November</td>\n      <td>27</td>\n      <td>4</td>\n      <td>Friday</td>\n      <td>0</td>\n      <td>VISTA, CA US</td>\n      <td>33.2354</td>\n      <td>-117.2322</td>\n      <td>0.51</td>\n      <td>61.0</td>\n      <td>46.0</td>\n    </tr>\n    <tr>\n      <th>19517</th>\n      <td>2015-11-28</td>\n      <td>2015</td>\n      <td>332</td>\n      <td>11</td>\n      <td>November</td>\n      <td>28</td>\n      <td>5</td>\n      <td>Saturday</td>\n      <td>0</td>\n      <td>VISTA, CA US</td>\n      <td>33.2354</td>\n      <td>-117.2322</td>\n      <td>0.00</td>\n      <td>65.0</td>\n      <td>40.0</td>\n    </tr>\n    <tr>\n      <th>19518</th>\n      <td>2015-11-29</td>\n      <td>2015</td>\n      <td>333</td>\n      <td>11</td>\n      <td>November</td>\n      <td>29</td>\n      <td>6</td>\n      <td>Sunday</td>\n      <td>0</td>\n      <td>VISTA, CA US</td>\n      <td>33.2354</td>\n      <td>-117.2322</td>\n      <td>0.00</td>\n      <td>67.0</td>\n      <td>44.0</td>\n    </tr>\n    <tr>\n      <th>19519</th>\n      <td>2015-11-30</td>\n      <td>2015</td>\n      <td>334</td>\n      <td>11</td>\n      <td>November</td>\n      <td>30</td>\n      <td>0</td>\n      <td>Monday</td>\n      <td>0</td>\n      <td>VISTA, CA US</td>\n      <td>33.2354</td>\n      <td>-117.2322</td>\n      <td>0.00</td>\n      <td>68.0</td>\n      <td>41.0</td>\n    </tr>\n  </tbody>\n</table>\n<p>19520 rows × 15 columns</p>\n</div>"
     },
     "metadata": {},
     "execution_count": 237
    }
   ],
   "source": [
    "data"
   ]
  },
  {
   "cell_type": "code",
   "execution_count": 238,
   "metadata": {},
   "outputs": [],
   "source": [
    "# rolling averages for prcp, tmax, tmin for 3, 7, and 10 days\n",
    "\n",
    "#prcp\n",
    "data['prcp_rolling_3day'] = data.groupby('station_name')['prcp'].transform(lambda x: x.rolling(3).mean())\n",
    "data['prcp_rolling_3day'] = round(data['prcp_rolling_3day'],6)\n",
    "\n",
    "data['prcp_rolling_7day'] = data.groupby('station_name')['prcp'].transform(lambda x: x.rolling(7).mean())\n",
    "data['prcp_rolling_7day'] = round(data['prcp_rolling_7day'],6)\n",
    "\n",
    "data['prcp_rolling_14day'] = data.groupby('station_name')['prcp'].transform(lambda x: x.rolling(14).mean())\n",
    "data['prcp_rolling_14day'] = round(data['prcp_rolling_14day'],6)\n",
    "\n",
    "#tmax\n",
    "data['tmax_rolling_3day'] = data.groupby('station_name')['tmax'].transform(lambda x: x.rolling(3).mean())\n",
    "data['tmax_rolling_3day'] = round(data['tmax_rolling_3day'],6)\n",
    "\n",
    "data['tmax_rolling_7day'] = data.groupby('station_name')['tmax'].transform(lambda x: x.rolling(7).mean())\n",
    "data['tmax_rolling_7day'] = round(data['tmax_rolling_7day'],6)\n",
    "\n",
    "data['tmax_rolling_14day'] = data.groupby('station_name')['tmax'].transform(lambda x: x.rolling(14).mean())\n",
    "data['tmax_rolling_14day'] = round(data['tmax_rolling_14day'],6)\n",
    "\n",
    "#tmin\n",
    "data['tmin_rolling_3day'] = data.groupby('station_name')['tmin'].transform(lambda x: x.rolling(3).mean())\n",
    "data['tmin_rolling_3day'] = round(data['tmin_rolling_3day'],6)\n",
    "\n",
    "data['tmin_rolling_7day'] = data.groupby('station_name')['tmin'].transform(lambda x: x.rolling(7).mean())\n",
    "data['tmin_rolling_7day'] = round(data['tmin_rolling_7day'],6)\n",
    "\n",
    "data['tmin_rolling_14day'] = data.groupby('station_name')['tmin'].transform(lambda x: x.rolling(14).mean())\n",
    "data['tmin_rolling_14day'] = round(data['tmin_rolling_14day'],6)"
   ]
  },
  {
   "cell_type": "code",
   "execution_count": 239,
   "metadata": {},
   "outputs": [
    {
     "output_type": "stream",
     "name": "stdout",
     "text": [
      "prcp_rolling_3day 10\nprcp_rolling_7day 30\nprcp_rolling_14day 65\ntmax_rolling_3day 10\ntmax_rolling_7day 30\ntmax_rolling_14day 65\ntmin_rolling_3day 10\ntmin_rolling_7day 30\ntmin_rolling_14day 65\n"
     ]
    }
   ],
   "source": [
    "missingByCol(data)"
   ]
  },
  {
   "cell_type": "code",
   "execution_count": 240,
   "metadata": {},
   "outputs": [],
   "source": [
    "data_missing2 = data.copy()\n",
    "data_missing2.drop(['date','year','day_of_year','month','month_name','day','day_of_week','day_of_week_name','key','station_name'], axis = 1, inplace = True)\n",
    "imputer2 = KNNImputer(n_neighbors=2)\n",
    "data_imputed2 = pd.DataFrame(imputer2.fit_transform(data_missing2), columns = data_missing2.columns) # impute missing data here before the merge\n",
    "missingByCol(data_imputed2) # check for missing values"
   ]
  },
  {
   "cell_type": "code",
   "execution_count": 241,
   "metadata": {},
   "outputs": [
    {
     "output_type": "execute_result",
     "data": {
      "text/plain": [
       "           lat       lon  prcp  tmax  tmin  prcp_rolling_3day  \\\n",
       "0      33.7381 -116.8939  0.00  80.0  44.0           0.006666   \n",
       "1      33.7381 -116.8939  0.00  82.0  44.0           0.000000   \n",
       "2      33.7381 -116.8939  0.00  87.0  43.0           0.000000   \n",
       "3      33.7381 -116.8939  0.00  91.0  41.0           0.000000   \n",
       "4      33.7381 -116.8939  0.00  86.0  45.0           0.000000   \n",
       "...        ...       ...   ...   ...   ...                ...   \n",
       "19515  33.2354 -117.2322  0.00  62.0  45.0           0.036667   \n",
       "19516  33.2354 -117.2322  0.51  61.0  46.0           0.206667   \n",
       "19517  33.2354 -117.2322  0.00  65.0  40.0           0.170000   \n",
       "19518  33.2354 -117.2322  0.00  67.0  44.0           0.170000   \n",
       "19519  33.2354 -117.2322  0.00  68.0  41.0           0.000000   \n",
       "\n",
       "       prcp_rolling_7day  prcp_rolling_14day  tmax_rolling_3day  \\\n",
       "0               0.002857            0.017857          77.500000   \n",
       "1               0.039286            0.022857          81.000000   \n",
       "2               0.000000            0.011428          83.000000   \n",
       "3               0.000000            0.001429          86.666667   \n",
       "4               0.000000            0.000000          88.000000   \n",
       "...                  ...                 ...                ...   \n",
       "19515           0.015714            0.010714          64.333333   \n",
       "19516           0.088571            0.047143          61.333333   \n",
       "19517           0.088571            0.047143          62.666667   \n",
       "19518           0.088571            0.047143          64.333333   \n",
       "19519           0.088571            0.044286          66.666667   \n",
       "\n",
       "       tmax_rolling_7day  tmax_rolling_14day  tmin_rolling_3day  \\\n",
       "0              75.500000           78.178572          43.333333   \n",
       "1              76.285714           72.428571          43.500000   \n",
       "2              78.214286           74.821428          43.666667   \n",
       "3              79.785714           82.071429          42.666667   \n",
       "4              85.214286           79.571428          43.000000   \n",
       "...                  ...                 ...                ...   \n",
       "19515          75.285714           74.357143          47.333333   \n",
       "19516          72.571429           73.214286          47.000000   \n",
       "19517          69.285714           72.428571          43.666667   \n",
       "19518          66.571429           72.285714          43.333333   \n",
       "19519          64.857143           72.642857          41.666667   \n",
       "\n",
       "       tmin_rolling_7day  tmin_rolling_14day  \n",
       "0              43.500000           45.142858  \n",
       "1              43.000000           44.607143  \n",
       "2              44.071428           43.464286  \n",
       "3              43.857143           44.928572  \n",
       "4              42.500000           42.107142  \n",
       "...                  ...                 ...  \n",
       "19515          50.714286           48.428571  \n",
       "19516          50.142857           48.285714  \n",
       "19517          48.000000           47.857143  \n",
       "19518          46.000000           47.500000  \n",
       "19519          44.714286           46.857143  \n",
       "\n",
       "[19520 rows x 14 columns]"
      ],
      "text/html": "<div>\n<style scoped>\n    .dataframe tbody tr th:only-of-type {\n        vertical-align: middle;\n    }\n\n    .dataframe tbody tr th {\n        vertical-align: top;\n    }\n\n    .dataframe thead th {\n        text-align: right;\n    }\n</style>\n<table border=\"1\" class=\"dataframe\">\n  <thead>\n    <tr style=\"text-align: right;\">\n      <th></th>\n      <th>lat</th>\n      <th>lon</th>\n      <th>prcp</th>\n      <th>tmax</th>\n      <th>tmin</th>\n      <th>prcp_rolling_3day</th>\n      <th>prcp_rolling_7day</th>\n      <th>prcp_rolling_14day</th>\n      <th>tmax_rolling_3day</th>\n      <th>tmax_rolling_7day</th>\n      <th>tmax_rolling_14day</th>\n      <th>tmin_rolling_3day</th>\n      <th>tmin_rolling_7day</th>\n      <th>tmin_rolling_14day</th>\n    </tr>\n  </thead>\n  <tbody>\n    <tr>\n      <th>0</th>\n      <td>33.7381</td>\n      <td>-116.8939</td>\n      <td>0.00</td>\n      <td>80.0</td>\n      <td>44.0</td>\n      <td>0.006666</td>\n      <td>0.002857</td>\n      <td>0.017857</td>\n      <td>77.500000</td>\n      <td>75.500000</td>\n      <td>78.178572</td>\n      <td>43.333333</td>\n      <td>43.500000</td>\n      <td>45.142858</td>\n    </tr>\n    <tr>\n      <th>1</th>\n      <td>33.7381</td>\n      <td>-116.8939</td>\n      <td>0.00</td>\n      <td>82.0</td>\n      <td>44.0</td>\n      <td>0.000000</td>\n      <td>0.039286</td>\n      <td>0.022857</td>\n      <td>81.000000</td>\n      <td>76.285714</td>\n      <td>72.428571</td>\n      <td>43.500000</td>\n      <td>43.000000</td>\n      <td>44.607143</td>\n    </tr>\n    <tr>\n      <th>2</th>\n      <td>33.7381</td>\n      <td>-116.8939</td>\n      <td>0.00</td>\n      <td>87.0</td>\n      <td>43.0</td>\n      <td>0.000000</td>\n      <td>0.000000</td>\n      <td>0.011428</td>\n      <td>83.000000</td>\n      <td>78.214286</td>\n      <td>74.821428</td>\n      <td>43.666667</td>\n      <td>44.071428</td>\n      <td>43.464286</td>\n    </tr>\n    <tr>\n      <th>3</th>\n      <td>33.7381</td>\n      <td>-116.8939</td>\n      <td>0.00</td>\n      <td>91.0</td>\n      <td>41.0</td>\n      <td>0.000000</td>\n      <td>0.000000</td>\n      <td>0.001429</td>\n      <td>86.666667</td>\n      <td>79.785714</td>\n      <td>82.071429</td>\n      <td>42.666667</td>\n      <td>43.857143</td>\n      <td>44.928572</td>\n    </tr>\n    <tr>\n      <th>4</th>\n      <td>33.7381</td>\n      <td>-116.8939</td>\n      <td>0.00</td>\n      <td>86.0</td>\n      <td>45.0</td>\n      <td>0.000000</td>\n      <td>0.000000</td>\n      <td>0.000000</td>\n      <td>88.000000</td>\n      <td>85.214286</td>\n      <td>79.571428</td>\n      <td>43.000000</td>\n      <td>42.500000</td>\n      <td>42.107142</td>\n    </tr>\n    <tr>\n      <th>...</th>\n      <td>...</td>\n      <td>...</td>\n      <td>...</td>\n      <td>...</td>\n      <td>...</td>\n      <td>...</td>\n      <td>...</td>\n      <td>...</td>\n      <td>...</td>\n      <td>...</td>\n      <td>...</td>\n      <td>...</td>\n      <td>...</td>\n      <td>...</td>\n    </tr>\n    <tr>\n      <th>19515</th>\n      <td>33.2354</td>\n      <td>-117.2322</td>\n      <td>0.00</td>\n      <td>62.0</td>\n      <td>45.0</td>\n      <td>0.036667</td>\n      <td>0.015714</td>\n      <td>0.010714</td>\n      <td>64.333333</td>\n      <td>75.285714</td>\n      <td>74.357143</td>\n      <td>47.333333</td>\n      <td>50.714286</td>\n      <td>48.428571</td>\n    </tr>\n    <tr>\n      <th>19516</th>\n      <td>33.2354</td>\n      <td>-117.2322</td>\n      <td>0.51</td>\n      <td>61.0</td>\n      <td>46.0</td>\n      <td>0.206667</td>\n      <td>0.088571</td>\n      <td>0.047143</td>\n      <td>61.333333</td>\n      <td>72.571429</td>\n      <td>73.214286</td>\n      <td>47.000000</td>\n      <td>50.142857</td>\n      <td>48.285714</td>\n    </tr>\n    <tr>\n      <th>19517</th>\n      <td>33.2354</td>\n      <td>-117.2322</td>\n      <td>0.00</td>\n      <td>65.0</td>\n      <td>40.0</td>\n      <td>0.170000</td>\n      <td>0.088571</td>\n      <td>0.047143</td>\n      <td>62.666667</td>\n      <td>69.285714</td>\n      <td>72.428571</td>\n      <td>43.666667</td>\n      <td>48.000000</td>\n      <td>47.857143</td>\n    </tr>\n    <tr>\n      <th>19518</th>\n      <td>33.2354</td>\n      <td>-117.2322</td>\n      <td>0.00</td>\n      <td>67.0</td>\n      <td>44.0</td>\n      <td>0.170000</td>\n      <td>0.088571</td>\n      <td>0.047143</td>\n      <td>64.333333</td>\n      <td>66.571429</td>\n      <td>72.285714</td>\n      <td>43.333333</td>\n      <td>46.000000</td>\n      <td>47.500000</td>\n    </tr>\n    <tr>\n      <th>19519</th>\n      <td>33.2354</td>\n      <td>-117.2322</td>\n      <td>0.00</td>\n      <td>68.0</td>\n      <td>41.0</td>\n      <td>0.000000</td>\n      <td>0.088571</td>\n      <td>0.044286</td>\n      <td>66.666667</td>\n      <td>64.857143</td>\n      <td>72.642857</td>\n      <td>41.666667</td>\n      <td>44.714286</td>\n      <td>46.857143</td>\n    </tr>\n  </tbody>\n</table>\n<p>19520 rows × 14 columns</p>\n</div>"
     },
     "metadata": {},
     "execution_count": 241
    }
   ],
   "source": [
    "data_imputed2"
   ]
  },
  {
   "cell_type": "code",
   "execution_count": 242,
   "metadata": {},
   "outputs": [
    {
     "output_type": "stream",
     "name": "stdout",
     "text": [
      "19520\n"
     ]
    }
   ],
   "source": [
    "print(len(data_imputed2))\n",
    "\n",
    "data.drop(['prcp_rolling_3day','prcp_rolling_7day','prcp_rolling_14day','tmax_rolling_3day','tmax_rolling_7day','tmax_rolling_14day','tmin_rolling_3day','tmin_rolling_7day','tmin_rolling_14day'], axis = 1, inplace = True)\n",
    "data['prcp_rolling_3day'] = data_imputed2['prcp_rolling_3day']\n",
    "data['prcp_rolling_7day'] = data_imputed2['prcp_rolling_7day']\n",
    "data['prcp_rolling_14day'] = data_imputed2['prcp_rolling_14day']\n",
    "data['tmax_rolling_3day'] = data_imputed2['tmax_rolling_3day']\n",
    "data['tmax_rolling_7day'] = data_imputed2['tmax_rolling_7day']\n",
    "data['tmax_rolling_14day'] = data_imputed2['tmax_rolling_14day']\n",
    "data['tmin_rolling_3day'] = data_imputed2['tmin_rolling_3day']\n",
    "data['tmin_rolling_7day'] = data_imputed2['tmin_rolling_7day']\n",
    "data['tmin_rolling_14day'] = data_imputed2['tmin_rolling_14day']\n",
    "missingByCol(data) # check for missing values"
   ]
  },
  {
   "cell_type": "code",
   "execution_count": 243,
   "metadata": {},
   "outputs": [],
   "source": [
    "to_mgrs_10km, to_mgrs_100km = [],[] # get MGRS for each weather feed (5, 1 for each 100 km block)\n",
    "w_lat = data['lat'].tolist()\n",
    "w_lon = data['lon'].tolist()\n",
    "for i, j in zip(w_lat, w_lon):\n",
    "    to_mgrs_10km.append(m.toMGRS(i, j, MGRSPrecision=1)) \n",
    "    to_mgrs_100km.append(m.toMGRS(i, j, MGRSPrecision=0)) \n",
    "data['mgrs_100km'] = to_mgrs_100km # \n",
    "data['mgrs_10km'] = to_mgrs_10km"
   ]
  },
  {
   "cell_type": "code",
   "execution_count": 244,
   "metadata": {},
   "outputs": [
    {
     "output_type": "stream",
     "name": "stdout",
     "text": [
      "<class 'pandas.core.frame.DataFrame'>\nRangeIndex: 19520 entries, 0 to 19519\nData columns (total 26 columns):\n #   Column              Non-Null Count  Dtype         \n---  ------              --------------  -----         \n 0   date                19520 non-null  datetime64[ns]\n 1   year                19520 non-null  int64         \n 2   day_of_year         19520 non-null  int64         \n 3   month               19520 non-null  int64         \n 4   month_name          19520 non-null  object        \n 5   day                 19520 non-null  int64         \n 6   day_of_week         19520 non-null  int64         \n 7   day_of_week_name    19520 non-null  object        \n 8   key                 19520 non-null  int64         \n 9   station_name        19520 non-null  object        \n 10  lat                 19520 non-null  float64       \n 11  lon                 19520 non-null  float64       \n 12  prcp                19520 non-null  float64       \n 13  tmax                19520 non-null  float64       \n 14  tmin                19520 non-null  float64       \n 15  prcp_rolling_3day   19520 non-null  float64       \n 16  prcp_rolling_7day   19520 non-null  float64       \n 17  prcp_rolling_14day  19520 non-null  float64       \n 18  tmax_rolling_3day   19520 non-null  float64       \n 19  tmax_rolling_7day   19520 non-null  float64       \n 20  tmax_rolling_14day  19520 non-null  float64       \n 21  tmin_rolling_3day   19520 non-null  float64       \n 22  tmin_rolling_7day   19520 non-null  float64       \n 23  tmin_rolling_14day  19520 non-null  float64       \n 24  mgrs_100km          19520 non-null  object        \n 25  mgrs_10km           19520 non-null  object        \ndtypes: datetime64[ns](1), float64(14), int64(6), object(5)\nmemory usage: 3.9+ MB\n"
     ]
    }
   ],
   "source": [
    "data.info()"
   ]
  },
  {
   "cell_type": "code",
   "execution_count": 245,
   "metadata": {},
   "outputs": [],
   "source": [
    "data = data[['date', 'day_of_year' ,'month_name' ,'day' ,'day_of_week' ,'day_of_week_name' ,'station_name', 'mgrs_100km' ,'lat' ,'lon' ,'prcp' ,'prcp_rolling_3day' ,'prcp_rolling_7day' ,'prcp_rolling_14day' ,'tmin' ,'tmin_rolling_3day','tmin_rolling_7day','tmin_rolling_14day','tmax','tmax_rolling_3day','tmax_rolling_7day','tmax_rolling_14day']]"
   ]
  },
  {
   "cell_type": "code",
   "execution_count": 246,
   "metadata": {},
   "outputs": [
    {
     "output_type": "execute_result",
     "data": {
      "text/plain": [
       "            date  day_of_year month_name  day  day_of_week day_of_week_name  \\\n",
       "0     2000-04-01           92      April    1            5         Saturday   \n",
       "1     2000-04-02           93      April    2            6           Sunday   \n",
       "2     2000-04-03           94      April    3            0           Monday   \n",
       "3     2000-04-04           95      April    4            1          Tuesday   \n",
       "4     2000-04-05           96      April    5            2        Wednesday   \n",
       "...          ...          ...        ...  ...          ...              ...   \n",
       "19515 2015-11-26          330   November   26            3         Thursday   \n",
       "19516 2015-11-27          331   November   27            4           Friday   \n",
       "19517 2015-11-28          332   November   28            5         Saturday   \n",
       "19518 2015-11-29          333   November   29            6           Sunday   \n",
       "19519 2015-11-30          334   November   30            0           Monday   \n",
       "\n",
       "       station_name mgrs_100km      lat       lon  ...  prcp_rolling_7day  \\\n",
       "0      HEMET, CA US      11SNT  33.7381 -116.8939  ...           0.002857   \n",
       "1      HEMET, CA US      11SNT  33.7381 -116.8939  ...           0.039286   \n",
       "2      HEMET, CA US      11SNT  33.7381 -116.8939  ...           0.000000   \n",
       "3      HEMET, CA US      11SNT  33.7381 -116.8939  ...           0.000000   \n",
       "4      HEMET, CA US      11SNT  33.7381 -116.8939  ...           0.000000   \n",
       "...             ...        ...      ...       ...  ...                ...   \n",
       "19515  VISTA, CA US      11SMS  33.2354 -117.2322  ...           0.015714   \n",
       "19516  VISTA, CA US      11SMS  33.2354 -117.2322  ...           0.088571   \n",
       "19517  VISTA, CA US      11SMS  33.2354 -117.2322  ...           0.088571   \n",
       "19518  VISTA, CA US      11SMS  33.2354 -117.2322  ...           0.088571   \n",
       "19519  VISTA, CA US      11SMS  33.2354 -117.2322  ...           0.088571   \n",
       "\n",
       "       prcp_rolling_14day  tmin  tmin_rolling_3day  tmin_rolling_7day  \\\n",
       "0                0.017857  44.0          43.333333          43.500000   \n",
       "1                0.022857  44.0          43.500000          43.000000   \n",
       "2                0.011428  43.0          43.666667          44.071428   \n",
       "3                0.001429  41.0          42.666667          43.857143   \n",
       "4                0.000000  45.0          43.000000          42.500000   \n",
       "...                   ...   ...                ...                ...   \n",
       "19515            0.010714  45.0          47.333333          50.714286   \n",
       "19516            0.047143  46.0          47.000000          50.142857   \n",
       "19517            0.047143  40.0          43.666667          48.000000   \n",
       "19518            0.047143  44.0          43.333333          46.000000   \n",
       "19519            0.044286  41.0          41.666667          44.714286   \n",
       "\n",
       "       tmin_rolling_14day  tmax  tmax_rolling_3day  tmax_rolling_7day  \\\n",
       "0               45.142858  80.0          77.500000          75.500000   \n",
       "1               44.607143  82.0          81.000000          76.285714   \n",
       "2               43.464286  87.0          83.000000          78.214286   \n",
       "3               44.928572  91.0          86.666667          79.785714   \n",
       "4               42.107142  86.0          88.000000          85.214286   \n",
       "...                   ...   ...                ...                ...   \n",
       "19515           48.428571  62.0          64.333333          75.285714   \n",
       "19516           48.285714  61.0          61.333333          72.571429   \n",
       "19517           47.857143  65.0          62.666667          69.285714   \n",
       "19518           47.500000  67.0          64.333333          66.571429   \n",
       "19519           46.857143  68.0          66.666667          64.857143   \n",
       "\n",
       "       tmax_rolling_14day  \n",
       "0               78.178572  \n",
       "1               72.428571  \n",
       "2               74.821428  \n",
       "3               82.071429  \n",
       "4               79.571428  \n",
       "...                   ...  \n",
       "19515           74.357143  \n",
       "19516           73.214286  \n",
       "19517           72.428571  \n",
       "19518           72.285714  \n",
       "19519           72.642857  \n",
       "\n",
       "[19520 rows x 22 columns]"
      ],
      "text/html": "<div>\n<style scoped>\n    .dataframe tbody tr th:only-of-type {\n        vertical-align: middle;\n    }\n\n    .dataframe tbody tr th {\n        vertical-align: top;\n    }\n\n    .dataframe thead th {\n        text-align: right;\n    }\n</style>\n<table border=\"1\" class=\"dataframe\">\n  <thead>\n    <tr style=\"text-align: right;\">\n      <th></th>\n      <th>date</th>\n      <th>day_of_year</th>\n      <th>month_name</th>\n      <th>day</th>\n      <th>day_of_week</th>\n      <th>day_of_week_name</th>\n      <th>station_name</th>\n      <th>mgrs_100km</th>\n      <th>lat</th>\n      <th>lon</th>\n      <th>...</th>\n      <th>prcp_rolling_7day</th>\n      <th>prcp_rolling_14day</th>\n      <th>tmin</th>\n      <th>tmin_rolling_3day</th>\n      <th>tmin_rolling_7day</th>\n      <th>tmin_rolling_14day</th>\n      <th>tmax</th>\n      <th>tmax_rolling_3day</th>\n      <th>tmax_rolling_7day</th>\n      <th>tmax_rolling_14day</th>\n    </tr>\n  </thead>\n  <tbody>\n    <tr>\n      <th>0</th>\n      <td>2000-04-01</td>\n      <td>92</td>\n      <td>April</td>\n      <td>1</td>\n      <td>5</td>\n      <td>Saturday</td>\n      <td>HEMET, CA US</td>\n      <td>11SNT</td>\n      <td>33.7381</td>\n      <td>-116.8939</td>\n      <td>...</td>\n      <td>0.002857</td>\n      <td>0.017857</td>\n      <td>44.0</td>\n      <td>43.333333</td>\n      <td>43.500000</td>\n      <td>45.142858</td>\n      <td>80.0</td>\n      <td>77.500000</td>\n      <td>75.500000</td>\n      <td>78.178572</td>\n    </tr>\n    <tr>\n      <th>1</th>\n      <td>2000-04-02</td>\n      <td>93</td>\n      <td>April</td>\n      <td>2</td>\n      <td>6</td>\n      <td>Sunday</td>\n      <td>HEMET, CA US</td>\n      <td>11SNT</td>\n      <td>33.7381</td>\n      <td>-116.8939</td>\n      <td>...</td>\n      <td>0.039286</td>\n      <td>0.022857</td>\n      <td>44.0</td>\n      <td>43.500000</td>\n      <td>43.000000</td>\n      <td>44.607143</td>\n      <td>82.0</td>\n      <td>81.000000</td>\n      <td>76.285714</td>\n      <td>72.428571</td>\n    </tr>\n    <tr>\n      <th>2</th>\n      <td>2000-04-03</td>\n      <td>94</td>\n      <td>April</td>\n      <td>3</td>\n      <td>0</td>\n      <td>Monday</td>\n      <td>HEMET, CA US</td>\n      <td>11SNT</td>\n      <td>33.7381</td>\n      <td>-116.8939</td>\n      <td>...</td>\n      <td>0.000000</td>\n      <td>0.011428</td>\n      <td>43.0</td>\n      <td>43.666667</td>\n      <td>44.071428</td>\n      <td>43.464286</td>\n      <td>87.0</td>\n      <td>83.000000</td>\n      <td>78.214286</td>\n      <td>74.821428</td>\n    </tr>\n    <tr>\n      <th>3</th>\n      <td>2000-04-04</td>\n      <td>95</td>\n      <td>April</td>\n      <td>4</td>\n      <td>1</td>\n      <td>Tuesday</td>\n      <td>HEMET, CA US</td>\n      <td>11SNT</td>\n      <td>33.7381</td>\n      <td>-116.8939</td>\n      <td>...</td>\n      <td>0.000000</td>\n      <td>0.001429</td>\n      <td>41.0</td>\n      <td>42.666667</td>\n      <td>43.857143</td>\n      <td>44.928572</td>\n      <td>91.0</td>\n      <td>86.666667</td>\n      <td>79.785714</td>\n      <td>82.071429</td>\n    </tr>\n    <tr>\n      <th>4</th>\n      <td>2000-04-05</td>\n      <td>96</td>\n      <td>April</td>\n      <td>5</td>\n      <td>2</td>\n      <td>Wednesday</td>\n      <td>HEMET, CA US</td>\n      <td>11SNT</td>\n      <td>33.7381</td>\n      <td>-116.8939</td>\n      <td>...</td>\n      <td>0.000000</td>\n      <td>0.000000</td>\n      <td>45.0</td>\n      <td>43.000000</td>\n      <td>42.500000</td>\n      <td>42.107142</td>\n      <td>86.0</td>\n      <td>88.000000</td>\n      <td>85.214286</td>\n      <td>79.571428</td>\n    </tr>\n    <tr>\n      <th>...</th>\n      <td>...</td>\n      <td>...</td>\n      <td>...</td>\n      <td>...</td>\n      <td>...</td>\n      <td>...</td>\n      <td>...</td>\n      <td>...</td>\n      <td>...</td>\n      <td>...</td>\n      <td>...</td>\n      <td>...</td>\n      <td>...</td>\n      <td>...</td>\n      <td>...</td>\n      <td>...</td>\n      <td>...</td>\n      <td>...</td>\n      <td>...</td>\n      <td>...</td>\n      <td>...</td>\n    </tr>\n    <tr>\n      <th>19515</th>\n      <td>2015-11-26</td>\n      <td>330</td>\n      <td>November</td>\n      <td>26</td>\n      <td>3</td>\n      <td>Thursday</td>\n      <td>VISTA, CA US</td>\n      <td>11SMS</td>\n      <td>33.2354</td>\n      <td>-117.2322</td>\n      <td>...</td>\n      <td>0.015714</td>\n      <td>0.010714</td>\n      <td>45.0</td>\n      <td>47.333333</td>\n      <td>50.714286</td>\n      <td>48.428571</td>\n      <td>62.0</td>\n      <td>64.333333</td>\n      <td>75.285714</td>\n      <td>74.357143</td>\n    </tr>\n    <tr>\n      <th>19516</th>\n      <td>2015-11-27</td>\n      <td>331</td>\n      <td>November</td>\n      <td>27</td>\n      <td>4</td>\n      <td>Friday</td>\n      <td>VISTA, CA US</td>\n      <td>11SMS</td>\n      <td>33.2354</td>\n      <td>-117.2322</td>\n      <td>...</td>\n      <td>0.088571</td>\n      <td>0.047143</td>\n      <td>46.0</td>\n      <td>47.000000</td>\n      <td>50.142857</td>\n      <td>48.285714</td>\n      <td>61.0</td>\n      <td>61.333333</td>\n      <td>72.571429</td>\n      <td>73.214286</td>\n    </tr>\n    <tr>\n      <th>19517</th>\n      <td>2015-11-28</td>\n      <td>332</td>\n      <td>November</td>\n      <td>28</td>\n      <td>5</td>\n      <td>Saturday</td>\n      <td>VISTA, CA US</td>\n      <td>11SMS</td>\n      <td>33.2354</td>\n      <td>-117.2322</td>\n      <td>...</td>\n      <td>0.088571</td>\n      <td>0.047143</td>\n      <td>40.0</td>\n      <td>43.666667</td>\n      <td>48.000000</td>\n      <td>47.857143</td>\n      <td>65.0</td>\n      <td>62.666667</td>\n      <td>69.285714</td>\n      <td>72.428571</td>\n    </tr>\n    <tr>\n      <th>19518</th>\n      <td>2015-11-29</td>\n      <td>333</td>\n      <td>November</td>\n      <td>29</td>\n      <td>6</td>\n      <td>Sunday</td>\n      <td>VISTA, CA US</td>\n      <td>11SMS</td>\n      <td>33.2354</td>\n      <td>-117.2322</td>\n      <td>...</td>\n      <td>0.088571</td>\n      <td>0.047143</td>\n      <td>44.0</td>\n      <td>43.333333</td>\n      <td>46.000000</td>\n      <td>47.500000</td>\n      <td>67.0</td>\n      <td>64.333333</td>\n      <td>66.571429</td>\n      <td>72.285714</td>\n    </tr>\n    <tr>\n      <th>19519</th>\n      <td>2015-11-30</td>\n      <td>334</td>\n      <td>November</td>\n      <td>30</td>\n      <td>0</td>\n      <td>Monday</td>\n      <td>VISTA, CA US</td>\n      <td>11SMS</td>\n      <td>33.2354</td>\n      <td>-117.2322</td>\n      <td>...</td>\n      <td>0.088571</td>\n      <td>0.044286</td>\n      <td>41.0</td>\n      <td>41.666667</td>\n      <td>44.714286</td>\n      <td>46.857143</td>\n      <td>68.0</td>\n      <td>66.666667</td>\n      <td>64.857143</td>\n      <td>72.642857</td>\n    </tr>\n  </tbody>\n</table>\n<p>19520 rows × 22 columns</p>\n</div>"
     },
     "metadata": {},
     "execution_count": 246
    }
   ],
   "source": [
    "data"
   ]
  },
  {
   "cell_type": "code",
   "execution_count": 221,
   "metadata": {},
   "outputs": [
    {
     "output_type": "execute_result",
     "data": {
      "text/plain": [
       "     mgrs_100km mgrs_10km        lat         lon       date\n",
       "0         11SMT   11SMT27  34.067686 -117.866966 2005-07-03\n",
       "1         11SMT   11SMT53  33.708802 -117.539594 2005-06-19\n",
       "2         11SNS   11SNS16  33.078549 -116.892857 2005-07-31\n",
       "3         11SNS   11SNS23  32.807799 -116.786366 2005-07-04\n",
       "4         11SNS   11SNS08  33.258997 -117.000000 2005-07-05\n",
       "...         ...       ...        ...         ...        ...\n",
       "8052      11SNS   11SNS12  32.717728 -116.893290 2015-04-09\n",
       "8053      11SMT   11SMT95  33.890318 -117.108147 2009-05-03\n",
       "8054      11SNS   11SNS04  32.898187 -117.000000 2010-05-29\n",
       "8055      11SNS   11SNS04  32.898187 -117.000000 2014-05-29\n",
       "8056      11SNT   11SNT38  34.160500 -116.674529 2015-07-25\n",
       "\n",
       "[8057 rows x 5 columns]"
      ],
      "text/html": "<div>\n<style scoped>\n    .dataframe tbody tr th:only-of-type {\n        vertical-align: middle;\n    }\n\n    .dataframe tbody tr th {\n        vertical-align: top;\n    }\n\n    .dataframe thead th {\n        text-align: right;\n    }\n</style>\n<table border=\"1\" class=\"dataframe\">\n  <thead>\n    <tr style=\"text-align: right;\">\n      <th></th>\n      <th>mgrs_100km</th>\n      <th>mgrs_10km</th>\n      <th>lat</th>\n      <th>lon</th>\n      <th>date</th>\n    </tr>\n  </thead>\n  <tbody>\n    <tr>\n      <th>0</th>\n      <td>11SMT</td>\n      <td>11SMT27</td>\n      <td>34.067686</td>\n      <td>-117.866966</td>\n      <td>2005-07-03</td>\n    </tr>\n    <tr>\n      <th>1</th>\n      <td>11SMT</td>\n      <td>11SMT53</td>\n      <td>33.708802</td>\n      <td>-117.539594</td>\n      <td>2005-06-19</td>\n    </tr>\n    <tr>\n      <th>2</th>\n      <td>11SNS</td>\n      <td>11SNS16</td>\n      <td>33.078549</td>\n      <td>-116.892857</td>\n      <td>2005-07-31</td>\n    </tr>\n    <tr>\n      <th>3</th>\n      <td>11SNS</td>\n      <td>11SNS23</td>\n      <td>32.807799</td>\n      <td>-116.786366</td>\n      <td>2005-07-04</td>\n    </tr>\n    <tr>\n      <th>4</th>\n      <td>11SNS</td>\n      <td>11SNS08</td>\n      <td>33.258997</td>\n      <td>-117.000000</td>\n      <td>2005-07-05</td>\n    </tr>\n    <tr>\n      <th>...</th>\n      <td>...</td>\n      <td>...</td>\n      <td>...</td>\n      <td>...</td>\n      <td>...</td>\n    </tr>\n    <tr>\n      <th>8052</th>\n      <td>11SNS</td>\n      <td>11SNS12</td>\n      <td>32.717728</td>\n      <td>-116.893290</td>\n      <td>2015-04-09</td>\n    </tr>\n    <tr>\n      <th>8053</th>\n      <td>11SMT</td>\n      <td>11SMT95</td>\n      <td>33.890318</td>\n      <td>-117.108147</td>\n      <td>2009-05-03</td>\n    </tr>\n    <tr>\n      <th>8054</th>\n      <td>11SNS</td>\n      <td>11SNS04</td>\n      <td>32.898187</td>\n      <td>-117.000000</td>\n      <td>2010-05-29</td>\n    </tr>\n    <tr>\n      <th>8055</th>\n      <td>11SNS</td>\n      <td>11SNS04</td>\n      <td>32.898187</td>\n      <td>-117.000000</td>\n      <td>2014-05-29</td>\n    </tr>\n    <tr>\n      <th>8056</th>\n      <td>11SNT</td>\n      <td>11SNT38</td>\n      <td>34.160500</td>\n      <td>-116.674529</td>\n      <td>2015-07-25</td>\n    </tr>\n  </tbody>\n</table>\n<p>8057 rows × 5 columns</p>\n</div>"
     },
     "metadata": {},
     "execution_count": 221
    }
   ],
   "source": [
    "# data.to_csv('weather_data.csv')\n",
    "socal_lite"
   ]
  },
  {
   "cell_type": "code",
   "execution_count": 247,
   "metadata": {},
   "outputs": [],
   "source": [
    "data2 = data.merge(socal_lite, on = ('date', 'mgrs_100km'), how = 'left')"
   ]
  },
  {
   "cell_type": "code",
   "execution_count": 248,
   "metadata": {},
   "outputs": [
    {
     "output_type": "stream",
     "name": "stdout",
     "text": [
      "<class 'pandas.core.frame.DataFrame'>\nInt64Index: 22320 entries, 0 to 22319\nData columns (total 25 columns):\n #   Column              Non-Null Count  Dtype         \n---  ------              --------------  -----         \n 0   date                22320 non-null  datetime64[ns]\n 1   day_of_year         22320 non-null  int64         \n 2   month_name          22320 non-null  object        \n 3   day                 22320 non-null  int64         \n 4   day_of_week         22320 non-null  int64         \n 5   day_of_week_name    22320 non-null  object        \n 6   station_name        22320 non-null  object        \n 7   mgrs_100km          22320 non-null  object        \n 8   lat_x               22320 non-null  float64       \n 9   lon_x               22320 non-null  float64       \n 10  prcp                22320 non-null  float64       \n 11  prcp_rolling_3day   22320 non-null  float64       \n 12  prcp_rolling_7day   22320 non-null  float64       \n 13  prcp_rolling_14day  22320 non-null  float64       \n 14  tmin                22320 non-null  float64       \n 15  tmin_rolling_3day   22320 non-null  float64       \n 16  tmin_rolling_7day   22320 non-null  float64       \n 17  tmin_rolling_14day  22320 non-null  float64       \n 18  tmax                22320 non-null  float64       \n 19  tmax_rolling_3day   22320 non-null  float64       \n 20  tmax_rolling_7day   22320 non-null  float64       \n 21  tmax_rolling_14day  22320 non-null  float64       \n 22  mgrs_10km           7782 non-null   object        \n 23  lat_y               7782 non-null   float64       \n 24  lon_y               7782 non-null   float64       \ndtypes: datetime64[ns](1), float64(16), int64(3), object(5)\nmemory usage: 5.1+ MB\n"
     ]
    }
   ],
   "source": [
    "data2.info()"
   ]
  },
  {
   "cell_type": "code",
   "execution_count": 249,
   "metadata": {},
   "outputs": [
    {
     "output_type": "execute_result",
     "data": {
      "text/plain": [
       "            date  day_of_year month_name  day  day_of_week day_of_week_name  \\\n",
       "0     2000-04-01           92      April    1            5         Saturday   \n",
       "1     2000-04-02           93      April    2            6           Sunday   \n",
       "2     2000-04-03           94      April    3            0           Monday   \n",
       "3     2000-04-04           95      April    4            1          Tuesday   \n",
       "4     2000-04-05           96      April    5            2        Wednesday   \n",
       "...          ...          ...        ...  ...          ...              ...   \n",
       "22315 2015-11-26          330   November   26            3         Thursday   \n",
       "22316 2015-11-27          331   November   27            4           Friday   \n",
       "22317 2015-11-28          332   November   28            5         Saturday   \n",
       "22318 2015-11-29          333   November   29            6           Sunday   \n",
       "22319 2015-11-30          334   November   30            0           Monday   \n",
       "\n",
       "       station_name mgrs_100km    lat_x     lon_x  ...  tmin_rolling_3day  \\\n",
       "0      HEMET, CA US      11SNT  33.7381 -116.8939  ...          43.333333   \n",
       "1      HEMET, CA US      11SNT  33.7381 -116.8939  ...          43.500000   \n",
       "2      HEMET, CA US      11SNT  33.7381 -116.8939  ...          43.666667   \n",
       "3      HEMET, CA US      11SNT  33.7381 -116.8939  ...          42.666667   \n",
       "4      HEMET, CA US      11SNT  33.7381 -116.8939  ...          43.000000   \n",
       "...             ...        ...      ...       ...  ...                ...   \n",
       "22315  VISTA, CA US      11SMS  33.2354 -117.2322  ...          47.333333   \n",
       "22316  VISTA, CA US      11SMS  33.2354 -117.2322  ...          47.000000   \n",
       "22317  VISTA, CA US      11SMS  33.2354 -117.2322  ...          43.666667   \n",
       "22318  VISTA, CA US      11SMS  33.2354 -117.2322  ...          43.333333   \n",
       "22319  VISTA, CA US      11SMS  33.2354 -117.2322  ...          41.666667   \n",
       "\n",
       "       tmin_rolling_7day  tmin_rolling_14day  tmax  tmax_rolling_3day  \\\n",
       "0              43.500000           45.142858  80.0          77.500000   \n",
       "1              43.000000           44.607143  82.0          81.000000   \n",
       "2              44.071428           43.464286  87.0          83.000000   \n",
       "3              43.857143           44.928572  91.0          86.666667   \n",
       "4              42.500000           42.107142  86.0          88.000000   \n",
       "...                  ...                 ...   ...                ...   \n",
       "22315          50.714286           48.428571  62.0          64.333333   \n",
       "22316          50.142857           48.285714  61.0          61.333333   \n",
       "22317          48.000000           47.857143  65.0          62.666667   \n",
       "22318          46.000000           47.500000  67.0          64.333333   \n",
       "22319          44.714286           46.857143  68.0          66.666667   \n",
       "\n",
       "       tmax_rolling_7day  tmax_rolling_14day  mgrs_10km      lat_y      lon_y  \n",
       "0              75.500000           78.178572    11SNT72  33.617485 -116.24537  \n",
       "1              76.285714           72.428571        NaN        NaN        NaN  \n",
       "2              78.214286           74.821428        NaN        NaN        NaN  \n",
       "3              79.785714           82.071429        NaN        NaN        NaN  \n",
       "4              85.214286           79.571428        NaN        NaN        NaN  \n",
       "...                  ...                 ...        ...        ...        ...  \n",
       "22315          75.285714           74.357143        NaN        NaN        NaN  \n",
       "22316          72.571429           73.214286        NaN        NaN        NaN  \n",
       "22317          69.285714           72.428571        NaN        NaN        NaN  \n",
       "22318          66.571429           72.285714        NaN        NaN        NaN  \n",
       "22319          64.857143           72.642857        NaN        NaN        NaN  \n",
       "\n",
       "[22320 rows x 25 columns]"
      ],
      "text/html": "<div>\n<style scoped>\n    .dataframe tbody tr th:only-of-type {\n        vertical-align: middle;\n    }\n\n    .dataframe tbody tr th {\n        vertical-align: top;\n    }\n\n    .dataframe thead th {\n        text-align: right;\n    }\n</style>\n<table border=\"1\" class=\"dataframe\">\n  <thead>\n    <tr style=\"text-align: right;\">\n      <th></th>\n      <th>date</th>\n      <th>day_of_year</th>\n      <th>month_name</th>\n      <th>day</th>\n      <th>day_of_week</th>\n      <th>day_of_week_name</th>\n      <th>station_name</th>\n      <th>mgrs_100km</th>\n      <th>lat_x</th>\n      <th>lon_x</th>\n      <th>...</th>\n      <th>tmin_rolling_3day</th>\n      <th>tmin_rolling_7day</th>\n      <th>tmin_rolling_14day</th>\n      <th>tmax</th>\n      <th>tmax_rolling_3day</th>\n      <th>tmax_rolling_7day</th>\n      <th>tmax_rolling_14day</th>\n      <th>mgrs_10km</th>\n      <th>lat_y</th>\n      <th>lon_y</th>\n    </tr>\n  </thead>\n  <tbody>\n    <tr>\n      <th>0</th>\n      <td>2000-04-01</td>\n      <td>92</td>\n      <td>April</td>\n      <td>1</td>\n      <td>5</td>\n      <td>Saturday</td>\n      <td>HEMET, CA US</td>\n      <td>11SNT</td>\n      <td>33.7381</td>\n      <td>-116.8939</td>\n      <td>...</td>\n      <td>43.333333</td>\n      <td>43.500000</td>\n      <td>45.142858</td>\n      <td>80.0</td>\n      <td>77.500000</td>\n      <td>75.500000</td>\n      <td>78.178572</td>\n      <td>11SNT72</td>\n      <td>33.617485</td>\n      <td>-116.24537</td>\n    </tr>\n    <tr>\n      <th>1</th>\n      <td>2000-04-02</td>\n      <td>93</td>\n      <td>April</td>\n      <td>2</td>\n      <td>6</td>\n      <td>Sunday</td>\n      <td>HEMET, CA US</td>\n      <td>11SNT</td>\n      <td>33.7381</td>\n      <td>-116.8939</td>\n      <td>...</td>\n      <td>43.500000</td>\n      <td>43.000000</td>\n      <td>44.607143</td>\n      <td>82.0</td>\n      <td>81.000000</td>\n      <td>76.285714</td>\n      <td>72.428571</td>\n      <td>NaN</td>\n      <td>NaN</td>\n      <td>NaN</td>\n    </tr>\n    <tr>\n      <th>2</th>\n      <td>2000-04-03</td>\n      <td>94</td>\n      <td>April</td>\n      <td>3</td>\n      <td>0</td>\n      <td>Monday</td>\n      <td>HEMET, CA US</td>\n      <td>11SNT</td>\n      <td>33.7381</td>\n      <td>-116.8939</td>\n      <td>...</td>\n      <td>43.666667</td>\n      <td>44.071428</td>\n      <td>43.464286</td>\n      <td>87.0</td>\n      <td>83.000000</td>\n      <td>78.214286</td>\n      <td>74.821428</td>\n      <td>NaN</td>\n      <td>NaN</td>\n      <td>NaN</td>\n    </tr>\n    <tr>\n      <th>3</th>\n      <td>2000-04-04</td>\n      <td>95</td>\n      <td>April</td>\n      <td>4</td>\n      <td>1</td>\n      <td>Tuesday</td>\n      <td>HEMET, CA US</td>\n      <td>11SNT</td>\n      <td>33.7381</td>\n      <td>-116.8939</td>\n      <td>...</td>\n      <td>42.666667</td>\n      <td>43.857143</td>\n      <td>44.928572</td>\n      <td>91.0</td>\n      <td>86.666667</td>\n      <td>79.785714</td>\n      <td>82.071429</td>\n      <td>NaN</td>\n      <td>NaN</td>\n      <td>NaN</td>\n    </tr>\n    <tr>\n      <th>4</th>\n      <td>2000-04-05</td>\n      <td>96</td>\n      <td>April</td>\n      <td>5</td>\n      <td>2</td>\n      <td>Wednesday</td>\n      <td>HEMET, CA US</td>\n      <td>11SNT</td>\n      <td>33.7381</td>\n      <td>-116.8939</td>\n      <td>...</td>\n      <td>43.000000</td>\n      <td>42.500000</td>\n      <td>42.107142</td>\n      <td>86.0</td>\n      <td>88.000000</td>\n      <td>85.214286</td>\n      <td>79.571428</td>\n      <td>NaN</td>\n      <td>NaN</td>\n      <td>NaN</td>\n    </tr>\n    <tr>\n      <th>...</th>\n      <td>...</td>\n      <td>...</td>\n      <td>...</td>\n      <td>...</td>\n      <td>...</td>\n      <td>...</td>\n      <td>...</td>\n      <td>...</td>\n      <td>...</td>\n      <td>...</td>\n      <td>...</td>\n      <td>...</td>\n      <td>...</td>\n      <td>...</td>\n      <td>...</td>\n      <td>...</td>\n      <td>...</td>\n      <td>...</td>\n      <td>...</td>\n      <td>...</td>\n      <td>...</td>\n    </tr>\n    <tr>\n      <th>22315</th>\n      <td>2015-11-26</td>\n      <td>330</td>\n      <td>November</td>\n      <td>26</td>\n      <td>3</td>\n      <td>Thursday</td>\n      <td>VISTA, CA US</td>\n      <td>11SMS</td>\n      <td>33.2354</td>\n      <td>-117.2322</td>\n      <td>...</td>\n      <td>47.333333</td>\n      <td>50.714286</td>\n      <td>48.428571</td>\n      <td>62.0</td>\n      <td>64.333333</td>\n      <td>75.285714</td>\n      <td>74.357143</td>\n      <td>NaN</td>\n      <td>NaN</td>\n      <td>NaN</td>\n    </tr>\n    <tr>\n      <th>22316</th>\n      <td>2015-11-27</td>\n      <td>331</td>\n      <td>November</td>\n      <td>27</td>\n      <td>4</td>\n      <td>Friday</td>\n      <td>VISTA, CA US</td>\n      <td>11SMS</td>\n      <td>33.2354</td>\n      <td>-117.2322</td>\n      <td>...</td>\n      <td>47.000000</td>\n      <td>50.142857</td>\n      <td>48.285714</td>\n      <td>61.0</td>\n      <td>61.333333</td>\n      <td>72.571429</td>\n      <td>73.214286</td>\n      <td>NaN</td>\n      <td>NaN</td>\n      <td>NaN</td>\n    </tr>\n    <tr>\n      <th>22317</th>\n      <td>2015-11-28</td>\n      <td>332</td>\n      <td>November</td>\n      <td>28</td>\n      <td>5</td>\n      <td>Saturday</td>\n      <td>VISTA, CA US</td>\n      <td>11SMS</td>\n      <td>33.2354</td>\n      <td>-117.2322</td>\n      <td>...</td>\n      <td>43.666667</td>\n      <td>48.000000</td>\n      <td>47.857143</td>\n      <td>65.0</td>\n      <td>62.666667</td>\n      <td>69.285714</td>\n      <td>72.428571</td>\n      <td>NaN</td>\n      <td>NaN</td>\n      <td>NaN</td>\n    </tr>\n    <tr>\n      <th>22318</th>\n      <td>2015-11-29</td>\n      <td>333</td>\n      <td>November</td>\n      <td>29</td>\n      <td>6</td>\n      <td>Sunday</td>\n      <td>VISTA, CA US</td>\n      <td>11SMS</td>\n      <td>33.2354</td>\n      <td>-117.2322</td>\n      <td>...</td>\n      <td>43.333333</td>\n      <td>46.000000</td>\n      <td>47.500000</td>\n      <td>67.0</td>\n      <td>64.333333</td>\n      <td>66.571429</td>\n      <td>72.285714</td>\n      <td>NaN</td>\n      <td>NaN</td>\n      <td>NaN</td>\n    </tr>\n    <tr>\n      <th>22319</th>\n      <td>2015-11-30</td>\n      <td>334</td>\n      <td>November</td>\n      <td>30</td>\n      <td>0</td>\n      <td>Monday</td>\n      <td>VISTA, CA US</td>\n      <td>11SMS</td>\n      <td>33.2354</td>\n      <td>-117.2322</td>\n      <td>...</td>\n      <td>41.666667</td>\n      <td>44.714286</td>\n      <td>46.857143</td>\n      <td>68.0</td>\n      <td>66.666667</td>\n      <td>64.857143</td>\n      <td>72.642857</td>\n      <td>NaN</td>\n      <td>NaN</td>\n      <td>NaN</td>\n    </tr>\n  </tbody>\n</table>\n<p>22320 rows × 25 columns</p>\n</div>"
     },
     "metadata": {},
     "execution_count": 249
    }
   ],
   "source": [
    "data2"
   ]
  },
  {
   "cell_type": "code",
   "execution_count": 250,
   "metadata": {},
   "outputs": [],
   "source": [
    "data2.drop(['date', 'station_name', 'mgrs_100km', 'lat_x', 'lon_x', 'lat_y', 'lon_y'], axis = 1, inplace = True)"
   ]
  },
  {
   "cell_type": "code",
   "execution_count": 254,
   "metadata": {},
   "outputs": [
    {
     "output_type": "execute_result",
     "data": {
      "text/plain": [
       "       day_of_year month_name  day  day_of_week day_of_week_name  prcp  \\\n",
       "0               92      April    1            5         Saturday  0.00   \n",
       "1               93      April    2            6           Sunday  0.00   \n",
       "2               94      April    3            0           Monday  0.00   \n",
       "3               95      April    4            1          Tuesday  0.00   \n",
       "4               96      April    5            2        Wednesday  0.00   \n",
       "...            ...        ...  ...          ...              ...   ...   \n",
       "22315          330   November   26            3         Thursday  0.00   \n",
       "22316          331   November   27            4           Friday  0.51   \n",
       "22317          332   November   28            5         Saturday  0.00   \n",
       "22318          333   November   29            6           Sunday  0.00   \n",
       "22319          334   November   30            0           Monday  0.00   \n",
       "\n",
       "       prcp_rolling_3day  prcp_rolling_7day  prcp_rolling_14day  tmin  \\\n",
       "0               0.006666           0.002857            0.017857  44.0   \n",
       "1               0.000000           0.039286            0.022857  44.0   \n",
       "2               0.000000           0.000000            0.011428  43.0   \n",
       "3               0.000000           0.000000            0.001429  41.0   \n",
       "4               0.000000           0.000000            0.000000  45.0   \n",
       "...                  ...                ...                 ...   ...   \n",
       "22315           0.036667           0.015714            0.010714  45.0   \n",
       "22316           0.206667           0.088571            0.047143  46.0   \n",
       "22317           0.170000           0.088571            0.047143  40.0   \n",
       "22318           0.170000           0.088571            0.047143  44.0   \n",
       "22319           0.000000           0.088571            0.044286  41.0   \n",
       "\n",
       "       tmin_rolling_3day  tmin_rolling_7day  tmin_rolling_14day  tmax  \\\n",
       "0              43.333333          43.500000           45.142858  80.0   \n",
       "1              43.500000          43.000000           44.607143  82.0   \n",
       "2              43.666667          44.071428           43.464286  87.0   \n",
       "3              42.666667          43.857143           44.928572  91.0   \n",
       "4              43.000000          42.500000           42.107142  86.0   \n",
       "...                  ...                ...                 ...   ...   \n",
       "22315          47.333333          50.714286           48.428571  62.0   \n",
       "22316          47.000000          50.142857           48.285714  61.0   \n",
       "22317          43.666667          48.000000           47.857143  65.0   \n",
       "22318          43.333333          46.000000           47.500000  67.0   \n",
       "22319          41.666667          44.714286           46.857143  68.0   \n",
       "\n",
       "       tmax_rolling_3day  tmax_rolling_7day  tmax_rolling_14day  is_fire  \n",
       "0              77.500000          75.500000           78.178572        1  \n",
       "1              81.000000          76.285714           72.428571        0  \n",
       "2              83.000000          78.214286           74.821428        0  \n",
       "3              86.666667          79.785714           82.071429        0  \n",
       "4              88.000000          85.214286           79.571428        0  \n",
       "...                  ...                ...                 ...      ...  \n",
       "22315          64.333333          75.285714           74.357143        0  \n",
       "22316          61.333333          72.571429           73.214286        0  \n",
       "22317          62.666667          69.285714           72.428571        0  \n",
       "22318          64.333333          66.571429           72.285714        0  \n",
       "22319          66.666667          64.857143           72.642857        0  \n",
       "\n",
       "[22320 rows x 18 columns]"
      ],
      "text/html": "<div>\n<style scoped>\n    .dataframe tbody tr th:only-of-type {\n        vertical-align: middle;\n    }\n\n    .dataframe tbody tr th {\n        vertical-align: top;\n    }\n\n    .dataframe thead th {\n        text-align: right;\n    }\n</style>\n<table border=\"1\" class=\"dataframe\">\n  <thead>\n    <tr style=\"text-align: right;\">\n      <th></th>\n      <th>day_of_year</th>\n      <th>month_name</th>\n      <th>day</th>\n      <th>day_of_week</th>\n      <th>day_of_week_name</th>\n      <th>prcp</th>\n      <th>prcp_rolling_3day</th>\n      <th>prcp_rolling_7day</th>\n      <th>prcp_rolling_14day</th>\n      <th>tmin</th>\n      <th>tmin_rolling_3day</th>\n      <th>tmin_rolling_7day</th>\n      <th>tmin_rolling_14day</th>\n      <th>tmax</th>\n      <th>tmax_rolling_3day</th>\n      <th>tmax_rolling_7day</th>\n      <th>tmax_rolling_14day</th>\n      <th>is_fire</th>\n    </tr>\n  </thead>\n  <tbody>\n    <tr>\n      <th>0</th>\n      <td>92</td>\n      <td>April</td>\n      <td>1</td>\n      <td>5</td>\n      <td>Saturday</td>\n      <td>0.00</td>\n      <td>0.006666</td>\n      <td>0.002857</td>\n      <td>0.017857</td>\n      <td>44.0</td>\n      <td>43.333333</td>\n      <td>43.500000</td>\n      <td>45.142858</td>\n      <td>80.0</td>\n      <td>77.500000</td>\n      <td>75.500000</td>\n      <td>78.178572</td>\n      <td>1</td>\n    </tr>\n    <tr>\n      <th>1</th>\n      <td>93</td>\n      <td>April</td>\n      <td>2</td>\n      <td>6</td>\n      <td>Sunday</td>\n      <td>0.00</td>\n      <td>0.000000</td>\n      <td>0.039286</td>\n      <td>0.022857</td>\n      <td>44.0</td>\n      <td>43.500000</td>\n      <td>43.000000</td>\n      <td>44.607143</td>\n      <td>82.0</td>\n      <td>81.000000</td>\n      <td>76.285714</td>\n      <td>72.428571</td>\n      <td>0</td>\n    </tr>\n    <tr>\n      <th>2</th>\n      <td>94</td>\n      <td>April</td>\n      <td>3</td>\n      <td>0</td>\n      <td>Monday</td>\n      <td>0.00</td>\n      <td>0.000000</td>\n      <td>0.000000</td>\n      <td>0.011428</td>\n      <td>43.0</td>\n      <td>43.666667</td>\n      <td>44.071428</td>\n      <td>43.464286</td>\n      <td>87.0</td>\n      <td>83.000000</td>\n      <td>78.214286</td>\n      <td>74.821428</td>\n      <td>0</td>\n    </tr>\n    <tr>\n      <th>3</th>\n      <td>95</td>\n      <td>April</td>\n      <td>4</td>\n      <td>1</td>\n      <td>Tuesday</td>\n      <td>0.00</td>\n      <td>0.000000</td>\n      <td>0.000000</td>\n      <td>0.001429</td>\n      <td>41.0</td>\n      <td>42.666667</td>\n      <td>43.857143</td>\n      <td>44.928572</td>\n      <td>91.0</td>\n      <td>86.666667</td>\n      <td>79.785714</td>\n      <td>82.071429</td>\n      <td>0</td>\n    </tr>\n    <tr>\n      <th>4</th>\n      <td>96</td>\n      <td>April</td>\n      <td>5</td>\n      <td>2</td>\n      <td>Wednesday</td>\n      <td>0.00</td>\n      <td>0.000000</td>\n      <td>0.000000</td>\n      <td>0.000000</td>\n      <td>45.0</td>\n      <td>43.000000</td>\n      <td>42.500000</td>\n      <td>42.107142</td>\n      <td>86.0</td>\n      <td>88.000000</td>\n      <td>85.214286</td>\n      <td>79.571428</td>\n      <td>0</td>\n    </tr>\n    <tr>\n      <th>...</th>\n      <td>...</td>\n      <td>...</td>\n      <td>...</td>\n      <td>...</td>\n      <td>...</td>\n      <td>...</td>\n      <td>...</td>\n      <td>...</td>\n      <td>...</td>\n      <td>...</td>\n      <td>...</td>\n      <td>...</td>\n      <td>...</td>\n      <td>...</td>\n      <td>...</td>\n      <td>...</td>\n      <td>...</td>\n      <td>...</td>\n    </tr>\n    <tr>\n      <th>22315</th>\n      <td>330</td>\n      <td>November</td>\n      <td>26</td>\n      <td>3</td>\n      <td>Thursday</td>\n      <td>0.00</td>\n      <td>0.036667</td>\n      <td>0.015714</td>\n      <td>0.010714</td>\n      <td>45.0</td>\n      <td>47.333333</td>\n      <td>50.714286</td>\n      <td>48.428571</td>\n      <td>62.0</td>\n      <td>64.333333</td>\n      <td>75.285714</td>\n      <td>74.357143</td>\n      <td>0</td>\n    </tr>\n    <tr>\n      <th>22316</th>\n      <td>331</td>\n      <td>November</td>\n      <td>27</td>\n      <td>4</td>\n      <td>Friday</td>\n      <td>0.51</td>\n      <td>0.206667</td>\n      <td>0.088571</td>\n      <td>0.047143</td>\n      <td>46.0</td>\n      <td>47.000000</td>\n      <td>50.142857</td>\n      <td>48.285714</td>\n      <td>61.0</td>\n      <td>61.333333</td>\n      <td>72.571429</td>\n      <td>73.214286</td>\n      <td>0</td>\n    </tr>\n    <tr>\n      <th>22317</th>\n      <td>332</td>\n      <td>November</td>\n      <td>28</td>\n      <td>5</td>\n      <td>Saturday</td>\n      <td>0.00</td>\n      <td>0.170000</td>\n      <td>0.088571</td>\n      <td>0.047143</td>\n      <td>40.0</td>\n      <td>43.666667</td>\n      <td>48.000000</td>\n      <td>47.857143</td>\n      <td>65.0</td>\n      <td>62.666667</td>\n      <td>69.285714</td>\n      <td>72.428571</td>\n      <td>0</td>\n    </tr>\n    <tr>\n      <th>22318</th>\n      <td>333</td>\n      <td>November</td>\n      <td>29</td>\n      <td>6</td>\n      <td>Sunday</td>\n      <td>0.00</td>\n      <td>0.170000</td>\n      <td>0.088571</td>\n      <td>0.047143</td>\n      <td>44.0</td>\n      <td>43.333333</td>\n      <td>46.000000</td>\n      <td>47.500000</td>\n      <td>67.0</td>\n      <td>64.333333</td>\n      <td>66.571429</td>\n      <td>72.285714</td>\n      <td>0</td>\n    </tr>\n    <tr>\n      <th>22319</th>\n      <td>334</td>\n      <td>November</td>\n      <td>30</td>\n      <td>0</td>\n      <td>Monday</td>\n      <td>0.00</td>\n      <td>0.000000</td>\n      <td>0.088571</td>\n      <td>0.044286</td>\n      <td>41.0</td>\n      <td>41.666667</td>\n      <td>44.714286</td>\n      <td>46.857143</td>\n      <td>68.0</td>\n      <td>66.666667</td>\n      <td>64.857143</td>\n      <td>72.642857</td>\n      <td>0</td>\n    </tr>\n  </tbody>\n</table>\n<p>22320 rows × 18 columns</p>\n</div>"
     },
     "metadata": {},
     "execution_count": 254
    }
   ],
   "source": [
    "data2"
   ]
  },
  {
   "cell_type": "code",
   "execution_count": 253,
   "metadata": {},
   "outputs": [],
   "source": [
    "data2['is_fire_bool'] = ~data2['mgrs_10km'].isna() # set NAs to 0\n",
    "is_fire = []\n",
    "for i in data2['is_fire_bool']:\n",
    "    if i == False:\n",
    "        is_fire.append(int(0))\n",
    "    else:\n",
    "        is_fire.append(int(1))\n",
    "\n",
    "data2['is_fire'] = is_fire\n",
    "data2.drop(['mgrs_10km','is_fire_bool'], axis = 1, inplace = True) # drop more columns"
   ]
  },
  {
   "cell_type": "code",
   "execution_count": 255,
   "metadata": {},
   "outputs": [
    {
     "output_type": "execute_result",
     "data": {
      "text/plain": [
       "       day_of_year month_name  day  day_of_week day_of_week_name  prcp  \\\n",
       "0               92      April    1            5         Saturday   0.0   \n",
       "24             116      April   25            1          Tuesday   0.0   \n",
       "27             119      April   28            4           Friday   0.0   \n",
       "28             120      April   29            5         Saturday   0.0   \n",
       "34             126        May    5            4           Friday   0.0   \n",
       "...            ...        ...  ...          ...              ...   ...   \n",
       "22209          225     August   13            3         Thursday   0.0   \n",
       "22219          235     August   23            6           Sunday   0.0   \n",
       "22223          239     August   27            3         Thursday   0.0   \n",
       "22260          276    October    3            5         Saturday   0.0   \n",
       "22261          276    October    3            5         Saturday   0.0   \n",
       "\n",
       "       prcp_rolling_3day  prcp_rolling_7day  prcp_rolling_14day  tmin  \\\n",
       "0               0.006666           0.002857            0.017857  44.0   \n",
       "24              0.000000           0.007143            0.042857  41.0   \n",
       "27              0.000000           0.000000            0.042857  47.0   \n",
       "28              0.000000           0.000000            0.042857  43.0   \n",
       "34              0.000000           0.000000            0.000000  51.0   \n",
       "...                  ...                ...                 ...   ...   \n",
       "22209           0.000000           0.000000            0.000000  64.0   \n",
       "22219           0.000000           0.000000            0.000000  68.0   \n",
       "22223           0.000000           0.000000            0.000000  66.0   \n",
       "22260           0.000000           0.000000            0.000000  60.0   \n",
       "22261           0.000000           0.000000            0.000000  60.0   \n",
       "\n",
       "       tmin_rolling_3day  tmin_rolling_7day  tmin_rolling_14day  tmax  \\\n",
       "0              43.333333          43.500000           45.142858  80.0   \n",
       "24             43.333333          42.571429           42.928571  94.0   \n",
       "27             49.666667          46.428571           43.857143  90.0   \n",
       "28             46.666667          46.000000           43.642857  84.0   \n",
       "34             48.666667          46.571429           46.500000  89.0   \n",
       "...                  ...                ...                 ...   ...   \n",
       "22209          62.666667          63.857143           64.785714  86.0   \n",
       "22219          67.666667          67.142857           65.357143  79.0   \n",
       "22223          67.000000          67.142857           66.642857  92.0   \n",
       "22260          60.666667          60.428571           63.285714  77.0   \n",
       "22261          60.666667          60.428571           63.285714  77.0   \n",
       "\n",
       "       tmax_rolling_3day  tmax_rolling_7day  tmax_rolling_14day  is_fire  \n",
       "0              77.500000          75.500000           78.178572        1  \n",
       "24             84.666667          80.571429           78.571429        1  \n",
       "27             94.333333          86.428571           80.285714        1  \n",
       "28             90.000000          88.714286           81.285714        1  \n",
       "34             90.666667          91.857143           89.142857        1  \n",
       "...                  ...                ...                 ...      ...  \n",
       "22209          81.666667          78.428571           80.428571        1  \n",
       "22219          78.333333          79.142857           82.071429        1  \n",
       "22223          87.333333          82.571429           83.642857        1  \n",
       "22260          79.333333          82.142857           84.857143        1  \n",
       "22261          79.333333          82.142857           84.857143        1  \n",
       "\n",
       "[7782 rows x 18 columns]"
      ],
      "text/html": "<div>\n<style scoped>\n    .dataframe tbody tr th:only-of-type {\n        vertical-align: middle;\n    }\n\n    .dataframe tbody tr th {\n        vertical-align: top;\n    }\n\n    .dataframe thead th {\n        text-align: right;\n    }\n</style>\n<table border=\"1\" class=\"dataframe\">\n  <thead>\n    <tr style=\"text-align: right;\">\n      <th></th>\n      <th>day_of_year</th>\n      <th>month_name</th>\n      <th>day</th>\n      <th>day_of_week</th>\n      <th>day_of_week_name</th>\n      <th>prcp</th>\n      <th>prcp_rolling_3day</th>\n      <th>prcp_rolling_7day</th>\n      <th>prcp_rolling_14day</th>\n      <th>tmin</th>\n      <th>tmin_rolling_3day</th>\n      <th>tmin_rolling_7day</th>\n      <th>tmin_rolling_14day</th>\n      <th>tmax</th>\n      <th>tmax_rolling_3day</th>\n      <th>tmax_rolling_7day</th>\n      <th>tmax_rolling_14day</th>\n      <th>is_fire</th>\n    </tr>\n  </thead>\n  <tbody>\n    <tr>\n      <th>0</th>\n      <td>92</td>\n      <td>April</td>\n      <td>1</td>\n      <td>5</td>\n      <td>Saturday</td>\n      <td>0.0</td>\n      <td>0.006666</td>\n      <td>0.002857</td>\n      <td>0.017857</td>\n      <td>44.0</td>\n      <td>43.333333</td>\n      <td>43.500000</td>\n      <td>45.142858</td>\n      <td>80.0</td>\n      <td>77.500000</td>\n      <td>75.500000</td>\n      <td>78.178572</td>\n      <td>1</td>\n    </tr>\n    <tr>\n      <th>24</th>\n      <td>116</td>\n      <td>April</td>\n      <td>25</td>\n      <td>1</td>\n      <td>Tuesday</td>\n      <td>0.0</td>\n      <td>0.000000</td>\n      <td>0.007143</td>\n      <td>0.042857</td>\n      <td>41.0</td>\n      <td>43.333333</td>\n      <td>42.571429</td>\n      <td>42.928571</td>\n      <td>94.0</td>\n      <td>84.666667</td>\n      <td>80.571429</td>\n      <td>78.571429</td>\n      <td>1</td>\n    </tr>\n    <tr>\n      <th>27</th>\n      <td>119</td>\n      <td>April</td>\n      <td>28</td>\n      <td>4</td>\n      <td>Friday</td>\n      <td>0.0</td>\n      <td>0.000000</td>\n      <td>0.000000</td>\n      <td>0.042857</td>\n      <td>47.0</td>\n      <td>49.666667</td>\n      <td>46.428571</td>\n      <td>43.857143</td>\n      <td>90.0</td>\n      <td>94.333333</td>\n      <td>86.428571</td>\n      <td>80.285714</td>\n      <td>1</td>\n    </tr>\n    <tr>\n      <th>28</th>\n      <td>120</td>\n      <td>April</td>\n      <td>29</td>\n      <td>5</td>\n      <td>Saturday</td>\n      <td>0.0</td>\n      <td>0.000000</td>\n      <td>0.000000</td>\n      <td>0.042857</td>\n      <td>43.0</td>\n      <td>46.666667</td>\n      <td>46.000000</td>\n      <td>43.642857</td>\n      <td>84.0</td>\n      <td>90.000000</td>\n      <td>88.714286</td>\n      <td>81.285714</td>\n      <td>1</td>\n    </tr>\n    <tr>\n      <th>34</th>\n      <td>126</td>\n      <td>May</td>\n      <td>5</td>\n      <td>4</td>\n      <td>Friday</td>\n      <td>0.0</td>\n      <td>0.000000</td>\n      <td>0.000000</td>\n      <td>0.000000</td>\n      <td>51.0</td>\n      <td>48.666667</td>\n      <td>46.571429</td>\n      <td>46.500000</td>\n      <td>89.0</td>\n      <td>90.666667</td>\n      <td>91.857143</td>\n      <td>89.142857</td>\n      <td>1</td>\n    </tr>\n    <tr>\n      <th>...</th>\n      <td>...</td>\n      <td>...</td>\n      <td>...</td>\n      <td>...</td>\n      <td>...</td>\n      <td>...</td>\n      <td>...</td>\n      <td>...</td>\n      <td>...</td>\n      <td>...</td>\n      <td>...</td>\n      <td>...</td>\n      <td>...</td>\n      <td>...</td>\n      <td>...</td>\n      <td>...</td>\n      <td>...</td>\n      <td>...</td>\n    </tr>\n    <tr>\n      <th>22209</th>\n      <td>225</td>\n      <td>August</td>\n      <td>13</td>\n      <td>3</td>\n      <td>Thursday</td>\n      <td>0.0</td>\n      <td>0.000000</td>\n      <td>0.000000</td>\n      <td>0.000000</td>\n      <td>64.0</td>\n      <td>62.666667</td>\n      <td>63.857143</td>\n      <td>64.785714</td>\n      <td>86.0</td>\n      <td>81.666667</td>\n      <td>78.428571</td>\n      <td>80.428571</td>\n      <td>1</td>\n    </tr>\n    <tr>\n      <th>22219</th>\n      <td>235</td>\n      <td>August</td>\n      <td>23</td>\n      <td>6</td>\n      <td>Sunday</td>\n      <td>0.0</td>\n      <td>0.000000</td>\n      <td>0.000000</td>\n      <td>0.000000</td>\n      <td>68.0</td>\n      <td>67.666667</td>\n      <td>67.142857</td>\n      <td>65.357143</td>\n      <td>79.0</td>\n      <td>78.333333</td>\n      <td>79.142857</td>\n      <td>82.071429</td>\n      <td>1</td>\n    </tr>\n    <tr>\n      <th>22223</th>\n      <td>239</td>\n      <td>August</td>\n      <td>27</td>\n      <td>3</td>\n      <td>Thursday</td>\n      <td>0.0</td>\n      <td>0.000000</td>\n      <td>0.000000</td>\n      <td>0.000000</td>\n      <td>66.0</td>\n      <td>67.000000</td>\n      <td>67.142857</td>\n      <td>66.642857</td>\n      <td>92.0</td>\n      <td>87.333333</td>\n      <td>82.571429</td>\n      <td>83.642857</td>\n      <td>1</td>\n    </tr>\n    <tr>\n      <th>22260</th>\n      <td>276</td>\n      <td>October</td>\n      <td>3</td>\n      <td>5</td>\n      <td>Saturday</td>\n      <td>0.0</td>\n      <td>0.000000</td>\n      <td>0.000000</td>\n      <td>0.000000</td>\n      <td>60.0</td>\n      <td>60.666667</td>\n      <td>60.428571</td>\n      <td>63.285714</td>\n      <td>77.0</td>\n      <td>79.333333</td>\n      <td>82.142857</td>\n      <td>84.857143</td>\n      <td>1</td>\n    </tr>\n    <tr>\n      <th>22261</th>\n      <td>276</td>\n      <td>October</td>\n      <td>3</td>\n      <td>5</td>\n      <td>Saturday</td>\n      <td>0.0</td>\n      <td>0.000000</td>\n      <td>0.000000</td>\n      <td>0.000000</td>\n      <td>60.0</td>\n      <td>60.666667</td>\n      <td>60.428571</td>\n      <td>63.285714</td>\n      <td>77.0</td>\n      <td>79.333333</td>\n      <td>82.142857</td>\n      <td>84.857143</td>\n      <td>1</td>\n    </tr>\n  </tbody>\n</table>\n<p>7782 rows × 18 columns</p>\n</div>"
     },
     "metadata": {},
     "execution_count": 255
    }
   ],
   "source": [
    "data2[data2['is_fire'] == 1] #why missing fires?"
   ]
  },
  {
   "source": [
    "Build Model"
   ],
   "cell_type": "markdown",
   "metadata": {}
  },
  {
   "cell_type": "code",
   "execution_count": 256,
   "metadata": {},
   "outputs": [
    {
     "output_type": "stream",
     "name": "stdout",
     "text": [
      "(22320, 30) (22320,)\n"
     ]
    }
   ],
   "source": [
    "X = data2.copy()\n",
    "# X\n",
    "\n",
    "month_dummy = pd.get_dummies(X['month_name'])\n",
    "wkname_dummy = pd.get_dummies(X['day_of_week_name'])\n",
    "# mgrs_dummy = pd.get_dummies(X['mgrs_10km'])\n",
    "\n",
    "X = pd.concat((X, month_dummy), axis = 1)\n",
    "X = pd.concat((X, wkname_dummy), axis = 1)\n",
    "# X = pd.concat((X, mgrs_dummy), axis = 1)\n",
    "\n",
    "y = X['is_fire']\n",
    "\n",
    "# X.drop(['month_name','day_of_week_name','mgrs_10km','is_fire'], axis = 1, inplace = True) # drop more columns\n",
    "X.drop(['month_name','day_of_week_name','is_fire'], axis = 1, inplace = True) # drop more columns\n",
    "print(X.shape, y.shape)"
   ]
  },
  {
   "cell_type": "code",
   "execution_count": 257,
   "metadata": {},
   "outputs": [
    {
     "output_type": "stream",
     "name": "stdout",
     "text": [
      "(17856, 30) (4464, 30) (17856,) (4464,)\n"
     ]
    }
   ],
   "source": [
    "X_train, X_test, y_train, y_test = train_test_split(X, y, test_size = 0.20, random_state = 8)\n",
    "print(X_train.shape, X_test.shape, y_train.shape, y_test.shape)"
   ]
  },
  {
   "cell_type": "code",
   "execution_count": 271,
   "metadata": {},
   "outputs": [],
   "source": [
    "clfsList = [LogisticRegression, RandomForestClassifier, GradientBoostingClassifier]\n",
    "\n",
    "clf_hyper = { \n",
    "         'LogisticRegression':{\n",
    "            'tol': [0.01, 0.1, 1.0]\n",
    "           ,'C': [0.01, 0.1, 1.0]\n",
    "           , 'solver': ['sag','saga']\n",
    "           , 'class_weight': [None,'balanced']\n",
    "        }\n",
    "        ,\n",
    "         'RandomForestClassifier':{\n",
    "            'n_estimators': [50,100,150]\n",
    "           ,'min_samples_leaf': [1,5,15]\n",
    "           ,'class_weight': [None, 'balanced']\n",
    "           ,'bootstrap': [True]\n",
    "        }        \n",
    "        ,\n",
    "        'GradientBoostingClassifier':{\n",
    "            'learning_rate': [0.001,0.01,0.1]\n",
    "           ,'n_estimators': [10,50,100]\n",
    "           ,'min_samples_leaf': [5,3,1]\n",
    "        }\n",
    "}"
   ]
  },
  {
   "cell_type": "code",
   "execution_count": 258,
   "metadata": {},
   "outputs": [
    {
     "output_type": "execute_result",
     "data": {
      "text/plain": [
       "RandomForestClassifier()"
      ]
     },
     "metadata": {},
     "execution_count": 258
    }
   ],
   "source": [
    "clf = RandomForestClassifier()\n",
    "clf.fit(X_train, y_train)"
   ]
  },
  {
   "cell_type": "code",
   "execution_count": 272,
   "metadata": {},
   "outputs": [
    {
     "output_type": "stream",
     "name": "stdout",
     "text": [
      "\nClassifier with Parameters: RandomForestClassifier(n_estimators=150) \nMeanAccuracy 0.8138445885622736\n\nClassifier with Parameters: RandomForestClassifier(class_weight='balanced') \nMeanAccuracy 0.813732245853825\n\nClassifier with Parameters: RandomForestClassifier(class_weight='balanced', n_estimators=150) \nMeanAccuracy 0.8135086109549271\n\nClassifier with Parameters: RandomForestClassifier() \nMeanAccuracy 0.8116602950920739\n\nClassifier with Parameters: RandomForestClassifier(class_weight='balanced', n_estimators=50) \nMeanAccuracy 0.8106523779494077\n\nClassifier with Parameters: RandomForestClassifier(n_estimators=50) \nMeanAccuracy 0.8090840329730945\n\nClassifier with Parameters: RandomForestClassifier(min_samples_leaf=5) \nMeanAccuracy 0.7950829799463953\n\nClassifier with Parameters: RandomForestClassifier(min_samples_leaf=5, n_estimators=150) \nMeanAccuracy 0.7949710919397673\n\nClassifier with Parameters: RandomForestClassifier(min_samples_leaf=5, n_estimators=50) \nMeanAccuracy 0.7920589776484265\n\nClassifier with Parameters: RandomForestClassifier(class_weight='balanced', min_samples_leaf=5) \nMeanAccuracy 0.7879702518389553\n\nClassifier with Parameters: RandomForestClassifier(class_weight='balanced', min_samples_leaf=5,\n       n_estimators=150) \nMeanAccuracy 0.7869621779025577\n\nClassifier with Parameters: RandomForestClassifier(class_weight='balanced', min_samples_leaf=5,\n       n_estimators=50) \nMeanAccuracy 0.7854500591582748\n\nClassifier with Parameters: RandomForestClassifier(min_samples_leaf=15) \nMeanAccuracy 0.7790661239931098\n\nClassifier with Parameters: RandomForestClassifier(min_samples_leaf=15, n_estimators=150) \nMeanAccuracy 0.7786740769474644\n\nClassifier with Parameters: RandomForestClassifier(min_samples_leaf=15, n_estimators=50) \nMeanAccuracy 0.7766579447540424\n\nClassifier with Parameters: GradientBoostingClassifier(min_samples_leaf=5) \nMeanAccuracy 0.7682574854111273\n\nClassifier with Parameters: GradientBoostingClassifier(min_samples_leaf=3) \nMeanAccuracy 0.7676413958028827\n\nClassifier with Parameters: GradientBoostingClassifier() \nMeanAccuracy 0.767193247960192\n\nClassifier with Parameters: RandomForestClassifier(class_weight='balanced', min_samples_leaf=15) \nMeanAccuracy 0.7643367640847025\n\nClassifier with Parameters: RandomForestClassifier(class_weight='balanced', min_samples_leaf=15,\n       n_estimators=150) \nMeanAccuracy 0.763944717039057\n\nClassifier with Parameters: GradientBoostingClassifier(min_samples_leaf=3, n_estimators=50) \nMeanAccuracy 0.7632731694880653\n\nClassifier with Parameters: GradientBoostingClassifier(n_estimators=50) \nMeanAccuracy 0.7632172568434976\n\nClassifier with Parameters: GradientBoostingClassifier(min_samples_leaf=5, n_estimators=50) \nMeanAccuracy 0.7626570798798208\n\nClassifier with Parameters: RandomForestClassifier(class_weight='balanced', min_samples_leaf=15,\n       n_estimators=50) \nMeanAccuracy 0.7624887304505656\n\nClassifier with Parameters: GradientBoostingClassifier(min_samples_leaf=5, n_estimators=10) \nMeanAccuracy 0.734823511408155\n\nClassifier with Parameters: GradientBoostingClassifier(min_samples_leaf=3, n_estimators=10) \nMeanAccuracy 0.734823511408155\n\nClassifier with Parameters: GradientBoostingClassifier(n_estimators=10) \nMeanAccuracy 0.734823511408155\n\nClassifier with Parameters: GradientBoostingClassifier(learning_rate=0.01, min_samples_leaf=5) \nMeanAccuracy 0.73353527843274\n\nClassifier with Parameters: GradientBoostingClassifier(learning_rate=0.01, min_samples_leaf=3) \nMeanAccuracy 0.73353527843274\n\nClassifier with Parameters: GradientBoostingClassifier(learning_rate=0.01) \nMeanAccuracy 0.73353527843274\n\nClassifier with Parameters: LogisticRegression(C=0.1, solver='sag', tol=0.01) \nMeanAccuracy 0.7283827855535273\n\nClassifier with Parameters: LogisticRegression(solver='sag', tol=0.01) \nMeanAccuracy 0.7281587900290476\n\nClassifier with Parameters: LogisticRegression(C=0.01, solver='sag', tol=0.01) \nMeanAccuracy 0.7251906062994077\n\nClassifier with Parameters: LogisticRegression(solver='saga', tol=0.01) \nMeanAccuracy 0.7162299856721889\n\nClassifier with Parameters: LogisticRegression(C=0.1, solver='saga', tol=0.01) \nMeanAccuracy 0.7158939453473498\n\nClassifier with Parameters: LogisticRegression(C=0.01, solver='saga', tol=0.01) \nMeanAccuracy 0.7140457392401086\n\nClassifier with Parameters: LogisticRegression(class_weight='balanced', solver='sag', tol=0.01) \nMeanAccuracy 0.714045660843243\n\nClassifier with Parameters: LogisticRegression(C=0.1, class_weight='balanced', solver='sag', tol=0.01) \nMeanAccuracy 0.7136536608357169\n\nClassifier with Parameters: LogisticRegression(C=0.01, class_weight='balanced', solver='sag', tol=0.01) \nMeanAccuracy 0.7104612934291197\n\nClassifier with Parameters: LogisticRegression(class_weight='balanced', solver='saga', tol=0.01) \nMeanAccuracy 0.7043569058074203\n\nClassifier with Parameters: LogisticRegression(C=0.1, class_weight='balanced', solver='saga', tol=0.01) \nMeanAccuracy 0.7043009461247332\n\nClassifier with Parameters: LogisticRegression(C=0.01, class_weight='balanced', solver='saga', tol=0.01) \nMeanAccuracy 0.7030128856224225\n\nClassifier with Parameters: LogisticRegression(C=0.1, class_weight='balanced', solver='sag', tol=0.1) \nMeanAccuracy 0.695004363569541\n\nClassifier with Parameters: LogisticRegression(solver='sag', tol=0.1) \nMeanAccuracy 0.6944998954185813\n\nClassifier with Parameters: LogisticRegression(C=0.01, solver='sag', tol=0.1) \nMeanAccuracy 0.6944444688345804\n\nClassifier with Parameters: LogisticRegression(C=0.01, class_weight='balanced', solver='sag', tol=0.1) \nMeanAccuracy 0.6942766054658922\n\nClassifier with Parameters: LogisticRegression(C=0.1, solver='sag', tol=0.1) \nMeanAccuracy 0.6938285046613208\n\nClassifier with Parameters: LogisticRegression(C=0.01, class_weight='balanced', solver='saga', tol=0.1) \nMeanAccuracy 0.6886762626520782\n\nClassifier with Parameters: LogisticRegression(class_weight='balanced', solver='saga', tol=0.1) \nMeanAccuracy 0.6886758549883769\n\nClassifier with Parameters: LogisticRegression(C=0.01, solver='saga', tol=0.1) \nMeanAccuracy 0.6877238348109052\n\nClassifier with Parameters: LogisticRegression(C=0.1, solver='saga', tol=0.1) \nMeanAccuracy 0.6873318661621254\n\nClassifier with Parameters: LogisticRegression(solver='saga', tol=0.1) \nMeanAccuracy 0.6872758280825726\n\nClassifier with Parameters: LogisticRegression(C=0.01, class_weight='balanced', solver='saga', tol=1.0) \nMeanAccuracy 0.6860995615106512\n\nClassifier with Parameters: LogisticRegression(class_weight='balanced', solver='sag', tol=0.1) \nMeanAccuracy 0.683411082118208\n\nClassifier with Parameters: LogisticRegression(C=0.1, class_weight='balanced', solver='saga', tol=0.1) \nMeanAccuracy 0.6824615863198097\n\nClassifier with Parameters: GradientBoostingClassifier(learning_rate=0.01, min_samples_leaf=5,\n   n_estimators=50) \nMeanAccuracy 0.678259671115741\n\nClassifier with Parameters: GradientBoostingClassifier(learning_rate=0.01, min_samples_leaf=3,\n   n_estimators=50) \nMeanAccuracy 0.678259671115741\n\nClassifier with Parameters: GradientBoostingClassifier(learning_rate=0.01, n_estimators=50) \nMeanAccuracy 0.678259671115741\n\nClassifier with Parameters: LogisticRegression(C=0.01, solver='saga', tol=1.0) \nMeanAccuracy 0.6777550775297964\n\nClassifier with Parameters: LogisticRegression(C=0.1, solver='sag', tol=1.0) \nMeanAccuracy 0.674562082948274\n\nClassifier with Parameters: LogisticRegression(solver='saga', tol=1.0) \nMeanAccuracy 0.6732749318496047\n\nClassifier with Parameters: LogisticRegression(C=0.1, solver='saga', tol=1.0) \nMeanAccuracy 0.6690771560000414\n\nClassifier with Parameters: LogisticRegression(C=0.01, class_weight='balanced', solver='sag', tol=1.0) \nMeanAccuracy 0.6681773951731991\n\nClassifier with Parameters: LogisticRegression(C=0.01, solver='sag', tol=1.0) \nMeanAccuracy 0.6647062328330463\n\nClassifier with Parameters: LogisticRegression(solver='sag', tol=1.0) \nMeanAccuracy 0.6645948308869852\n\nClassifier with Parameters: GradientBoostingClassifier(learning_rate=0.001, min_samples_leaf=5,\n   n_estimators=10) \nMeanAccuracy 0.6538418697589735\n\nClassifier with Parameters: GradientBoostingClassifier(learning_rate=0.001, min_samples_leaf=3,\n   n_estimators=10) \nMeanAccuracy 0.6538418697589735\n\nClassifier with Parameters: GradientBoostingClassifier(learning_rate=0.001, n_estimators=10) \nMeanAccuracy 0.6538418697589735\n\nClassifier with Parameters: GradientBoostingClassifier(learning_rate=0.001, min_samples_leaf=5,\n   n_estimators=50) \nMeanAccuracy 0.6538418697589735\n\nClassifier with Parameters: GradientBoostingClassifier(learning_rate=0.001, min_samples_leaf=3,\n   n_estimators=50) \nMeanAccuracy 0.6538418697589735\n\nClassifier with Parameters: GradientBoostingClassifier(learning_rate=0.001, n_estimators=50) \nMeanAccuracy 0.6538418697589735\n\nClassifier with Parameters: GradientBoostingClassifier(learning_rate=0.001, min_samples_leaf=5) \nMeanAccuracy 0.6538418697589735\n\nClassifier with Parameters: GradientBoostingClassifier(learning_rate=0.001, min_samples_leaf=3) \nMeanAccuracy 0.6538418697589735\n\nClassifier with Parameters: GradientBoostingClassifier(learning_rate=0.001) \nMeanAccuracy 0.6538418697589735\n\nClassifier with Parameters: GradientBoostingClassifier(learning_rate=0.01, min_samples_leaf=5,\n   n_estimators=10) \nMeanAccuracy 0.6538418697589735\n\nClassifier with Parameters: GradientBoostingClassifier(learning_rate=0.01, min_samples_leaf=3,\n   n_estimators=10) \nMeanAccuracy 0.6538418697589735\n\nClassifier with Parameters: GradientBoostingClassifier(learning_rate=0.01, n_estimators=10) \nMeanAccuracy 0.6538418697589735\n\nClassifier with Parameters: LogisticRegression(class_weight='balanced', solver='saga', tol=1.0) \nMeanAccuracy 0.6510445755170352\n\nClassifier with Parameters: LogisticRegression(C=0.1, class_weight='balanced', solver='sag', tol=1.0) \nMeanAccuracy 0.6462800530464552\n\nClassifier with Parameters: LogisticRegression(C=0.1, class_weight='balanced', solver='saga', tol=1.0) \nMeanAccuracy 0.6209102001534698\n\nClassifier with Parameters: LogisticRegression(class_weight='balanced', solver='sag', tol=1.0) \nMeanAccuracy 0.6052882448917386\n"
     ]
    }
   ],
   "source": [
    "clfGridSearch(np.array(X_train), np.array(y_train), 5)"
   ]
  },
  {
   "cell_type": "code",
   "execution_count": 273,
   "metadata": {},
   "outputs": [
    {
     "output_type": "stream",
     "name": "stdout",
     "text": [
      "-----------------------Confusion Matrix------------------------ \n  Predicted|--------------------Actual------------------------ \n           |        Yes            |         No                |   Total    \n-------------------------------------------------------------- \n        Yes|        1103            |        288               |    1391 \n-------------------------------------------------------------- \n         No|        498             |        2575              |    3073 \n-------------------------------------------------------------- \n      Total|        1601            |        2863              |    4464 \n\nAccuracy:  0.823925 \nPrecision:  0.792955 \nRecall:  0.688944\n"
     ]
    }
   ],
   "source": [
    "clf_1 = RandomForestClassifier(n_estimators=150)\n",
    "clfResults(clf_1, X_train,y_train,X_test,y_test)"
   ]
  },
  {
   "cell_type": "code",
   "execution_count": 260,
   "metadata": {},
   "outputs": [
    {
     "output_type": "stream",
     "name": "stdout",
     "text": [
      "-----------------------Confusion Matrix------------------------ \n  Predicted|--------------------Actual------------------------ \n           |        Yes            |         No                |   Total    \n-------------------------------------------------------------- \n        Yes|        1095            |        297               |    1392 \n-------------------------------------------------------------- \n         No|        506             |        2566              |    3072 \n-------------------------------------------------------------- \n      Total|        1601            |        2863              |    4464 \n\nAccuracy:  0.820116 \nPrecision:  0.786638 \nRecall:  0.683948\n"
     ]
    }
   ],
   "source": [
    "clfResults(clf, X_train, y_train, X_test, y_test)"
   ]
  },
  {
   "cell_type": "code",
   "execution_count": 274,
   "metadata": {},
   "outputs": [
    {
     "output_type": "execute_result",
     "data": {
      "text/plain": [
       "                       coeff\n",
       "tmax_rolling_7day   0.112450\n",
       "tmax_rolling_3day   0.107566\n",
       "tmax_rolling_14day  0.103076\n",
       "tmax                0.086948\n",
       "tmin_rolling_14day  0.082719\n",
       "day_of_year         0.080326\n",
       "tmin_rolling_7day   0.074204\n",
       "tmin_rolling_3day   0.067523\n",
       "tmin                0.058982\n",
       "day                 0.054362\n",
       "prcp_rolling_14day  0.029036\n",
       "day_of_week         0.027101\n",
       "prcp_rolling_7day   0.016477\n",
       "prcp_rolling_3day   0.008443\n",
       "Thursday            0.007375\n",
       "Wednesday           0.007262\n",
       "Tuesday             0.007174\n",
       "Saturday            0.007118\n",
       "Friday              0.007016\n",
       "June                0.006898\n",
       "Monday              0.006305\n",
       "Sunday              0.005971\n",
       "July                0.005896\n",
       "May                 0.005796\n",
       "October             0.005109\n",
       "September           0.004180\n",
       "August              0.004009\n",
       "November            0.003881\n",
       "prcp                0.003695\n",
       "April               0.003103"
      ],
      "text/html": "<div>\n<style scoped>\n    .dataframe tbody tr th:only-of-type {\n        vertical-align: middle;\n    }\n\n    .dataframe tbody tr th {\n        vertical-align: top;\n    }\n\n    .dataframe thead th {\n        text-align: right;\n    }\n</style>\n<table border=\"1\" class=\"dataframe\">\n  <thead>\n    <tr style=\"text-align: right;\">\n      <th></th>\n      <th>coeff</th>\n    </tr>\n  </thead>\n  <tbody>\n    <tr>\n      <th>tmax_rolling_7day</th>\n      <td>0.112450</td>\n    </tr>\n    <tr>\n      <th>tmax_rolling_3day</th>\n      <td>0.107566</td>\n    </tr>\n    <tr>\n      <th>tmax_rolling_14day</th>\n      <td>0.103076</td>\n    </tr>\n    <tr>\n      <th>tmax</th>\n      <td>0.086948</td>\n    </tr>\n    <tr>\n      <th>tmin_rolling_14day</th>\n      <td>0.082719</td>\n    </tr>\n    <tr>\n      <th>day_of_year</th>\n      <td>0.080326</td>\n    </tr>\n    <tr>\n      <th>tmin_rolling_7day</th>\n      <td>0.074204</td>\n    </tr>\n    <tr>\n      <th>tmin_rolling_3day</th>\n      <td>0.067523</td>\n    </tr>\n    <tr>\n      <th>tmin</th>\n      <td>0.058982</td>\n    </tr>\n    <tr>\n      <th>day</th>\n      <td>0.054362</td>\n    </tr>\n    <tr>\n      <th>prcp_rolling_14day</th>\n      <td>0.029036</td>\n    </tr>\n    <tr>\n      <th>day_of_week</th>\n      <td>0.027101</td>\n    </tr>\n    <tr>\n      <th>prcp_rolling_7day</th>\n      <td>0.016477</td>\n    </tr>\n    <tr>\n      <th>prcp_rolling_3day</th>\n      <td>0.008443</td>\n    </tr>\n    <tr>\n      <th>Thursday</th>\n      <td>0.007375</td>\n    </tr>\n    <tr>\n      <th>Wednesday</th>\n      <td>0.007262</td>\n    </tr>\n    <tr>\n      <th>Tuesday</th>\n      <td>0.007174</td>\n    </tr>\n    <tr>\n      <th>Saturday</th>\n      <td>0.007118</td>\n    </tr>\n    <tr>\n      <th>Friday</th>\n      <td>0.007016</td>\n    </tr>\n    <tr>\n      <th>June</th>\n      <td>0.006898</td>\n    </tr>\n    <tr>\n      <th>Monday</th>\n      <td>0.006305</td>\n    </tr>\n    <tr>\n      <th>Sunday</th>\n      <td>0.005971</td>\n    </tr>\n    <tr>\n      <th>July</th>\n      <td>0.005896</td>\n    </tr>\n    <tr>\n      <th>May</th>\n      <td>0.005796</td>\n    </tr>\n    <tr>\n      <th>October</th>\n      <td>0.005109</td>\n    </tr>\n    <tr>\n      <th>September</th>\n      <td>0.004180</td>\n    </tr>\n    <tr>\n      <th>August</th>\n      <td>0.004009</td>\n    </tr>\n    <tr>\n      <th>November</th>\n      <td>0.003881</td>\n    </tr>\n    <tr>\n      <th>prcp</th>\n      <td>0.003695</td>\n    </tr>\n    <tr>\n      <th>April</th>\n      <td>0.003103</td>\n    </tr>\n  </tbody>\n</table>\n</div>"
     },
     "metadata": {},
     "execution_count": 274
    }
   ],
   "source": [
    "importance1 = [clf_1.feature_importances_]\n",
    "\n",
    "clf_1_importance = pd.DataFrame(importance1, columns = X_train.columns).T\n",
    "\n",
    "clf_1_importance.columns = ['coeff']\n",
    "\n",
    "clf_1_importance.sort_values(by = 'coeff', ascending = False)"
   ]
  }
 ]
}