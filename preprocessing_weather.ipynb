{
 "metadata": {
  "language_info": {
   "codemirror_mode": {
    "name": "ipython",
    "version": 3
   },
   "file_extension": ".py",
   "mimetype": "text/x-python",
   "name": "python",
   "nbconvert_exporter": "python",
   "pygments_lexer": "ipython3",
   "version": "3.8.10"
  },
  "orig_nbformat": 2,
  "kernelspec": {
   "name": "python3810jvsc74a57bd07a8cd81a1699e7e1c05d771835f6490edbb9a81a456e457283de8180856282df",
   "display_name": "Python 3.8.10 64-bit ('base': conda)"
  }
 },
 "nbformat": 4,
 "nbformat_minor": 2,
 "cells": [
  {
   "cell_type": "code",
   "execution_count": 44,
   "metadata": {},
   "outputs": [],
   "source": [
    "import numpy as np\n",
    "import pandas as pd\n",
    "import mgrs"
   ]
  },
  {
   "cell_type": "code",
   "execution_count": 45,
   "metadata": {},
   "outputs": [],
   "source": [
    "def missingByCol(df): #count missing values by column\n",
    "    for col in df.columns:\n",
    "        if df[col].isna().sum() != 0:\n",
    "            print(col, df[col].isna().sum())\n",
    "\n",
    "def getCalTbl(start='2000-01-01', end='2015-12-31'):\n",
    "    df = pd.DataFrame({'date': pd.date_range(start, end)})\n",
    "    return df"
   ]
  },
  {
   "source": [
    "Import Weather Data"
   ],
   "cell_type": "markdown",
   "metadata": {}
  },
  {
   "cell_type": "code",
   "execution_count": 46,
   "metadata": {},
   "outputs": [
    {
     "output_type": "stream",
     "name": "stdout",
     "text": [
      "<class 'pandas.core.frame.DataFrame'>\nRangeIndex: 2249940 entries, 0 to 2249939\nData columns (total 14 columns):\n #   Column                         Dtype  \n---  ------                         -----  \n 0   Unnamed: 0                     int64  \n 1   lat                            float64\n 2   lon                            float64\n 3   t_mean_2m_24h:F                float64\n 4   t_min_2m_24h:F                 float64\n 5   t_max_2m_24h:F                 float64\n 6   precip_24h:mm                  float64\n 7   sunshine_duration_24h:min      float64\n 8   drought_index:idx              float64\n 9   soil_moisture_index_-15cm:idx  float64\n 10  soil_type:idx                  float64\n 11  wind_speed_2m:mph              float64\n 12  elevation:m                    float64\n 13  date                           object \ndtypes: float64(12), int64(1), object(1)\nmemory usage: 240.3+ MB\n"
     ]
    }
   ],
   "source": [
    "weather = pd.read_csv('2000to2015_Weather_v2.csv')\n",
    "weather.info()"
   ]
  },
  {
   "cell_type": "code",
   "execution_count": 47,
   "metadata": {},
   "outputs": [
    {
     "output_type": "stream",
     "name": "stdout",
     "text": [
      "<class 'pandas.core.frame.DataFrame'>\nRangeIndex: 5844 entries, 0 to 5843\nData columns (total 1 columns):\n #   Column  Non-Null Count  Dtype         \n---  ------  --------------  -----         \n 0   date    5844 non-null   datetime64[ns]\ndtypes: datetime64[ns](1)\nmemory usage: 45.8 KB\n"
     ]
    }
   ],
   "source": [
    "#get calendar table\n",
    "calendar = getCalTbl()\n",
    "calendar.info()"
   ]
  },
  {
   "source": [
    "Reattach MGRS 10km blocks to Weather Data"
   ],
   "cell_type": "markdown",
   "metadata": {}
  },
  {
   "cell_type": "code",
   "execution_count": 48,
   "metadata": {},
   "outputs": [
    {
     "output_type": "stream",
     "name": "stdout",
     "text": [
      "<class 'pandas.core.frame.DataFrame'>\nRangeIndex: 385 entries, 0 to 384\nData columns (total 3 columns):\n #   Column     Non-Null Count  Dtype  \n---  ------     --------------  -----  \n 0   mgrs_10km  385 non-null    object \n 1   lat_10km   385 non-null    float64\n 2   lon_10km   385 non-null    float64\ndtypes: float64(2), object(1)\nmemory usage: 9.1+ KB\n"
     ]
    },
    {
     "output_type": "execute_result",
     "data": {
      "text/plain": [
       "         Unnamed: 0        lat         lon  t_mean_2m_24h:F  t_min_2m_24h:F  \\\n",
       "2249935     2249935  33.167642 -117.536254             54.2            48.3   \n",
       "2249936     2249936  33.167642 -117.536254             53.6            49.7   \n",
       "2249937     2249937  33.167642 -117.536254             52.6            48.1   \n",
       "2249938     2249938  33.167642 -117.536254             53.9            49.7   \n",
       "2249939     2249939  33.167642 -117.536254             54.9            50.3   \n",
       "\n",
       "         t_max_2m_24h:F  precip_24h:mm  sunshine_duration_24h:min  \\\n",
       "2249935            61.9           0.00                      598.0   \n",
       "2249936            57.2           0.08                      212.6   \n",
       "2249937            56.8           0.07                      557.9   \n",
       "2249938            57.7           0.00                      568.3   \n",
       "2249939            60.2           0.00                      599.0   \n",
       "\n",
       "         drought_index:idx  soil_moisture_index_-15cm:idx  soil_type:idx  \\\n",
       "2249935               -1.0                            NaN            NaN   \n",
       "2249936               -1.0                            NaN            NaN   \n",
       "2249937               -1.0                            NaN            NaN   \n",
       "2249938               -2.0                            NaN            NaN   \n",
       "2249939               -2.0                            NaN            NaN   \n",
       "\n",
       "         wind_speed_2m:mph  elevation:m                       date mgrs_10km  \n",
       "2249935                4.5          0.0  2015-12-27 00:00:00+00:00   11SMS57  \n",
       "2249936                3.1          0.0  2015-12-28 00:00:00+00:00   11SMS57  \n",
       "2249937                1.8          0.0  2015-12-29 00:00:00+00:00   11SMS57  \n",
       "2249938                7.2          0.0  2015-12-30 00:00:00+00:00   11SMS57  \n",
       "2249939                7.9          0.0  2015-12-31 00:00:00+00:00   11SMS57  "
      ],
      "text/html": "<div>\n<style scoped>\n    .dataframe tbody tr th:only-of-type {\n        vertical-align: middle;\n    }\n\n    .dataframe tbody tr th {\n        vertical-align: top;\n    }\n\n    .dataframe thead th {\n        text-align: right;\n    }\n</style>\n<table border=\"1\" class=\"dataframe\">\n  <thead>\n    <tr style=\"text-align: right;\">\n      <th></th>\n      <th>Unnamed: 0</th>\n      <th>lat</th>\n      <th>lon</th>\n      <th>t_mean_2m_24h:F</th>\n      <th>t_min_2m_24h:F</th>\n      <th>t_max_2m_24h:F</th>\n      <th>precip_24h:mm</th>\n      <th>sunshine_duration_24h:min</th>\n      <th>drought_index:idx</th>\n      <th>soil_moisture_index_-15cm:idx</th>\n      <th>soil_type:idx</th>\n      <th>wind_speed_2m:mph</th>\n      <th>elevation:m</th>\n      <th>date</th>\n      <th>mgrs_10km</th>\n    </tr>\n  </thead>\n  <tbody>\n    <tr>\n      <th>2249935</th>\n      <td>2249935</td>\n      <td>33.167642</td>\n      <td>-117.536254</td>\n      <td>54.2</td>\n      <td>48.3</td>\n      <td>61.9</td>\n      <td>0.00</td>\n      <td>598.0</td>\n      <td>-1.0</td>\n      <td>NaN</td>\n      <td>NaN</td>\n      <td>4.5</td>\n      <td>0.0</td>\n      <td>2015-12-27 00:00:00+00:00</td>\n      <td>11SMS57</td>\n    </tr>\n    <tr>\n      <th>2249936</th>\n      <td>2249936</td>\n      <td>33.167642</td>\n      <td>-117.536254</td>\n      <td>53.6</td>\n      <td>49.7</td>\n      <td>57.2</td>\n      <td>0.08</td>\n      <td>212.6</td>\n      <td>-1.0</td>\n      <td>NaN</td>\n      <td>NaN</td>\n      <td>3.1</td>\n      <td>0.0</td>\n      <td>2015-12-28 00:00:00+00:00</td>\n      <td>11SMS57</td>\n    </tr>\n    <tr>\n      <th>2249937</th>\n      <td>2249937</td>\n      <td>33.167642</td>\n      <td>-117.536254</td>\n      <td>52.6</td>\n      <td>48.1</td>\n      <td>56.8</td>\n      <td>0.07</td>\n      <td>557.9</td>\n      <td>-1.0</td>\n      <td>NaN</td>\n      <td>NaN</td>\n      <td>1.8</td>\n      <td>0.0</td>\n      <td>2015-12-29 00:00:00+00:00</td>\n      <td>11SMS57</td>\n    </tr>\n    <tr>\n      <th>2249938</th>\n      <td>2249938</td>\n      <td>33.167642</td>\n      <td>-117.536254</td>\n      <td>53.9</td>\n      <td>49.7</td>\n      <td>57.7</td>\n      <td>0.00</td>\n      <td>568.3</td>\n      <td>-2.0</td>\n      <td>NaN</td>\n      <td>NaN</td>\n      <td>7.2</td>\n      <td>0.0</td>\n      <td>2015-12-30 00:00:00+00:00</td>\n      <td>11SMS57</td>\n    </tr>\n    <tr>\n      <th>2249939</th>\n      <td>2249939</td>\n      <td>33.167642</td>\n      <td>-117.536254</td>\n      <td>54.9</td>\n      <td>50.3</td>\n      <td>60.2</td>\n      <td>0.00</td>\n      <td>599.0</td>\n      <td>-2.0</td>\n      <td>NaN</td>\n      <td>NaN</td>\n      <td>7.9</td>\n      <td>0.0</td>\n      <td>2015-12-31 00:00:00+00:00</td>\n      <td>11SMS57</td>\n    </tr>\n  </tbody>\n</table>\n</div>"
     },
     "metadata": {},
     "execution_count": 48
    }
   ],
   "source": [
    "#Import mgrs locations\n",
    "mgrs_final = pd.read_csv('https://raw.githubusercontent.com/jbalson0808/fires/main/mgrs_final.csv') #set location of mgrs_final\n",
    "mgrs_final = mgrs_final[['mgrs_10km','lat_10km','lon_10km']]\n",
    "mgrs_final.info() \n",
    "\n",
    "mgrs_10km = []\n",
    "for i in mgrs_final['mgrs_10km'].tolist():\n",
    "    # print(i)\n",
    "    for j in range(len(calendar)):\n",
    "        # print(i,j)\n",
    "        mgrs_10km.append(i)\n",
    "len(mgrs_10km)\n",
    "weather['mgrs_10km'] = mgrs_10km\n",
    "weather.tail()"
   ]
  },
  {
   "source": [
    "Impute Missing Values for Soil Type"
   ],
   "cell_type": "markdown",
   "metadata": {}
  },
  {
   "cell_type": "code",
   "execution_count": 49,
   "metadata": {},
   "outputs": [
    {
     "output_type": "stream",
     "name": "stdout",
     "text": [
      "soil_moisture_index_-15cm:idx 138117\nsoil_type:idx 136651\n"
     ]
    }
   ],
   "source": [
    "missingByCol(weather)"
   ]
  },
  {
   "cell_type": "code",
   "execution_count": 50,
   "metadata": {},
   "outputs": [
    {
     "output_type": "stream",
     "name": "stdout",
     "text": [
      "soil_moisture_index_-15cm:idx 138117\n"
     ]
    }
   ],
   "source": [
    "weather['soil_type:idx'] = weather['soil_type:idx'].fillna(4)\n",
    "missingByCol(weather)"
   ]
  },
  {
   "cell_type": "code",
   "execution_count": 51,
   "metadata": {},
   "outputs": [],
   "source": [
    "weather['soil_moisture_index_-15cm:idx'] = weather['soil_moisture_index_-15cm:idx'].fillna(0.068733)\n",
    "missingByCol(weather)"
   ]
  },
  {
   "source": [
    "Preprocessing"
   ],
   "cell_type": "markdown",
   "metadata": {}
  },
  {
   "cell_type": "code",
   "execution_count": 52,
   "metadata": {},
   "outputs": [
    {
     "output_type": "stream",
     "name": "stdout",
     "text": [
      "<class 'pandas.core.frame.DataFrame'>\nRangeIndex: 2249940 entries, 0 to 2249939\nData columns (total 14 columns):\n #   Column         Dtype         \n---  ------         -----         \n 0   date           datetime64[ns]\n 1   mgrs_10km      object        \n 2   lat            float64       \n 3   lon            float64       \n 4   tavg           float64       \n 5   tmin           float64       \n 6   tmax           float64       \n 7   prcp           float64       \n 8   sun            float64       \n 9   drought_index  float64       \n 10  wind_speed     float64       \n 11  elevation      float64       \n 12  soil_type      float64       \n 13  soil_moisture  float64       \ndtypes: datetime64[ns](1), float64(12), object(1)\nmemory usage: 240.3+ MB\n"
     ]
    }
   ],
   "source": [
    "weather = weather[['date','mgrs_10km','lat','lon','t_mean_2m_24h:F','t_min_2m_24h:F','t_max_2m_24h:F','precip_24h:mm','sunshine_duration_24h:min','drought_index:idx','wind_speed_2m:mph','elevation:m','soil_type:idx','soil_moisture_index_-15cm:idx']]\n",
    "weather = weather.rename(columns={'t_mean_2m_24h:F':'tavg','t_min_2m_24h:F':'tmin','t_max_2m_24h:F':'tmax','precip_24h:mm':'prcp','sunshine_duration_24h:min':'sun','drought_index:idx':'drought_index','wind_speed_2m:mph':'wind_speed','elevation:m':'elevation','soil_type:idx':'soil_type','soil_moisture_index_-15cm:idx':'soil_moisture'\n",
    "})\n",
    "weather.date = pd.to_datetime(pd.to_datetime(weather['date']).dt.date)\n",
    "# weather.date = weather.date.dt.date\n",
    "weather.info()"
   ]
  },
  {
   "cell_type": "code",
   "execution_count": 53,
   "metadata": {},
   "outputs": [
    {
     "output_type": "execute_result",
     "data": {
      "text/plain": [
       "385"
      ]
     },
     "metadata": {},
     "execution_count": 53
    }
   ],
   "source": [
    "len(weather.mgrs_10km.unique())"
   ]
  },
  {
   "cell_type": "code",
   "execution_count": 54,
   "metadata": {},
   "outputs": [
    {
     "output_type": "execute_result",
     "data": {
      "text/plain": [
       "5844"
      ]
     },
     "metadata": {},
     "execution_count": 54
    }
   ],
   "source": [
    "len(weather.date.unique())"
   ]
  },
  {
   "cell_type": "code",
   "execution_count": 55,
   "metadata": {},
   "outputs": [],
   "source": [
    "# rolling averages for prcp, tmax, tmin for 3, 7, and 10 days\n",
    "\n",
    "#prcp\n",
    "weather['prcp_rolling_3day'] = weather.groupby(['lat','lon'])['prcp'].transform(lambda x: x.rolling(3).mean())\n",
    "weather['prcp_rolling_3day'] = round(weather['prcp_rolling_3day'],6)\n",
    "\n",
    "weather['prcp_rolling_7day'] = weather.groupby(['lat','lon'])['prcp'].transform(lambda x: x.rolling(7).mean())\n",
    "weather['prcp_rolling_7day'] = round(weather['prcp_rolling_7day'],6)\n",
    "\n",
    "weather['prcp_rolling_14day'] = weather.groupby(['lat','lon'])['prcp'].transform(lambda x: x.rolling(14).mean())\n",
    "weather['prcp_rolling_14day'] = round(weather['prcp_rolling_14day'],6)\n",
    "\n",
    "#tavg\n",
    "weather['tavg_rolling_3day'] = weather.groupby(['lat','lon'])['tavg'].transform(lambda x: x.rolling(3).mean())\n",
    "weather['tavg_rolling_3day'] = round(weather['tavg_rolling_3day'],6)\n",
    "\n",
    "weather['tavg_rolling_7day'] = weather.groupby(['lat','lon'])['tavg'].transform(lambda x: x.rolling(7).mean())\n",
    "weather['tavg_rolling_7day'] = round(weather['tavg_rolling_7day'],6)\n",
    "\n",
    "weather['tavg_rolling_14day'] = weather.groupby(['lat','lon'])['tavg'].transform(lambda x: x.rolling(14).mean())\n",
    "weather['tavg_rolling_14day'] = round(weather['tavg_rolling_14day'],6)\n",
    "\n",
    "#tmin\n",
    "weather['tmin_rolling_3day'] = weather.groupby(['lat','lon'])['tmin'].transform(lambda x: x.rolling(3).mean())\n",
    "weather['tmin_rolling_3day'] = round(weather['tmin_rolling_3day'],6)\n",
    "\n",
    "weather['tmin_rolling_7day'] = weather.groupby(['lat','lon'])['tmin'].transform(lambda x: x.rolling(7).mean())\n",
    "weather['tmin_rolling_7day'] = round(weather['tmin_rolling_7day'],6)\n",
    "\n",
    "weather['tmin_rolling_14day'] = weather.groupby(['lat','lon'])['tmin'].transform(lambda x: x.rolling(14).mean())\n",
    "weather['tmin_rolling_14day'] = round(weather['tmin_rolling_14day'],6)\n",
    "\n",
    "#tmax\n",
    "weather['tmax_rolling_3day'] = weather.groupby(['lat','lon'])['tmax'].transform(lambda x: x.rolling(3).mean())\n",
    "weather['tmax_rolling_3day'] = round(weather['tmax_rolling_3day'],6)\n",
    "\n",
    "weather['tmax_rolling_7day'] = weather.groupby(['lat','lon'])['tmax'].transform(lambda x: x.rolling(7).mean())\n",
    "weather['tmax_rolling_7day'] = round(weather['tmax_rolling_7day'],6)\n",
    "\n",
    "weather['tmax_rolling_14day'] = weather.groupby(['lat','lon'])['tmax'].transform(lambda x: x.rolling(14).mean())\n",
    "weather['tmax_rolling_14day'] = round(weather['tmax_rolling_14day'],6)\n",
    "\n",
    "#sun\n",
    "weather['sun_rolling_3day'] = weather.groupby(['lat','lon'])['sun'].transform(lambda x: x.rolling(3).mean())\n",
    "weather['sun_rolling_3day'] = round(weather['sun_rolling_3day'],6)\n",
    "\n",
    "weather['sun_rolling_7day'] = weather.groupby(['lat','lon'])['sun'].transform(lambda x: x.rolling(7).mean())\n",
    "weather['sun_rolling_7day'] = round(weather['sun_rolling_7day'],6)\n",
    "\n",
    "weather['sun_rolling_14day'] = weather.groupby(['lat','lon'])['sun'].transform(lambda x: x.rolling(14).mean())\n",
    "weather['sun_rolling_14day'] = round(weather['sun_rolling_14day'],6)\n",
    "\n",
    "#windspeed\n",
    "weather['wind_speed_3day'] = weather.groupby(['lat','lon'])['wind_speed'].transform(lambda x: x.rolling(3).mean())\n",
    "weather['wind_speed_3day'] = round(weather['wind_speed_3day'],6)\n",
    "\n",
    "weather['wind_speed_7day'] = weather.groupby(['lat','lon'])['wind_speed'].transform(lambda x: x.rolling(7).mean())\n",
    "weather['wind_speed_7day'] = round(weather['wind_speed_7day'],6)\n",
    "\n",
    "weather['wind_speed_14day'] = weather.groupby(['lat','lon'])['wind_speed'].transform(lambda x: x.rolling(14).mean())\n",
    "weather['wind_speed_14day'] = round(weather['wind_speed_14day'],6)\n",
    "\n",
    "#soil moisture\n",
    "weather['soil_moisture_3day'] = weather.groupby(['lat','lon'])['soil_moisture'].transform(lambda x: x.rolling(3).mean())\n",
    "weather['soil_moisture_3day'] = round(weather['soil_moisture_3day'],6)\n",
    "\n",
    "weather['soil_moisture_7day'] = weather.groupby(['lat','lon'])['soil_moisture'].transform(lambda x: x.rolling(7).mean())\n",
    "weather['soil_moisture_7day'] = round(weather['soil_moisture_7day'],6)\n",
    "\n",
    "weather['soil_moisture_14day'] = weather.groupby(['lat','lon'])['soil_moisture'].transform(lambda x: x.rolling(14).mean())\n",
    "weather['soil_moisture_14day'] = round(weather['soil_moisture_14day'],6)"
   ]
  },
  {
   "cell_type": "code",
   "execution_count": 56,
   "metadata": {},
   "outputs": [
    {
     "output_type": "stream",
     "name": "stdout",
     "text": [
      "<class 'pandas.core.frame.DataFrame'>\nRangeIndex: 2249940 entries, 0 to 2249939\nData columns (total 35 columns):\n #   Column               Dtype         \n---  ------               -----         \n 0   date                 datetime64[ns]\n 1   mgrs_10km            object        \n 2   lat                  float64       \n 3   lon                  float64       \n 4   tavg                 float64       \n 5   tmin                 float64       \n 6   tmax                 float64       \n 7   prcp                 float64       \n 8   sun                  float64       \n 9   drought_index        float64       \n 10  wind_speed           float64       \n 11  elevation            float64       \n 12  soil_type            float64       \n 13  soil_moisture        float64       \n 14  prcp_rolling_3day    float64       \n 15  prcp_rolling_7day    float64       \n 16  prcp_rolling_14day   float64       \n 17  tavg_rolling_3day    float64       \n 18  tavg_rolling_7day    float64       \n 19  tavg_rolling_14day   float64       \n 20  tmin_rolling_3day    float64       \n 21  tmin_rolling_7day    float64       \n 22  tmin_rolling_14day   float64       \n 23  tmax_rolling_3day    float64       \n 24  tmax_rolling_7day    float64       \n 25  tmax_rolling_14day   float64       \n 26  sun_rolling_3day     float64       \n 27  sun_rolling_7day     float64       \n 28  sun_rolling_14day    float64       \n 29  wind_speed_3day      float64       \n 30  wind_speed_7day      float64       \n 31  wind_speed_14day     float64       \n 32  soil_moisture_3day   float64       \n 33  soil_moisture_7day   float64       \n 34  soil_moisture_14day  float64       \ndtypes: datetime64[ns](1), float64(33), object(1)\nmemory usage: 600.8+ MB\n"
     ]
    }
   ],
   "source": [
    "weather.info()"
   ]
  },
  {
   "cell_type": "code",
   "execution_count": 57,
   "metadata": {},
   "outputs": [
    {
     "output_type": "stream",
     "name": "stdout",
     "text": [
      "prcp_rolling_3day 770\n",
      "prcp_rolling_7day 2310\n",
      "prcp_rolling_14day 5005\n",
      "tavg_rolling_3day 770\n",
      "tavg_rolling_7day 2310\n",
      "tavg_rolling_14day 5005\n",
      "tmin_rolling_3day 770\n",
      "tmin_rolling_7day 2310\n",
      "tmin_rolling_14day 5005\n",
      "tmax_rolling_3day 770\n",
      "tmax_rolling_7day 2310\n",
      "tmax_rolling_14day 5005\n",
      "sun_rolling_3day 770\n",
      "sun_rolling_7day 2310\n",
      "sun_rolling_14day 5005\n",
      "wind_speed_3day 770\n",
      "wind_speed_7day 2310\n",
      "wind_speed_14day 5005\n",
      "soil_moisture_3day 770\n",
      "soil_moisture_7day 2310\n",
      "soil_moisture_14day 5005\n"
     ]
    }
   ],
   "source": [
    "missingByCol(weather) # these will be removed when the fire data is merged"
   ]
  },
  {
   "source": [
    "Get Population Density Data"
   ],
   "cell_type": "markdown",
   "metadata": {}
  },
  {
   "cell_type": "code",
   "execution_count": 58,
   "metadata": {},
   "outputs": [
    {
     "output_type": "stream",
     "name": "stdout",
     "text": [
      "<class 'pandas.core.frame.DataFrame'>\nRangeIndex: 385 entries, 0 to 384\nData columns (total 2 columns):\n #   Column               Non-Null Count  Dtype  \n---  ------               --------------  -----  \n 0   mgrs_10km            385 non-null    object \n 1   Density Per Sq Mile  385 non-null    float64\ndtypes: float64(1), object(1)\nmemory usage: 6.1+ KB\n"
     ]
    }
   ],
   "source": [
    "pop_density_mgrs = pd.read_csv('pop_density_mgrs.csv')\n",
    "pop_density_mgrs.info()"
   ]
  },
  {
   "cell_type": "code",
   "execution_count": 59,
   "metadata": {},
   "outputs": [
    {
     "output_type": "stream",
     "name": "stdout",
     "text": [
      "<class 'pandas.core.frame.DataFrame'>\nInt64Index: 2249940 entries, 0 to 2249939\nData columns (total 36 columns):\n #   Column               Dtype         \n---  ------               -----         \n 0   date                 datetime64[ns]\n 1   mgrs_10km            object        \n 2   lat                  float64       \n 3   lon                  float64       \n 4   tavg                 float64       \n 5   tmin                 float64       \n 6   tmax                 float64       \n 7   prcp                 float64       \n 8   sun                  float64       \n 9   drought_index        float64       \n 10  wind_speed           float64       \n 11  elevation            float64       \n 12  soil_type            float64       \n 13  soil_moisture        float64       \n 14  prcp_rolling_3day    float64       \n 15  prcp_rolling_7day    float64       \n 16  prcp_rolling_14day   float64       \n 17  tavg_rolling_3day    float64       \n 18  tavg_rolling_7day    float64       \n 19  tavg_rolling_14day   float64       \n 20  tmin_rolling_3day    float64       \n 21  tmin_rolling_7day    float64       \n 22  tmin_rolling_14day   float64       \n 23  tmax_rolling_3day    float64       \n 24  tmax_rolling_7day    float64       \n 25  tmax_rolling_14day   float64       \n 26  sun_rolling_3day     float64       \n 27  sun_rolling_7day     float64       \n 28  sun_rolling_14day    float64       \n 29  wind_speed_3day      float64       \n 30  wind_speed_7day      float64       \n 31  wind_speed_14day     float64       \n 32  soil_moisture_3day   float64       \n 33  soil_moisture_7day   float64       \n 34  soil_moisture_14day  float64       \n 35  pop_density_sqmile   float64       \ndtypes: datetime64[ns](1), float64(34), object(1)\nmemory usage: 635.1+ MB\n"
     ]
    }
   ],
   "source": [
    "weather = weather.merge(pop_density_mgrs,on='mgrs_10km',how='left')\n",
    "weather = weather.rename(columns={'Density Per Sq Mile':'pop_density_sqmile'})\n",
    "weather.info()"
   ]
  },
  {
   "cell_type": "code",
   "execution_count": 60,
   "metadata": {},
   "outputs": [],
   "source": [
    "weather.to_csv('weather_clean.csv',index=False)"
   ]
  }
 ]
}